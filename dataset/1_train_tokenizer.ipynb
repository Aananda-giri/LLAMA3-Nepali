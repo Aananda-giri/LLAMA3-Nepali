{
  "cells": [
    {
      "cell_type": "code",
      "execution_count": null,
      "metadata": {
        "colab": {
          "base_uri": "https://localhost:8080/"
        },
        "id": "wkv83xTGGZqY",
        "outputId": "c7766436-48e5-45af-f109-50f26e03ddd5"
      },
      "outputs": [
        {
          "name": "stdout",
          "output_type": "stream",
          "text": [
            "/content/drive/MyDrive/Research/dataset/hf_dataset\n"
          ]
        }
      ],
      "source": [
        "%cd /content/drive/MyDrive/Research/dataset/hf_dataset"
      ]
    },
    {
      "cell_type": "code",
      "execution_count": null,
      "metadata": {
        "colab": {
          "base_uri": "https://localhost:8080/"
        },
        "id": "gRQi7cXCGcZ0",
        "outputId": "1a7e16fa-3601-41f6-a770-4cd315ab5222"
      },
      "outputs": [
        {
          "name": "stdout",
          "output_type": "stream",
          "text": [
            "total 42G\n",
            "-rw------- 1 root root  1G Dec 18 15:01 '0. download_data.ipynb'\n",
            "-rw------- 1 root root  1G Dec 20 09:48 '1. train_tokenizer.ipynb'\n",
            "-rw------- 1 root root 14G Dec 18 12:23  clean_date_categories.csv\n",
            "-rw------- 1 root root  3G Dec 18 12:11  clean_nepberta_data.zip\n",
            "-rw------- 1 root root 26G Dec 18 14:40  IRIISNEPAL_Nepali_Text_Corpus.csv\n",
            "-rw------- 1 root root  0G Dec 20 04:15  iriis_text.txt\n"
          ]
        }
      ],
      "source": [
        "!ls -l --block-size=G"
      ]
    },
    {
      "cell_type": "markdown",
      "metadata": {
        "id": "GQfH2DS7RTRW"
      },
      "source": [
        "## Data cleaning script"
      ]
    },
    {
      "cell_type": "code",
      "execution_count": null,
      "metadata": {
        "id": "AYVvTbafRVBw"
      },
      "outputs": [],
      "source": [
        "# Probably should `clean_data(new_crawled_data)` before merging `new_crawled_data.csv` and previous`cleaned_data.csv`\n",
        "\n",
        "from bs4 import BeautifulSoup\n",
        "import csv\n",
        "import json\n",
        "import re\n",
        "import string\n",
        "import sys\n",
        "import pandas as pd\n",
        "\n",
        "csv.field_size_limit(sys.maxsize)\n",
        "\n",
        "class CleanData:\n",
        "    def __init__(self):\n",
        "        pass\n",
        "        # return text\n",
        "    # Example of removing HTML tags\n",
        "    def clean_html(self, text):\n",
        "        '''\n",
        "        # HTML Tag Removal:\n",
        "        * removes html tags like: <h1>\n",
        "        * Removes css or js code inside <style> and <script> tags\n",
        "        '''\n",
        "        soup = BeautifulSoup(text, \"lxml\")\n",
        "\n",
        "        # Remove all <script> and <style> tags\n",
        "        for script_or_style in soup(['script', 'style']):\n",
        "            script_or_style.decompose()\n",
        "\n",
        "        # Get text from the modified HTML\n",
        "        text = soup.get_text(separator=' ', strip=True)\n",
        "        # print(text)\n",
        "\n",
        "        return text\n",
        "\n",
        "    def convert_to_devanagari_digits(self, input_string):\n",
        "        # Function to convert 0-9 to ० - ९\n",
        "        # i.e. Mapping of ASCII digits to Devanagari digits\n",
        "        devanagari_digits = {\n",
        "            '0': '०',\n",
        "            '1': '१',\n",
        "            '2': '२',\n",
        "            '3': '३',\n",
        "            '4': '४',\n",
        "            '5': '५',\n",
        "            '6': '६',\n",
        "            '7': '७',\n",
        "            '8': '८',\n",
        "            '9': '९'\n",
        "        }\n",
        "        # Convert each digit in the input string\n",
        "        result = ''.join(devanagari_digits[char] if char in devanagari_digits else char for char in input_string)\n",
        "        return result\n",
        "\n",
        "    def remove_non_devanagari_characters(self, text, keep_special_characters=True):\n",
        "        '''\n",
        "            # Function to find nepali sequences.\n",
        "            * keep punctuations if they occur between devanagari characters.\n",
        "            * Remove punctuation if previous character is not devanagari.\n",
        "            # Examples\n",
        "            texts = [\n",
        "                \"उनले दुहेको दूध बेच्नका लागि बजार असाध्यै सानो थियो त्यसैले उनले चीज बनाउने विचार गरे। \\\"hi there\\\". what is your name? उनले दुहेको दूध\",\n",
        "                \"\\\"hi there. \\\"उनले दुहेको\\\" दूध बेच्नका लागि बजार असाध्यै सानो थियो त्यसैले उनले चीज बनाउने विचार गरे। hi there. what is your name? उनले दुहेको दूध\\\"\",\n",
        "                \"name? उनले दुहेको दूध\\\"\"    #output: (last quatation, name?) should be ignored\n",
        "                ]\n",
        "\n",
        "            for text in texts:\n",
        "                removed = remove_non_devanagari_characters(text)\n",
        "                print(f'text: {text}, \\nclen: {removed}\\n\\n')\n",
        "\n",
        "\n",
        "            # output\n",
        "            text: उनले दुहेको दूध बेच्नका लागि बजार असाध्यै सानो थियो त्यसैले उनले चीज बनाउने विचार गरे। \"hi there\". what is your name? उनले दुहेको दूध,\n",
        "            clen: उनले दुहेको दूध बेच्नका लागि बजार असाध्यै सानो थियो त्यसैले उनले चीज बनाउने विचार गरे।             उनले दुहेको दूध\n",
        "\n",
        "\n",
        "            text: \"hi there. \"उनले दुहेको\" दूध बेच्नका लागि बजार असाध्यै सानो थियो त्यसैले उनले चीज बनाउने विचार गरे। hi there. what is your name? उनले दुहेको दूध\",\n",
        "            clen:    \"उनले दुहेको दूध बेच्नका लागि बजार असाध्यै सानो थियो त्यसैले उनले चीज बनाउने विचार गरे।             उनले दुहेको दूध\"\n",
        "\n",
        "\n",
        "            text: name? उनले दुहेको दूध\",\n",
        "            clen:  उनले दुहेको दूध\"\n",
        "        '''\n",
        "        def is_devanagari(char):\n",
        "            pattern=r'[ऀ-ॿ]'\n",
        "            return bool(re.match(pattern, char))\n",
        "\n",
        "        if not keep_special_characters:\n",
        "            return re.sub(r\"[^ऀ-ॿ ]\", \" \", text)\n",
        "\n",
        "        sequences = []\n",
        "        sequence = ''\n",
        "        punctuation_symbols = string.punctuation    # '!\"#$%&\\'()*+,-./:;<=>?@[\\\\]^_`{|}~'\n",
        "        prefix_punctuations = '\\\"\\'(<[{'\n",
        "        index=0\n",
        "        while index < len(text):\n",
        "            char = text[index]\n",
        "            if is_devanagari(char) or char == ' ':\n",
        "                # Character is devanagari\n",
        "                sequence += char\n",
        "            elif char in punctuation_symbols:\n",
        "                # Character is punctuation\n",
        "                if sequence != '':\n",
        "                    if (len(text) > index+1) and not is_devanagari(text[index+1]):\n",
        "                        # e.g. गरे। \"hi there\" : skip quotation before hi\n",
        "                        pass\n",
        "                    else:\n",
        "                        sequence += char    # Sequence is no empty. i.e. previous char/sequence was devanagari otherwise ignore  punctuation\n",
        "                elif (len(text) > index+1) and is_devanagari(text[index+1]):\n",
        "                    # preserve prefix punctuations in devanagari. e.g. \"\"\"there. \\\"उनले \"\": preserve double-quotation before उनले\n",
        "                    sequence = char + text[index+1]\n",
        "                    index += 1  # another 1 is added at the end\n",
        "            else:\n",
        "                if sequence:\n",
        "                    sequences.append(sequence)\n",
        "                    sequence = ''   # Reset sequence\n",
        "            index += 1\n",
        "\n",
        "            # print(f'{sequences}\\n{sequence}\\n{char}{is_devanagari(char)}\\n\\n')\n",
        "        if sequence:    # last sequence\n",
        "            sequences.append(sequence)\n",
        "        return ' '.join(sequences)\n",
        "        # Example of using regex for special character removal\n",
        "\n",
        "    def normalize_data(self, text):\n",
        "      '''\n",
        "        * Standerize special characters\n",
        "        * e.g. convert different types of quotes to standard quotes\n",
        "      '''\n",
        "      characters_to_replace = {\n",
        "        '₹': 'रु',\n",
        "        'ʻ': \"'\",\n",
        "        'ː': ':',\n",
        "        '？': '?',\n",
        "        '‟': '\"',\n",
        "        '“' : '\"',\n",
        "        '”': '\"',\n",
        "        '`': \"'\",\n",
        "        '৷': '।',\n",
        "        'ˈ': \"'\",\n",
        "        '՛': \"'\",\n",
        "        'ǃ': '!',\n",
        "        '（': '(',\n",
        "        '：': ':',\n",
        "        'ˍ': '_',\n",
        "        '﹣': '-',\n",
        "        '״': '\"',\n",
        "        'ꞌ': \"'\",\n",
        "        '₋': '-',\n",
        "        '％': '%',\n",
        "        '꞉': ':',\n",
        "        '‵': \"'\"\n",
        "      }\n",
        "      # Replace each character in the dictionary with its corresponding standard character\n",
        "      for char, replacement in characters_to_replace.items():\n",
        "          text = text.replace(char, replacement)\n",
        "\n",
        "      return text\n",
        "\n",
        "    def clean_data(self, text):\n",
        "        # Remove HTML tags\n",
        "        text = self.clean_html(text)\n",
        "\n",
        "        # Normalize some characters\n",
        "        text = self.normalize_data(text)\n",
        "\n",
        "        # Convert convert 0-9 to ० - ९\n",
        "        text = self.convert_to_devanagari_digits(text)\n",
        "\n",
        "        text = self.remove_non_devanagari_characters(text, keep_special_characters=True)\n",
        "        # text = text.lower() # No lower characters in devanagari\n",
        "\n",
        "        # Replace one or more spaces with a single space\n",
        "        text = re.sub(r'\\s+', ' ', text).strip()\n",
        "\n",
        "        return text\n",
        "\n",
        "# Clean data and save to 'cleaned_data'\n",
        "data_cleaner = CleanData()\n",
        "\n",
        "# if __name__==\"__main__\":\n",
        "#     # Assuming `data` is your raw dataset\n",
        "#     data0 = [\"<html><h1>Hi there</h1><style>color:red</style><script>console.log('hello world');</script>Example text</html>\", \"<div>Another example with special chars: !@#</div>\"]\n",
        "#     data = ['<html><h1>सुर्खेत र    </h1><style> जुम्लामा बाहेक </style><script>console.log(\"कर्णालीका अरू जिल्लामा\");</script>      कर्णालीका अरू जिल्लामा शिशुका लागि आवश्यक एनआईसीयू सेवा नै उपलब्ध छैन।', 'नेपालले करिब एक महिना अघि नै औपचारिक पत्र पठाएर जीबी राईलाई स्वदेश फर्काइदिन गरेको आग्रहबारे मलेशियाले कुनै औपचारिक जबाफ दिएको छैन।', '2024 बीबीसी। अन्य वेबसाइटका सामग्रीहरूका लागि बीबीसी जिम्मेवार छैन।', 'संसदीय छानबिन समिति गठन नभएसम्म संसद्\\u200cको कारबाही अघि बढ्न नदिने प्रतिपक्षी दलको अडानका कारण यसअघिको संसद् अधिवेशनको अन्त्यतिरका कामकारबाही प्रभावित भएका थिए।', 'भारतमा पनि भेपमा प्रतिबन्ध लगाइएको छ तर स्थानीय सञ्चार माध्यमका अनुसार यो व्यवस्था प्रभावकारी रूपमा कार्यान्वयन भएको छैन।', 'इजरेलले रफाहमा आक्रमण गर्न सक्ने आशङ्काका बीच अमेरिकाले गत साता इजरेललाई उपलब्ध गराउन लागेको हजारौँ बमको ढुवानी रोकिदिएको खुलासा भएको छ।', 'शुक्रवारको प्रयत्न सफल भएमा अन्तर्राष्ट्रिय अन्तरिक्ष स्टेशनतिर र बाट उडान गर्ने बोइङ दोस्रो निजी कम्पनी बन्नेछ। अहिलेसम्म इलोन मस्कको स्पेस एक्सले त्यस्तो काम गर्दै आएको छ।', 'हिरादेवी खतिवडाले दैनिक परामर्श दिनेहरूमा जबरजस्ती करणी, यौन दुर्व्यवहार लगायतका घटनाका पीडितहरू हुने गर्छन्।', 'युक्रेनी सेक्युरिटी सर्भिसका अनुसार गिरफ्तार गरिएका दुईजना कर्णेलले जेलेन्स्कीका अङ्गरक्षकहरूमध्ये त्यस्ता व्यक्तिको खोजी गरिरहेका थिए जो उनको अपहरण तथा हत्या गर्नका निम्ति इच्छुक होऊन्।', 'आधिकारिक रूपमा पुटिनले मार्चमा भएको राष्ट्रपतीय चुनावमा ८७ प्रतिशतभन्दा धेरै मत हासिल गरेका थिए। उक्त चुनावमा उनले गम्भीर प्रतिद्वन्दीको सामना गर्नुपरेको थिएन, न उक्त चुनावलाई धेरैले स्वतन्त्र र निष्पक्ष चुनावका रूपमा हेरेका थिए।', 'नेपालका ग्रामीण भेगमा विगतमा पाइने गरेका काठका पुराना ठेकीहरू अचेल नपाइने गरेका मानिसहरू बताउँछन्। आखिर कहाँ जादै छन् सारा ठेकीहरू?', 'चीनको अर्थतन्त्र सोचेभन्दा तीव्र गतिमा विकसित भए पनि यसका अगाडि विभिन्न सङ्कट रहेकाले \\nमहिलाहरू घरखर्च धान्न बचत बढाउन चाहन्छन्।', \"चार वर्षअघि जारी नेपालको पछिल्लो नक्सालाई अन्तर्राष्ट्रिय मान्यता दिलाउन उल्लेख्य प्रगति नभएको अवस्थामा सरकारको यो निर्णय 'लोकप्रियताका लागि मात्रै गरिएको' कतिपय विज्ञहरूको टिप्पणी छ।\", 'जङ्गलमा कुनै प्राणीले औषधीय वनस्पति प्रयोग गरेर चोटपटकको उपचार गरेको यो पहिलो रेकर्ड हो। ', ' ', 'टिकटकले अमेरिकाले प्रतिबन्ध पुष्टि गर्न “अनुमानका आधारमा चिन्ता” व्यक्त गरेको आरोप लगाउँदै उक्त कदम रोक्न अदालतसँग माग गरेको छ।', \"पुरातत्त्वसम्बन्धी विशेषज्ञ चित्रकारहरूले सयौँ टुक्राहरू जोडेर बनाइएको खप्परका आधारमा 'नीयान्डर्टाल' महिलाको थ्री-डी मोडल बनाएका छन्। \", 'प्री-मनसुनको समयमा नेपालमा चट्याङ र हावाहुरीका घटनाहरू धेरै हुने गरेको विज्ञहरू बताउँछन्।', 'त्रिसट्ठी वर्षीया चर्चित कलाकारले क्यान्सरविरुद्ध आफ्नो सङ्घर्ष र रङ्गमञ्च एवं सामाजिक सञ्जालमार्फत् आफ्नो यात्राबारे जनचेतना जगाउने निर्णयबारे बीबीसीसँग कुराकानी गरेकी छन्।', 'आस्ट्राजेनेका खोपले कोभिड महामारीका क्रममा लाखौं मनिसहरूको ज्यान बचाएको विश्वास गरिन्छ, तर सँगसँगै यसले केही दुर्लभ रक्तजन्य घातक समस्या पनि निम्त्याएको बताइन्छ। ', 'गत वर्ष अर्थात् सन् २०२३ मा २० हजार जनाभन्दा बढी नेपाली कोरिया गएका थिए। कोरियामा अहिले नेपाली कामदारको सङ्ख्या ५५ हजार जनाभन्दा धेरै रहेको त्यहाँस्थित नेपाली दूतावासले जनाएको छ।', 'एमालेका हिक्मत कार्की मुख्यमन्त्री नियुक्त भएको दिन नै त्यसविरुद्ध मुद्दा लिएर कांग्रेसका केदार कार्की सर्वोच्च अदालत पुगेका छन्।', \"महत्त्वाकाङ्क्षी 'नीअम' परियोजनाअन्तर्गत 'द लाइन' मरुभूमि सहरका लागि जग्गा खाली गर्ने काममा घातक बल प्रयोग गर्न साउदी अरबका अधिकारीहरूले अनुमति दिएको एक भूतपूर्व गुप्तचर अधिकारीले दाबी गरेका छन्।\\n\", 'कडा कार्य संस्कृति प्रोत्साहन गर्ने टिप्पणीलाई लिएर चिनियाँ प्रविधि कम्पनीकी जनसम्पर्क अधिकारीले किन माफी माग्नु पर्\\u200dयो।', \"केन्द्रमा गत फागुनमा सत्ता समीकरण परिवर्तन भएसँगै त्यसको प्रभाव प्रदेशहरूमा परिरहेको देखिएका बेला जसपा विभाजनले विशेषगरी मधेश प्रदेश सरकार 'ढल्न सक्ने' अनुमानहरू पनि गरिएका छन्।\", 'अदालतले उनलाई चुनाव प्रचारप्रसार गर्न कुनै खालको रोक नलगाएको र आदेशमा उनले के गर्न पाउने वा नपाउने भन्ने कुनै विषयबारे उल्लेख नगरिएको पनि केजरीवालका वकिलले बताए।', 'इजरेली प्रधानमन्त्रीले गाजाको रफाहमा पूर्ण स्तरको आक्रमणलाई अनुमति दिएको खण्डमा हतियारको आपूर्ति रोक्न सकिने अमेरिकी चेतावनीलगत्तै बेन्जमिन नेतन्याहुले इजरेल \"एक्लै खडा हुन सक्ने\" प्रतिक्रिया दिएका छन्।', 'ब्रजिलको रिओ ग्रान्डी डु सुल प्रान्तमा आएको बाढी र पहिरोका कारण धनजनको ठूलो क्षति भएको छ।', 'खासगरी प्रधानमन्त्री, मुख्यमन्त्री एवं प्रदेश प्रमुख परिवर्तन भइरहने अनि मनपरी ढङ्गले आफू अनुकूलका व्यक्तिका तस्बिर राख्दा त्यसको आर्थिकभार राज्यकोषमा पर्ने गरेको जानकारहरू बताउँछन्।', 'नेपाली कांग्रेसले गृहमन्त्री रवि लामिछाने सहकारी ठगीमा संलग्न भएको विवरण सञ्चारमाध्यममा आइरहेको भन्दै उनीमाथि पनि छानबिन हुने गरी संसदीय समिति गठन गरिनुपर्ने अडानमा छ। ', 'हजारौँ आप्रवासीहरूलाई तस्करी गरी यूके पुर्\\u200dयाएका स्करपीअन उपनामले चर्चित बार्जान बीबीसीको एउटा अनुसन्धानपछि पक्राउ गरेका छन्। ', 'अमेरिकाका पूर्वराष्ट्रपति डोनल्ड ट्रम्पविरुद्ध परेको मुद्दामा उनका पूर्ववकिल माइकल कोएनले ट्रम्पविरुद्ध बयान दिएका छन्। उनले के भने र उनको बयान किन महत्त्वपूर्ण छ?', 'नेपालमा जेठ १५ गते बजेट ल्याउने नियम छ। त्यसअघि संसद्\\u200cमा नीति तथा कार्यक्रम प्रस्तुत हुन्छ। यसपालि मङ्गलवार संसद्को दुवै सदनको संयुक्त बैठक बस्दैछ र त्यसमा राष्ट्रपति रामचन्द्र पौडेलले नीति तथा कार्यक्रम प्रस्तुत गर्ने कार्यक्रम तय भएको छ।', 'उत्तर कोरियाको एउटा प्रान्तमा मानिसहरू भोकभोकै मर्न थालेको सुनेपछि देश छाडेर दक्षिण कोरियामा शरण लिन पुगेका यी व्यक्तिले सन् २०१५ देखि बोतलमा अन्य चिजसँगै चामल भरेर पठाउन थालेका हुन्।\\n', \"पिनाइल क्यान्सर भनिने पुरुषहरूमा लिङ्गको क्यान्सरका एकजना बिरामी जोआओ भन्छन्, रोगको निदान भएपछि लिङ्ग काटेर हटाउनुपर्ने अवस्थाबाट उनी 'निकै आत्तिएका' थिए।\", 'सर्वोच्च अदालतको संवैधानिक इजलासको फैसलाको पूर्णपाठमा हदबन्दीभन्दा बढी भएको जग्गा बाँझो राखिएको भेटिए सरकारका नाममा ल्याउन समेत भनिएको छ।', 'इन्टरनेटमा बालबालिकाले कलिलै उमेरमा पहुँच पाउँदा उनीहरू गम्भीर जोखिमको नजिक पुगेको विशेषज्ञहरूले बताएका छन्। ती जोखिमको रोकथामका लागि तपाईँहामी के गर्न सक्छौँ?', 'मृत्यु सन्निकट हुँदा मानिसहरूले गर्ने अनुभूतिबारे डा क्रिस्टोफर केरले अध्ययन गरेका छन्। त्यस्ता मानिसहरूले अन्तिम समयमा अनुभव गर्ने दृश्य र तिनको अर्थबारे उनले कुरा गरेका छन्।', \"आत्मसम्मान कम भएका व्यक्तिमा  'कम्प्लिमेन्ट' अर्थात प्रशंसाले चिन्ता बढाउन सक्छ किनभने उनीहरूको स्वधारणामा त्यसरी भएको तारिफले चुनौती दिन सक्छ। \", 'सन् २०२२ मा जोन म्याकफललाई शारीरिक अपाङ्गता भएका प्रथम अन्तरिक्षयात्रीको उम्मेदवारका रूपमा चयन गरिएको थियो। ', \"थाईल्यान्डमा 'लीज म्याजस्टी' कानुनले राजतन्त्रको आलोचना गर्न प्रतिबन्ध लगाएको छ। राजतन्त्रको संरक्षणका लागि बनाइएको त्यस्तो कानुनलाई विश्वकै कठोर कानुनमध्ये मानिन्छ।\", \"हजारौँ आप्रवासीहरूलाई तस्करी गरी यूके पुर्\\u200dयाएका 'स्कोर्पिअन' उपनामले चर्चित बर्जान मजिद बीबीसीको एउटा अनुसन्धानपछि इराकमा पक्राउ परेका छन्। \", 'नयाँ नोट छपाइमा जानुअघि अन्तर्राष्ट्रिय बोलकबोलसहितका कतिपय कानुनी प्रक्रियाहरू पूरा गर्नुपर्ने अधिकारीहरू बताउँछन्। ', 'अमेरिका, चीन र भारतले चन्द्रमामा मानव पठाउने योजना सार्वजनिक गरेका छन्। अन्तरिक्ष अभियानमा यी देशले किन अर्बौँ डलर लगानी गरेका हुन् र उनीहरूको अपेक्षा के छ?', 'जबरजस्ती करणी मुद्दामा उच्च अदालत पाटनले सफाइ दिएको केही घण्टापछि नेपाल क्रिकेट सङ्घ क्यानको निर्णय सार्वजनिक भएको हो।', ' प्रधानमन्त्रीको टाउको र छातीमा गोली लागेको देखिएको थियो। प्रधानमन्त्रीका सुरक्षाकर्मीमध्ये तीन जनाले उनको उद्धार गरी कारभित्र लगेका थिए।', 'मसला उत्पादन र निर्यातमा भारतको वर्चस्व छ। तर विभिन्न देशमा भारतीय मसलाको गुणस्तरबारे प्रश्न उठेको छ।', 'हीरामन्डीमा प्रमुख भूमिका रहेको मल्लिका जानको अभिनय गरेर फिल्म क्षेत्रमा वाहवाही पाइरहेकी मनीषा कोइरालाले बलुवुडकी चर्चित कलाकार रेखाले आफ्नो प्रशंसा गरेको सुन्दा आँशु आएको बताएकी छन्। रेखाले हीरामन्डी हेरेपछि मनीषालाई के भनिन् र उनको आँखा रसाए?', \"'लेडी बुशरा' नामले चिनिने अमिर डीन यूकेका सर्वाधिक चर्चित 'ड्र्याग कलाकार'मध्ये एक हुन्।\", \"साउदी अरबलाई आधुनिक बनाउने युवराज मोहम्मद बिन सलमानको चाहनाअनुसार 'नीअम' परियोजना बनाउन लागिएको हो। \\n\\n\", 'कृषि जनशक्तिको चरम अभावमाझ राष्ट्रपतिले घोषणा गरेको महत्त्वाकाङ्क्षी कृषिमा लगानी दशक कार्यान्वयनमा नआउँदै गम्भीर प्रश्नहरू तेर्सिएका छन्।', 'युक्रेनमा जारी युद्धमा रुसलाई सघाएको आरोप चीनलाई लागेकै बेला भ्लादिमिर पुटिनले फेरि बेइजिङ भ्रमणमा पुगेका छन्।', 'भारतमा निर्वाचनका बेला डीपफेक र एआईबाट सिर्जित भ्रामक सामग्रीको बिगबिगी बढेपछि विज्ञहरूले त्यसबाट पर्ने प्रभावबारे चिन्ता व्यक्त गरेका छन्।', 'जबरजस्ती करणी मुद्दामा उच्च अदालत पाटनले सफाइ दिएको केही घण्टापछि नेपाल क्रिकेट सङ्घ (क्यान) को निर्णय सार्वजनिक भएको हो।', 'उत्तर अमेरिकामा यो पहिलो विश्वकप हुँदै छ भने आयोजकको हैसियतले अमेरिकाले पनि सीधै विश्वकप खेल्ने मौका पाएको छ।', 'सहकारी संस्थाका सञ्चालकहरूले सम्पत्ति ब्याङ्कमा धितो राखेर ऋण लिएको पाइएका कारण लिलामी प्रक्रियामा समस्या भएको अधिकारीहरूले बताएका छन्।', \"'ब्रेकिङ'लाई ओलिम्पिक्समा पहिलो पटक समावेश गरिएको हो। यसपालि नै तालिबानको धम्कीका बीच 'ब्रेकिङ' सिकेकी मनिजा तलाश शरणार्थी टोलीकी सदस्यका रूपमा खेल्दै छिन्।\"]\n",
        "\n",
        "#     # Preprocess the data\n",
        "#     cleaned_data = [preprocess_text(doc) for doc in data]\n",
        "#     print(cleaned_data)\n",
        "\n",
        "#     # Further steps, like tokenization or saving the cleaned data, can follow\n"
      ]
    },
    {
      "cell_type": "markdown",
      "metadata": {
        "id": "SGz_LnvmRq6j"
      },
      "source": [
        "# Train the CharBPETokenizer"
      ]
    },
    {
      "cell_type": "code",
      "execution_count": null,
      "metadata": {
        "colab": {
          "base_uri": "https://localhost:8080/"
        },
        "id": "iPsQKbKrdgWf",
        "outputId": "a0fdbf34-0381-43dc-e61b-4f83fd19b9bd"
      },
      "outputs": [
        {
          "name": "stdout",
          "output_type": "stream",
          "text": [
            "'0. download_data.ipynb'     clean_nepberta_data.zip\t\t nepberta_text.txt\n",
            "'1. train_tokenizer.ipynb'   IRIISNEPAL_Nepali_Text_Corpus.csv\n",
            " clean_date_categories.csv   iriis_text.txt\n"
          ]
        }
      ],
      "source": [
        "!ls"
      ]
    },
    {
      "cell_type": "markdown",
      "metadata": {
        "id": "z1-HmtXNhprw"
      },
      "source": [
        "## 1. Save data to text file"
      ]
    },
    {
      "cell_type": "code",
      "execution_count": null,
      "metadata": {
        "colab": {
          "background_save": true,
          "base_uri": "https://localhost:8080/"
        },
        "id": "QOJCOhSxdUTU",
        "outputId": "b74bdd25-ff00-440b-8179-d34e0d5c0211"
      },
      "outputs": [
        {
          "name": "stderr",
          "output_type": "stream",
          "text": [
            "<ipython-input-7-c4b837329946>:24: MarkupResemblesLocatorWarning: The input looks more like a filename than markup. You may want to open this file and pass the filehandle into Beautiful Soup.\n",
            "  soup = BeautifulSoup(text, \"lxml\")\n"
          ]
        },
        {
          "name": "stdout",
          "output_type": "stream",
          "text": [
            "50000\n",
            "\n"
          ]
        },
        {
          "name": "stderr",
          "output_type": "stream",
          "text": [
            "<ipython-input-7-c4b837329946>:24: MarkupResemblesLocatorWarning: The input looks more like a filename than markup. You may want to open this file and pass the filehandle into Beautiful Soup.\n",
            "  soup = BeautifulSoup(text, \"lxml\")\n",
            "<ipython-input-7-c4b837329946>:24: MarkupResemblesLocatorWarning: The input looks more like a filename than markup. You may want to open this file and pass the filehandle into Beautiful Soup.\n",
            "  soup = BeautifulSoup(text, \"lxml\")\n",
            "<ipython-input-7-c4b837329946>:24: MarkupResemblesLocatorWarning: The input looks more like a filename than markup. You may want to open this file and pass the filehandle into Beautiful Soup.\n",
            "  soup = BeautifulSoup(text, \"lxml\")\n",
            "<ipython-input-7-c4b837329946>:24: MarkupResemblesLocatorWarning: The input looks more like a filename than markup. You may want to open this file and pass the filehandle into Beautiful Soup.\n",
            "  soup = BeautifulSoup(text, \"lxml\")\n",
            "<ipython-input-7-c4b837329946>:24: MarkupResemblesLocatorWarning: The input looks more like a filename than markup. You may want to open this file and pass the filehandle into Beautiful Soup.\n",
            "  soup = BeautifulSoup(text, \"lxml\")\n",
            "<ipython-input-7-c4b837329946>:24: MarkupResemblesLocatorWarning: The input looks more like a filename than markup. You may want to open this file and pass the filehandle into Beautiful Soup.\n",
            "  soup = BeautifulSoup(text, \"lxml\")\n",
            "<ipython-input-7-c4b837329946>:24: MarkupResemblesLocatorWarning: The input looks more like a filename than markup. You may want to open this file and pass the filehandle into Beautiful Soup.\n",
            "  soup = BeautifulSoup(text, \"lxml\")\n",
            "<ipython-input-7-c4b837329946>:24: MarkupResemblesLocatorWarning: The input looks more like a filename than markup. You may want to open this file and pass the filehandle into Beautiful Soup.\n",
            "  soup = BeautifulSoup(text, \"lxml\")\n",
            "<ipython-input-7-c4b837329946>:24: MarkupResemblesLocatorWarning: The input looks more like a filename than markup. You may want to open this file and pass the filehandle into Beautiful Soup.\n",
            "  soup = BeautifulSoup(text, \"lxml\")\n"
          ]
        },
        {
          "name": "stdout",
          "output_type": "stream",
          "text": [
            "500000\n",
            "\n"
          ]
        },
        {
          "name": "stderr",
          "output_type": "stream",
          "text": [
            "<ipython-input-7-c4b837329946>:24: MarkupResemblesLocatorWarning: The input looks more like a filename than markup. You may want to open this file and pass the filehandle into Beautiful Soup.\n",
            "  soup = BeautifulSoup(text, \"lxml\")\n",
            "<ipython-input-7-c4b837329946>:24: MarkupResemblesLocatorWarning: The input looks more like a filename than markup. You may want to open this file and pass the filehandle into Beautiful Soup.\n",
            "  soup = BeautifulSoup(text, \"lxml\")\n",
            "<ipython-input-7-c4b837329946>:24: MarkupResemblesLocatorWarning: The input looks more like a filename than markup. You may want to open this file and pass the filehandle into Beautiful Soup.\n",
            "  soup = BeautifulSoup(text, \"lxml\")\n",
            "<ipython-input-7-c4b837329946>:24: MarkupResemblesLocatorWarning: The input looks more like a filename than markup. You may want to open this file and pass the filehandle into Beautiful Soup.\n",
            "  soup = BeautifulSoup(text, \"lxml\")\n",
            "<ipython-input-7-c4b837329946>:24: MarkupResemblesLocatorWarning: The input looks more like a filename than markup. You may want to open this file and pass the filehandle into Beautiful Soup.\n",
            "  soup = BeautifulSoup(text, \"lxml\")\n",
            "<ipython-input-7-c4b837329946>:24: MarkupResemblesLocatorWarning: The input looks more like a filename than markup. You may want to open this file and pass the filehandle into Beautiful Soup.\n",
            "  soup = BeautifulSoup(text, \"lxml\")\n",
            "<ipython-input-7-c4b837329946>:24: MarkupResemblesLocatorWarning: The input looks more like a filename than markup. You may want to open this file and pass the filehandle into Beautiful Soup.\n",
            "  soup = BeautifulSoup(text, \"lxml\")\n",
            "<ipython-input-7-c4b837329946>:24: MarkupResemblesLocatorWarning: The input looks more like a filename than markup. You may want to open this file and pass the filehandle into Beautiful Soup.\n",
            "  soup = BeautifulSoup(text, \"lxml\")\n",
            "<ipython-input-7-c4b837329946>:24: MarkupResemblesLocatorWarning: The input looks more like a filename than markup. You may want to open this file and pass the filehandle into Beautiful Soup.\n",
            "  soup = BeautifulSoup(text, \"lxml\")\n",
            "<ipython-input-7-c4b837329946>:24: MarkupResemblesLocatorWarning: The input looks more like a filename than markup. You may want to open this file and pass the filehandle into Beautiful Soup.\n",
            "  soup = BeautifulSoup(text, \"lxml\")\n"
          ]
        },
        {
          "name": "stdout",
          "output_type": "stream",
          "text": [
            "1000000\n",
            "\n"
          ]
        },
        {
          "name": "stderr",
          "output_type": "stream",
          "text": [
            "<ipython-input-7-c4b837329946>:24: MarkupResemblesLocatorWarning: The input looks more like a filename than markup. You may want to open this file and pass the filehandle into Beautiful Soup.\n",
            "  soup = BeautifulSoup(text, \"lxml\")\n",
            "<ipython-input-7-c4b837329946>:24: MarkupResemblesLocatorWarning: The input looks more like a filename than markup. You may want to open this file and pass the filehandle into Beautiful Soup.\n",
            "  soup = BeautifulSoup(text, \"lxml\")\n",
            "<ipython-input-7-c4b837329946>:24: MarkupResemblesLocatorWarning: The input looks more like a filename than markup. You may want to open this file and pass the filehandle into Beautiful Soup.\n",
            "  soup = BeautifulSoup(text, \"lxml\")\n",
            "<ipython-input-7-c4b837329946>:24: MarkupResemblesLocatorWarning: The input looks more like a filename than markup. You may want to open this file and pass the filehandle into Beautiful Soup.\n",
            "  soup = BeautifulSoup(text, \"lxml\")\n",
            "<ipython-input-7-c4b837329946>:24: MarkupResemblesLocatorWarning: The input looks more like a filename than markup. You may want to open this file and pass the filehandle into Beautiful Soup.\n",
            "  soup = BeautifulSoup(text, \"lxml\")\n",
            "<ipython-input-7-c4b837329946>:24: MarkupResemblesLocatorWarning: The input looks more like a filename than markup. You may want to open this file and pass the filehandle into Beautiful Soup.\n",
            "  soup = BeautifulSoup(text, \"lxml\")\n",
            "<ipython-input-7-c4b837329946>:24: MarkupResemblesLocatorWarning: The input looks more like a filename than markup. You may want to open this file and pass the filehandle into Beautiful Soup.\n",
            "  soup = BeautifulSoup(text, \"lxml\")\n",
            "<ipython-input-7-c4b837329946>:24: MarkupResemblesLocatorWarning: The input looks more like a filename than markup. You may want to open this file and pass the filehandle into Beautiful Soup.\n",
            "  soup = BeautifulSoup(text, \"lxml\")\n",
            "<ipython-input-7-c4b837329946>:24: MarkupResemblesLocatorWarning: The input looks more like a filename than markup. You may want to open this file and pass the filehandle into Beautiful Soup.\n",
            "  soup = BeautifulSoup(text, \"lxml\")\n",
            "<ipython-input-7-c4b837329946>:24: MarkupResemblesLocatorWarning: The input looks more like a filename than markup. You may want to open this file and pass the filehandle into Beautiful Soup.\n",
            "  soup = BeautifulSoup(text, \"lxml\")\n"
          ]
        },
        {
          "name": "stdout",
          "output_type": "stream",
          "text": [
            "1500000\n",
            "\n"
          ]
        },
        {
          "name": "stderr",
          "output_type": "stream",
          "text": [
            "<ipython-input-7-c4b837329946>:24: MarkupResemblesLocatorWarning: The input looks more like a filename than markup. You may want to open this file and pass the filehandle into Beautiful Soup.\n",
            "  soup = BeautifulSoup(text, \"lxml\")\n",
            "<ipython-input-7-c4b837329946>:24: MarkupResemblesLocatorWarning: The input looks more like a filename than markup. You may want to open this file and pass the filehandle into Beautiful Soup.\n",
            "  soup = BeautifulSoup(text, \"lxml\")\n",
            "<ipython-input-7-c4b837329946>:24: MarkupResemblesLocatorWarning: The input looks more like a filename than markup. You may want to open this file and pass the filehandle into Beautiful Soup.\n",
            "  soup = BeautifulSoup(text, \"lxml\")\n",
            "<ipython-input-7-c4b837329946>:24: MarkupResemblesLocatorWarning: The input looks more like a filename than markup. You may want to open this file and pass the filehandle into Beautiful Soup.\n",
            "  soup = BeautifulSoup(text, \"lxml\")\n",
            "<ipython-input-7-c4b837329946>:24: MarkupResemblesLocatorWarning: The input looks more like a filename than markup. You may want to open this file and pass the filehandle into Beautiful Soup.\n",
            "  soup = BeautifulSoup(text, \"lxml\")\n",
            "<ipython-input-7-c4b837329946>:24: MarkupResemblesLocatorWarning: The input looks more like a filename than markup. You may want to open this file and pass the filehandle into Beautiful Soup.\n",
            "  soup = BeautifulSoup(text, \"lxml\")\n",
            "<ipython-input-7-c4b837329946>:24: MarkupResemblesLocatorWarning: The input looks more like a filename than markup. You may want to open this file and pass the filehandle into Beautiful Soup.\n",
            "  soup = BeautifulSoup(text, \"lxml\")\n",
            "<ipython-input-7-c4b837329946>:24: MarkupResemblesLocatorWarning: The input looks more like a filename than markup. You may want to open this file and pass the filehandle into Beautiful Soup.\n",
            "  soup = BeautifulSoup(text, \"lxml\")\n",
            "<ipython-input-7-c4b837329946>:24: MarkupResemblesLocatorWarning: The input looks more like a filename than markup. You may want to open this file and pass the filehandle into Beautiful Soup.\n",
            "  soup = BeautifulSoup(text, \"lxml\")\n",
            "<ipython-input-7-c4b837329946>:24: MarkupResemblesLocatorWarning: The input looks more like a filename than markup. You may want to open this file and pass the filehandle into Beautiful Soup.\n",
            "  soup = BeautifulSoup(text, \"lxml\")\n"
          ]
        },
        {
          "name": "stdout",
          "output_type": "stream",
          "text": [
            "2000000\n",
            "\n"
          ]
        },
        {
          "name": "stderr",
          "output_type": "stream",
          "text": [
            "<ipython-input-7-c4b837329946>:24: MarkupResemblesLocatorWarning: The input looks more like a filename than markup. You may want to open this file and pass the filehandle into Beautiful Soup.\n",
            "  soup = BeautifulSoup(text, \"lxml\")\n",
            "<ipython-input-7-c4b837329946>:24: MarkupResemblesLocatorWarning: The input looks more like a filename than markup. You may want to open this file and pass the filehandle into Beautiful Soup.\n",
            "  soup = BeautifulSoup(text, \"lxml\")\n",
            "<ipython-input-7-c4b837329946>:24: MarkupResemblesLocatorWarning: The input looks more like a filename than markup. You may want to open this file and pass the filehandle into Beautiful Soup.\n",
            "  soup = BeautifulSoup(text, \"lxml\")\n",
            "<ipython-input-7-c4b837329946>:24: MarkupResemblesLocatorWarning: The input looks more like a filename than markup. You may want to open this file and pass the filehandle into Beautiful Soup.\n",
            "  soup = BeautifulSoup(text, \"lxml\")\n",
            "<ipython-input-7-c4b837329946>:24: MarkupResemblesLocatorWarning: The input looks more like a filename than markup. You may want to open this file and pass the filehandle into Beautiful Soup.\n",
            "  soup = BeautifulSoup(text, \"lxml\")\n",
            "<ipython-input-7-c4b837329946>:24: MarkupResemblesLocatorWarning: The input looks more like a filename than markup. You may want to open this file and pass the filehandle into Beautiful Soup.\n",
            "  soup = BeautifulSoup(text, \"lxml\")\n",
            "<ipython-input-7-c4b837329946>:24: MarkupResemblesLocatorWarning: The input looks more like a filename than markup. You may want to open this file and pass the filehandle into Beautiful Soup.\n",
            "  soup = BeautifulSoup(text, \"lxml\")\n",
            "<ipython-input-7-c4b837329946>:24: MarkupResemblesLocatorWarning: The input looks more like a filename than markup. You may want to open this file and pass the filehandle into Beautiful Soup.\n",
            "  soup = BeautifulSoup(text, \"lxml\")\n",
            "<ipython-input-7-c4b837329946>:24: MarkupResemblesLocatorWarning: The input looks more like a filename than markup. You may want to open this file and pass the filehandle into Beautiful Soup.\n",
            "  soup = BeautifulSoup(text, \"lxml\")\n",
            "<ipython-input-7-c4b837329946>:24: MarkupResemblesLocatorWarning: The input looks more like a filename than markup. You may want to open this file and pass the filehandle into Beautiful Soup.\n",
            "  soup = BeautifulSoup(text, \"lxml\")\n"
          ]
        },
        {
          "name": "stdout",
          "output_type": "stream",
          "text": [
            "2500000\n",
            "\n"
          ]
        },
        {
          "name": "stderr",
          "output_type": "stream",
          "text": [
            "<ipython-input-7-c4b837329946>:24: MarkupResemblesLocatorWarning: The input looks more like a filename than markup. You may want to open this file and pass the filehandle into Beautiful Soup.\n",
            "  soup = BeautifulSoup(text, \"lxml\")\n",
            "<ipython-input-7-c4b837329946>:24: MarkupResemblesLocatorWarning: The input looks more like a filename than markup. You may want to open this file and pass the filehandle into Beautiful Soup.\n",
            "  soup = BeautifulSoup(text, \"lxml\")\n",
            "<ipython-input-7-c4b837329946>:24: MarkupResemblesLocatorWarning: The input looks more like a filename than markup. You may want to open this file and pass the filehandle into Beautiful Soup.\n",
            "  soup = BeautifulSoup(text, \"lxml\")\n",
            "<ipython-input-7-c4b837329946>:24: MarkupResemblesLocatorWarning: The input looks more like a filename than markup. You may want to open this file and pass the filehandle into Beautiful Soup.\n",
            "  soup = BeautifulSoup(text, \"lxml\")\n",
            "<ipython-input-7-c4b837329946>:24: MarkupResemblesLocatorWarning: The input looks more like a filename than markup. You may want to open this file and pass the filehandle into Beautiful Soup.\n",
            "  soup = BeautifulSoup(text, \"lxml\")\n",
            "<ipython-input-7-c4b837329946>:24: MarkupResemblesLocatorWarning: The input looks more like a filename than markup. You may want to open this file and pass the filehandle into Beautiful Soup.\n",
            "  soup = BeautifulSoup(text, \"lxml\")\n",
            "<ipython-input-7-c4b837329946>:24: MarkupResemblesLocatorWarning: The input looks more like a filename than markup. You may want to open this file and pass the filehandle into Beautiful Soup.\n",
            "  soup = BeautifulSoup(text, \"lxml\")\n",
            "<ipython-input-7-c4b837329946>:24: MarkupResemblesLocatorWarning: The input looks more like a filename than markup. You may want to open this file and pass the filehandle into Beautiful Soup.\n",
            "  soup = BeautifulSoup(text, \"lxml\")\n",
            "<ipython-input-7-c4b837329946>:24: MarkupResemblesLocatorWarning: The input looks more like a filename than markup. You may want to open this file and pass the filehandle into Beautiful Soup.\n",
            "  soup = BeautifulSoup(text, \"lxml\")\n",
            "<ipython-input-7-c4b837329946>:24: MarkupResemblesLocatorWarning: The input looks more like a filename than markup. You may want to open this file and pass the filehandle into Beautiful Soup.\n",
            "  soup = BeautifulSoup(text, \"lxml\")\n"
          ]
        },
        {
          "name": "stdout",
          "output_type": "stream",
          "text": [
            "3000000\n",
            "\n"
          ]
        },
        {
          "name": "stderr",
          "output_type": "stream",
          "text": [
            "<ipython-input-7-c4b837329946>:24: MarkupResemblesLocatorWarning: The input looks more like a filename than markup. You may want to open this file and pass the filehandle into Beautiful Soup.\n",
            "  soup = BeautifulSoup(text, \"lxml\")\n",
            "<ipython-input-7-c4b837329946>:24: MarkupResemblesLocatorWarning: The input looks more like a filename than markup. You may want to open this file and pass the filehandle into Beautiful Soup.\n",
            "  soup = BeautifulSoup(text, \"lxml\")\n",
            "<ipython-input-7-c4b837329946>:24: MarkupResemblesLocatorWarning: The input looks more like a filename than markup. You may want to open this file and pass the filehandle into Beautiful Soup.\n",
            "  soup = BeautifulSoup(text, \"lxml\")\n",
            "<ipython-input-7-c4b837329946>:24: MarkupResemblesLocatorWarning: The input looks more like a filename than markup. You may want to open this file and pass the filehandle into Beautiful Soup.\n",
            "  soup = BeautifulSoup(text, \"lxml\")\n",
            "<ipython-input-7-c4b837329946>:24: MarkupResemblesLocatorWarning: The input looks more like a filename than markup. You may want to open this file and pass the filehandle into Beautiful Soup.\n",
            "  soup = BeautifulSoup(text, \"lxml\")\n",
            "<ipython-input-7-c4b837329946>:24: MarkupResemblesLocatorWarning: The input looks more like a filename than markup. You may want to open this file and pass the filehandle into Beautiful Soup.\n",
            "  soup = BeautifulSoup(text, \"lxml\")\n",
            "<ipython-input-7-c4b837329946>:24: MarkupResemblesLocatorWarning: The input looks more like a filename than markup. You may want to open this file and pass the filehandle into Beautiful Soup.\n",
            "  soup = BeautifulSoup(text, \"lxml\")\n",
            "<ipython-input-7-c4b837329946>:24: MarkupResemblesLocatorWarning: The input looks more like a filename than markup. You may want to open this file and pass the filehandle into Beautiful Soup.\n",
            "  soup = BeautifulSoup(text, \"lxml\")\n",
            "<ipython-input-7-c4b837329946>:24: MarkupResemblesLocatorWarning: The input looks more like a filename than markup. You may want to open this file and pass the filehandle into Beautiful Soup.\n",
            "  soup = BeautifulSoup(text, \"lxml\")\n",
            "<ipython-input-7-c4b837329946>:24: MarkupResemblesLocatorWarning: The input looks more like a filename than markup. You may want to open this file and pass the filehandle into Beautiful Soup.\n",
            "  soup = BeautifulSoup(text, \"lxml\")\n"
          ]
        },
        {
          "name": "stdout",
          "output_type": "stream",
          "text": [
            "3500000\n",
            "\n"
          ]
        },
        {
          "name": "stderr",
          "output_type": "stream",
          "text": [
            "<ipython-input-7-c4b837329946>:24: MarkupResemblesLocatorWarning: The input looks more like a filename than markup. You may want to open this file and pass the filehandle into Beautiful Soup.\n",
            "  soup = BeautifulSoup(text, \"lxml\")\n",
            "<ipython-input-7-c4b837329946>:24: MarkupResemblesLocatorWarning: The input looks more like a filename than markup. You may want to open this file and pass the filehandle into Beautiful Soup.\n",
            "  soup = BeautifulSoup(text, \"lxml\")\n",
            "<ipython-input-7-c4b837329946>:24: MarkupResemblesLocatorWarning: The input looks more like a filename than markup. You may want to open this file and pass the filehandle into Beautiful Soup.\n",
            "  soup = BeautifulSoup(text, \"lxml\")\n",
            "<ipython-input-7-c4b837329946>:24: MarkupResemblesLocatorWarning: The input looks more like a filename than markup. You may want to open this file and pass the filehandle into Beautiful Soup.\n",
            "  soup = BeautifulSoup(text, \"lxml\")\n",
            "<ipython-input-7-c4b837329946>:24: MarkupResemblesLocatorWarning: The input looks more like a filename than markup. You may want to open this file and pass the filehandle into Beautiful Soup.\n",
            "  soup = BeautifulSoup(text, \"lxml\")\n",
            "<ipython-input-7-c4b837329946>:24: MarkupResemblesLocatorWarning: The input looks more like a filename than markup. You may want to open this file and pass the filehandle into Beautiful Soup.\n",
            "  soup = BeautifulSoup(text, \"lxml\")\n",
            "<ipython-input-7-c4b837329946>:24: MarkupResemblesLocatorWarning: The input looks more like a filename than markup. You may want to open this file and pass the filehandle into Beautiful Soup.\n",
            "  soup = BeautifulSoup(text, \"lxml\")\n",
            "<ipython-input-7-c4b837329946>:24: MarkupResemblesLocatorWarning: The input looks more like a filename than markup. You may want to open this file and pass the filehandle into Beautiful Soup.\n",
            "  soup = BeautifulSoup(text, \"lxml\")\n",
            "<ipython-input-7-c4b837329946>:24: MarkupResemblesLocatorWarning: The input looks more like a filename than markup. You may want to open this file and pass the filehandle into Beautiful Soup.\n",
            "  soup = BeautifulSoup(text, \"lxml\")\n",
            "<ipython-input-7-c4b837329946>:24: MarkupResemblesLocatorWarning: The input looks more like a filename than markup. You may want to open this file and pass the filehandle into Beautiful Soup.\n",
            "  soup = BeautifulSoup(text, \"lxml\")\n"
          ]
        },
        {
          "name": "stdout",
          "output_type": "stream",
          "text": [
            "4000000\n",
            "\n"
          ]
        },
        {
          "name": "stderr",
          "output_type": "stream",
          "text": [
            "<ipython-input-7-c4b837329946>:24: MarkupResemblesLocatorWarning: The input looks more like a filename than markup. You may want to open this file and pass the filehandle into Beautiful Soup.\n",
            "  soup = BeautifulSoup(text, \"lxml\")\n",
            "<ipython-input-7-c4b837329946>:24: MarkupResemblesLocatorWarning: The input looks more like a filename than markup. You may want to open this file and pass the filehandle into Beautiful Soup.\n",
            "  soup = BeautifulSoup(text, \"lxml\")\n",
            "<ipython-input-7-c4b837329946>:24: MarkupResemblesLocatorWarning: The input looks more like a filename than markup. You may want to open this file and pass the filehandle into Beautiful Soup.\n",
            "  soup = BeautifulSoup(text, \"lxml\")\n",
            "<ipython-input-7-c4b837329946>:24: MarkupResemblesLocatorWarning: The input looks more like a filename than markup. You may want to open this file and pass the filehandle into Beautiful Soup.\n",
            "  soup = BeautifulSoup(text, \"lxml\")\n",
            "<ipython-input-7-c4b837329946>:24: MarkupResemblesLocatorWarning: The input looks more like a filename than markup. You may want to open this file and pass the filehandle into Beautiful Soup.\n",
            "  soup = BeautifulSoup(text, \"lxml\")\n",
            "<ipython-input-7-c4b837329946>:24: MarkupResemblesLocatorWarning: The input looks more like a filename than markup. You may want to open this file and pass the filehandle into Beautiful Soup.\n",
            "  soup = BeautifulSoup(text, \"lxml\")\n",
            "<ipython-input-7-c4b837329946>:24: MarkupResemblesLocatorWarning: The input looks more like a filename than markup. You may want to open this file and pass the filehandle into Beautiful Soup.\n",
            "  soup = BeautifulSoup(text, \"lxml\")\n",
            "<ipython-input-7-c4b837329946>:24: MarkupResemblesLocatorWarning: The input looks more like a filename than markup. You may want to open this file and pass the filehandle into Beautiful Soup.\n",
            "  soup = BeautifulSoup(text, \"lxml\")\n",
            "<ipython-input-7-c4b837329946>:24: MarkupResemblesLocatorWarning: The input looks more like a filename than markup. You may want to open this file and pass the filehandle into Beautiful Soup.\n",
            "  soup = BeautifulSoup(text, \"lxml\")\n",
            "<ipython-input-7-c4b837329946>:24: MarkupResemblesLocatorWarning: The input looks more like a filename than markup. You may want to open this file and pass the filehandle into Beautiful Soup.\n",
            "  soup = BeautifulSoup(text, \"lxml\")\n"
          ]
        },
        {
          "name": "stdout",
          "output_type": "stream",
          "text": [
            "4500000\n",
            "\n"
          ]
        },
        {
          "name": "stderr",
          "output_type": "stream",
          "text": [
            "<ipython-input-7-c4b837329946>:24: MarkupResemblesLocatorWarning: The input looks more like a filename than markup. You may want to open this file and pass the filehandle into Beautiful Soup.\n",
            "  soup = BeautifulSoup(text, \"lxml\")\n",
            "<ipython-input-7-c4b837329946>:24: MarkupResemblesLocatorWarning: The input looks more like a filename than markup. You may want to open this file and pass the filehandle into Beautiful Soup.\n",
            "  soup = BeautifulSoup(text, \"lxml\")\n",
            "<ipython-input-7-c4b837329946>:24: MarkupResemblesLocatorWarning: The input looks more like a filename than markup. You may want to open this file and pass the filehandle into Beautiful Soup.\n",
            "  soup = BeautifulSoup(text, \"lxml\")\n",
            "<ipython-input-7-c4b837329946>:24: MarkupResemblesLocatorWarning: The input looks more like a filename than markup. You may want to open this file and pass the filehandle into Beautiful Soup.\n",
            "  soup = BeautifulSoup(text, \"lxml\")\n",
            "<ipython-input-7-c4b837329946>:24: MarkupResemblesLocatorWarning: The input looks more like a filename than markup. You may want to open this file and pass the filehandle into Beautiful Soup.\n",
            "  soup = BeautifulSoup(text, \"lxml\")\n",
            "<ipython-input-7-c4b837329946>:24: MarkupResemblesLocatorWarning: The input looks more like a filename than markup. You may want to open this file and pass the filehandle into Beautiful Soup.\n",
            "  soup = BeautifulSoup(text, \"lxml\")\n",
            "<ipython-input-7-c4b837329946>:24: MarkupResemblesLocatorWarning: The input looks more like a filename than markup. You may want to open this file and pass the filehandle into Beautiful Soup.\n",
            "  soup = BeautifulSoup(text, \"lxml\")\n",
            "<ipython-input-7-c4b837329946>:24: MarkupResemblesLocatorWarning: The input looks more like a filename than markup. You may want to open this file and pass the filehandle into Beautiful Soup.\n",
            "  soup = BeautifulSoup(text, \"lxml\")\n",
            "<ipython-input-7-c4b837329946>:24: MarkupResemblesLocatorWarning: The input looks more like a filename than markup. You may want to open this file and pass the filehandle into Beautiful Soup.\n",
            "  soup = BeautifulSoup(text, \"lxml\")\n",
            "<ipython-input-7-c4b837329946>:24: MarkupResemblesLocatorWarning: The input looks more like a filename than markup. You may want to open this file and pass the filehandle into Beautiful Soup.\n",
            "  soup = BeautifulSoup(text, \"lxml\")\n"
          ]
        },
        {
          "name": "stdout",
          "output_type": "stream",
          "text": [
            "5000000\n",
            "\n"
          ]
        },
        {
          "name": "stderr",
          "output_type": "stream",
          "text": [
            "<ipython-input-7-c4b837329946>:24: MarkupResemblesLocatorWarning: The input looks more like a filename than markup. You may want to open this file and pass the filehandle into Beautiful Soup.\n",
            "  soup = BeautifulSoup(text, \"lxml\")\n",
            "<ipython-input-7-c4b837329946>:24: MarkupResemblesLocatorWarning: The input looks more like a filename than markup. You may want to open this file and pass the filehandle into Beautiful Soup.\n",
            "  soup = BeautifulSoup(text, \"lxml\")\n",
            "<ipython-input-7-c4b837329946>:24: MarkupResemblesLocatorWarning: The input looks more like a filename than markup. You may want to open this file and pass the filehandle into Beautiful Soup.\n",
            "  soup = BeautifulSoup(text, \"lxml\")\n",
            "<ipython-input-7-c4b837329946>:24: MarkupResemblesLocatorWarning: The input looks more like a filename than markup. You may want to open this file and pass the filehandle into Beautiful Soup.\n",
            "  soup = BeautifulSoup(text, \"lxml\")\n",
            "<ipython-input-7-c4b837329946>:24: MarkupResemblesLocatorWarning: The input looks more like a filename than markup. You may want to open this file and pass the filehandle into Beautiful Soup.\n",
            "  soup = BeautifulSoup(text, \"lxml\")\n",
            "<ipython-input-7-c4b837329946>:24: MarkupResemblesLocatorWarning: The input looks more like a filename than markup. You may want to open this file and pass the filehandle into Beautiful Soup.\n",
            "  soup = BeautifulSoup(text, \"lxml\")\n",
            "<ipython-input-7-c4b837329946>:24: MarkupResemblesLocatorWarning: The input looks more like a filename than markup. You may want to open this file and pass the filehandle into Beautiful Soup.\n",
            "  soup = BeautifulSoup(text, \"lxml\")\n",
            "<ipython-input-7-c4b837329946>:24: MarkupResemblesLocatorWarning: The input looks more like a filename than markup. You may want to open this file and pass the filehandle into Beautiful Soup.\n",
            "  soup = BeautifulSoup(text, \"lxml\")\n",
            "<ipython-input-7-c4b837329946>:24: MarkupResemblesLocatorWarning: The input looks more like a filename than markup. You may want to open this file and pass the filehandle into Beautiful Soup.\n",
            "  soup = BeautifulSoup(text, \"lxml\")\n",
            "<ipython-input-7-c4b837329946>:24: MarkupResemblesLocatorWarning: The input looks more like a filename than markup. You may want to open this file and pass the filehandle into Beautiful Soup.\n",
            "  soup = BeautifulSoup(text, \"lxml\")\n"
          ]
        },
        {
          "name": "stdout",
          "output_type": "stream",
          "text": [
            "5500000\n",
            "\n"
          ]
        },
        {
          "name": "stderr",
          "output_type": "stream",
          "text": [
            "<ipython-input-7-c4b837329946>:24: MarkupResemblesLocatorWarning: The input looks more like a filename than markup. You may want to open this file and pass the filehandle into Beautiful Soup.\n",
            "  soup = BeautifulSoup(text, \"lxml\")\n",
            "<ipython-input-7-c4b837329946>:24: MarkupResemblesLocatorWarning: The input looks more like a filename than markup. You may want to open this file and pass the filehandle into Beautiful Soup.\n",
            "  soup = BeautifulSoup(text, \"lxml\")\n",
            "<ipython-input-7-c4b837329946>:24: MarkupResemblesLocatorWarning: The input looks more like a filename than markup. You may want to open this file and pass the filehandle into Beautiful Soup.\n",
            "  soup = BeautifulSoup(text, \"lxml\")\n",
            "<ipython-input-7-c4b837329946>:24: MarkupResemblesLocatorWarning: The input looks more like a filename than markup. You may want to open this file and pass the filehandle into Beautiful Soup.\n",
            "  soup = BeautifulSoup(text, \"lxml\")\n",
            "<ipython-input-7-c4b837329946>:24: MarkupResemblesLocatorWarning: The input looks more like a filename than markup. You may want to open this file and pass the filehandle into Beautiful Soup.\n",
            "  soup = BeautifulSoup(text, \"lxml\")\n",
            "<ipython-input-7-c4b837329946>:24: MarkupResemblesLocatorWarning: The input looks more like a filename than markup. You may want to open this file and pass the filehandle into Beautiful Soup.\n",
            "  soup = BeautifulSoup(text, \"lxml\")\n",
            "<ipython-input-7-c4b837329946>:24: MarkupResemblesLocatorWarning: The input looks more like a filename than markup. You may want to open this file and pass the filehandle into Beautiful Soup.\n",
            "  soup = BeautifulSoup(text, \"lxml\")\n",
            "<ipython-input-7-c4b837329946>:24: MarkupResemblesLocatorWarning: The input looks more like a filename than markup. You may want to open this file and pass the filehandle into Beautiful Soup.\n",
            "  soup = BeautifulSoup(text, \"lxml\")\n",
            "<ipython-input-7-c4b837329946>:24: MarkupResemblesLocatorWarning: The input looks more like a filename than markup. You may want to open this file and pass the filehandle into Beautiful Soup.\n",
            "  soup = BeautifulSoup(text, \"lxml\")\n",
            "<ipython-input-7-c4b837329946>:24: MarkupResemblesLocatorWarning: The input looks more like a filename than markup. You may want to open this file and pass the filehandle into Beautiful Soup.\n",
            "  soup = BeautifulSoup(text, \"lxml\")\n"
          ]
        },
        {
          "name": "stdout",
          "output_type": "stream",
          "text": [
            "6000000\n",
            "\n"
          ]
        },
        {
          "name": "stderr",
          "output_type": "stream",
          "text": [
            "<ipython-input-7-c4b837329946>:24: MarkupResemblesLocatorWarning: The input looks more like a filename than markup. You may want to open this file and pass the filehandle into Beautiful Soup.\n",
            "  soup = BeautifulSoup(text, \"lxml\")\n",
            "<ipython-input-7-c4b837329946>:24: MarkupResemblesLocatorWarning: The input looks more like a filename than markup. You may want to open this file and pass the filehandle into Beautiful Soup.\n",
            "  soup = BeautifulSoup(text, \"lxml\")\n",
            "<ipython-input-7-c4b837329946>:24: MarkupResemblesLocatorWarning: The input looks more like a filename than markup. You may want to open this file and pass the filehandle into Beautiful Soup.\n",
            "  soup = BeautifulSoup(text, \"lxml\")\n",
            "<ipython-input-7-c4b837329946>:24: MarkupResemblesLocatorWarning: The input looks more like a filename than markup. You may want to open this file and pass the filehandle into Beautiful Soup.\n",
            "  soup = BeautifulSoup(text, \"lxml\")\n",
            "<ipython-input-7-c4b837329946>:24: MarkupResemblesLocatorWarning: The input looks more like a filename than markup. You may want to open this file and pass the filehandle into Beautiful Soup.\n",
            "  soup = BeautifulSoup(text, \"lxml\")\n",
            "<ipython-input-7-c4b837329946>:24: MarkupResemblesLocatorWarning: The input looks more like a filename than markup. You may want to open this file and pass the filehandle into Beautiful Soup.\n",
            "  soup = BeautifulSoup(text, \"lxml\")\n",
            "<ipython-input-7-c4b837329946>:24: MarkupResemblesLocatorWarning: The input looks more like a filename than markup. You may want to open this file and pass the filehandle into Beautiful Soup.\n",
            "  soup = BeautifulSoup(text, \"lxml\")\n",
            "<ipython-input-7-c4b837329946>:24: MarkupResemblesLocatorWarning: The input looks more like a filename than markup. You may want to open this file and pass the filehandle into Beautiful Soup.\n",
            "  soup = BeautifulSoup(text, \"lxml\")\n"
          ]
        },
        {
          "name": "stdout",
          "output_type": "stream",
          "text": [
            "done! total rows: 6400000, \n",
            " time:6.010486876567205 hours.\n"
          ]
        }
      ],
      "source": [
        "import pandas as pd\n",
        "import time\n",
        "\n",
        "start_time = time.time()\n",
        "# Input CSV file and output text file paths\n",
        "input_csv = \"IRIISNEPAL_Nepali_Text_Corpus.csv\"\n",
        "output_txt = \"iriis_text.txt\"\n",
        "\n",
        "rows_count = 0\n",
        "# Open the output file for writing\n",
        "with open(output_txt, \"w\", encoding=\"utf-8\") as output_file:\n",
        "    # Process the CSV file in chunks\n",
        "    chunk_size = 50000 if rows_count<5500000 else 10000  # Adjust the chunk size based on your memory capacity\n",
        "    for chunk in pd.read_csv(input_csv, chunksize=chunk_size, usecols=[\"Article\"]):\n",
        "\n",
        "        # Apply the cleaning function to the \"Article\" column\n",
        "        chunk[\"Article\"] = chunk[\"Article\"].apply(data_cleaner.clean_data)\n",
        "\n",
        "        # Append the endoftext token\n",
        "        chunk[\"Article\"] = chunk[\"Article\"] + \" <|endoftext|>\"\n",
        "\n",
        "        # Write each chunk to the text file\n",
        "        chunk[\"Article\"].to_csv(output_file, index=False, header=False)\n",
        "\n",
        "        rows_count += chunk_size\n",
        "        if rows_count % 500000 == 0 or rows_count == 50000:\n",
        "          print(rows_count, end='\\n\\n')\n",
        "print(f'done! total rows: {rows_count}, \\n time:{(time.time()-start_time)/3600} hours.')"
      ]
    },
    {
      "cell_type": "code",
      "execution_count": null,
      "metadata": {
        "colab": {
          "base_uri": "https://localhost:8080/"
        },
        "id": "zKdE7nvQRDGa",
        "outputId": "205fb017-e88d-40d1-aa5c-65ce3f68e4a6"
      },
      "outputs": [
        {
          "name": "stdout",
          "output_type": "stream",
          "text": [
            "drive  sample_data\n"
          ]
        }
      ],
      "source": [
        "!ls"
      ]
    },
    {
      "cell_type": "code",
      "execution_count": null,
      "metadata": {
        "id": "yeljeAJUhB1h"
      },
      "outputs": [],
      "source": [
        "import pandas as pd\n",
        "import time\n",
        "\n",
        "start_time=time.time()\n",
        "# filter urls from nepberta that are present in iriisnepal datasest\n",
        "iriis_dataset_urls = ['ekantipur.com',  'onlinekhabar.com',  'nagariknews.com',  'thahakhabar.com',  'ratopati.com',  'reportersnepal.com',  'setopati.com',  'hamrakura.com',  'lokpath.com',  'abhiyandaily.com',  'pahilopost.com',  'lokaantar.com',  'dcnepal.com',  'nayapage.com',  'nayapatrikadaily.com',  'everestdainik.com',  'imagekhabar.com',  'shilapatra.com',  'khabarhub.com',  'baahrakhari.com',  'ujyaaloonline.com',  'nepalkhabar.com',  'emountaintv.com',  'kathmandupress.com',  'farakdhar.com',  'kendrabindu.com',  'dhangadhikhabar.com',  'gorkhapatraonline.com',  'nepalpress.com',  'hamrokhelkud.com',  'himalkhabar.com',  'nepallive.com',  'nepalsamaya.com',  'kalakarmi.com',  'dainiknewsnepal.com']\n",
        "def is_not_in_iriis(url):\n",
        "    try:\n",
        "        # Extract the netloc from the URL\n",
        "        netloc = urlparse(url).netloc\n",
        "        return netloc not in iriis_dataset_urls\n",
        "    except Exception:\n",
        "        # Handle invalid or missing URLs by excluding them\n",
        "        return False\n",
        "\n",
        "# Input CSV file and output text file paths\n",
        "input_csv = \"clean_date_categories.csv\"\n",
        "output_txt = \"nepberta_text.txt\"\n",
        "\n",
        "rows_count=0\n",
        "saved_rows_count = 0\n",
        "# Open the output file for writing\n",
        "with open(output_txt, \"w\", encoding=\"utf-8\") as output_file:\n",
        "    # Process the CSV file in chunks\n",
        "    chunk_size = 10000  # Adjust the chunk size based on your memory capacity\n",
        "    for chunk in pd.read_csv(input_csv, chunksize=chunk_size, usecols=[\"text\"]):\n",
        "        # Filter rows where is_not_in_iriis returns True\n",
        "        filtered_chunk = chunk[chunk[\"text\"].apply(is_not_in_iriis)].dropna()\n",
        "        # Apply the cleaning function\n",
        "        filtered_chunk[\"text\"] = filtered_chunk[\"text\"].apply(data_cleaner.clean_data)\n",
        "        # Append the endoftext token\n",
        "        filtered_chunk[\"text\"] = filtered_chunk[\"text\"] + \" <|endoftext|>\"\n",
        "        # Write the filtered and cleaned rows to the text file\n",
        "        filtered_chunk[\"text\"].to_csv(output_file, index=False, header=False)\n",
        "\n",
        "        rows_count += chunk_size\n",
        "        saved_rows_count += len(filtered_chunk)\n",
        "        if rows_count % 500000 == 0 or rows_count == 50000:\n",
        "          print(rows_count, end='\\n\\n')\n"
      ]
    },
    {
      "cell_type": "code",
      "execution_count": null,
      "metadata": {
        "colab": {
          "base_uri": "https://localhost:8080/"
        },
        "id": "5f5moJlgjQ_8",
        "outputId": "260f0d9f-cbb5-4161-889a-a357e0858125"
      },
      "outputs": [
        {
          "name": "stdout",
          "output_type": "stream",
          "text": [
            "done! total rows: 2770000, \n",
            " saved_rows:0 \n",
            " time taken:5.615634862581889 minutes.\n"
          ]
        }
      ],
      "source": [
        "print(f'done! total rows: {rows_count}, \\n saved_rows:{saved_rows_count} \\n time taken:{(time.time()-start_time)/60} minutes.')"
      ]
    },
    {
      "cell_type": "code",
      "execution_count": null,
      "metadata": {
        "id": "xw40NFatV_Bc"
      },
      "outputs": [],
      "source": [
        "'''\n",
        "# Paths to the CSV files\n",
        "nepberta_csv = \"clean_date_categories.csv\"\n",
        "iriisnepal_csv = \"IRIISNEPAL_Nepali_Text_Corpus.csv\"\n",
        "\n",
        "# filter urls from nepberta that are present in iriisnepal datasest\n",
        "iriis_dataset_urls = ['ekantipur.com',  'onlinekhabar.com',  'nagariknews.com',  'thahakhabar.com',  'ratopati.com',  'reportersnepal.com',  'setopati.com',  'hamrakura.com',  'lokpath.com',  'abhiyandaily.com',  'pahilopost.com',  'lokaantar.com',  'dcnepal.com',  'nayapage.com',  'nayapatrikadaily.com',  'everestdainik.com',  'imagekhabar.com',  'shilapatra.com',  'khabarhub.com',  'baahrakhari.com',  'ujyaaloonline.com',  'nepalkhabar.com',  'emountaintv.com',  'kathmandupress.com',  'farakdhar.com',  'kendrabindu.com',  'dhangadhikhabar.com',  'gorkhapatraonline.com',  'nepalpress.com',  'hamrokhelkud.com',  'himalkhabar.com',  'nepallive.com',  'nepalsamaya.com',  'kalakarmi.com',  'dainiknewsnepal.com']\n",
        "def is_not_in_iriis(url):\n",
        "    try:\n",
        "        # Extract the netloc from the URL\n",
        "        netloc = urlparse(url).netloc\n",
        "        return netloc not in iriis_dataset_urls\n",
        "    except Exception:\n",
        "        # Handle invalid or missing URLs by excluding them\n",
        "        return False\n",
        "\n",
        "# Function to stream text from CSV files\n",
        "def text_generator1():\n",
        "    # Stream text from the iriisnepal_csv file\n",
        "    with open(iriisnepal_csv, 'r', encoding='utf-8') as f2:\n",
        "        reader = csv.DictReader(f2)\n",
        "        for row in reader:\n",
        "            # print('21')\n",
        "            if 'Article' in row and row['Article']:\n",
        "                # print('22')\n",
        "                yield data_cleaner.clean_data(row['Article'])\n",
        "                # print(data_cleaner.clean_data(row['Article']))\n",
        "            # else:print(row)\n",
        "            # break\n",
        "def text_generator2():\n",
        "    # Stream text from the nepberta_csv file\n",
        "    with open(nepberta_csv, 'r', encoding='utf-8') as f1:\n",
        "        reader = csv.DictReader(f1)\n",
        "        for row in reader:\n",
        "            if 'text' in row and row['text'] and 'link' in row and row['link']:\n",
        "                # print('11')\n",
        "                if is_not_in_iriis(row['link']):\n",
        "                    # print('12')\n",
        "                    # print(row['text'])\n",
        "                    yield data_cleaner.clean_data(row['text'])\n",
        "                # break\n",
        "\n",
        "with open('iriis_text.txt', 'w', encoding='utf-8') as out_f:\n",
        "    for text in text_generator1():\n",
        "        out_f.write(text + '<|endoftext|>')  # Write each cleaned article to the file\n",
        "\n",
        "with open('nepberta_text.txt', 'w', encoding='utf-8') as out_f:\n",
        "    for text in text_generator2():\n",
        "        out_f.write(text + '<|endoftext|>')  # Write each cleaned article to the file\n",
        "\n",
        "print(f\"Filtered text saved to 'iriis_text.txt', 'nepberta_text.txt' \")\n",
        "'''"
      ]
    },
    {
      "cell_type": "markdown",
      "metadata": {
        "id": "hIXtBUuch0gG"
      },
      "source": [
        "## 2. Train CharBPETokenizer\n",
        "* **ByteLevelBPETokenizer:** use UTF-8 encoding as fundamental unit of tokenization\n",
        "* **CharLevelTokenizer:** uses character as fundamental unit of tokenization.[link text](https://)"
      ]
    },
    {
      "cell_type": "code",
      "execution_count": null,
      "metadata": {
        "id": "la683sOXGLZy"
      },
      "outputs": [],
      "source": [
        "import csv\n",
        "import os\n",
        "from tokenizers import CharBPETokenizer\n",
        "from urllib.parse import urlparse\n",
        "\n",
        "\n",
        "# Output directory for the tokenizer\n",
        "output_dir = \"NepaliBPE\"\n",
        "os.makedirs('NepaliBPE', exist_ok=True)\n",
        "\n",
        "\n",
        "# Initialize a BPE tokenizer\n",
        "tokenizer = CharBPETokenizer()\n",
        "tokenizer.model.unk_token=\"<|unk|>\"\n",
        "\n",
        "# Train the tokenizer on the saved text file\n",
        "tokenizer.train(\n",
        "    files=['iriis_text.txt', 'nepberta_text.txt'],\n",
        "    vocab_size=50_000,\n",
        "    min_frequency=10,\n",
        "    special_tokens=[\"<|endoftext|>\", \"<|unk|>\"]\n",
        ")\n",
        "\n",
        "# # Train the tokenizer on streamed text\n",
        "# tokenizer.train_from_iterator(\n",
        "#     text_generator(),\n",
        "#     vocab_size=50_000,  # Adjust vocabulary size as needed\n",
        "#     min_frequency=10,    # Ignore tokens that appear less frequently\n",
        "#     special_tokens=[\"<|endoftext|>\", \"<|unk|>\"]\n",
        "# )\n",
        "\n",
        "# Save the tokenizer to the output directory\n",
        "tokenizer.save_model(output_dir)\n",
        "print(f\"Tokenizer saved to {output_dir}\")\n"
      ]
    },
    {
      "cell_type": "markdown",
      "metadata": {
        "id": "3YF1qoK2HQB3"
      },
      "source": [
        "## load trained tokenizer\n"
      ]
    },
    {
      "cell_type": "code",
      "execution_count": null,
      "metadata": {
        "id": "RBgEuJl3PT3g"
      },
      "outputs": [],
      "source": [
        "from tokenizers import CharBPETokenizer\n",
        "\n",
        "# Load the trained tokenizer\n",
        "tokenizer = CharBPETokenizer(\n",
        "    \"NepaliBPE/vocab.json\",\n",
        "    \"NepaliBPE/merges.txt\"\n",
        ")\n",
        "print(tokenizer.encode(\"\").tokens)"
      ]
    }
  ],
  "metadata": {
    "colab": {
      "collapsed_sections": [
        "GQfH2DS7RTRW"
      ],
      "provenance": []
    },
    "kernelspec": {
      "display_name": "Python 3",
      "name": "python3"
    },
    "language_info": {
      "name": "python"
    }
  },
  "nbformat": 4,
  "nbformat_minor": 0
}