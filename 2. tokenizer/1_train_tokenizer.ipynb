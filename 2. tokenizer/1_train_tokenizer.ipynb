{
  "cells": [
    {
      "cell_type": "code",
      "execution_count": 1,
      "metadata": {
        "colab": {
          "base_uri": "https://localhost:8080/"
        },
        "id": "wkv83xTGGZqY",
        "outputId": "2efe714d-7692-42cb-a540-c8f6175182c5"
      },
      "outputs": [
        {
          "output_type": "stream",
          "name": "stdout",
          "text": [
            "/content/drive/MyDrive/Research/dataset/hf_dataset\n"
          ]
        }
      ],
      "source": [
        "%cd /content/drive/MyDrive/Research/dataset/hf_dataset"
      ]
    },
    {
      "cell_type": "code",
      "execution_count": null,
      "metadata": {
        "colab": {
          "base_uri": "https://localhost:8080/"
        },
        "id": "gRQi7cXCGcZ0",
        "outputId": "ea435fd9-33fc-4b27-f10d-0f1a25a57db2"
      },
      "outputs": [
        {
          "name": "stdout",
          "output_type": "stream",
          "text": [
            "total 68G\n",
            "-rw------- 1 root root  1G Dec 18 15:01 '0. download_data.ipynb'\n",
            "-rw------- 1 root root  1G Dec 21 02:48 '1. train_tokenizer.ipynb'\n",
            "-rw------- 1 root root 14G Dec 18 12:23  clean_date_categories.csv\n",
            "-rw------- 1 root root  3G Dec 18 12:11  clean_nepberta_data.zip\n",
            "-rw------- 1 root root 26G Dec 18 14:40  IRIISNEPAL_Nepali_Text_Corpus.csv\n",
            "-rw------- 1 root root 26G Dec 20 16:38  iriis_text.txt\n",
            "drwx------ 2 root root  1G Dec 20 16:31  NepaliBPE\n",
            "-rw------- 1 root root  0G Dec 21 02:34  nepberta_text.txt\n"
          ]
        }
      ],
      "source": [
        "!ls -l --block-size=G"
      ]
    },
    {
      "cell_type": "markdown",
      "metadata": {
        "id": "GQfH2DS7RTRW"
      },
      "source": [
        "## Data cleaning script"
      ]
    },
    {
      "cell_type": "code",
      "execution_count": null,
      "metadata": {
        "id": "AYVvTbafRVBw"
      },
      "outputs": [],
      "source": [
        "# Probably should `clean_data(new_crawled_data)` before merging `new_crawled_data.csv` and previous`cleaned_data.csv`\n",
        "\n",
        "from bs4 import BeautifulSoup\n",
        "import csv\n",
        "import json\n",
        "import re\n",
        "import string\n",
        "import sys\n",
        "import pandas as pd\n",
        "\n",
        "csv.field_size_limit(sys.maxsize)\n",
        "\n",
        "class CleanData:\n",
        "    def __init__(self):\n",
        "        pass\n",
        "        # return text\n",
        "    # Example of removing HTML tags\n",
        "    def clean_html(self, text):\n",
        "        '''\n",
        "        # HTML Tag Removal:\n",
        "        * removes html tags like: <h1>\n",
        "        * Removes css or js code inside <style> and <script> tags\n",
        "        '''\n",
        "        soup = BeautifulSoup(text, \"lxml\")\n",
        "\n",
        "        # Remove all <script> and <style> tags\n",
        "        for script_or_style in soup(['script', 'style']):\n",
        "            script_or_style.decompose()\n",
        "\n",
        "        # Get text from the modified HTML\n",
        "        text = soup.get_text(separator=' ', strip=True)\n",
        "        # print(text)\n",
        "\n",
        "        return text\n",
        "\n",
        "    def convert_to_devanagari_digits(self, input_string):\n",
        "        # Function to convert 0-9 to ० - ९\n",
        "        # i.e. Mapping of ASCII digits to Devanagari digits\n",
        "        devanagari_digits = {\n",
        "            '0': '०',\n",
        "            '1': '१',\n",
        "            '2': '२',\n",
        "            '3': '३',\n",
        "            '4': '४',\n",
        "            '5': '५',\n",
        "            '6': '६',\n",
        "            '7': '७',\n",
        "            '8': '८',\n",
        "            '9': '९'\n",
        "        }\n",
        "        # Convert each digit in the input string\n",
        "        result = ''.join(devanagari_digits[char] if char in devanagari_digits else char for char in input_string)\n",
        "        return result\n",
        "\n",
        "    def remove_non_devanagari_characters(self, text, keep_special_characters=True):\n",
        "        '''\n",
        "            # Function to find nepali sequences.\n",
        "            * keep punctuations if they occur between devanagari characters.\n",
        "            * Remove punctuation if previous character is not devanagari.\n",
        "            # Examples\n",
        "            texts = [\n",
        "                \"उनले दुहेको दूध बेच्नका लागि बजार असाध्यै सानो थियो त्यसैले उनले चीज बनाउने विचार गरे। \\\"hi there\\\". what is your name? उनले दुहेको दूध\",\n",
        "                \"\\\"hi there. \\\"उनले दुहेको\\\" दूध बेच्नका लागि बजार असाध्यै सानो थियो त्यसैले उनले चीज बनाउने विचार गरे। hi there. what is your name? उनले दुहेको दूध\\\"\",\n",
        "                \"name? उनले दुहेको दूध\\\"\"    #output: (last quatation, name?) should be ignored\n",
        "                ]\n",
        "\n",
        "            for text in texts:\n",
        "                removed = remove_non_devanagari_characters(text)\n",
        "                print(f'text: {text}, \\nclen: {removed}\\n\\n')\n",
        "\n",
        "\n",
        "            # output\n",
        "            text: उनले दुहेको दूध बेच्नका लागि बजार असाध्यै सानो थियो त्यसैले उनले चीज बनाउने विचार गरे। \"hi there\". what is your name? उनले दुहेको दूध,\n",
        "            clen: उनले दुहेको दूध बेच्नका लागि बजार असाध्यै सानो थियो त्यसैले उनले चीज बनाउने विचार गरे।             उनले दुहेको दूध\n",
        "\n",
        "\n",
        "            text: \"hi there. \"उनले दुहेको\" दूध बेच्नका लागि बजार असाध्यै सानो थियो त्यसैले उनले चीज बनाउने विचार गरे। hi there. what is your name? उनले दुहेको दूध\",\n",
        "            clen:    \"उनले दुहेको दूध बेच्नका लागि बजार असाध्यै सानो थियो त्यसैले उनले चीज बनाउने विचार गरे।             उनले दुहेको दूध\"\n",
        "\n",
        "\n",
        "            text: name? उनले दुहेको दूध\",\n",
        "            clen:  उनले दुहेको दूध\"\n",
        "        '''\n",
        "        def is_devanagari(char):\n",
        "            pattern=r'[ऀ-ॿ]'\n",
        "            return bool(re.match(pattern, char))\n",
        "\n",
        "        if not keep_special_characters:\n",
        "            return re.sub(r\"[^ऀ-ॿ ]\", \" \", text)\n",
        "\n",
        "        sequences = []\n",
        "        sequence = ''\n",
        "        punctuation_symbols = string.punctuation    # '!\"#$%&\\'()*+,-./:;<=>?@[\\\\]^_`{|}~'\n",
        "        prefix_punctuations = '\\\"\\'(<[{'\n",
        "        index=0\n",
        "        while index < len(text):\n",
        "            char = text[index]\n",
        "            if is_devanagari(char) or char == ' ':\n",
        "                # Character is devanagari\n",
        "                sequence += char\n",
        "            elif char in punctuation_symbols:\n",
        "                # Character is punctuation\n",
        "                if sequence != '':\n",
        "                    if (len(text) > index+1) and not is_devanagari(text[index+1]):\n",
        "                        # e.g. गरे। \"hi there\" : skip quotation before hi\n",
        "                        pass\n",
        "                    else:\n",
        "                        sequence += char    # Sequence is no empty. i.e. previous char/sequence was devanagari otherwise ignore  punctuation\n",
        "                elif (len(text) > index+1) and is_devanagari(text[index+1]):\n",
        "                    # preserve prefix punctuations in devanagari. e.g. \"\"\"there. \\\"उनले \"\": preserve double-quotation before उनले\n",
        "                    sequence = char + text[index+1]\n",
        "                    index += 1  # another 1 is added at the end\n",
        "            else:\n",
        "                if sequence:\n",
        "                    sequences.append(sequence)\n",
        "                    sequence = ''   # Reset sequence\n",
        "            index += 1\n",
        "\n",
        "            # print(f'{sequences}\\n{sequence}\\n{char}{is_devanagari(char)}\\n\\n')\n",
        "        if sequence:    # last sequence\n",
        "            sequences.append(sequence)\n",
        "        return ' '.join(sequences)\n",
        "        # Example of using regex for special character removal\n",
        "\n",
        "    def normalize_data(self, text):\n",
        "      '''\n",
        "        * Standerize special characters\n",
        "        * e.g. convert different types of quotes to standard quotes\n",
        "      '''\n",
        "      characters_to_replace = {\n",
        "        '₹': 'रु',\n",
        "        'ʻ': \"'\",\n",
        "        'ː': ':',\n",
        "        '？': '?',\n",
        "        '‟': '\"',\n",
        "        '“' : '\"',\n",
        "        '”': '\"',\n",
        "        '`': \"'\",\n",
        "        '৷': '।',\n",
        "        'ˈ': \"'\",\n",
        "        '՛': \"'\",\n",
        "        'ǃ': '!',\n",
        "        '（': '(',\n",
        "        '：': ':',\n",
        "        'ˍ': '_',\n",
        "        '﹣': '-',\n",
        "        '״': '\"',\n",
        "        'ꞌ': \"'\",\n",
        "        '₋': '-',\n",
        "        '％': '%',\n",
        "        '꞉': ':',\n",
        "        '‵': \"'\"\n",
        "      }\n",
        "      # Replace each character in the dictionary with its corresponding standard character\n",
        "      for char, replacement in characters_to_replace.items():\n",
        "          text = text.replace(char, replacement)\n",
        "\n",
        "      return text\n",
        "\n",
        "    def clean_data(self, text):\n",
        "        # Remove HTML tags\n",
        "        text = self.clean_html(text)\n",
        "\n",
        "        # Normalize some characters\n",
        "        text = self.normalize_data(text)\n",
        "\n",
        "        # Convert convert 0-9 to ० - ९\n",
        "        text = self.convert_to_devanagari_digits(text)\n",
        "\n",
        "        text = self.remove_non_devanagari_characters(text, keep_special_characters=True)\n",
        "        # text = text.lower() # No lower characters in devanagari\n",
        "\n",
        "        # Replace one or more spaces with a single space\n",
        "        text = re.sub(r'\\s+', ' ', text).strip()\n",
        "\n",
        "        return text\n",
        "\n",
        "# Clean data and save to 'cleaned_data'\n",
        "data_cleaner = CleanData()\n",
        "\n",
        "# if __name__==\"__main__\":\n",
        "#     # Assuming `data` is your raw dataset\n",
        "#     data0 = [\"<html><h1>Hi there</h1><style>color:red</style><script>console.log('hello world');</script>Example text</html>\", \"<div>Another example with special chars: !@#</div>\"]\n",
        "#     data = ['<html><h1>सुर्खेत र    </h1><style> जुम्लामा बाहेक </style><script>console.log(\"कर्णालीका अरू जिल्लामा\");</script>      कर्णालीका अरू जिल्लामा शिशुका लागि आवश्यक एनआईसीयू सेवा नै उपलब्ध छैन।', 'नेपालले करिब एक महिना अघि नै औपचारिक पत्र पठाएर जीबी राईलाई स्वदेश फर्काइदिन गरेको आग्रहबारे मलेशियाले कुनै औपचारिक जबाफ दिएको छैन।', '2024 बीबीसी। अन्य वेबसाइटका सामग्रीहरूका लागि बीबीसी जिम्मेवार छैन।', 'संसदीय छानबिन समिति गठन नभएसम्म संसद्\\u200cको कारबाही अघि बढ्न नदिने प्रतिपक्षी दलको अडानका कारण यसअघिको संसद् अधिवेशनको अन्त्यतिरका कामकारबाही प्रभावित भएका थिए।', 'भारतमा पनि भेपमा प्रतिबन्ध लगाइएको छ तर स्थानीय सञ्चार माध्यमका अनुसार यो व्यवस्था प्रभावकारी रूपमा कार्यान्वयन भएको छैन।', 'इजरेलले रफाहमा आक्रमण गर्न सक्ने आशङ्काका बीच अमेरिकाले गत साता इजरेललाई उपलब्ध गराउन लागेको हजारौँ बमको ढुवानी रोकिदिएको खुलासा भएको छ।', 'शुक्रवारको प्रयत्न सफल भएमा अन्तर्राष्ट्रिय अन्तरिक्ष स्टेशनतिर र बाट उडान गर्ने बोइङ दोस्रो निजी कम्पनी बन्नेछ। अहिलेसम्म इलोन मस्कको स्पेस एक्सले त्यस्तो काम गर्दै आएको छ।', 'हिरादेवी खतिवडाले दैनिक परामर्श दिनेहरूमा जबरजस्ती करणी, यौन दुर्व्यवहार लगायतका घटनाका पीडितहरू हुने गर्छन्।', 'युक्रेनी सेक्युरिटी सर्भिसका अनुसार गिरफ्तार गरिएका दुईजना कर्णेलले जेलेन्स्कीका अङ्गरक्षकहरूमध्ये त्यस्ता व्यक्तिको खोजी गरिरहेका थिए जो उनको अपहरण तथा हत्या गर्नका निम्ति इच्छुक होऊन्।', 'आधिकारिक रूपमा पुटिनले मार्चमा भएको राष्ट्रपतीय चुनावमा ८७ प्रतिशतभन्दा धेरै मत हासिल गरेका थिए। उक्त चुनावमा उनले गम्भीर प्रतिद्वन्दीको सामना गर्नुपरेको थिएन, न उक्त चुनावलाई धेरैले स्वतन्त्र र निष्पक्ष चुनावका रूपमा हेरेका थिए।', 'नेपालका ग्रामीण भेगमा विगतमा पाइने गरेका काठका पुराना ठेकीहरू अचेल नपाइने गरेका मानिसहरू बताउँछन्। आखिर कहाँ जादै छन् सारा ठेकीहरू?', 'चीनको अर्थतन्त्र सोचेभन्दा तीव्र गतिमा विकसित भए पनि यसका अगाडि विभिन्न सङ्कट रहेकाले \\nमहिलाहरू घरखर्च धान्न बचत बढाउन चाहन्छन्।', \"चार वर्षअघि जारी नेपालको पछिल्लो नक्सालाई अन्तर्राष्ट्रिय मान्यता दिलाउन उल्लेख्य प्रगति नभएको अवस्थामा सरकारको यो निर्णय 'लोकप्रियताका लागि मात्रै गरिएको' कतिपय विज्ञहरूको टिप्पणी छ।\", 'जङ्गलमा कुनै प्राणीले औषधीय वनस्पति प्रयोग गरेर चोटपटकको उपचार गरेको यो पहिलो रेकर्ड हो। ', ' ', 'टिकटकले अमेरिकाले प्रतिबन्ध पुष्टि गर्न “अनुमानका आधारमा चिन्ता” व्यक्त गरेको आरोप लगाउँदै उक्त कदम रोक्न अदालतसँग माग गरेको छ।', \"पुरातत्त्वसम्बन्धी विशेषज्ञ चित्रकारहरूले सयौँ टुक्राहरू जोडेर बनाइएको खप्परका आधारमा 'नीयान्डर्टाल' महिलाको थ्री-डी मोडल बनाएका छन्। \", 'प्री-मनसुनको समयमा नेपालमा चट्याङ र हावाहुरीका घटनाहरू धेरै हुने गरेको विज्ञहरू बताउँछन्।', 'त्रिसट्ठी वर्षीया चर्चित कलाकारले क्यान्सरविरुद्ध आफ्नो सङ्घर्ष र रङ्गमञ्च एवं सामाजिक सञ्जालमार्फत् आफ्नो यात्राबारे जनचेतना जगाउने निर्णयबारे बीबीसीसँग कुराकानी गरेकी छन्।', 'आस्ट्राजेनेका खोपले कोभिड महामारीका क्रममा लाखौं मनिसहरूको ज्यान बचाएको विश्वास गरिन्छ, तर सँगसँगै यसले केही दुर्लभ रक्तजन्य घातक समस्या पनि निम्त्याएको बताइन्छ। ', 'गत वर्ष अर्थात् सन् २०२३ मा २० हजार जनाभन्दा बढी नेपाली कोरिया गएका थिए। कोरियामा अहिले नेपाली कामदारको सङ्ख्या ५५ हजार जनाभन्दा धेरै रहेको त्यहाँस्थित नेपाली दूतावासले जनाएको छ।', 'एमालेका हिक्मत कार्की मुख्यमन्त्री नियुक्त भएको दिन नै त्यसविरुद्ध मुद्दा लिएर कांग्रेसका केदार कार्की सर्वोच्च अदालत पुगेका छन्।', \"महत्त्वाकाङ्क्षी 'नीअम' परियोजनाअन्तर्गत 'द लाइन' मरुभूमि सहरका लागि जग्गा खाली गर्ने काममा घातक बल प्रयोग गर्न साउदी अरबका अधिकारीहरूले अनुमति दिएको एक भूतपूर्व गुप्तचर अधिकारीले दाबी गरेका छन्।\\n\", 'कडा कार्य संस्कृति प्रोत्साहन गर्ने टिप्पणीलाई लिएर चिनियाँ प्रविधि कम्पनीकी जनसम्पर्क अधिकारीले किन माफी माग्नु पर्\\u200dयो।', \"केन्द्रमा गत फागुनमा सत्ता समीकरण परिवर्तन भएसँगै त्यसको प्रभाव प्रदेशहरूमा परिरहेको देखिएका बेला जसपा विभाजनले विशेषगरी मधेश प्रदेश सरकार 'ढल्न सक्ने' अनुमानहरू पनि गरिएका छन्।\", 'अदालतले उनलाई चुनाव प्रचारप्रसार गर्न कुनै खालको रोक नलगाएको र आदेशमा उनले के गर्न पाउने वा नपाउने भन्ने कुनै विषयबारे उल्लेख नगरिएको पनि केजरीवालका वकिलले बताए।', 'इजरेली प्रधानमन्त्रीले गाजाको रफाहमा पूर्ण स्तरको आक्रमणलाई अनुमति दिएको खण्डमा हतियारको आपूर्ति रोक्न सकिने अमेरिकी चेतावनीलगत्तै बेन्जमिन नेतन्याहुले इजरेल \"एक्लै खडा हुन सक्ने\" प्रतिक्रिया दिएका छन्।', 'ब्रजिलको रिओ ग्रान्डी डु सुल प्रान्तमा आएको बाढी र पहिरोका कारण धनजनको ठूलो क्षति भएको छ।', 'खासगरी प्रधानमन्त्री, मुख्यमन्त्री एवं प्रदेश प्रमुख परिवर्तन भइरहने अनि मनपरी ढङ्गले आफू अनुकूलका व्यक्तिका तस्बिर राख्दा त्यसको आर्थिकभार राज्यकोषमा पर्ने गरेको जानकारहरू बताउँछन्।', 'नेपाली कांग्रेसले गृहमन्त्री रवि लामिछाने सहकारी ठगीमा संलग्न भएको विवरण सञ्चारमाध्यममा आइरहेको भन्दै उनीमाथि पनि छानबिन हुने गरी संसदीय समिति गठन गरिनुपर्ने अडानमा छ। ', 'हजारौँ आप्रवासीहरूलाई तस्करी गरी यूके पुर्\\u200dयाएका स्करपीअन उपनामले चर्चित बार्जान बीबीसीको एउटा अनुसन्धानपछि पक्राउ गरेका छन्। ', 'अमेरिकाका पूर्वराष्ट्रपति डोनल्ड ट्रम्पविरुद्ध परेको मुद्दामा उनका पूर्ववकिल माइकल कोएनले ट्रम्पविरुद्ध बयान दिएका छन्। उनले के भने र उनको बयान किन महत्त्वपूर्ण छ?', 'नेपालमा जेठ १५ गते बजेट ल्याउने नियम छ। त्यसअघि संसद्\\u200cमा नीति तथा कार्यक्रम प्रस्तुत हुन्छ। यसपालि मङ्गलवार संसद्को दुवै सदनको संयुक्त बैठक बस्दैछ र त्यसमा राष्ट्रपति रामचन्द्र पौडेलले नीति तथा कार्यक्रम प्रस्तुत गर्ने कार्यक्रम तय भएको छ।', 'उत्तर कोरियाको एउटा प्रान्तमा मानिसहरू भोकभोकै मर्न थालेको सुनेपछि देश छाडेर दक्षिण कोरियामा शरण लिन पुगेका यी व्यक्तिले सन् २०१५ देखि बोतलमा अन्य चिजसँगै चामल भरेर पठाउन थालेका हुन्।\\n', \"पिनाइल क्यान्सर भनिने पुरुषहरूमा लिङ्गको क्यान्सरका एकजना बिरामी जोआओ भन्छन्, रोगको निदान भएपछि लिङ्ग काटेर हटाउनुपर्ने अवस्थाबाट उनी 'निकै आत्तिएका' थिए।\", 'सर्वोच्च अदालतको संवैधानिक इजलासको फैसलाको पूर्णपाठमा हदबन्दीभन्दा बढी भएको जग्गा बाँझो राखिएको भेटिए सरकारका नाममा ल्याउन समेत भनिएको छ।', 'इन्टरनेटमा बालबालिकाले कलिलै उमेरमा पहुँच पाउँदा उनीहरू गम्भीर जोखिमको नजिक पुगेको विशेषज्ञहरूले बताएका छन्। ती जोखिमको रोकथामका लागि तपाईँहामी के गर्न सक्छौँ?', 'मृत्यु सन्निकट हुँदा मानिसहरूले गर्ने अनुभूतिबारे डा क्रिस्टोफर केरले अध्ययन गरेका छन्। त्यस्ता मानिसहरूले अन्तिम समयमा अनुभव गर्ने दृश्य र तिनको अर्थबारे उनले कुरा गरेका छन्।', \"आत्मसम्मान कम भएका व्यक्तिमा  'कम्प्लिमेन्ट' अर्थात प्रशंसाले चिन्ता बढाउन सक्छ किनभने उनीहरूको स्वधारणामा त्यसरी भएको तारिफले चुनौती दिन सक्छ। \", 'सन् २०२२ मा जोन म्याकफललाई शारीरिक अपाङ्गता भएका प्रथम अन्तरिक्षयात्रीको उम्मेदवारका रूपमा चयन गरिएको थियो। ', \"थाईल्यान्डमा 'लीज म्याजस्टी' कानुनले राजतन्त्रको आलोचना गर्न प्रतिबन्ध लगाएको छ। राजतन्त्रको संरक्षणका लागि बनाइएको त्यस्तो कानुनलाई विश्वकै कठोर कानुनमध्ये मानिन्छ।\", \"हजारौँ आप्रवासीहरूलाई तस्करी गरी यूके पुर्\\u200dयाएका 'स्कोर्पिअन' उपनामले चर्चित बर्जान मजिद बीबीसीको एउटा अनुसन्धानपछि इराकमा पक्राउ परेका छन्। \", 'नयाँ नोट छपाइमा जानुअघि अन्तर्राष्ट्रिय बोलकबोलसहितका कतिपय कानुनी प्रक्रियाहरू पूरा गर्नुपर्ने अधिकारीहरू बताउँछन्। ', 'अमेरिका, चीन र भारतले चन्द्रमामा मानव पठाउने योजना सार्वजनिक गरेका छन्। अन्तरिक्ष अभियानमा यी देशले किन अर्बौँ डलर लगानी गरेका हुन् र उनीहरूको अपेक्षा के छ?', 'जबरजस्ती करणी मुद्दामा उच्च अदालत पाटनले सफाइ दिएको केही घण्टापछि नेपाल क्रिकेट सङ्घ क्यानको निर्णय सार्वजनिक भएको हो।', ' प्रधानमन्त्रीको टाउको र छातीमा गोली लागेको देखिएको थियो। प्रधानमन्त्रीका सुरक्षाकर्मीमध्ये तीन जनाले उनको उद्धार गरी कारभित्र लगेका थिए।', 'मसला उत्पादन र निर्यातमा भारतको वर्चस्व छ। तर विभिन्न देशमा भारतीय मसलाको गुणस्तरबारे प्रश्न उठेको छ।', 'हीरामन्डीमा प्रमुख भूमिका रहेको मल्लिका जानको अभिनय गरेर फिल्म क्षेत्रमा वाहवाही पाइरहेकी मनीषा कोइरालाले बलुवुडकी चर्चित कलाकार रेखाले आफ्नो प्रशंसा गरेको सुन्दा आँशु आएको बताएकी छन्। रेखाले हीरामन्डी हेरेपछि मनीषालाई के भनिन् र उनको आँखा रसाए?', \"'लेडी बुशरा' नामले चिनिने अमिर डीन यूकेका सर्वाधिक चर्चित 'ड्र्याग कलाकार'मध्ये एक हुन्।\", \"साउदी अरबलाई आधुनिक बनाउने युवराज मोहम्मद बिन सलमानको चाहनाअनुसार 'नीअम' परियोजना बनाउन लागिएको हो। \\n\\n\", 'कृषि जनशक्तिको चरम अभावमाझ राष्ट्रपतिले घोषणा गरेको महत्त्वाकाङ्क्षी कृषिमा लगानी दशक कार्यान्वयनमा नआउँदै गम्भीर प्रश्नहरू तेर्सिएका छन्।', 'युक्रेनमा जारी युद्धमा रुसलाई सघाएको आरोप चीनलाई लागेकै बेला भ्लादिमिर पुटिनले फेरि बेइजिङ भ्रमणमा पुगेका छन्।', 'भारतमा निर्वाचनका बेला डीपफेक र एआईबाट सिर्जित भ्रामक सामग्रीको बिगबिगी बढेपछि विज्ञहरूले त्यसबाट पर्ने प्रभावबारे चिन्ता व्यक्त गरेका छन्।', 'जबरजस्ती करणी मुद्दामा उच्च अदालत पाटनले सफाइ दिएको केही घण्टापछि नेपाल क्रिकेट सङ्घ (क्यान) को निर्णय सार्वजनिक भएको हो।', 'उत्तर अमेरिकामा यो पहिलो विश्वकप हुँदै छ भने आयोजकको हैसियतले अमेरिकाले पनि सीधै विश्वकप खेल्ने मौका पाएको छ।', 'सहकारी संस्थाका सञ्चालकहरूले सम्पत्ति ब्याङ्कमा धितो राखेर ऋण लिएको पाइएका कारण लिलामी प्रक्रियामा समस्या भएको अधिकारीहरूले बताएका छन्।', \"'ब्रेकिङ'लाई ओलिम्पिक्समा पहिलो पटक समावेश गरिएको हो। यसपालि नै तालिबानको धम्कीका बीच 'ब्रेकिङ' सिकेकी मनिजा तलाश शरणार्थी टोलीकी सदस्यका रूपमा खेल्दै छिन्।\"]\n",
        "\n",
        "#     # Preprocess the data\n",
        "#     cleaned_data = [preprocess_text(doc) for doc in data]\n",
        "#     print(cleaned_data)\n",
        "\n",
        "#     # Further steps, like tokenization or saving the cleaned data, can follow\n"
      ]
    },
    {
      "cell_type": "markdown",
      "metadata": {
        "id": "SGz_LnvmRq6j"
      },
      "source": [
        "# Train the CharBPETokenizer"
      ]
    },
    {
      "cell_type": "code",
      "execution_count": null,
      "metadata": {
        "colab": {
          "base_uri": "https://localhost:8080/"
        },
        "id": "iPsQKbKrdgWf",
        "outputId": "b2079d08-5181-44ec-b64c-6002b6aea5ac"
      },
      "outputs": [
        {
          "name": "stdout",
          "output_type": "stream",
          "text": [
            "'0. download_data.ipynb'     clean_nepberta_data.zip\t\t NepaliBPE\n",
            "'1. train_tokenizer.ipynb'   IRIISNEPAL_Nepali_Text_Corpus.csv\t nepberta_text.txt\n",
            " clean_date_categories.csv   iriis_text.txt\n"
          ]
        }
      ],
      "source": [
        "!ls"
      ]
    },
    {
      "cell_type": "markdown",
      "metadata": {
        "id": "z1-HmtXNhprw"
      },
      "source": [
        "## 1. Save data to text file"
      ]
    },
    {
      "cell_type": "markdown",
      "metadata": {
        "id": "Ebp7bUWEDqBB"
      },
      "source": [
        "### 0. Get text from these unique urls (iriisnepal)"
      ]
    },
    {
      "cell_type": "code",
      "execution_count": null,
      "metadata": {
        "colab": {
          "background_save": true,
          "base_uri": "https://localhost:8080/"
        },
        "id": "QOJCOhSxdUTU",
        "outputId": "b74bdd25-ff00-440b-8179-d34e0d5c0211"
      },
      "outputs": [
        {
          "name": "stderr",
          "output_type": "stream",
          "text": [
            "<ipython-input-7-c4b837329946>:24: MarkupResemblesLocatorWarning: The input looks more like a filename than markup. You may want to open this file and pass the filehandle into Beautiful Soup.\n",
            "  soup = BeautifulSoup(text, \"lxml\")\n"
          ]
        },
        {
          "name": "stdout",
          "output_type": "stream",
          "text": [
            "50000\n",
            "\n"
          ]
        },
        {
          "name": "stderr",
          "output_type": "stream",
          "text": [
            "<ipython-input-7-c4b837329946>:24: MarkupResemblesLocatorWarning: The input looks more like a filename than markup. You may want to open this file and pass the filehandle into Beautiful Soup.\n",
            "  soup = BeautifulSoup(text, \"lxml\")\n",
            "<ipython-input-7-c4b837329946>:24: MarkupResemblesLocatorWarning: The input looks more like a filename than markup. You may want to open this file and pass the filehandle into Beautiful Soup.\n",
            "  soup = BeautifulSoup(text, \"lxml\")\n",
            "<ipython-input-7-c4b837329946>:24: MarkupResemblesLocatorWarning: The input looks more like a filename than markup. You may want to open this file and pass the filehandle into Beautiful Soup.\n",
            "  soup = BeautifulSoup(text, \"lxml\")\n",
            "<ipython-input-7-c4b837329946>:24: MarkupResemblesLocatorWarning: The input looks more like a filename than markup. You may want to open this file and pass the filehandle into Beautiful Soup.\n",
            "  soup = BeautifulSoup(text, \"lxml\")\n",
            "<ipython-input-7-c4b837329946>:24: MarkupResemblesLocatorWarning: The input looks more like a filename than markup. You may want to open this file and pass the filehandle into Beautiful Soup.\n",
            "  soup = BeautifulSoup(text, \"lxml\")\n",
            "<ipython-input-7-c4b837329946>:24: MarkupResemblesLocatorWarning: The input looks more like a filename than markup. You may want to open this file and pass the filehandle into Beautiful Soup.\n",
            "  soup = BeautifulSoup(text, \"lxml\")\n",
            "<ipython-input-7-c4b837329946>:24: MarkupResemblesLocatorWarning: The input looks more like a filename than markup. You may want to open this file and pass the filehandle into Beautiful Soup.\n",
            "  soup = BeautifulSoup(text, \"lxml\")\n",
            "<ipython-input-7-c4b837329946>:24: MarkupResemblesLocatorWarning: The input looks more like a filename than markup. You may want to open this file and pass the filehandle into Beautiful Soup.\n",
            "  soup = BeautifulSoup(text, \"lxml\")\n",
            "<ipython-input-7-c4b837329946>:24: MarkupResemblesLocatorWarning: The input looks more like a filename than markup. You may want to open this file and pass the filehandle into Beautiful Soup.\n",
            "  soup = BeautifulSoup(text, \"lxml\")\n"
          ]
        },
        {
          "name": "stdout",
          "output_type": "stream",
          "text": [
            "500000\n",
            "\n"
          ]
        },
        {
          "name": "stderr",
          "output_type": "stream",
          "text": [
            "<ipython-input-7-c4b837329946>:24: MarkupResemblesLocatorWarning: The input looks more like a filename than markup. You may want to open this file and pass the filehandle into Beautiful Soup.\n",
            "  soup = BeautifulSoup(text, \"lxml\")\n",
            "<ipython-input-7-c4b837329946>:24: MarkupResemblesLocatorWarning: The input looks more like a filename than markup. You may want to open this file and pass the filehandle into Beautiful Soup.\n",
            "  soup = BeautifulSoup(text, \"lxml\")\n",
            "<ipython-input-7-c4b837329946>:24: MarkupResemblesLocatorWarning: The input looks more like a filename than markup. You may want to open this file and pass the filehandle into Beautiful Soup.\n",
            "  soup = BeautifulSoup(text, \"lxml\")\n",
            "<ipython-input-7-c4b837329946>:24: MarkupResemblesLocatorWarning: The input looks more like a filename than markup. You may want to open this file and pass the filehandle into Beautiful Soup.\n",
            "  soup = BeautifulSoup(text, \"lxml\")\n",
            "<ipython-input-7-c4b837329946>:24: MarkupResemblesLocatorWarning: The input looks more like a filename than markup. You may want to open this file and pass the filehandle into Beautiful Soup.\n",
            "  soup = BeautifulSoup(text, \"lxml\")\n",
            "<ipython-input-7-c4b837329946>:24: MarkupResemblesLocatorWarning: The input looks more like a filename than markup. You may want to open this file and pass the filehandle into Beautiful Soup.\n",
            "  soup = BeautifulSoup(text, \"lxml\")\n",
            "<ipython-input-7-c4b837329946>:24: MarkupResemblesLocatorWarning: The input looks more like a filename than markup. You may want to open this file and pass the filehandle into Beautiful Soup.\n",
            "  soup = BeautifulSoup(text, \"lxml\")\n",
            "<ipython-input-7-c4b837329946>:24: MarkupResemblesLocatorWarning: The input looks more like a filename than markup. You may want to open this file and pass the filehandle into Beautiful Soup.\n",
            "  soup = BeautifulSoup(text, \"lxml\")\n",
            "<ipython-input-7-c4b837329946>:24: MarkupResemblesLocatorWarning: The input looks more like a filename than markup. You may want to open this file and pass the filehandle into Beautiful Soup.\n",
            "  soup = BeautifulSoup(text, \"lxml\")\n",
            "<ipython-input-7-c4b837329946>:24: MarkupResemblesLocatorWarning: The input looks more like a filename than markup. You may want to open this file and pass the filehandle into Beautiful Soup.\n",
            "  soup = BeautifulSoup(text, \"lxml\")\n"
          ]
        },
        {
          "name": "stdout",
          "output_type": "stream",
          "text": [
            "1000000\n",
            "\n"
          ]
        },
        {
          "name": "stderr",
          "output_type": "stream",
          "text": [
            "<ipython-input-7-c4b837329946>:24: MarkupResemblesLocatorWarning: The input looks more like a filename than markup. You may want to open this file and pass the filehandle into Beautiful Soup.\n",
            "  soup = BeautifulSoup(text, \"lxml\")\n",
            "<ipython-input-7-c4b837329946>:24: MarkupResemblesLocatorWarning: The input looks more like a filename than markup. You may want to open this file and pass the filehandle into Beautiful Soup.\n",
            "  soup = BeautifulSoup(text, \"lxml\")\n",
            "<ipython-input-7-c4b837329946>:24: MarkupResemblesLocatorWarning: The input looks more like a filename than markup. You may want to open this file and pass the filehandle into Beautiful Soup.\n",
            "  soup = BeautifulSoup(text, \"lxml\")\n",
            "<ipython-input-7-c4b837329946>:24: MarkupResemblesLocatorWarning: The input looks more like a filename than markup. You may want to open this file and pass the filehandle into Beautiful Soup.\n",
            "  soup = BeautifulSoup(text, \"lxml\")\n",
            "<ipython-input-7-c4b837329946>:24: MarkupResemblesLocatorWarning: The input looks more like a filename than markup. You may want to open this file and pass the filehandle into Beautiful Soup.\n",
            "  soup = BeautifulSoup(text, \"lxml\")\n",
            "<ipython-input-7-c4b837329946>:24: MarkupResemblesLocatorWarning: The input looks more like a filename than markup. You may want to open this file and pass the filehandle into Beautiful Soup.\n",
            "  soup = BeautifulSoup(text, \"lxml\")\n",
            "<ipython-input-7-c4b837329946>:24: MarkupResemblesLocatorWarning: The input looks more like a filename than markup. You may want to open this file and pass the filehandle into Beautiful Soup.\n",
            "  soup = BeautifulSoup(text, \"lxml\")\n",
            "<ipython-input-7-c4b837329946>:24: MarkupResemblesLocatorWarning: The input looks more like a filename than markup. You may want to open this file and pass the filehandle into Beautiful Soup.\n",
            "  soup = BeautifulSoup(text, \"lxml\")\n",
            "<ipython-input-7-c4b837329946>:24: MarkupResemblesLocatorWarning: The input looks more like a filename than markup. You may want to open this file and pass the filehandle into Beautiful Soup.\n",
            "  soup = BeautifulSoup(text, \"lxml\")\n",
            "<ipython-input-7-c4b837329946>:24: MarkupResemblesLocatorWarning: The input looks more like a filename than markup. You may want to open this file and pass the filehandle into Beautiful Soup.\n",
            "  soup = BeautifulSoup(text, \"lxml\")\n"
          ]
        },
        {
          "name": "stdout",
          "output_type": "stream",
          "text": [
            "1500000\n",
            "\n"
          ]
        },
        {
          "name": "stderr",
          "output_type": "stream",
          "text": [
            "<ipython-input-7-c4b837329946>:24: MarkupResemblesLocatorWarning: The input looks more like a filename than markup. You may want to open this file and pass the filehandle into Beautiful Soup.\n",
            "  soup = BeautifulSoup(text, \"lxml\")\n",
            "<ipython-input-7-c4b837329946>:24: MarkupResemblesLocatorWarning: The input looks more like a filename than markup. You may want to open this file and pass the filehandle into Beautiful Soup.\n",
            "  soup = BeautifulSoup(text, \"lxml\")\n",
            "<ipython-input-7-c4b837329946>:24: MarkupResemblesLocatorWarning: The input looks more like a filename than markup. You may want to open this file and pass the filehandle into Beautiful Soup.\n",
            "  soup = BeautifulSoup(text, \"lxml\")\n",
            "<ipython-input-7-c4b837329946>:24: MarkupResemblesLocatorWarning: The input looks more like a filename than markup. You may want to open this file and pass the filehandle into Beautiful Soup.\n",
            "  soup = BeautifulSoup(text, \"lxml\")\n",
            "<ipython-input-7-c4b837329946>:24: MarkupResemblesLocatorWarning: The input looks more like a filename than markup. You may want to open this file and pass the filehandle into Beautiful Soup.\n",
            "  soup = BeautifulSoup(text, \"lxml\")\n",
            "<ipython-input-7-c4b837329946>:24: MarkupResemblesLocatorWarning: The input looks more like a filename than markup. You may want to open this file and pass the filehandle into Beautiful Soup.\n",
            "  soup = BeautifulSoup(text, \"lxml\")\n",
            "<ipython-input-7-c4b837329946>:24: MarkupResemblesLocatorWarning: The input looks more like a filename than markup. You may want to open this file and pass the filehandle into Beautiful Soup.\n",
            "  soup = BeautifulSoup(text, \"lxml\")\n",
            "<ipython-input-7-c4b837329946>:24: MarkupResemblesLocatorWarning: The input looks more like a filename than markup. You may want to open this file and pass the filehandle into Beautiful Soup.\n",
            "  soup = BeautifulSoup(text, \"lxml\")\n",
            "<ipython-input-7-c4b837329946>:24: MarkupResemblesLocatorWarning: The input looks more like a filename than markup. You may want to open this file and pass the filehandle into Beautiful Soup.\n",
            "  soup = BeautifulSoup(text, \"lxml\")\n",
            "<ipython-input-7-c4b837329946>:24: MarkupResemblesLocatorWarning: The input looks more like a filename than markup. You may want to open this file and pass the filehandle into Beautiful Soup.\n",
            "  soup = BeautifulSoup(text, \"lxml\")\n"
          ]
        },
        {
          "name": "stdout",
          "output_type": "stream",
          "text": [
            "2000000\n",
            "\n"
          ]
        },
        {
          "name": "stderr",
          "output_type": "stream",
          "text": [
            "<ipython-input-7-c4b837329946>:24: MarkupResemblesLocatorWarning: The input looks more like a filename than markup. You may want to open this file and pass the filehandle into Beautiful Soup.\n",
            "  soup = BeautifulSoup(text, \"lxml\")\n",
            "<ipython-input-7-c4b837329946>:24: MarkupResemblesLocatorWarning: The input looks more like a filename than markup. You may want to open this file and pass the filehandle into Beautiful Soup.\n",
            "  soup = BeautifulSoup(text, \"lxml\")\n",
            "<ipython-input-7-c4b837329946>:24: MarkupResemblesLocatorWarning: The input looks more like a filename than markup. You may want to open this file and pass the filehandle into Beautiful Soup.\n",
            "  soup = BeautifulSoup(text, \"lxml\")\n",
            "<ipython-input-7-c4b837329946>:24: MarkupResemblesLocatorWarning: The input looks more like a filename than markup. You may want to open this file and pass the filehandle into Beautiful Soup.\n",
            "  soup = BeautifulSoup(text, \"lxml\")\n",
            "<ipython-input-7-c4b837329946>:24: MarkupResemblesLocatorWarning: The input looks more like a filename than markup. You may want to open this file and pass the filehandle into Beautiful Soup.\n",
            "  soup = BeautifulSoup(text, \"lxml\")\n",
            "<ipython-input-7-c4b837329946>:24: MarkupResemblesLocatorWarning: The input looks more like a filename than markup. You may want to open this file and pass the filehandle into Beautiful Soup.\n",
            "  soup = BeautifulSoup(text, \"lxml\")\n",
            "<ipython-input-7-c4b837329946>:24: MarkupResemblesLocatorWarning: The input looks more like a filename than markup. You may want to open this file and pass the filehandle into Beautiful Soup.\n",
            "  soup = BeautifulSoup(text, \"lxml\")\n",
            "<ipython-input-7-c4b837329946>:24: MarkupResemblesLocatorWarning: The input looks more like a filename than markup. You may want to open this file and pass the filehandle into Beautiful Soup.\n",
            "  soup = BeautifulSoup(text, \"lxml\")\n",
            "<ipython-input-7-c4b837329946>:24: MarkupResemblesLocatorWarning: The input looks more like a filename than markup. You may want to open this file and pass the filehandle into Beautiful Soup.\n",
            "  soup = BeautifulSoup(text, \"lxml\")\n",
            "<ipython-input-7-c4b837329946>:24: MarkupResemblesLocatorWarning: The input looks more like a filename than markup. You may want to open this file and pass the filehandle into Beautiful Soup.\n",
            "  soup = BeautifulSoup(text, \"lxml\")\n"
          ]
        },
        {
          "name": "stdout",
          "output_type": "stream",
          "text": [
            "2500000\n",
            "\n"
          ]
        },
        {
          "name": "stderr",
          "output_type": "stream",
          "text": [
            "<ipython-input-7-c4b837329946>:24: MarkupResemblesLocatorWarning: The input looks more like a filename than markup. You may want to open this file and pass the filehandle into Beautiful Soup.\n",
            "  soup = BeautifulSoup(text, \"lxml\")\n",
            "<ipython-input-7-c4b837329946>:24: MarkupResemblesLocatorWarning: The input looks more like a filename than markup. You may want to open this file and pass the filehandle into Beautiful Soup.\n",
            "  soup = BeautifulSoup(text, \"lxml\")\n",
            "<ipython-input-7-c4b837329946>:24: MarkupResemblesLocatorWarning: The input looks more like a filename than markup. You may want to open this file and pass the filehandle into Beautiful Soup.\n",
            "  soup = BeautifulSoup(text, \"lxml\")\n",
            "<ipython-input-7-c4b837329946>:24: MarkupResemblesLocatorWarning: The input looks more like a filename than markup. You may want to open this file and pass the filehandle into Beautiful Soup.\n",
            "  soup = BeautifulSoup(text, \"lxml\")\n",
            "<ipython-input-7-c4b837329946>:24: MarkupResemblesLocatorWarning: The input looks more like a filename than markup. You may want to open this file and pass the filehandle into Beautiful Soup.\n",
            "  soup = BeautifulSoup(text, \"lxml\")\n",
            "<ipython-input-7-c4b837329946>:24: MarkupResemblesLocatorWarning: The input looks more like a filename than markup. You may want to open this file and pass the filehandle into Beautiful Soup.\n",
            "  soup = BeautifulSoup(text, \"lxml\")\n",
            "<ipython-input-7-c4b837329946>:24: MarkupResemblesLocatorWarning: The input looks more like a filename than markup. You may want to open this file and pass the filehandle into Beautiful Soup.\n",
            "  soup = BeautifulSoup(text, \"lxml\")\n",
            "<ipython-input-7-c4b837329946>:24: MarkupResemblesLocatorWarning: The input looks more like a filename than markup. You may want to open this file and pass the filehandle into Beautiful Soup.\n",
            "  soup = BeautifulSoup(text, \"lxml\")\n",
            "<ipython-input-7-c4b837329946>:24: MarkupResemblesLocatorWarning: The input looks more like a filename than markup. You may want to open this file and pass the filehandle into Beautiful Soup.\n",
            "  soup = BeautifulSoup(text, \"lxml\")\n",
            "<ipython-input-7-c4b837329946>:24: MarkupResemblesLocatorWarning: The input looks more like a filename than markup. You may want to open this file and pass the filehandle into Beautiful Soup.\n",
            "  soup = BeautifulSoup(text, \"lxml\")\n"
          ]
        },
        {
          "name": "stdout",
          "output_type": "stream",
          "text": [
            "3000000\n",
            "\n"
          ]
        },
        {
          "name": "stderr",
          "output_type": "stream",
          "text": [
            "<ipython-input-7-c4b837329946>:24: MarkupResemblesLocatorWarning: The input looks more like a filename than markup. You may want to open this file and pass the filehandle into Beautiful Soup.\n",
            "  soup = BeautifulSoup(text, \"lxml\")\n",
            "<ipython-input-7-c4b837329946>:24: MarkupResemblesLocatorWarning: The input looks more like a filename than markup. You may want to open this file and pass the filehandle into Beautiful Soup.\n",
            "  soup = BeautifulSoup(text, \"lxml\")\n",
            "<ipython-input-7-c4b837329946>:24: MarkupResemblesLocatorWarning: The input looks more like a filename than markup. You may want to open this file and pass the filehandle into Beautiful Soup.\n",
            "  soup = BeautifulSoup(text, \"lxml\")\n",
            "<ipython-input-7-c4b837329946>:24: MarkupResemblesLocatorWarning: The input looks more like a filename than markup. You may want to open this file and pass the filehandle into Beautiful Soup.\n",
            "  soup = BeautifulSoup(text, \"lxml\")\n",
            "<ipython-input-7-c4b837329946>:24: MarkupResemblesLocatorWarning: The input looks more like a filename than markup. You may want to open this file and pass the filehandle into Beautiful Soup.\n",
            "  soup = BeautifulSoup(text, \"lxml\")\n",
            "<ipython-input-7-c4b837329946>:24: MarkupResemblesLocatorWarning: The input looks more like a filename than markup. You may want to open this file and pass the filehandle into Beautiful Soup.\n",
            "  soup = BeautifulSoup(text, \"lxml\")\n",
            "<ipython-input-7-c4b837329946>:24: MarkupResemblesLocatorWarning: The input looks more like a filename than markup. You may want to open this file and pass the filehandle into Beautiful Soup.\n",
            "  soup = BeautifulSoup(text, \"lxml\")\n",
            "<ipython-input-7-c4b837329946>:24: MarkupResemblesLocatorWarning: The input looks more like a filename than markup. You may want to open this file and pass the filehandle into Beautiful Soup.\n",
            "  soup = BeautifulSoup(text, \"lxml\")\n",
            "<ipython-input-7-c4b837329946>:24: MarkupResemblesLocatorWarning: The input looks more like a filename than markup. You may want to open this file and pass the filehandle into Beautiful Soup.\n",
            "  soup = BeautifulSoup(text, \"lxml\")\n",
            "<ipython-input-7-c4b837329946>:24: MarkupResemblesLocatorWarning: The input looks more like a filename than markup. You may want to open this file and pass the filehandle into Beautiful Soup.\n",
            "  soup = BeautifulSoup(text, \"lxml\")\n"
          ]
        },
        {
          "name": "stdout",
          "output_type": "stream",
          "text": [
            "3500000\n",
            "\n"
          ]
        },
        {
          "name": "stderr",
          "output_type": "stream",
          "text": [
            "<ipython-input-7-c4b837329946>:24: MarkupResemblesLocatorWarning: The input looks more like a filename than markup. You may want to open this file and pass the filehandle into Beautiful Soup.\n",
            "  soup = BeautifulSoup(text, \"lxml\")\n",
            "<ipython-input-7-c4b837329946>:24: MarkupResemblesLocatorWarning: The input looks more like a filename than markup. You may want to open this file and pass the filehandle into Beautiful Soup.\n",
            "  soup = BeautifulSoup(text, \"lxml\")\n",
            "<ipython-input-7-c4b837329946>:24: MarkupResemblesLocatorWarning: The input looks more like a filename than markup. You may want to open this file and pass the filehandle into Beautiful Soup.\n",
            "  soup = BeautifulSoup(text, \"lxml\")\n",
            "<ipython-input-7-c4b837329946>:24: MarkupResemblesLocatorWarning: The input looks more like a filename than markup. You may want to open this file and pass the filehandle into Beautiful Soup.\n",
            "  soup = BeautifulSoup(text, \"lxml\")\n",
            "<ipython-input-7-c4b837329946>:24: MarkupResemblesLocatorWarning: The input looks more like a filename than markup. You may want to open this file and pass the filehandle into Beautiful Soup.\n",
            "  soup = BeautifulSoup(text, \"lxml\")\n",
            "<ipython-input-7-c4b837329946>:24: MarkupResemblesLocatorWarning: The input looks more like a filename than markup. You may want to open this file and pass the filehandle into Beautiful Soup.\n",
            "  soup = BeautifulSoup(text, \"lxml\")\n",
            "<ipython-input-7-c4b837329946>:24: MarkupResemblesLocatorWarning: The input looks more like a filename than markup. You may want to open this file and pass the filehandle into Beautiful Soup.\n",
            "  soup = BeautifulSoup(text, \"lxml\")\n",
            "<ipython-input-7-c4b837329946>:24: MarkupResemblesLocatorWarning: The input looks more like a filename than markup. You may want to open this file and pass the filehandle into Beautiful Soup.\n",
            "  soup = BeautifulSoup(text, \"lxml\")\n",
            "<ipython-input-7-c4b837329946>:24: MarkupResemblesLocatorWarning: The input looks more like a filename than markup. You may want to open this file and pass the filehandle into Beautiful Soup.\n",
            "  soup = BeautifulSoup(text, \"lxml\")\n",
            "<ipython-input-7-c4b837329946>:24: MarkupResemblesLocatorWarning: The input looks more like a filename than markup. You may want to open this file and pass the filehandle into Beautiful Soup.\n",
            "  soup = BeautifulSoup(text, \"lxml\")\n"
          ]
        },
        {
          "name": "stdout",
          "output_type": "stream",
          "text": [
            "4000000\n",
            "\n"
          ]
        },
        {
          "name": "stderr",
          "output_type": "stream",
          "text": [
            "<ipython-input-7-c4b837329946>:24: MarkupResemblesLocatorWarning: The input looks more like a filename than markup. You may want to open this file and pass the filehandle into Beautiful Soup.\n",
            "  soup = BeautifulSoup(text, \"lxml\")\n",
            "<ipython-input-7-c4b837329946>:24: MarkupResemblesLocatorWarning: The input looks more like a filename than markup. You may want to open this file and pass the filehandle into Beautiful Soup.\n",
            "  soup = BeautifulSoup(text, \"lxml\")\n",
            "<ipython-input-7-c4b837329946>:24: MarkupResemblesLocatorWarning: The input looks more like a filename than markup. You may want to open this file and pass the filehandle into Beautiful Soup.\n",
            "  soup = BeautifulSoup(text, \"lxml\")\n",
            "<ipython-input-7-c4b837329946>:24: MarkupResemblesLocatorWarning: The input looks more like a filename than markup. You may want to open this file and pass the filehandle into Beautiful Soup.\n",
            "  soup = BeautifulSoup(text, \"lxml\")\n",
            "<ipython-input-7-c4b837329946>:24: MarkupResemblesLocatorWarning: The input looks more like a filename than markup. You may want to open this file and pass the filehandle into Beautiful Soup.\n",
            "  soup = BeautifulSoup(text, \"lxml\")\n",
            "<ipython-input-7-c4b837329946>:24: MarkupResemblesLocatorWarning: The input looks more like a filename than markup. You may want to open this file and pass the filehandle into Beautiful Soup.\n",
            "  soup = BeautifulSoup(text, \"lxml\")\n",
            "<ipython-input-7-c4b837329946>:24: MarkupResemblesLocatorWarning: The input looks more like a filename than markup. You may want to open this file and pass the filehandle into Beautiful Soup.\n",
            "  soup = BeautifulSoup(text, \"lxml\")\n",
            "<ipython-input-7-c4b837329946>:24: MarkupResemblesLocatorWarning: The input looks more like a filename than markup. You may want to open this file and pass the filehandle into Beautiful Soup.\n",
            "  soup = BeautifulSoup(text, \"lxml\")\n",
            "<ipython-input-7-c4b837329946>:24: MarkupResemblesLocatorWarning: The input looks more like a filename than markup. You may want to open this file and pass the filehandle into Beautiful Soup.\n",
            "  soup = BeautifulSoup(text, \"lxml\")\n",
            "<ipython-input-7-c4b837329946>:24: MarkupResemblesLocatorWarning: The input looks more like a filename than markup. You may want to open this file and pass the filehandle into Beautiful Soup.\n",
            "  soup = BeautifulSoup(text, \"lxml\")\n"
          ]
        },
        {
          "name": "stdout",
          "output_type": "stream",
          "text": [
            "4500000\n",
            "\n"
          ]
        },
        {
          "name": "stderr",
          "output_type": "stream",
          "text": [
            "<ipython-input-7-c4b837329946>:24: MarkupResemblesLocatorWarning: The input looks more like a filename than markup. You may want to open this file and pass the filehandle into Beautiful Soup.\n",
            "  soup = BeautifulSoup(text, \"lxml\")\n",
            "<ipython-input-7-c4b837329946>:24: MarkupResemblesLocatorWarning: The input looks more like a filename than markup. You may want to open this file and pass the filehandle into Beautiful Soup.\n",
            "  soup = BeautifulSoup(text, \"lxml\")\n",
            "<ipython-input-7-c4b837329946>:24: MarkupResemblesLocatorWarning: The input looks more like a filename than markup. You may want to open this file and pass the filehandle into Beautiful Soup.\n",
            "  soup = BeautifulSoup(text, \"lxml\")\n",
            "<ipython-input-7-c4b837329946>:24: MarkupResemblesLocatorWarning: The input looks more like a filename than markup. You may want to open this file and pass the filehandle into Beautiful Soup.\n",
            "  soup = BeautifulSoup(text, \"lxml\")\n",
            "<ipython-input-7-c4b837329946>:24: MarkupResemblesLocatorWarning: The input looks more like a filename than markup. You may want to open this file and pass the filehandle into Beautiful Soup.\n",
            "  soup = BeautifulSoup(text, \"lxml\")\n",
            "<ipython-input-7-c4b837329946>:24: MarkupResemblesLocatorWarning: The input looks more like a filename than markup. You may want to open this file and pass the filehandle into Beautiful Soup.\n",
            "  soup = BeautifulSoup(text, \"lxml\")\n",
            "<ipython-input-7-c4b837329946>:24: MarkupResemblesLocatorWarning: The input looks more like a filename than markup. You may want to open this file and pass the filehandle into Beautiful Soup.\n",
            "  soup = BeautifulSoup(text, \"lxml\")\n",
            "<ipython-input-7-c4b837329946>:24: MarkupResemblesLocatorWarning: The input looks more like a filename than markup. You may want to open this file and pass the filehandle into Beautiful Soup.\n",
            "  soup = BeautifulSoup(text, \"lxml\")\n",
            "<ipython-input-7-c4b837329946>:24: MarkupResemblesLocatorWarning: The input looks more like a filename than markup. You may want to open this file and pass the filehandle into Beautiful Soup.\n",
            "  soup = BeautifulSoup(text, \"lxml\")\n",
            "<ipython-input-7-c4b837329946>:24: MarkupResemblesLocatorWarning: The input looks more like a filename than markup. You may want to open this file and pass the filehandle into Beautiful Soup.\n",
            "  soup = BeautifulSoup(text, \"lxml\")\n"
          ]
        },
        {
          "name": "stdout",
          "output_type": "stream",
          "text": [
            "5000000\n",
            "\n"
          ]
        },
        {
          "name": "stderr",
          "output_type": "stream",
          "text": [
            "<ipython-input-7-c4b837329946>:24: MarkupResemblesLocatorWarning: The input looks more like a filename than markup. You may want to open this file and pass the filehandle into Beautiful Soup.\n",
            "  soup = BeautifulSoup(text, \"lxml\")\n",
            "<ipython-input-7-c4b837329946>:24: MarkupResemblesLocatorWarning: The input looks more like a filename than markup. You may want to open this file and pass the filehandle into Beautiful Soup.\n",
            "  soup = BeautifulSoup(text, \"lxml\")\n",
            "<ipython-input-7-c4b837329946>:24: MarkupResemblesLocatorWarning: The input looks more like a filename than markup. You may want to open this file and pass the filehandle into Beautiful Soup.\n",
            "  soup = BeautifulSoup(text, \"lxml\")\n",
            "<ipython-input-7-c4b837329946>:24: MarkupResemblesLocatorWarning: The input looks more like a filename than markup. You may want to open this file and pass the filehandle into Beautiful Soup.\n",
            "  soup = BeautifulSoup(text, \"lxml\")\n",
            "<ipython-input-7-c4b837329946>:24: MarkupResemblesLocatorWarning: The input looks more like a filename than markup. You may want to open this file and pass the filehandle into Beautiful Soup.\n",
            "  soup = BeautifulSoup(text, \"lxml\")\n",
            "<ipython-input-7-c4b837329946>:24: MarkupResemblesLocatorWarning: The input looks more like a filename than markup. You may want to open this file and pass the filehandle into Beautiful Soup.\n",
            "  soup = BeautifulSoup(text, \"lxml\")\n",
            "<ipython-input-7-c4b837329946>:24: MarkupResemblesLocatorWarning: The input looks more like a filename than markup. You may want to open this file and pass the filehandle into Beautiful Soup.\n",
            "  soup = BeautifulSoup(text, \"lxml\")\n",
            "<ipython-input-7-c4b837329946>:24: MarkupResemblesLocatorWarning: The input looks more like a filename than markup. You may want to open this file and pass the filehandle into Beautiful Soup.\n",
            "  soup = BeautifulSoup(text, \"lxml\")\n",
            "<ipython-input-7-c4b837329946>:24: MarkupResemblesLocatorWarning: The input looks more like a filename than markup. You may want to open this file and pass the filehandle into Beautiful Soup.\n",
            "  soup = BeautifulSoup(text, \"lxml\")\n",
            "<ipython-input-7-c4b837329946>:24: MarkupResemblesLocatorWarning: The input looks more like a filename than markup. You may want to open this file and pass the filehandle into Beautiful Soup.\n",
            "  soup = BeautifulSoup(text, \"lxml\")\n"
          ]
        },
        {
          "name": "stdout",
          "output_type": "stream",
          "text": [
            "5500000\n",
            "\n"
          ]
        },
        {
          "name": "stderr",
          "output_type": "stream",
          "text": [
            "<ipython-input-7-c4b837329946>:24: MarkupResemblesLocatorWarning: The input looks more like a filename than markup. You may want to open this file and pass the filehandle into Beautiful Soup.\n",
            "  soup = BeautifulSoup(text, \"lxml\")\n",
            "<ipython-input-7-c4b837329946>:24: MarkupResemblesLocatorWarning: The input looks more like a filename than markup. You may want to open this file and pass the filehandle into Beautiful Soup.\n",
            "  soup = BeautifulSoup(text, \"lxml\")\n",
            "<ipython-input-7-c4b837329946>:24: MarkupResemblesLocatorWarning: The input looks more like a filename than markup. You may want to open this file and pass the filehandle into Beautiful Soup.\n",
            "  soup = BeautifulSoup(text, \"lxml\")\n",
            "<ipython-input-7-c4b837329946>:24: MarkupResemblesLocatorWarning: The input looks more like a filename than markup. You may want to open this file and pass the filehandle into Beautiful Soup.\n",
            "  soup = BeautifulSoup(text, \"lxml\")\n",
            "<ipython-input-7-c4b837329946>:24: MarkupResemblesLocatorWarning: The input looks more like a filename than markup. You may want to open this file and pass the filehandle into Beautiful Soup.\n",
            "  soup = BeautifulSoup(text, \"lxml\")\n",
            "<ipython-input-7-c4b837329946>:24: MarkupResemblesLocatorWarning: The input looks more like a filename than markup. You may want to open this file and pass the filehandle into Beautiful Soup.\n",
            "  soup = BeautifulSoup(text, \"lxml\")\n",
            "<ipython-input-7-c4b837329946>:24: MarkupResemblesLocatorWarning: The input looks more like a filename than markup. You may want to open this file and pass the filehandle into Beautiful Soup.\n",
            "  soup = BeautifulSoup(text, \"lxml\")\n",
            "<ipython-input-7-c4b837329946>:24: MarkupResemblesLocatorWarning: The input looks more like a filename than markup. You may want to open this file and pass the filehandle into Beautiful Soup.\n",
            "  soup = BeautifulSoup(text, \"lxml\")\n",
            "<ipython-input-7-c4b837329946>:24: MarkupResemblesLocatorWarning: The input looks more like a filename than markup. You may want to open this file and pass the filehandle into Beautiful Soup.\n",
            "  soup = BeautifulSoup(text, \"lxml\")\n",
            "<ipython-input-7-c4b837329946>:24: MarkupResemblesLocatorWarning: The input looks more like a filename than markup. You may want to open this file and pass the filehandle into Beautiful Soup.\n",
            "  soup = BeautifulSoup(text, \"lxml\")\n"
          ]
        },
        {
          "name": "stdout",
          "output_type": "stream",
          "text": [
            "6000000\n",
            "\n"
          ]
        },
        {
          "name": "stderr",
          "output_type": "stream",
          "text": [
            "<ipython-input-7-c4b837329946>:24: MarkupResemblesLocatorWarning: The input looks more like a filename than markup. You may want to open this file and pass the filehandle into Beautiful Soup.\n",
            "  soup = BeautifulSoup(text, \"lxml\")\n",
            "<ipython-input-7-c4b837329946>:24: MarkupResemblesLocatorWarning: The input looks more like a filename than markup. You may want to open this file and pass the filehandle into Beautiful Soup.\n",
            "  soup = BeautifulSoup(text, \"lxml\")\n",
            "<ipython-input-7-c4b837329946>:24: MarkupResemblesLocatorWarning: The input looks more like a filename than markup. You may want to open this file and pass the filehandle into Beautiful Soup.\n",
            "  soup = BeautifulSoup(text, \"lxml\")\n",
            "<ipython-input-7-c4b837329946>:24: MarkupResemblesLocatorWarning: The input looks more like a filename than markup. You may want to open this file and pass the filehandle into Beautiful Soup.\n",
            "  soup = BeautifulSoup(text, \"lxml\")\n",
            "<ipython-input-7-c4b837329946>:24: MarkupResemblesLocatorWarning: The input looks more like a filename than markup. You may want to open this file and pass the filehandle into Beautiful Soup.\n",
            "  soup = BeautifulSoup(text, \"lxml\")\n",
            "<ipython-input-7-c4b837329946>:24: MarkupResemblesLocatorWarning: The input looks more like a filename than markup. You may want to open this file and pass the filehandle into Beautiful Soup.\n",
            "  soup = BeautifulSoup(text, \"lxml\")\n",
            "<ipython-input-7-c4b837329946>:24: MarkupResemblesLocatorWarning: The input looks more like a filename than markup. You may want to open this file and pass the filehandle into Beautiful Soup.\n",
            "  soup = BeautifulSoup(text, \"lxml\")\n",
            "<ipython-input-7-c4b837329946>:24: MarkupResemblesLocatorWarning: The input looks more like a filename than markup. You may want to open this file and pass the filehandle into Beautiful Soup.\n",
            "  soup = BeautifulSoup(text, \"lxml\")\n"
          ]
        },
        {
          "name": "stdout",
          "output_type": "stream",
          "text": [
            "done! total rows: 6400000, \n",
            " time:6.010486876567205 hours.\n"
          ]
        }
      ],
      "source": [
        "import pandas as pd\n",
        "import time\n",
        "\n",
        "start_time = time.time()\n",
        "# Input CSV file and output text file paths\n",
        "input_csv = \"IRIISNEPAL_Nepali_Text_Corpus.csv\"\n",
        "output_txt = \"iriis_text.txt\"\n",
        "\n",
        "rows_count = 0\n",
        "# Open the output file for writing\n",
        "with open(output_txt, \"w\", encoding=\"utf-8\") as output_file:\n",
        "    # Process the CSV file in chunks\n",
        "    chunk_size = 50000 if rows_count<5500000 else 10000  # Adjust the chunk size based on your memory capacity\n",
        "    for chunk in pd.read_csv(input_csv, chunksize=chunk_size, usecols=[\"Article\"]):\n",
        "\n",
        "        # Apply the cleaning function to the \"Article\" column\n",
        "        chunk[\"Article\"] = chunk[\"Article\"].apply(data_cleaner.clean_data)\n",
        "\n",
        "        # Append the endoftext token\n",
        "        chunk[\"Article\"] = chunk[\"Article\"] + \" <|endoftext|>\"\n",
        "\n",
        "        # Write each chunk to the text file\n",
        "        chunk[\"Article\"].to_csv(output_file, index=False, header=False)\n",
        "\n",
        "        rows_count += chunk_size\n",
        "        if rows_count % 500000 == 0 or rows_count == 50000:\n",
        "          print(rows_count, end='\\n\\n')\n",
        "print(f'done! total rows: {rows_count}, \\n time:{(time.time()-start_time)/3600} hours.')"
      ]
    },
    {
      "cell_type": "markdown",
      "metadata": {
        "id": "zKdE7nvQRDGa"
      },
      "source": [
        "### 1. Get unique urls if nepberta- that are not in iriisnepal dataset"
      ]
    },
    {
      "cell_type": "code",
      "execution_count": null,
      "metadata": {
        "colab": {
          "base_uri": "https://localhost:8080/"
        },
        "id": "WpE8Nd_F7lD2",
        "outputId": "8317ee23-b5a6-468c-c50f-542ed0b08eca"
      },
      "outputs": [
        {
          "data": {
            "text/plain": [
              "2760920"
            ]
          },
          "execution_count": 5,
          "metadata": {},
          "output_type": "execute_result"
        }
      ],
      "source": [
        "import pandas as pd\n",
        "import time\n",
        "from urllib.parse import urlparse\n",
        "\n",
        "unique_links=set()\n",
        "\n",
        "# Input CSV file and output text file paths\n",
        "input_csv = \"clean_date_categories.csv\"\n",
        "output_txt = \"nepberta_text.txt\"\n",
        "\n",
        "rows_count=0\n",
        "saved_rows_count = 0\n",
        "# Open the output file for writing\n",
        "with open(output_txt, \"w\", encoding=\"utf-8\") as output_file:\n",
        "    # Process the CSV file in chunks\n",
        "    chunk_size = 55000  # Adjust the chunk size based on your memory capacity\n",
        "    for chunk in pd.read_csv(input_csv, chunksize=chunk_size, usecols=[\"link\"]):\n",
        "        # Filter rows where is_not_in_iriis returns True\n",
        "        chunk[\"link\"].apply(unique_links.add)\n",
        "len(unique_links)"
      ]
    },
    {
      "cell_type": "code",
      "execution_count": null,
      "metadata": {
        "colab": {
          "base_uri": "https://localhost:8080/"
        },
        "id": "eaXZL2259EJN",
        "outputId": "7a3c8857-2eda-421b-97f5-3ac0f007b738"
      },
      "outputs": [
        {
          "name": "stdout",
          "output_type": "stream",
          "text": [
            "error:0 \n",
            " unique_nepberta_netloc: \n",
            "\n",
            " {'ekantipur.com', 'thahakhabar.com', 'dhangadhikhabar.com', 'onlinekhabar.com', 'dcnepal.com', 'pahilopost.com', 'shilapatra.com', 'nayapage.com', 'baahrakhari.com', 'nayapatrikadaily.com', 'dainiknewsnepal.com', 'hamrakura.com', 'emountaintv.com', 'kalakarmi.com', 'gorkhapatraonline.com', 'ratopati.com', 'hamrokhelkud.com', 'nepalsamaya.com', 'kathmandupress.com', 'reportersnepal.com', 'kendrabindu.com', 'setopati.com', 'imagekhabar.com', 'lokaantar.com', 'lokpath.com', 'dainikonline.com', 'ujyaaloonline.com', 'nepalpress.com', 'farakdhar.com', 'nepallive.com', 'nepalkhabar.com', 'himalkhabar.com', 'abhiyandaily.com', 'khabarhub.com', 'dev.setoparty.com', 'everestdainik.com', 'nagariknews.nagariknetwork.com'}\n"
          ]
        }
      ],
      "source": [
        "unique_netloc=set()\n",
        "error_links = []\n",
        "for url in unique_links:\n",
        "  try:\n",
        "    unique_netloc.add(urlparse(url).netloc.replace('www.',''))\n",
        "  except Exception as Ex:\n",
        "      print(Ex)\n",
        "      error_links.append(url)\n",
        "\n",
        "print(f'error:{len(error_links)} \\n unique_nepberta_netloc: \\n\\n {unique_netloc}')"
      ]
    },
    {
      "cell_type": "code",
      "execution_count": null,
      "metadata": {
        "colab": {
          "base_uri": "https://localhost:8080/"
        },
        "id": "MPXVlegMAiKY",
        "outputId": "8ba17201-7179-480f-ce0a-062e0bc799fe"
      },
      "outputs": [
        {
          "data": {
            "text/plain": [
              "['thahakhabar.com',\n",
              " 'dhangadhikhabar.com',\n",
              " 'nayapage.com',\n",
              " 'nayapatrikadaily.com',\n",
              " 'dainiknewsnepal.com',\n",
              " 'kalakarmi.com',\n",
              " 'lokaantar.com',\n",
              " 'dainikonline.com',\n",
              " 'abhiyandaily.com',\n",
              " 'dev.setoparty.com']"
            ]
          },
          "execution_count": 7,
          "metadata": {},
          "output_type": "execute_result"
        }
      ],
      "source": [
        "iriis_dataset_urls=['khabarhub.com', 'setokhari.com', 'arghakhanchi.com', 'janaaastha.com', 'nepalijanta.com', 'safalnews.com', 'lokpath.com', 'avenues.tv', 'samudrapari.com', 'arthasarokar.com', 'ujyaaloonline.com', 'kendrabindu.com', 'nepalviews.com', 'purbelinews.com', 'imagekhabar.com', 'pardafas.com', 'daunnenews.com', 'souryaonline.com', 'sansarnews.com', 'sancharkendra.com', 'nayanepalnews.com', 'hamrakura.com', 'mysansar.com', 'rajdhanidaily.com', 'reportersnepal.com', 'canadanepal.com', 'chitawan.com', 'hamrokhelkud.com', 'nepalkhabar.com', 'aajakonews.com', 'bizshala.com', 'shikharnews.com', 'kharibot.com', 'enepalese.com', 'emountaintv.com', 'makalukhabar.com', 'brtnepal.com', 'nepalghatana.com', 'nepalpress.com', 'kakhara.com', 'kathmandupati.com', 'annapurnapost.com', 'diyopost.com', 'capitalnepal.com', 'technologykhabar.com', 'healthpati.com', 'samacharpati.com', 'ekantipur.com', 'pokharanews.com', 'spacesamachar.com', 'onlinekhabar.com', 'hellokhabar.com', 'saralpatrika.com', 'khojtalashonline.com', 'onlinetvnepal.com', 'barnanmedia.com', 'hamrobiratnagar.com', 'mahendranagarpost.com', 'ratopati.com', 'nepalgunjnews.com', 'madheshvani.com', 'nepallive.com', 'nonstopkhabar.com', 'techpana.com', 'nagariknews.com', 'nagariknews.nagariknetwork.com', 'ejanakpuronline.com', 'bhaktapurpost.com', 'eadarsha.com', 'shilapatra.com', 'nepalsamaya.com', 'ictsamachar.com', 'sagarmatha.tv', 'narimag.com.np', 'abcnepal.tv', 'sunaulonepal.com', 'hamrokhotang.com', 'bisalnepal.com', 'nepalihealth.com', 'nepalwatch.com', 'baahrakhari.com', 'kantipath.com', 'etajakhabar.com', 'nepalipatra.com', 'newsofnepal.com', 'himalkhabar.com', 'dcnepal.com', 'gorkhapatraonline.com', 'everestdainik.com', 'setopati.com', 'kathmandupress.com', 'farakdhar.com', 'karobardaily.com', 'palikakhabar.com', 'onlinemajdoor.com', 'dainiknepal.com', 'newskarobar.com', 'pahilopost.com', 'pariwartankhabar.com', 'drishtinews.com']\n",
        "unique_nepberta_urls = [url for url in unique_netloc if url not in iriis_dataset_urls]\n",
        "unique_nepberta_urls"
      ]
    },
    {
      "cell_type": "markdown",
      "metadata": {
        "id": "inAoYMsXDfrQ"
      },
      "source": [
        "## 2. Get text from these unique urls (nepberta-iriisnepal)"
      ]
    },
    {
      "cell_type": "code",
      "execution_count": null,
      "metadata": {
        "colab": {
          "background_save": true,
          "base_uri": "https://localhost:8080/"
        },
        "id": "yeljeAJUhB1h",
        "outputId": "cee2faaf-e7bd-4170-d902-f3526e0d04e4"
      },
      "outputs": [
        {
          "name": "stdout",
          "output_type": "stream",
          "text": [
            "0.1456180493036906min. total rows: 55000, \n",
            " saved_rows:0\n",
            "\n"
          ]
        },
        {
          "name": "stderr",
          "output_type": "stream",
          "text": [
            "<ipython-input-3-c4b837329946>:24: MarkupResemblesLocatorWarning: The input looks more like a filename than markup. You may want to open this file and pass the filehandle into Beautiful Soup.\n",
            "  soup = BeautifulSoup(text, \"lxml\")\n",
            "<ipython-input-3-c4b837329946>:24: MarkupResemblesLocatorWarning: The input looks more like a filename than markup. You may want to open this file and pass the filehandle into Beautiful Soup.\n",
            "  soup = BeautifulSoup(text, \"lxml\")\n",
            "<ipython-input-3-c4b837329946>:24: MarkupResemblesLocatorWarning: The input looks more like a filename than markup. You may want to open this file and pass the filehandle into Beautiful Soup.\n",
            "  soup = BeautifulSoup(text, \"lxml\")\n",
            "<ipython-input-3-c4b837329946>:24: MarkupResemblesLocatorWarning: The input looks more like a filename than markup. You may want to open this file and pass the filehandle into Beautiful Soup.\n",
            "  soup = BeautifulSoup(text, \"lxml\")\n",
            "<ipython-input-3-c4b837329946>:24: MarkupResemblesLocatorWarning: The input looks more like a filename than markup. You may want to open this file and pass the filehandle into Beautiful Soup.\n",
            "  soup = BeautifulSoup(text, \"lxml\")\n",
            "<ipython-input-3-c4b837329946>:24: MarkupResemblesLocatorWarning: The input looks more like a filename than markup. You may want to open this file and pass the filehandle into Beautiful Soup.\n",
            "  soup = BeautifulSoup(text, \"lxml\")\n",
            "<ipython-input-3-c4b837329946>:24: MarkupResemblesLocatorWarning: The input looks more like a filename than markup. You may want to open this file and pass the filehandle into Beautiful Soup.\n",
            "  soup = BeautifulSoup(text, \"lxml\")\n",
            "<ipython-input-3-c4b837329946>:24: MarkupResemblesLocatorWarning: The input looks more like a filename than markup. You may want to open this file and pass the filehandle into Beautiful Soup.\n",
            "  soup = BeautifulSoup(text, \"lxml\")\n",
            "<ipython-input-3-c4b837329946>:24: MarkupResemblesLocatorWarning: The input looks more like a filename than markup. You may want to open this file and pass the filehandle into Beautiful Soup.\n",
            "  soup = BeautifulSoup(text, \"lxml\")\n",
            "<ipython-input-3-c4b837329946>:24: MarkupResemblesLocatorWarning: The input looks more like a filename than markup. You may want to open this file and pass the filehandle into Beautiful Soup.\n",
            "  soup = BeautifulSoup(text, \"lxml\")\n",
            "<ipython-input-3-c4b837329946>:24: MarkupResemblesLocatorWarning: The input looks more like a filename than markup. You may want to open this file and pass the filehandle into Beautiful Soup.\n",
            "  soup = BeautifulSoup(text, \"lxml\")\n",
            "<ipython-input-3-c4b837329946>:24: MarkupResemblesLocatorWarning: The input looks more like a filename than markup. You may want to open this file and pass the filehandle into Beautiful Soup.\n",
            "  soup = BeautifulSoup(text, \"lxml\")\n",
            "<ipython-input-3-c4b837329946>:24: MarkupResemblesLocatorWarning: The input looks more like a filename than markup. You may want to open this file and pass the filehandle into Beautiful Soup.\n",
            "  soup = BeautifulSoup(text, \"lxml\")\n",
            "<ipython-input-3-c4b837329946>:24: MarkupResemblesLocatorWarning: The input looks more like a filename than markup. You may want to open this file and pass the filehandle into Beautiful Soup.\n",
            "  soup = BeautifulSoup(text, \"lxml\")\n"
          ]
        },
        {
          "name": "stdout",
          "output_type": "stream",
          "text": [
            "done! total rows: 2805000, \n",
            " saved_rows:570086 \n",
            " time taken:45.1467861533165 minutes.\n",
            "Buffered data was truncated after reaching the output size limit."
          ]
        }
      ],
      "source": [
        "import pandas as pd\n",
        "import time\n",
        "from urllib.parse import urlparse\n",
        "\n",
        "start_time=time.time()\n",
        "saved_netloc = set()\n",
        "# filter urls from nepberta that are present in iriisnepal datasest\n",
        "iriis_dataset_urls = ['ekantipur.com',  'onlinekhabar.com',  'nagariknews.com',  'thahakhabar.com',  'ratopati.com',  'reportersnepal.com',  'setopati.com',  'hamrakura.com',  'lokpath.com',  'abhiyandaily.com',  'pahilopost.com',  'lokaantar.com',  'dcnepal.com',  'nayapage.com',  'nayapatrikadaily.com',  'everestdainik.com',  'imagekhabar.com',  'shilapatra.com',  'khabarhub.com',  'baahrakhari.com',  'ujyaaloonline.com',  'nepalkhabar.com',  'emountaintv.com',  'kathmandupress.com',  'farakdhar.com',  'kendrabindu.com',  'dhangadhikhabar.com',  'gorkhapatraonline.com',  'nepalpress.com',  'hamrokhelkud.com',  'himalkhabar.com',  'nepallive.com',  'nepalsamaya.com',  'kalakarmi.com',  'dainiknewsnepal.com']\n",
        "def is_not_in_iriis(url):\n",
        "    try:\n",
        "        # Extract the netloc from the URL\n",
        "        netloc = urlparse(url).netloc.replace('www.','')\n",
        "        return netloc in unique_nepberta_urls\n",
        "        # return netloc not in iriis_dataset_urls\n",
        "    except Exception as ex:\n",
        "        print(f'\\n\\n error:{url}{ex}\\n\\n')\n",
        "        # Handle invalid or missing URLs by excluding them\n",
        "        return False\n",
        "\n",
        "# Input CSV file and output text file paths\n",
        "input_csv = \"clean_date_categories.csv\"\n",
        "output_txt = \"nepberta_text.txt\"\n",
        "\n",
        "rows_count=0\n",
        "saved_rows_count = 0\n",
        "# Open the output file for writing\n",
        "with open(output_txt, \"w\", encoding=\"utf-8\") as output_file:\n",
        "    # Process the CSV file in chunks\n",
        "    chunk_size = 45000  # Adjust the chunk size based on your memory capacity\n",
        "    for chunk in pd.read_csv(input_csv, chunksize=chunk_size, usecols=[\"text\", \"link\"]):\n",
        "        # Filter rows where is_not_in_iriis returns True\n",
        "        filtered_chunk = chunk[chunk[\"link\"].apply(is_not_in_iriis)].dropna()\n",
        "        chunk[\"link\"].apply(saved_netloc.add)\n",
        "        # Apply the cleaning function\n",
        "        filtered_chunk[\"text\"] = filtered_chunk[\"text\"].apply(data_cleaner.clean_data)\n",
        "        # Append the endoftext token\n",
        "        filtered_chunk[\"text\"] = filtered_chunk[\"text\"] + \" <|endoftext|>\"\n",
        "        # Write the filtered and cleaned rows to the text file\n",
        "        filtered_chunk[\"text\"].to_csv(output_file, index=False, header=False)\n",
        "\n",
        "        rows_count += chunk_size\n",
        "        saved_rows_count += len(filtered_chunk)\n",
        "        if rows_count % 500000 == 0 or rows_count <= 55000:\n",
        "          print(f'{(time.time()-start_time)/60}min. total rows: {rows_count}, \\n saved_rows:{saved_rows_count}', end='\\n\\n')\n",
        "print(f'done! total rows: {rows_count}, \\n saved_rows:{saved_rows_count} \\n time taken:{(time.time()-start_time)/60} minutes.')\n",
        "print(saved_netloc)"
      ]
    },
    {
      "cell_type": "code",
      "source": [
        "!ls -l --block-size=M"
      ],
      "metadata": {
        "colab": {
          "base_uri": "https://localhost:8080/"
        },
        "id": "wrWwRQimrpWQ",
        "outputId": "af651589-f299-40ab-b47f-70ea7ce5ef54"
      },
      "execution_count": null,
      "outputs": [
        {
          "output_type": "stream",
          "name": "stdout",
          "text": [
            "total 71897M\n",
            "-rw------- 1 root root     1M Dec 18 15:01 '0. download_data.ipynb'\n",
            "-rw------- 1 root root     1M Dec 21 05:28 '1. train_tokenizer.ipynb'\n",
            "-rw------- 1 root root 13508M Dec 18 12:23  clean_date_categories.csv\n",
            "-rw------- 1 root root  2672M Dec 18 12:11  clean_nepberta_data.zip\n",
            "-rw------- 1 root root 26449M Dec 18 14:40  IRIISNEPAL_Nepali_Text_Corpus.csv\n",
            "-rw------- 1 root root 26240M Dec 20 16:38  iriis_text.txt\n",
            "drwx------ 2 root root     1M Dec 21 03:40  NepaliBPE\n",
            "-rw------- 1 root root  3030M Dec 21 03:41  nepberta_text.txt\n"
          ]
        }
      ]
    },
    {
      "cell_type": "code",
      "execution_count": null,
      "metadata": {
        "id": "xw40NFatV_Bc"
      },
      "outputs": [],
      "source": [
        "'''\n",
        "# Paths to the CSV files\n",
        "nepberta_csv = \"clean_date_categories.csv\"\n",
        "iriisnepal_csv = \"IRIISNEPAL_Nepali_Text_Corpus.csv\"\n",
        "\n",
        "# filter urls from nepberta that are present in iriisnepal datasest\n",
        "iriis_dataset_urls = ['ekantipur.com',  'onlinekhabar.com',  'nagariknews.com',  'thahakhabar.com',  'ratopati.com',  'reportersnepal.com',  'setopati.com',  'hamrakura.com',  'lokpath.com',  'abhiyandaily.com',  'pahilopost.com',  'lokaantar.com',  'dcnepal.com',  'nayapage.com',  'nayapatrikadaily.com',  'everestdainik.com',  'imagekhabar.com',  'shilapatra.com',  'khabarhub.com',  'baahrakhari.com',  'ujyaaloonline.com',  'nepalkhabar.com',  'emountaintv.com',  'kathmandupress.com',  'farakdhar.com',  'kendrabindu.com',  'dhangadhikhabar.com',  'gorkhapatraonline.com',  'nepalpress.com',  'hamrokhelkud.com',  'himalkhabar.com',  'nepallive.com',  'nepalsamaya.com',  'kalakarmi.com',  'dainiknewsnepal.com']\n",
        "def is_not_in_iriis(url):\n",
        "    try:\n",
        "        # Extract the netloc from the URL\n",
        "        netloc = urlparse(url).netloc\n",
        "        return netloc not in iriis_dataset_urls\n",
        "    except Exception:\n",
        "        # Handle invalid or missing URLs by excluding them\n",
        "        return False\n",
        "\n",
        "# Function to stream text from CSV files\n",
        "def text_generator1():\n",
        "    # Stream text from the iriisnepal_csv file\n",
        "    with open(iriisnepal_csv, 'r', encoding='utf-8') as f2:\n",
        "        reader = csv.DictReader(f2)\n",
        "        for row in reader:\n",
        "            # print('21')\n",
        "            if 'Article' in row and row['Article']:\n",
        "                # print('22')\n",
        "                yield data_cleaner.clean_data(row['Article'])\n",
        "                # print(data_cleaner.clean_data(row['Article']))\n",
        "            # else:print(row)\n",
        "            # break\n",
        "def text_generator2():\n",
        "    # Stream text from the nepberta_csv file\n",
        "    with open(nepberta_csv, 'r', encoding='utf-8') as f1:\n",
        "        reader = csv.DictReader(f1)\n",
        "        for row in reader:\n",
        "            if 'text' in row and row['text'] and 'link' in row and row['link']:\n",
        "                # print('11')\n",
        "                if is_not_in_iriis(row['link']):\n",
        "                    # print('12')\n",
        "                    # print(row['text'])\n",
        "                    yield data_cleaner.clean_data(row['text'])\n",
        "                # break\n",
        "\n",
        "with open('iriis_text.txt', 'w', encoding='utf-8') as out_f:\n",
        "    for text in text_generator1():\n",
        "        out_f.write(text + '<|endoftext|>')  # Write each cleaned article to the file\n",
        "\n",
        "with open('nepberta_text.txt', 'w', encoding='utf-8') as out_f:\n",
        "    for text in text_generator2():\n",
        "        out_f.write(text + '<|endoftext|>')  # Write each cleaned article to the file\n",
        "\n",
        "print(f\"Filtered text saved to 'iriis_text.txt', 'nepberta_text.txt' \")\n",
        "'''"
      ]
    },
    {
      "cell_type": "markdown",
      "metadata": {
        "id": "hIXtBUuch0gG"
      },
      "source": [
        "## 2. Train CharBPETokenizer\n",
        "* **ByteLevelBPETokenizer:** use UTF-8 encoding as fundamental unit of tokenization\n",
        "* **CharLevelTokenizer:** uses character as fundamental unit of tokenization.[link text](https://)"
      ]
    },
    {
      "cell_type": "code",
      "execution_count": null,
      "metadata": {
        "id": "uzCRDfZHICzT"
      },
      "outputs": [],
      "source": [
        "!rm -rf NepaliBPE"
      ]
    },
    {
      "cell_type": "code",
      "execution_count": null,
      "metadata": {
        "id": "la683sOXGLZy",
        "colab": {
          "base_uri": "https://localhost:8080/"
        },
        "outputId": "ca4055dd-4f53-4245-c73e-2f0fb7b2e45e"
      },
      "outputs": [
        {
          "output_type": "stream",
          "name": "stdout",
          "text": [
            "Tokenizer saved to NepaliBPE\n",
            "time_taken:255.33936193386714 minutes.\n"
          ]
        }
      ],
      "source": [
        "import csv\n",
        "import os\n",
        "import time\n",
        "from tokenizers import CharBPETokenizer\n",
        "from urllib.parse import urlparse\n",
        "\n",
        "start_time = time.time()\n",
        "# Output directory for the tokenizer\n",
        "output_dir = \"NepaliBPE\"\n",
        "os.makedirs('NepaliBPE', exist_ok=True)\n",
        "\n",
        "\n",
        "# Initialize a BPE tokenizer\n",
        "tokenizer = CharBPETokenizer()\n",
        "tokenizer.model.unk_token=\"<|unk|>\"\n",
        "\n",
        "# Train the tokenizer on the saved text file\n",
        "tokenizer.train(\n",
        "    files=[\"iriis_text.txt\", \"nepberta_text.txt\"],\n",
        "    vocab_size=50_000,\n",
        "    min_frequency=10,\n",
        "    special_tokens=[\"<|endoftext|>\", \"<|unk|>\"]\n",
        ")\n",
        "\n",
        "# # Train the tokenizer on streamed text\n",
        "# tokenizer.train_from_iterator(\n",
        "#     text_generator(),\n",
        "#     vocab_size=50_000,  # Adjust vocabulary size as needed\n",
        "#     min_frequency=10,    # Ignore tokens that appear less frequently\n",
        "#     special_tokens=[\"<|endoftext|>\", \"<|unk|>\"]\n",
        "# )\n",
        "\n",
        "# Save the tokenizer to the output directory\n",
        "tokenizer.save_model(output_dir)\n",
        "print(f\"Tokenizer saved to {output_dir}\")\n",
        "print(f\"time_taken:{(time.time()-start_time)/60} minutes.\")"
      ]
    },
    {
      "cell_type": "markdown",
      "metadata": {
        "id": "3YF1qoK2HQB3"
      },
      "source": [
        "## load trained tokenizer\n"
      ]
    },
    {
      "cell_type": "code",
      "source": [
        "%cd /content/drive/MyDrive/Research/dataset/hf_dataset/NepaliBPE"
      ],
      "metadata": {
        "colab": {
          "base_uri": "https://localhost:8080/"
        },
        "id": "Gnfd8i-TRxQE",
        "outputId": "47c13520-c144-441e-f27f-f2afcda3a6bf"
      },
      "execution_count": 133,
      "outputs": [
        {
          "output_type": "stream",
          "name": "stdout",
          "text": [
            "/content/drive/MyDrive/Research/dataset/hf_dataset/NepaliBPE\n"
          ]
        }
      ]
    },
    {
      "cell_type": "markdown",
      "source": [
        "### save `tokenizer.json`"
      ],
      "metadata": {
        "id": "6k3NV_-rRi8I"
      }
    },
    {
      "cell_type": "code",
      "execution_count": 170,
      "metadata": {
        "id": "RBgEuJl3PT3g",
        "colab": {
          "base_uri": "https://localhost:8080/"
        },
        "outputId": "226e4be3-7957-4f54-f57a-0142953b2cd0"
      },
      "outputs": [
        {
          "output_type": "stream",
          "name": "stdout",
          "text": [
            "['f', '<|unk|>', '<|unk|>', '<|unk|>']\n"
          ]
        }
      ],
      "source": [
        "from tokenizers import CharBPETokenizer\n",
        "\n",
        "# Load the trained tokenizer\n",
        "tokenizer = CharBPETokenizer(\n",
        "    \"vocab.json\",\n",
        "    \"merges.txt\"\n",
        ")\n",
        "# print(tokenizer.encode(\"नेपाल विद्युत प्राधिकरणका कार्यकारी निर्देशक कुलमान\").tokens)\n",
        "tokenizer.model.unk_token=\"<|unk|>\"\n",
        "special_tokens = [\n",
        "            \"<|begin_of_text|>\",\n",
        "            \"<|end_of_text|>\",\n",
        "            \"<|start_header_id|>\",\n",
        "            \"<|end_header_id|>\",\n",
        "            \"<|eot_id|>\", # tf is this\n",
        "            \"\\n\\n\",\n",
        "            # \"<|unk|>\" # it is already present in vocab\n",
        "        ]\n",
        "tokenizer.add_special_tokens(special_tokens)\n",
        "\n",
        "print(tokenizer.encode('fuck').tokens)\n",
        "tokenizer.save('tokenizer.json')"
      ]
    },
    {
      "cell_type": "code",
      "source": [
        "tokenizer.encode(\"भूमिका प्रयोगकर्ता सन्दर्भ\").tokens"
      ],
      "metadata": {
        "colab": {
          "base_uri": "https://localhost:8080/"
        },
        "id": "O09TzXTqRCgn",
        "outputId": "bd77b75f-19ea-4e13-9823-3ba86e8b15f5"
      },
      "execution_count": 172,
      "outputs": [
        {
          "output_type": "execute_result",
          "data": {
            "text/plain": [
              "['भूमिका</w>', 'प्रयोगकर्ता</w>', 'सन्दर्भ</w>']"
            ]
          },
          "metadata": {},
          "execution_count": 172
        }
      ]
    },
    {
      "cell_type": "markdown",
      "source": [
        "### load using `PrePrainedTokenizerFast`"
      ],
      "metadata": {
        "id": "6HP-CuIfRnfo"
      }
    },
    {
      "cell_type": "code",
      "source": [
        "# load using PreTrainedTokenizerFast\n",
        "from transformers import PreTrainedTokenizerFast\n",
        "# # Save as tokenizer.json\n",
        "# tokenizer.save(\"NepaliBPE/tokenizer.json\")\n",
        "# Load the tokenizer\n",
        "fast_tokenizer = PreTrainedTokenizerFast(tokenizer_file=\"tokenizer.json\")\n",
        "\n",
        "# Test the tokenizer\n",
        "text = \"गत आइतबार साँझपख केही आत्मीय मित्रहरूसँग भलाकुसारीमा थिएँ । गफैगफमा राजनीति र खेलकुदका प्रसंग उठे । त्यत्तिकैमा नेपालमा हुने गरेका साहित्य महोत्सव र वक्ताहरूका बारेमा एकछिन भुलियो । जयपुर साहित्य महोत्सवको कुरा पनि निस्कियो ।\"  # Example Nepali text\n",
        "tokens = fast_tokenizer.tokenize(text)\n",
        "print(tokens)\n",
        "fast_tokenizer.tokenize('<|fuck|>')\n"
      ],
      "metadata": {
        "colab": {
          "base_uri": "https://localhost:8080/"
        },
        "id": "0bKTp43KRzDp",
        "outputId": "afac448d-32b8-4b89-9640-6a983467b02a"
      },
      "execution_count": 152,
      "outputs": [
        {
          "output_type": "stream",
          "name": "stdout",
          "text": [
            "['गत</w>', 'आइतबार</w>', 'साँझपख</w>', 'केही</w>', 'आत्मीय</w>', 'मित्र', 'हरूसँग</w>', 'भलाकु', 'सा', 'रीमा</w>', 'थिएँ</w>', '।</w>', 'ग', 'फै', 'ग', 'फमा</w>', 'राजनीति</w>', 'र</w>', 'खेलकुदका</w>', 'प्रसंग</w>', 'उठे</w>', '।</w>', 'त्यत्ति', 'कैमा</w>', 'नेपालमा</w>', 'हुने</w>', 'गरेका</w>', 'साहित्य</w>', 'महोत्सव</w>', 'र</w>', 'वक्ता', 'हरूका</w>', 'बारेमा</w>', 'एकछिन</w>', 'भु', 'लियो</w>', '।</w>', 'जय', 'पुर</w>', 'साहित्य</w>', 'महोत्सवको</w>', 'कुरा</w>', 'पनि</w>', 'निस्कियो</w>', '।</w>']\n"
          ]
        },
        {
          "output_type": "execute_result",
          "data": {
            "text/plain": [
              "['<</w>', '|</w>', 'f', '<|unk|>', '<|unk|>', '<|unk|>', '|</w>', '></w>']"
            ]
          },
          "metadata": {},
          "execution_count": 152
        }
      ]
    },
    {
      "cell_type": "code",
      "source": [
        "tokens = fast_tokenizer.encode('<|begin_of_text|>') # [50000]\n",
        "tokens += fast_tokenizer.encode(\"गत आइतबार साँझपख\")\n",
        "tokens"
      ],
      "metadata": {
        "colab": {
          "base_uri": "https://localhost:8080/"
        },
        "id": "eVr1ikLONY6m",
        "outputId": "2777f47f-91e1-445a-97a0-ccab38ad20df"
      },
      "execution_count": 159,
      "outputs": [
        {
          "output_type": "execute_result",
          "data": {
            "text/plain": [
              "[50000, 576, 1600, 28392]"
            ]
          },
          "metadata": {},
          "execution_count": 159
        }
      ]
    },
    {
      "cell_type": "code",
      "source": [
        "from transformers import PreTrainedTokenizerFast\n",
        "\n",
        "text = \"गत आइतबार साँझपख केही आत्मीय मित्रहरूसँग भलाकुसारीमा थिएँ । गफैगफमा राजनीति र खेलकुदका प्रसंग उठे । त्यत्तिकैमा नेपालमा हुने गरेका साहित्य महोत्सव र वक्ताहरूका बारेमा एकछिन भुलियो । जयपुर साहित्य महोत्सवको कुरा पनि निस्कियो ।\"  # Example Nepali text\n",
        "tokenizer = PreTrainedTokenizerFast.from_pretrained(\"Aananda-giri/NepaliBPE\")\n",
        "tokenizer.tokenize(text)"
      ],
      "metadata": {
        "colab": {
          "base_uri": "https://localhost:8080/",
          "height": 1000,
          "referenced_widgets": [
            "75809db0a7e4468aa81390241e1d7985",
            "0a61b6e005f04ef986d0eb6df0a05be8",
            "07ade2fe168a4bfc83ff3ea743445dba",
            "4a81f708f8184e8fae56f8c0273ee07a",
            "07169482c06a4cc78ea3e54f8737405b",
            "ef11944e1d0f454d82b3c9ed385f1eb4",
            "0eb876996dc548769d7f735a3e9dbb19",
            "0acf6c81709348a59e9a958d6fdfd341",
            "673fda80331d407c95b390dd826fcc3c",
            "db14084b0b1348e7a2bc935279d2f1bf",
            "84d6d7b7d60d41419a3e73546b69007a",
            "6a68a41820544aa5acd32e09090c18c2",
            "3f005046b64c432db44e1b4d983cd160",
            "96f14b94e9b344eab8e153e56fef9791",
            "a84a0d16b1b4423ea9ab1a65a1b26a8c",
            "0bff4ecac4e44acab5a984f0f512c6c6",
            "354d6983853e411f81c321aecc90d649",
            "f235b0ec7ae04b8eabd8f3bfd0d5d092",
            "009e23919b0e44569f93e6cab3a06d7c",
            "78742a996ddb423fbb2c2ab6d4d41d96",
            "7e770a1d39f24cb6ba3cfbe50fea56a3",
            "e365104d60ff4dada173e2e8f67eb080",
            "f32fe5cc94f546df901391546cd339f5",
            "0b1b7e6118574dd38d5278a2fc9a116c",
            "625b97ca2d1246798fc54e3c2e678344",
            "a698fad72d164f2a95fabb720b183b3f",
            "3230015d32c2406c936a3a8da0480f01",
            "fe25ef0fe21f4b05befc54edf4b5cb49",
            "6b96d8dccc5c40b5b5ded2773806761b",
            "142e5f75914c4294af0ffb6790f830b5",
            "486b919bef264d838e2c7f27a37c602e",
            "f11f6171bf814086a957b0da8fd202a5",
            "879a514cbff243c085b7de5b95f1f238"
          ]
        },
        "id": "WRWkUGbSQ2tu",
        "outputId": "cc957c4e-fc8e-4a60-b52f-efe606c06966"
      },
      "execution_count": 2,
      "outputs": [
        {
          "output_type": "stream",
          "name": "stderr",
          "text": [
            "/usr/local/lib/python3.10/dist-packages/huggingface_hub/utils/_auth.py:104: UserWarning: \n",
            "Error while fetching `HF_TOKEN` secret value from your vault: 'Requesting secret HF_TOKEN timed out. Secrets can only be fetched when running from the Colab UI.'.\n",
            "You are not authenticated with the Hugging Face Hub in this notebook.\n",
            "If the error persists, please let us know by opening an issue on GitHub (https://github.com/huggingface/huggingface_hub/issues/new).\n",
            "  warnings.warn(\n"
          ]
        },
        {
          "output_type": "display_data",
          "data": {
            "text/plain": [
              "tokenizer_config.json:   0%|          | 0.00/1.20k [00:00<?, ?B/s]"
            ],
            "application/vnd.jupyter.widget-view+json": {
              "version_major": 2,
              "version_minor": 0,
              "model_id": "75809db0a7e4468aa81390241e1d7985"
            }
          },
          "metadata": {}
        },
        {
          "output_type": "display_data",
          "data": {
            "text/plain": [
              "tokenizer.json:   0%|          | 0.00/3.53M [00:00<?, ?B/s]"
            ],
            "application/vnd.jupyter.widget-view+json": {
              "version_major": 2,
              "version_minor": 0,
              "model_id": "6a68a41820544aa5acd32e09090c18c2"
            }
          },
          "metadata": {}
        },
        {
          "output_type": "display_data",
          "data": {
            "text/plain": [
              "special_tokens_map.json:   0%|          | 0.00/3.00 [00:00<?, ?B/s]"
            ],
            "application/vnd.jupyter.widget-view+json": {
              "version_major": 2,
              "version_minor": 0,
              "model_id": "f32fe5cc94f546df901391546cd339f5"
            }
          },
          "metadata": {}
        },
        {
          "output_type": "execute_result",
          "data": {
            "text/plain": [
              "['गत</w>',\n",
              " 'आइतबार</w>',\n",
              " 'साँझपख</w>',\n",
              " 'केही</w>',\n",
              " 'आत्मीय</w>',\n",
              " 'मित्र',\n",
              " 'हरूसँग</w>',\n",
              " 'भलाकु',\n",
              " 'सा',\n",
              " 'रीमा</w>',\n",
              " 'थिएँ</w>',\n",
              " '।</w>',\n",
              " 'ग',\n",
              " 'फै',\n",
              " 'ग',\n",
              " 'फमा</w>',\n",
              " 'राजनीति</w>',\n",
              " 'र</w>',\n",
              " 'खेलकुदका</w>',\n",
              " 'प्रसंग</w>',\n",
              " 'उठे</w>',\n",
              " '।</w>',\n",
              " 'त्यत्ति',\n",
              " 'कैमा</w>',\n",
              " 'नेपालमा</w>',\n",
              " 'हुने</w>',\n",
              " 'गरेका</w>',\n",
              " 'साहित्य</w>',\n",
              " 'महोत्सव</w>',\n",
              " 'र</w>',\n",
              " 'वक्ता',\n",
              " 'हरूका</w>',\n",
              " 'बारेमा</w>',\n",
              " 'एकछिन</w>',\n",
              " 'भु',\n",
              " 'लियो</w>',\n",
              " '।</w>',\n",
              " 'जय',\n",
              " 'पुर</w>',\n",
              " 'साहित्य</w>',\n",
              " 'महोत्सवको</w>',\n",
              " 'कुरा</w>',\n",
              " 'पनि</w>',\n",
              " 'निस्कियो</w>',\n",
              " '।</w>']"
            ]
          },
          "metadata": {},
          "execution_count": 2
        }
      ]
    },
    {
      "cell_type": "markdown",
      "source": [
        "* very similar to our previous tokenizer"
      ],
      "metadata": {
        "id": "RoC7y-yXTfQV"
      }
    },
    {
      "cell_type": "markdown",
      "source": [
        "# LLAMA3 format compatible: Put it inside a Tokenizer class"
      ],
      "metadata": {
        "id": "9gF3rrka3nCd"
      }
    },
    {
      "cell_type": "code",
      "source": [
        "%cd /content/drive/MyDrive/Research/dataset/hf_dataset/NepaliBPE\n",
        "!ls"
      ],
      "metadata": {
        "colab": {
          "base_uri": "https://localhost:8080/"
        },
        "id": "9ZZEh-S03sZF",
        "outputId": "990e81fa-f39b-4db2-be1e-08ab8aa21f3e"
      },
      "execution_count": 193,
      "outputs": [
        {
          "output_type": "stream",
          "name": "stdout",
          "text": [
            "/content/drive/MyDrive/Research/dataset/hf_dataset/NepaliBPE\n",
            "merges.txt  tokenizer.json  vocab.json\n"
          ]
        }
      ]
    },
    {
      "cell_type": "code",
      "source": [
        "import os\n",
        "\n",
        "from transformers import PreTrainedTokenizerFast\n",
        "class Tokenizer:\n",
        "    def __init__(self, tokenizer_model_path):\n",
        "        assert os.path.isfile(tokenizer_model_path), f\"Tokenizer Model file {tokenizer_model_path} not found\"\n",
        "\n",
        "        # load the tokenizehere\n",
        "        self.tokenizer = PreTrainedTokenizerFast(tokenizer_file=tokenizer_model_path)\n",
        "\n",
        "        # previously added\n",
        "        # self.special_tokens = {\n",
        "        #     \"<|begin_of_text|>\": 128000,\n",
        "        #     \"<|end_of_text|>\": 128001,\n",
        "        #     \"<|start_header_id|>\": 128006,\n",
        "        #     \"<|end_header_id|>\": 128007,\n",
        "        #     \"<|eot_id|>\": 128009,\n",
        "        # }\n",
        "\n",
        "\n",
        "\n",
        "    def encode(self, text, bos=False, eos=False):\n",
        "        '''\n",
        "        parameter: allowed_special removed\n",
        "        parameter: disallowed_special removed\n",
        "        '''\n",
        "        if bos:\n",
        "            # tokens = [self.special_tokens[\"<|begin_of_text|>\"]]\n",
        "            tokens = self.tokenizer.encode('<|begin_of_text|>') # [50000]\n",
        "        else:\n",
        "            tokens = []\n",
        "\n",
        "        tokens += self.tokenizer.encode(text)\n",
        "\n",
        "        if eos:\n",
        "            # tokens.append(self.special_tokens[\"<|end_of_text|>\"])\n",
        "            tokens.append(self.tokenizer.encode('<|end_of_text|>')[0]) # [50001]\n",
        "        return tokens\n",
        "\n",
        "    def decode(self, tokens):\n",
        "        # return self.model.decode(tokens)\n",
        "        return self.tokenizer.decode(tokens)\n",
        "\n",
        "\n",
        "class ChatFormat:\n",
        "    def __init__(self, tokenizer):\n",
        "        self.tokenizer = tokenizer\n",
        "\n",
        "    def encode_header(self, message):\n",
        "        tokens = []\n",
        "        tokens.append(self.tokenizer.tokenizer.encode('<|start_header_id|>')[0]) # 50002\n",
        "        tokens.extend(self.tokenizer.encode(message[\"भूमिका\"], bos=False, eos=False))\n",
        "        tokens.append(self.tokenizer.tokenizer.encode('<|end_header_id|>')[0])\n",
        "        tokens.extend(self.tokenizer.encode(\"\\n\\n\", bos=False, eos=False))\n",
        "        # tokens.append(self.tokenizer.special_tokens[\"<|start_header_id|>\"])\n",
        "        # tokens.extend(self.tokenizer.encode(message[\"role\"], bos=False, eos=False))\n",
        "        # tokens.append(self.tokenizer.special_tokens[\"<|end_header_id|>\"])\n",
        "        # tokens.extend(self.tokenizer.encode(\"\\n\\n\", bos=False, eos=False))\n",
        "        return tokens\n",
        "\n",
        "    def encode(self, text):\n",
        "        message = {\n",
        "            \"भूमिका\": \"प्रयोगकर्ता\",\n",
        "            \"सन्दर्भ\": text\n",
        "        }\n",
        "\n",
        "        tokens = self.encode_header(message)\n",
        "        tokens.extend(\n",
        "            self.tokenizer.encode(message[\"सन्दर्भ\"].strip(), bos=False, eos=False)\n",
        "        )\n",
        "        # tokens.append(self.tokenizer.special_tokens[\"<|eot_id|>\"])\n",
        "        tokens.append(self.tokenizer.tokenizer.encode('<|eot_id|>')[0])\n",
        "        return tokens\n",
        "\n",
        "    def decode(self, token_ids):\n",
        "        return self.tokenizer.decode(token_ids)\n",
        "\n",
        "tokenizer = Tokenizer(\"tokenizer.json\")\n",
        "chat_tokenizer = ChatFormat(tokenizer)\n",
        "\n",
        "text = \"नेपाल विद्युत प्राधिकरणका कार्यकारी निर्देशक कुलमान घिसिङले माथिल्लो अरुण जलविद्युत आयोजना विश्व बैंक र एडीबीबाट वित्तीय व्यवस्थापन नभए नेपाली जनताको लगानीमा बनाउने तयारी रहेको बताएका छन् ।\"\n",
        "# normal tokenizer\n",
        "print([tokenizer.tokenizer.decode([token]) for token in tokenizer.encode(text)])\n",
        "\n",
        "# formatted tokenizer\n",
        "print([tokenizer.tokenizer.decode([token]) for token in chat_tokenizer.encode(text)])"
      ],
      "metadata": {
        "colab": {
          "base_uri": "https://localhost:8080/"
        },
        "id": "kXJYTM0nLtl-",
        "outputId": "b49c54dd-bfd6-4569-c31e-a9402ec83264"
      },
      "execution_count": 194,
      "outputs": [
        {
          "output_type": "stream",
          "name": "stdout",
          "text": [
            "['नेपाल', 'विद्युत', 'प्राधिकरणका', 'कार्यकारी', 'निर्देशक', 'कुलमान', 'घिसिङले', 'माथिल्लो', 'अरुण', 'जलविद्युत', 'आयोजना', 'विश्व', 'बैंक', 'र', 'एडी', 'बीबाट', 'वित्तीय', 'व्यवस्थापन', 'नभए', 'नेपाली', 'जनताको', 'लगानीमा', 'बनाउने', 'तयारी', 'रहेको', 'बताएका', 'छन्', '।']\n",
            "['<|start_header_id|>', 'प्रयोगकर्ता', '<|end_header_id|>', '\\n\\n', 'नेपाल', 'विद्युत', 'प्राधिकरणका', 'कार्यकारी', 'निर्देशक', 'कुलमान', 'घिसिङले', 'माथिल्लो', 'अरुण', 'जलविद्युत', 'आयोजना', 'विश्व', 'बैंक', 'र', 'एडी', 'बीबाट', 'वित्तीय', 'व्यवस्थापन', 'नभए', 'नेपाली', 'जनताको', 'लगानीमा', 'बनाउने', 'तयारी', 'रहेको', 'बताएका', 'छन्', '।', '<|eot_id|>']\n"
          ]
        }
      ]
    },
    {
      "cell_type": "code",
      "source": [
        "len(tokenizer.tokenizer)"
      ],
      "metadata": {
        "colab": {
          "base_uri": "https://localhost:8080/"
        },
        "id": "i6z48RyHGpvs",
        "outputId": "0b09e0ef-7245-44a6-a228-08e60bd43b48"
      },
      "execution_count": 192,
      "outputs": [
        {
          "output_type": "execute_result",
          "data": {
            "text/plain": [
              "50006"
            ]
          },
          "metadata": {},
          "execution_count": 192
        }
      ]
    },
    {
      "cell_type": "code",
      "source": [
        "chat_tokenizer.encode(\"लामा हरु ले के खान्छन् ?\")"
      ],
      "metadata": {
        "id": "GHEBxA2Qhv_9"
      },
      "execution_count": null,
      "outputs": []
    }
  ],
  "metadata": {
    "colab": {
      "provenance": [],
      "collapsed_sections": [
        "GQfH2DS7RTRW",
        "z1-HmtXNhprw",
        "Ebp7bUWEDqBB",
        "zKdE7nvQRDGa",
        "inAoYMsXDfrQ"
      ]
    },
    "kernelspec": {
      "display_name": "Python 3",
      "name": "python3"
    },
    "language_info": {
      "name": "python"
    },
    "widgets": {
      "application/vnd.jupyter.widget-state+json": {
        "75809db0a7e4468aa81390241e1d7985": {
          "model_module": "@jupyter-widgets/controls",
          "model_name": "HBoxModel",
          "model_module_version": "1.5.0",
          "state": {
            "_dom_classes": [],
            "_model_module": "@jupyter-widgets/controls",
            "_model_module_version": "1.5.0",
            "_model_name": "HBoxModel",
            "_view_count": null,
            "_view_module": "@jupyter-widgets/controls",
            "_view_module_version": "1.5.0",
            "_view_name": "HBoxView",
            "box_style": "",
            "children": [
              "IPY_MODEL_0a61b6e005f04ef986d0eb6df0a05be8",
              "IPY_MODEL_07ade2fe168a4bfc83ff3ea743445dba",
              "IPY_MODEL_4a81f708f8184e8fae56f8c0273ee07a"
            ],
            "layout": "IPY_MODEL_07169482c06a4cc78ea3e54f8737405b"
          }
        },
        "0a61b6e005f04ef986d0eb6df0a05be8": {
          "model_module": "@jupyter-widgets/controls",
          "model_name": "HTMLModel",
          "model_module_version": "1.5.0",
          "state": {
            "_dom_classes": [],
            "_model_module": "@jupyter-widgets/controls",
            "_model_module_version": "1.5.0",
            "_model_name": "HTMLModel",
            "_view_count": null,
            "_view_module": "@jupyter-widgets/controls",
            "_view_module_version": "1.5.0",
            "_view_name": "HTMLView",
            "description": "",
            "description_tooltip": null,
            "layout": "IPY_MODEL_ef11944e1d0f454d82b3c9ed385f1eb4",
            "placeholder": "​",
            "style": "IPY_MODEL_0eb876996dc548769d7f735a3e9dbb19",
            "value": "tokenizer_config.json: 100%"
          }
        },
        "07ade2fe168a4bfc83ff3ea743445dba": {
          "model_module": "@jupyter-widgets/controls",
          "model_name": "FloatProgressModel",
          "model_module_version": "1.5.0",
          "state": {
            "_dom_classes": [],
            "_model_module": "@jupyter-widgets/controls",
            "_model_module_version": "1.5.0",
            "_model_name": "FloatProgressModel",
            "_view_count": null,
            "_view_module": "@jupyter-widgets/controls",
            "_view_module_version": "1.5.0",
            "_view_name": "ProgressView",
            "bar_style": "success",
            "description": "",
            "description_tooltip": null,
            "layout": "IPY_MODEL_0acf6c81709348a59e9a958d6fdfd341",
            "max": 1203,
            "min": 0,
            "orientation": "horizontal",
            "style": "IPY_MODEL_673fda80331d407c95b390dd826fcc3c",
            "value": 1203
          }
        },
        "4a81f708f8184e8fae56f8c0273ee07a": {
          "model_module": "@jupyter-widgets/controls",
          "model_name": "HTMLModel",
          "model_module_version": "1.5.0",
          "state": {
            "_dom_classes": [],
            "_model_module": "@jupyter-widgets/controls",
            "_model_module_version": "1.5.0",
            "_model_name": "HTMLModel",
            "_view_count": null,
            "_view_module": "@jupyter-widgets/controls",
            "_view_module_version": "1.5.0",
            "_view_name": "HTMLView",
            "description": "",
            "description_tooltip": null,
            "layout": "IPY_MODEL_db14084b0b1348e7a2bc935279d2f1bf",
            "placeholder": "​",
            "style": "IPY_MODEL_84d6d7b7d60d41419a3e73546b69007a",
            "value": " 1.20k/1.20k [00:00&lt;00:00, 79.4kB/s]"
          }
        },
        "07169482c06a4cc78ea3e54f8737405b": {
          "model_module": "@jupyter-widgets/base",
          "model_name": "LayoutModel",
          "model_module_version": "1.2.0",
          "state": {
            "_model_module": "@jupyter-widgets/base",
            "_model_module_version": "1.2.0",
            "_model_name": "LayoutModel",
            "_view_count": null,
            "_view_module": "@jupyter-widgets/base",
            "_view_module_version": "1.2.0",
            "_view_name": "LayoutView",
            "align_content": null,
            "align_items": null,
            "align_self": null,
            "border": null,
            "bottom": null,
            "display": null,
            "flex": null,
            "flex_flow": null,
            "grid_area": null,
            "grid_auto_columns": null,
            "grid_auto_flow": null,
            "grid_auto_rows": null,
            "grid_column": null,
            "grid_gap": null,
            "grid_row": null,
            "grid_template_areas": null,
            "grid_template_columns": null,
            "grid_template_rows": null,
            "height": null,
            "justify_content": null,
            "justify_items": null,
            "left": null,
            "margin": null,
            "max_height": null,
            "max_width": null,
            "min_height": null,
            "min_width": null,
            "object_fit": null,
            "object_position": null,
            "order": null,
            "overflow": null,
            "overflow_x": null,
            "overflow_y": null,
            "padding": null,
            "right": null,
            "top": null,
            "visibility": null,
            "width": null
          }
        },
        "ef11944e1d0f454d82b3c9ed385f1eb4": {
          "model_module": "@jupyter-widgets/base",
          "model_name": "LayoutModel",
          "model_module_version": "1.2.0",
          "state": {
            "_model_module": "@jupyter-widgets/base",
            "_model_module_version": "1.2.0",
            "_model_name": "LayoutModel",
            "_view_count": null,
            "_view_module": "@jupyter-widgets/base",
            "_view_module_version": "1.2.0",
            "_view_name": "LayoutView",
            "align_content": null,
            "align_items": null,
            "align_self": null,
            "border": null,
            "bottom": null,
            "display": null,
            "flex": null,
            "flex_flow": null,
            "grid_area": null,
            "grid_auto_columns": null,
            "grid_auto_flow": null,
            "grid_auto_rows": null,
            "grid_column": null,
            "grid_gap": null,
            "grid_row": null,
            "grid_template_areas": null,
            "grid_template_columns": null,
            "grid_template_rows": null,
            "height": null,
            "justify_content": null,
            "justify_items": null,
            "left": null,
            "margin": null,
            "max_height": null,
            "max_width": null,
            "min_height": null,
            "min_width": null,
            "object_fit": null,
            "object_position": null,
            "order": null,
            "overflow": null,
            "overflow_x": null,
            "overflow_y": null,
            "padding": null,
            "right": null,
            "top": null,
            "visibility": null,
            "width": null
          }
        },
        "0eb876996dc548769d7f735a3e9dbb19": {
          "model_module": "@jupyter-widgets/controls",
          "model_name": "DescriptionStyleModel",
          "model_module_version": "1.5.0",
          "state": {
            "_model_module": "@jupyter-widgets/controls",
            "_model_module_version": "1.5.0",
            "_model_name": "DescriptionStyleModel",
            "_view_count": null,
            "_view_module": "@jupyter-widgets/base",
            "_view_module_version": "1.2.0",
            "_view_name": "StyleView",
            "description_width": ""
          }
        },
        "0acf6c81709348a59e9a958d6fdfd341": {
          "model_module": "@jupyter-widgets/base",
          "model_name": "LayoutModel",
          "model_module_version": "1.2.0",
          "state": {
            "_model_module": "@jupyter-widgets/base",
            "_model_module_version": "1.2.0",
            "_model_name": "LayoutModel",
            "_view_count": null,
            "_view_module": "@jupyter-widgets/base",
            "_view_module_version": "1.2.0",
            "_view_name": "LayoutView",
            "align_content": null,
            "align_items": null,
            "align_self": null,
            "border": null,
            "bottom": null,
            "display": null,
            "flex": null,
            "flex_flow": null,
            "grid_area": null,
            "grid_auto_columns": null,
            "grid_auto_flow": null,
            "grid_auto_rows": null,
            "grid_column": null,
            "grid_gap": null,
            "grid_row": null,
            "grid_template_areas": null,
            "grid_template_columns": null,
            "grid_template_rows": null,
            "height": null,
            "justify_content": null,
            "justify_items": null,
            "left": null,
            "margin": null,
            "max_height": null,
            "max_width": null,
            "min_height": null,
            "min_width": null,
            "object_fit": null,
            "object_position": null,
            "order": null,
            "overflow": null,
            "overflow_x": null,
            "overflow_y": null,
            "padding": null,
            "right": null,
            "top": null,
            "visibility": null,
            "width": null
          }
        },
        "673fda80331d407c95b390dd826fcc3c": {
          "model_module": "@jupyter-widgets/controls",
          "model_name": "ProgressStyleModel",
          "model_module_version": "1.5.0",
          "state": {
            "_model_module": "@jupyter-widgets/controls",
            "_model_module_version": "1.5.0",
            "_model_name": "ProgressStyleModel",
            "_view_count": null,
            "_view_module": "@jupyter-widgets/base",
            "_view_module_version": "1.2.0",
            "_view_name": "StyleView",
            "bar_color": null,
            "description_width": ""
          }
        },
        "db14084b0b1348e7a2bc935279d2f1bf": {
          "model_module": "@jupyter-widgets/base",
          "model_name": "LayoutModel",
          "model_module_version": "1.2.0",
          "state": {
            "_model_module": "@jupyter-widgets/base",
            "_model_module_version": "1.2.0",
            "_model_name": "LayoutModel",
            "_view_count": null,
            "_view_module": "@jupyter-widgets/base",
            "_view_module_version": "1.2.0",
            "_view_name": "LayoutView",
            "align_content": null,
            "align_items": null,
            "align_self": null,
            "border": null,
            "bottom": null,
            "display": null,
            "flex": null,
            "flex_flow": null,
            "grid_area": null,
            "grid_auto_columns": null,
            "grid_auto_flow": null,
            "grid_auto_rows": null,
            "grid_column": null,
            "grid_gap": null,
            "grid_row": null,
            "grid_template_areas": null,
            "grid_template_columns": null,
            "grid_template_rows": null,
            "height": null,
            "justify_content": null,
            "justify_items": null,
            "left": null,
            "margin": null,
            "max_height": null,
            "max_width": null,
            "min_height": null,
            "min_width": null,
            "object_fit": null,
            "object_position": null,
            "order": null,
            "overflow": null,
            "overflow_x": null,
            "overflow_y": null,
            "padding": null,
            "right": null,
            "top": null,
            "visibility": null,
            "width": null
          }
        },
        "84d6d7b7d60d41419a3e73546b69007a": {
          "model_module": "@jupyter-widgets/controls",
          "model_name": "DescriptionStyleModel",
          "model_module_version": "1.5.0",
          "state": {
            "_model_module": "@jupyter-widgets/controls",
            "_model_module_version": "1.5.0",
            "_model_name": "DescriptionStyleModel",
            "_view_count": null,
            "_view_module": "@jupyter-widgets/base",
            "_view_module_version": "1.2.0",
            "_view_name": "StyleView",
            "description_width": ""
          }
        },
        "6a68a41820544aa5acd32e09090c18c2": {
          "model_module": "@jupyter-widgets/controls",
          "model_name": "HBoxModel",
          "model_module_version": "1.5.0",
          "state": {
            "_dom_classes": [],
            "_model_module": "@jupyter-widgets/controls",
            "_model_module_version": "1.5.0",
            "_model_name": "HBoxModel",
            "_view_count": null,
            "_view_module": "@jupyter-widgets/controls",
            "_view_module_version": "1.5.0",
            "_view_name": "HBoxView",
            "box_style": "",
            "children": [
              "IPY_MODEL_3f005046b64c432db44e1b4d983cd160",
              "IPY_MODEL_96f14b94e9b344eab8e153e56fef9791",
              "IPY_MODEL_a84a0d16b1b4423ea9ab1a65a1b26a8c"
            ],
            "layout": "IPY_MODEL_0bff4ecac4e44acab5a984f0f512c6c6"
          }
        },
        "3f005046b64c432db44e1b4d983cd160": {
          "model_module": "@jupyter-widgets/controls",
          "model_name": "HTMLModel",
          "model_module_version": "1.5.0",
          "state": {
            "_dom_classes": [],
            "_model_module": "@jupyter-widgets/controls",
            "_model_module_version": "1.5.0",
            "_model_name": "HTMLModel",
            "_view_count": null,
            "_view_module": "@jupyter-widgets/controls",
            "_view_module_version": "1.5.0",
            "_view_name": "HTMLView",
            "description": "",
            "description_tooltip": null,
            "layout": "IPY_MODEL_354d6983853e411f81c321aecc90d649",
            "placeholder": "​",
            "style": "IPY_MODEL_f235b0ec7ae04b8eabd8f3bfd0d5d092",
            "value": "tokenizer.json: 100%"
          }
        },
        "96f14b94e9b344eab8e153e56fef9791": {
          "model_module": "@jupyter-widgets/controls",
          "model_name": "FloatProgressModel",
          "model_module_version": "1.5.0",
          "state": {
            "_dom_classes": [],
            "_model_module": "@jupyter-widgets/controls",
            "_model_module_version": "1.5.0",
            "_model_name": "FloatProgressModel",
            "_view_count": null,
            "_view_module": "@jupyter-widgets/controls",
            "_view_module_version": "1.5.0",
            "_view_name": "ProgressView",
            "bar_style": "success",
            "description": "",
            "description_tooltip": null,
            "layout": "IPY_MODEL_009e23919b0e44569f93e6cab3a06d7c",
            "max": 3527936,
            "min": 0,
            "orientation": "horizontal",
            "style": "IPY_MODEL_78742a996ddb423fbb2c2ab6d4d41d96",
            "value": 3527936
          }
        },
        "a84a0d16b1b4423ea9ab1a65a1b26a8c": {
          "model_module": "@jupyter-widgets/controls",
          "model_name": "HTMLModel",
          "model_module_version": "1.5.0",
          "state": {
            "_dom_classes": [],
            "_model_module": "@jupyter-widgets/controls",
            "_model_module_version": "1.5.0",
            "_model_name": "HTMLModel",
            "_view_count": null,
            "_view_module": "@jupyter-widgets/controls",
            "_view_module_version": "1.5.0",
            "_view_name": "HTMLView",
            "description": "",
            "description_tooltip": null,
            "layout": "IPY_MODEL_7e770a1d39f24cb6ba3cfbe50fea56a3",
            "placeholder": "​",
            "style": "IPY_MODEL_e365104d60ff4dada173e2e8f67eb080",
            "value": " 3.53M/3.53M [00:00&lt;00:00, 16.2MB/s]"
          }
        },
        "0bff4ecac4e44acab5a984f0f512c6c6": {
          "model_module": "@jupyter-widgets/base",
          "model_name": "LayoutModel",
          "model_module_version": "1.2.0",
          "state": {
            "_model_module": "@jupyter-widgets/base",
            "_model_module_version": "1.2.0",
            "_model_name": "LayoutModel",
            "_view_count": null,
            "_view_module": "@jupyter-widgets/base",
            "_view_module_version": "1.2.0",
            "_view_name": "LayoutView",
            "align_content": null,
            "align_items": null,
            "align_self": null,
            "border": null,
            "bottom": null,
            "display": null,
            "flex": null,
            "flex_flow": null,
            "grid_area": null,
            "grid_auto_columns": null,
            "grid_auto_flow": null,
            "grid_auto_rows": null,
            "grid_column": null,
            "grid_gap": null,
            "grid_row": null,
            "grid_template_areas": null,
            "grid_template_columns": null,
            "grid_template_rows": null,
            "height": null,
            "justify_content": null,
            "justify_items": null,
            "left": null,
            "margin": null,
            "max_height": null,
            "max_width": null,
            "min_height": null,
            "min_width": null,
            "object_fit": null,
            "object_position": null,
            "order": null,
            "overflow": null,
            "overflow_x": null,
            "overflow_y": null,
            "padding": null,
            "right": null,
            "top": null,
            "visibility": null,
            "width": null
          }
        },
        "354d6983853e411f81c321aecc90d649": {
          "model_module": "@jupyter-widgets/base",
          "model_name": "LayoutModel",
          "model_module_version": "1.2.0",
          "state": {
            "_model_module": "@jupyter-widgets/base",
            "_model_module_version": "1.2.0",
            "_model_name": "LayoutModel",
            "_view_count": null,
            "_view_module": "@jupyter-widgets/base",
            "_view_module_version": "1.2.0",
            "_view_name": "LayoutView",
            "align_content": null,
            "align_items": null,
            "align_self": null,
            "border": null,
            "bottom": null,
            "display": null,
            "flex": null,
            "flex_flow": null,
            "grid_area": null,
            "grid_auto_columns": null,
            "grid_auto_flow": null,
            "grid_auto_rows": null,
            "grid_column": null,
            "grid_gap": null,
            "grid_row": null,
            "grid_template_areas": null,
            "grid_template_columns": null,
            "grid_template_rows": null,
            "height": null,
            "justify_content": null,
            "justify_items": null,
            "left": null,
            "margin": null,
            "max_height": null,
            "max_width": null,
            "min_height": null,
            "min_width": null,
            "object_fit": null,
            "object_position": null,
            "order": null,
            "overflow": null,
            "overflow_x": null,
            "overflow_y": null,
            "padding": null,
            "right": null,
            "top": null,
            "visibility": null,
            "width": null
          }
        },
        "f235b0ec7ae04b8eabd8f3bfd0d5d092": {
          "model_module": "@jupyter-widgets/controls",
          "model_name": "DescriptionStyleModel",
          "model_module_version": "1.5.0",
          "state": {
            "_model_module": "@jupyter-widgets/controls",
            "_model_module_version": "1.5.0",
            "_model_name": "DescriptionStyleModel",
            "_view_count": null,
            "_view_module": "@jupyter-widgets/base",
            "_view_module_version": "1.2.0",
            "_view_name": "StyleView",
            "description_width": ""
          }
        },
        "009e23919b0e44569f93e6cab3a06d7c": {
          "model_module": "@jupyter-widgets/base",
          "model_name": "LayoutModel",
          "model_module_version": "1.2.0",
          "state": {
            "_model_module": "@jupyter-widgets/base",
            "_model_module_version": "1.2.0",
            "_model_name": "LayoutModel",
            "_view_count": null,
            "_view_module": "@jupyter-widgets/base",
            "_view_module_version": "1.2.0",
            "_view_name": "LayoutView",
            "align_content": null,
            "align_items": null,
            "align_self": null,
            "border": null,
            "bottom": null,
            "display": null,
            "flex": null,
            "flex_flow": null,
            "grid_area": null,
            "grid_auto_columns": null,
            "grid_auto_flow": null,
            "grid_auto_rows": null,
            "grid_column": null,
            "grid_gap": null,
            "grid_row": null,
            "grid_template_areas": null,
            "grid_template_columns": null,
            "grid_template_rows": null,
            "height": null,
            "justify_content": null,
            "justify_items": null,
            "left": null,
            "margin": null,
            "max_height": null,
            "max_width": null,
            "min_height": null,
            "min_width": null,
            "object_fit": null,
            "object_position": null,
            "order": null,
            "overflow": null,
            "overflow_x": null,
            "overflow_y": null,
            "padding": null,
            "right": null,
            "top": null,
            "visibility": null,
            "width": null
          }
        },
        "78742a996ddb423fbb2c2ab6d4d41d96": {
          "model_module": "@jupyter-widgets/controls",
          "model_name": "ProgressStyleModel",
          "model_module_version": "1.5.0",
          "state": {
            "_model_module": "@jupyter-widgets/controls",
            "_model_module_version": "1.5.0",
            "_model_name": "ProgressStyleModel",
            "_view_count": null,
            "_view_module": "@jupyter-widgets/base",
            "_view_module_version": "1.2.0",
            "_view_name": "StyleView",
            "bar_color": null,
            "description_width": ""
          }
        },
        "7e770a1d39f24cb6ba3cfbe50fea56a3": {
          "model_module": "@jupyter-widgets/base",
          "model_name": "LayoutModel",
          "model_module_version": "1.2.0",
          "state": {
            "_model_module": "@jupyter-widgets/base",
            "_model_module_version": "1.2.0",
            "_model_name": "LayoutModel",
            "_view_count": null,
            "_view_module": "@jupyter-widgets/base",
            "_view_module_version": "1.2.0",
            "_view_name": "LayoutView",
            "align_content": null,
            "align_items": null,
            "align_self": null,
            "border": null,
            "bottom": null,
            "display": null,
            "flex": null,
            "flex_flow": null,
            "grid_area": null,
            "grid_auto_columns": null,
            "grid_auto_flow": null,
            "grid_auto_rows": null,
            "grid_column": null,
            "grid_gap": null,
            "grid_row": null,
            "grid_template_areas": null,
            "grid_template_columns": null,
            "grid_template_rows": null,
            "height": null,
            "justify_content": null,
            "justify_items": null,
            "left": null,
            "margin": null,
            "max_height": null,
            "max_width": null,
            "min_height": null,
            "min_width": null,
            "object_fit": null,
            "object_position": null,
            "order": null,
            "overflow": null,
            "overflow_x": null,
            "overflow_y": null,
            "padding": null,
            "right": null,
            "top": null,
            "visibility": null,
            "width": null
          }
        },
        "e365104d60ff4dada173e2e8f67eb080": {
          "model_module": "@jupyter-widgets/controls",
          "model_name": "DescriptionStyleModel",
          "model_module_version": "1.5.0",
          "state": {
            "_model_module": "@jupyter-widgets/controls",
            "_model_module_version": "1.5.0",
            "_model_name": "DescriptionStyleModel",
            "_view_count": null,
            "_view_module": "@jupyter-widgets/base",
            "_view_module_version": "1.2.0",
            "_view_name": "StyleView",
            "description_width": ""
          }
        },
        "f32fe5cc94f546df901391546cd339f5": {
          "model_module": "@jupyter-widgets/controls",
          "model_name": "HBoxModel",
          "model_module_version": "1.5.0",
          "state": {
            "_dom_classes": [],
            "_model_module": "@jupyter-widgets/controls",
            "_model_module_version": "1.5.0",
            "_model_name": "HBoxModel",
            "_view_count": null,
            "_view_module": "@jupyter-widgets/controls",
            "_view_module_version": "1.5.0",
            "_view_name": "HBoxView",
            "box_style": "",
            "children": [
              "IPY_MODEL_0b1b7e6118574dd38d5278a2fc9a116c",
              "IPY_MODEL_625b97ca2d1246798fc54e3c2e678344",
              "IPY_MODEL_a698fad72d164f2a95fabb720b183b3f"
            ],
            "layout": "IPY_MODEL_3230015d32c2406c936a3a8da0480f01"
          }
        },
        "0b1b7e6118574dd38d5278a2fc9a116c": {
          "model_module": "@jupyter-widgets/controls",
          "model_name": "HTMLModel",
          "model_module_version": "1.5.0",
          "state": {
            "_dom_classes": [],
            "_model_module": "@jupyter-widgets/controls",
            "_model_module_version": "1.5.0",
            "_model_name": "HTMLModel",
            "_view_count": null,
            "_view_module": "@jupyter-widgets/controls",
            "_view_module_version": "1.5.0",
            "_view_name": "HTMLView",
            "description": "",
            "description_tooltip": null,
            "layout": "IPY_MODEL_fe25ef0fe21f4b05befc54edf4b5cb49",
            "placeholder": "​",
            "style": "IPY_MODEL_6b96d8dccc5c40b5b5ded2773806761b",
            "value": "special_tokens_map.json: 100%"
          }
        },
        "625b97ca2d1246798fc54e3c2e678344": {
          "model_module": "@jupyter-widgets/controls",
          "model_name": "FloatProgressModel",
          "model_module_version": "1.5.0",
          "state": {
            "_dom_classes": [],
            "_model_module": "@jupyter-widgets/controls",
            "_model_module_version": "1.5.0",
            "_model_name": "FloatProgressModel",
            "_view_count": null,
            "_view_module": "@jupyter-widgets/controls",
            "_view_module_version": "1.5.0",
            "_view_name": "ProgressView",
            "bar_style": "success",
            "description": "",
            "description_tooltip": null,
            "layout": "IPY_MODEL_142e5f75914c4294af0ffb6790f830b5",
            "max": 3,
            "min": 0,
            "orientation": "horizontal",
            "style": "IPY_MODEL_486b919bef264d838e2c7f27a37c602e",
            "value": 3
          }
        },
        "a698fad72d164f2a95fabb720b183b3f": {
          "model_module": "@jupyter-widgets/controls",
          "model_name": "HTMLModel",
          "model_module_version": "1.5.0",
          "state": {
            "_dom_classes": [],
            "_model_module": "@jupyter-widgets/controls",
            "_model_module_version": "1.5.0",
            "_model_name": "HTMLModel",
            "_view_count": null,
            "_view_module": "@jupyter-widgets/controls",
            "_view_module_version": "1.5.0",
            "_view_name": "HTMLView",
            "description": "",
            "description_tooltip": null,
            "layout": "IPY_MODEL_f11f6171bf814086a957b0da8fd202a5",
            "placeholder": "​",
            "style": "IPY_MODEL_879a514cbff243c085b7de5b95f1f238",
            "value": " 3.00/3.00 [00:00&lt;00:00, 152B/s]"
          }
        },
        "3230015d32c2406c936a3a8da0480f01": {
          "model_module": "@jupyter-widgets/base",
          "model_name": "LayoutModel",
          "model_module_version": "1.2.0",
          "state": {
            "_model_module": "@jupyter-widgets/base",
            "_model_module_version": "1.2.0",
            "_model_name": "LayoutModel",
            "_view_count": null,
            "_view_module": "@jupyter-widgets/base",
            "_view_module_version": "1.2.0",
            "_view_name": "LayoutView",
            "align_content": null,
            "align_items": null,
            "align_self": null,
            "border": null,
            "bottom": null,
            "display": null,
            "flex": null,
            "flex_flow": null,
            "grid_area": null,
            "grid_auto_columns": null,
            "grid_auto_flow": null,
            "grid_auto_rows": null,
            "grid_column": null,
            "grid_gap": null,
            "grid_row": null,
            "grid_template_areas": null,
            "grid_template_columns": null,
            "grid_template_rows": null,
            "height": null,
            "justify_content": null,
            "justify_items": null,
            "left": null,
            "margin": null,
            "max_height": null,
            "max_width": null,
            "min_height": null,
            "min_width": null,
            "object_fit": null,
            "object_position": null,
            "order": null,
            "overflow": null,
            "overflow_x": null,
            "overflow_y": null,
            "padding": null,
            "right": null,
            "top": null,
            "visibility": null,
            "width": null
          }
        },
        "fe25ef0fe21f4b05befc54edf4b5cb49": {
          "model_module": "@jupyter-widgets/base",
          "model_name": "LayoutModel",
          "model_module_version": "1.2.0",
          "state": {
            "_model_module": "@jupyter-widgets/base",
            "_model_module_version": "1.2.0",
            "_model_name": "LayoutModel",
            "_view_count": null,
            "_view_module": "@jupyter-widgets/base",
            "_view_module_version": "1.2.0",
            "_view_name": "LayoutView",
            "align_content": null,
            "align_items": null,
            "align_self": null,
            "border": null,
            "bottom": null,
            "display": null,
            "flex": null,
            "flex_flow": null,
            "grid_area": null,
            "grid_auto_columns": null,
            "grid_auto_flow": null,
            "grid_auto_rows": null,
            "grid_column": null,
            "grid_gap": null,
            "grid_row": null,
            "grid_template_areas": null,
            "grid_template_columns": null,
            "grid_template_rows": null,
            "height": null,
            "justify_content": null,
            "justify_items": null,
            "left": null,
            "margin": null,
            "max_height": null,
            "max_width": null,
            "min_height": null,
            "min_width": null,
            "object_fit": null,
            "object_position": null,
            "order": null,
            "overflow": null,
            "overflow_x": null,
            "overflow_y": null,
            "padding": null,
            "right": null,
            "top": null,
            "visibility": null,
            "width": null
          }
        },
        "6b96d8dccc5c40b5b5ded2773806761b": {
          "model_module": "@jupyter-widgets/controls",
          "model_name": "DescriptionStyleModel",
          "model_module_version": "1.5.0",
          "state": {
            "_model_module": "@jupyter-widgets/controls",
            "_model_module_version": "1.5.0",
            "_model_name": "DescriptionStyleModel",
            "_view_count": null,
            "_view_module": "@jupyter-widgets/base",
            "_view_module_version": "1.2.0",
            "_view_name": "StyleView",
            "description_width": ""
          }
        },
        "142e5f75914c4294af0ffb6790f830b5": {
          "model_module": "@jupyter-widgets/base",
          "model_name": "LayoutModel",
          "model_module_version": "1.2.0",
          "state": {
            "_model_module": "@jupyter-widgets/base",
            "_model_module_version": "1.2.0",
            "_model_name": "LayoutModel",
            "_view_count": null,
            "_view_module": "@jupyter-widgets/base",
            "_view_module_version": "1.2.0",
            "_view_name": "LayoutView",
            "align_content": null,
            "align_items": null,
            "align_self": null,
            "border": null,
            "bottom": null,
            "display": null,
            "flex": null,
            "flex_flow": null,
            "grid_area": null,
            "grid_auto_columns": null,
            "grid_auto_flow": null,
            "grid_auto_rows": null,
            "grid_column": null,
            "grid_gap": null,
            "grid_row": null,
            "grid_template_areas": null,
            "grid_template_columns": null,
            "grid_template_rows": null,
            "height": null,
            "justify_content": null,
            "justify_items": null,
            "left": null,
            "margin": null,
            "max_height": null,
            "max_width": null,
            "min_height": null,
            "min_width": null,
            "object_fit": null,
            "object_position": null,
            "order": null,
            "overflow": null,
            "overflow_x": null,
            "overflow_y": null,
            "padding": null,
            "right": null,
            "top": null,
            "visibility": null,
            "width": null
          }
        },
        "486b919bef264d838e2c7f27a37c602e": {
          "model_module": "@jupyter-widgets/controls",
          "model_name": "ProgressStyleModel",
          "model_module_version": "1.5.0",
          "state": {
            "_model_module": "@jupyter-widgets/controls",
            "_model_module_version": "1.5.0",
            "_model_name": "ProgressStyleModel",
            "_view_count": null,
            "_view_module": "@jupyter-widgets/base",
            "_view_module_version": "1.2.0",
            "_view_name": "StyleView",
            "bar_color": null,
            "description_width": ""
          }
        },
        "f11f6171bf814086a957b0da8fd202a5": {
          "model_module": "@jupyter-widgets/base",
          "model_name": "LayoutModel",
          "model_module_version": "1.2.0",
          "state": {
            "_model_module": "@jupyter-widgets/base",
            "_model_module_version": "1.2.0",
            "_model_name": "LayoutModel",
            "_view_count": null,
            "_view_module": "@jupyter-widgets/base",
            "_view_module_version": "1.2.0",
            "_view_name": "LayoutView",
            "align_content": null,
            "align_items": null,
            "align_self": null,
            "border": null,
            "bottom": null,
            "display": null,
            "flex": null,
            "flex_flow": null,
            "grid_area": null,
            "grid_auto_columns": null,
            "grid_auto_flow": null,
            "grid_auto_rows": null,
            "grid_column": null,
            "grid_gap": null,
            "grid_row": null,
            "grid_template_areas": null,
            "grid_template_columns": null,
            "grid_template_rows": null,
            "height": null,
            "justify_content": null,
            "justify_items": null,
            "left": null,
            "margin": null,
            "max_height": null,
            "max_width": null,
            "min_height": null,
            "min_width": null,
            "object_fit": null,
            "object_position": null,
            "order": null,
            "overflow": null,
            "overflow_x": null,
            "overflow_y": null,
            "padding": null,
            "right": null,
            "top": null,
            "visibility": null,
            "width": null
          }
        },
        "879a514cbff243c085b7de5b95f1f238": {
          "model_module": "@jupyter-widgets/controls",
          "model_name": "DescriptionStyleModel",
          "model_module_version": "1.5.0",
          "state": {
            "_model_module": "@jupyter-widgets/controls",
            "_model_module_version": "1.5.0",
            "_model_name": "DescriptionStyleModel",
            "_view_count": null,
            "_view_module": "@jupyter-widgets/base",
            "_view_module_version": "1.2.0",
            "_view_name": "StyleView",
            "description_width": ""
          }
        }
      }
    }
  },
  "nbformat": 4,
  "nbformat_minor": 0
}