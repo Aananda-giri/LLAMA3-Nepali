{
 "cells": [
  {
   "cell_type": "markdown",
   "id": "l5clKNOvcPf9",
   "metadata": {
    "id": "l5clKNOvcPf9"
   },
   "source": [
    "# Alert! See TODO's (for actual training)"
   ]
  },
  {
   "cell_type": "markdown",
   "id": "e1b280ab-b61f-4d1a-bf7e-44e5f9ed3a5c",
   "metadata": {
    "id": "e1b280ab-b61f-4d1a-bf7e-44e5f9ed3a5c"
   },
   "source": [
    "<table style=\"width:100%\">\n",
    "<tr>\n",
    "<td style=\"vertical-align:middle; text-align:left;\">\n",
    "<font size=\"2\">\n",
    "Supplementary code for the <a href=\"http://mng.bz/orYv\">Build a Large Language Model From Scratch</a> book by <a href=\"https://sebastianraschka.com\">Sebastian Raschka</a><br>\n",
    "<br>Code repository: <a href=\"https://github.com/rasbt/LLMs-from-scratch\">https://github.com/rasbt/LLMs-from-scratch</a>\n",
    "</font>\n",
    "</td>\n",
    "<td style=\"vertical-align:middle; text-align:left;\">\n",
    "<a href=\"http://mng.bz/orYv\"><img src=\"https://sebastianraschka.com/images/LLMs-from-scratch-images/cover-small.webp\" width=\"100px\"></a>\n",
    "</td>\n",
    "</tr>\n",
    "</table>"
   ]
  },
  {
   "cell_type": "markdown",
   "id": "efde77f2-6af3-4781-8597-89ecd3f41a52",
   "metadata": {
    "id": "efde77f2-6af3-4781-8597-89ecd3f41a52"
   },
   "source": [
    "# Llama 3.2 From Scratch (A Standalone Notebook)"
   ]
  },
  {
   "cell_type": "markdown",
   "id": "55cdef4d-de59-4a65-89f9-fa2a8ef3471d",
   "metadata": {
    "id": "55cdef4d-de59-4a65-89f9-fa2a8ef3471d"
   },
   "source": [
    "- This notebook is purposefully minimal and focuses on the code to implement the Llama 3.2 1B and 3B LLMs\n",
    "- For a step-by-step guide that explains the individual components and the relationship between GPT, Llama 2, and Llama 3, please see the following companion notebooks:\n",
    "  - [Converting a From-Scratch GPT Architecture to Llama 2](converting-gpt-to-llama2.ipynb)\n",
    "  - [Converting Llama 2 to Llama 3.2 From Scratch](converting-llama2-to-llama3.ipynb)\n",
    "  \n",
    "\n",
    "<img src=\"https://sebastianraschka.com/images/LLMs-from-scratch-images/bonus/gpt-to-llama/llama32.webp\" width=\"700px\">\n",
    "  \n",
    "  \n",
    "- About the code:\n",
    "  - all code is my own code, mapping the Llama 3 architecture onto the model code implemented in my [Build A Large Language Model (From Scratch)](http://mng.bz/orYv) book; the code is released under a permissive open-source Apache 2.0 license (see [LICENSE.txt](https://github.com/rasbt/LLMs-from-scratch/blob/main/LICENSE.txt))\n",
    "  - the tokenizer code is inspired by the original [Llama 3 tokenizer code](https://github.com/meta-llama/llama3/blob/main/llama/tokenizer.py), which Meta AI used to to extends the Tiktoken GPT-4 tokenizer\n",
    "  - the RoPE rescaling section is inspired by the [_compute_llama3_parameters function](https://github.com/huggingface/transformers/blob/5c1027bf09717f664b579e01cbb8ec3ef5aeb140/src/transformers/modeling_rope_utils.py#L329-L347) in the `transformers` library"
   ]
  },
  {
   "cell_type": "code",
   "execution_count": 1,
   "id": "7c201adb-747e-437b-9a62-442802941e01",
   "metadata": {
    "colab": {
     "base_uri": "https://localhost:8080/"
    },
    "id": "7c201adb-747e-437b-9a62-442802941e01",
    "outputId": "de5cc0ef-b6a1-404f-d5b0-f2f75e923e18"
   },
   "outputs": [
    {
     "name": "stdout",
     "output_type": "stream",
     "text": [
      "Collecting blobfile>=3.0.0 (from -r https://raw.githubusercontent.com/rasbt/LLMs-from-scratch/refs/heads/main/ch05/07_gpt_to_llama/requirements-extra.txt (line 1))\n",
      "  Downloading blobfile-3.0.0-py3-none-any.whl.metadata (15 kB)\n",
      "Requirement already satisfied: huggingface_hub>=0.24.7 in /usr/local/lib/python3.10/dist-packages (from -r https://raw.githubusercontent.com/rasbt/LLMs-from-scratch/refs/heads/main/ch05/07_gpt_to_llama/requirements-extra.txt (line 2)) (0.26.5)\n",
      "Collecting ipywidgets>=8.1.2 (from -r https://raw.githubusercontent.com/rasbt/LLMs-from-scratch/refs/heads/main/ch05/07_gpt_to_llama/requirements-extra.txt (line 3))\n",
      "  Downloading ipywidgets-8.1.5-py3-none-any.whl.metadata (2.3 kB)\n",
      "Requirement already satisfied: safetensors>=0.4.4 in /usr/local/lib/python3.10/dist-packages (from -r https://raw.githubusercontent.com/rasbt/LLMs-from-scratch/refs/heads/main/ch05/07_gpt_to_llama/requirements-extra.txt (line 4)) (0.4.5)\n",
      "Requirement already satisfied: sentencepiece>=0.1.99 in /usr/local/lib/python3.10/dist-packages (from -r https://raw.githubusercontent.com/rasbt/LLMs-from-scratch/refs/heads/main/ch05/07_gpt_to_llama/requirements-extra.txt (line 5)) (0.2.0)\n",
      "Collecting pycryptodomex>=3.8 (from blobfile>=3.0.0->-r https://raw.githubusercontent.com/rasbt/LLMs-from-scratch/refs/heads/main/ch05/07_gpt_to_llama/requirements-extra.txt (line 1))\n",
      "  Downloading pycryptodomex-3.21.0-cp36-abi3-manylinux_2_17_x86_64.manylinux2014_x86_64.whl.metadata (3.4 kB)\n",
      "Requirement already satisfied: urllib3<3,>=1.25.3 in /usr/local/lib/python3.10/dist-packages (from blobfile>=3.0.0->-r https://raw.githubusercontent.com/rasbt/LLMs-from-scratch/refs/heads/main/ch05/07_gpt_to_llama/requirements-extra.txt (line 1)) (2.2.3)\n",
      "Requirement already satisfied: lxml>=4.9 in /usr/local/lib/python3.10/dist-packages (from blobfile>=3.0.0->-r https://raw.githubusercontent.com/rasbt/LLMs-from-scratch/refs/heads/main/ch05/07_gpt_to_llama/requirements-extra.txt (line 1)) (5.3.0)\n",
      "Requirement already satisfied: filelock>=3.0 in /usr/local/lib/python3.10/dist-packages (from blobfile>=3.0.0->-r https://raw.githubusercontent.com/rasbt/LLMs-from-scratch/refs/heads/main/ch05/07_gpt_to_llama/requirements-extra.txt (line 1)) (3.16.1)\n",
      "Requirement already satisfied: fsspec>=2023.5.0 in /usr/local/lib/python3.10/dist-packages (from huggingface_hub>=0.24.7->-r https://raw.githubusercontent.com/rasbt/LLMs-from-scratch/refs/heads/main/ch05/07_gpt_to_llama/requirements-extra.txt (line 2)) (2024.10.0)\n",
      "Requirement already satisfied: packaging>=20.9 in /usr/local/lib/python3.10/dist-packages (from huggingface_hub>=0.24.7->-r https://raw.githubusercontent.com/rasbt/LLMs-from-scratch/refs/heads/main/ch05/07_gpt_to_llama/requirements-extra.txt (line 2)) (24.2)\n",
      "Requirement already satisfied: pyyaml>=5.1 in /usr/local/lib/python3.10/dist-packages (from huggingface_hub>=0.24.7->-r https://raw.githubusercontent.com/rasbt/LLMs-from-scratch/refs/heads/main/ch05/07_gpt_to_llama/requirements-extra.txt (line 2)) (6.0.2)\n",
      "Requirement already satisfied: requests in /usr/local/lib/python3.10/dist-packages (from huggingface_hub>=0.24.7->-r https://raw.githubusercontent.com/rasbt/LLMs-from-scratch/refs/heads/main/ch05/07_gpt_to_llama/requirements-extra.txt (line 2)) (2.32.3)\n",
      "Requirement already satisfied: tqdm>=4.42.1 in /usr/local/lib/python3.10/dist-packages (from huggingface_hub>=0.24.7->-r https://raw.githubusercontent.com/rasbt/LLMs-from-scratch/refs/heads/main/ch05/07_gpt_to_llama/requirements-extra.txt (line 2)) (4.66.6)\n",
      "Requirement already satisfied: typing-extensions>=3.7.4.3 in /usr/local/lib/python3.10/dist-packages (from huggingface_hub>=0.24.7->-r https://raw.githubusercontent.com/rasbt/LLMs-from-scratch/refs/heads/main/ch05/07_gpt_to_llama/requirements-extra.txt (line 2)) (4.12.2)\n",
      "Collecting comm>=0.1.3 (from ipywidgets>=8.1.2->-r https://raw.githubusercontent.com/rasbt/LLMs-from-scratch/refs/heads/main/ch05/07_gpt_to_llama/requirements-extra.txt (line 3))\n",
      "  Downloading comm-0.2.2-py3-none-any.whl.metadata (3.7 kB)\n",
      "Requirement already satisfied: ipython>=6.1.0 in /usr/local/lib/python3.10/dist-packages (from ipywidgets>=8.1.2->-r https://raw.githubusercontent.com/rasbt/LLMs-from-scratch/refs/heads/main/ch05/07_gpt_to_llama/requirements-extra.txt (line 3)) (7.34.0)\n",
      "Requirement already satisfied: traitlets>=4.3.1 in /usr/local/lib/python3.10/dist-packages (from ipywidgets>=8.1.2->-r https://raw.githubusercontent.com/rasbt/LLMs-from-scratch/refs/heads/main/ch05/07_gpt_to_llama/requirements-extra.txt (line 3)) (5.7.1)\n",
      "Collecting widgetsnbextension~=4.0.12 (from ipywidgets>=8.1.2->-r https://raw.githubusercontent.com/rasbt/LLMs-from-scratch/refs/heads/main/ch05/07_gpt_to_llama/requirements-extra.txt (line 3))\n",
      "  Downloading widgetsnbextension-4.0.13-py3-none-any.whl.metadata (1.6 kB)\n",
      "Requirement already satisfied: jupyterlab-widgets~=3.0.12 in /usr/local/lib/python3.10/dist-packages (from ipywidgets>=8.1.2->-r https://raw.githubusercontent.com/rasbt/LLMs-from-scratch/refs/heads/main/ch05/07_gpt_to_llama/requirements-extra.txt (line 3)) (3.0.13)\n",
      "Requirement already satisfied: setuptools>=18.5 in /usr/local/lib/python3.10/dist-packages (from ipython>=6.1.0->ipywidgets>=8.1.2->-r https://raw.githubusercontent.com/rasbt/LLMs-from-scratch/refs/heads/main/ch05/07_gpt_to_llama/requirements-extra.txt (line 3)) (75.1.0)\n",
      "Collecting jedi>=0.16 (from ipython>=6.1.0->ipywidgets>=8.1.2->-r https://raw.githubusercontent.com/rasbt/LLMs-from-scratch/refs/heads/main/ch05/07_gpt_to_llama/requirements-extra.txt (line 3))\n",
      "  Downloading jedi-0.19.2-py2.py3-none-any.whl.metadata (22 kB)\n",
      "Requirement already satisfied: decorator in /usr/local/lib/python3.10/dist-packages (from ipython>=6.1.0->ipywidgets>=8.1.2->-r https://raw.githubusercontent.com/rasbt/LLMs-from-scratch/refs/heads/main/ch05/07_gpt_to_llama/requirements-extra.txt (line 3)) (4.4.2)\n",
      "Requirement already satisfied: pickleshare in /usr/local/lib/python3.10/dist-packages (from ipython>=6.1.0->ipywidgets>=8.1.2->-r https://raw.githubusercontent.com/rasbt/LLMs-from-scratch/refs/heads/main/ch05/07_gpt_to_llama/requirements-extra.txt (line 3)) (0.7.5)\n",
      "Requirement already satisfied: prompt-toolkit!=3.0.0,!=3.0.1,<3.1.0,>=2.0.0 in /usr/local/lib/python3.10/dist-packages (from ipython>=6.1.0->ipywidgets>=8.1.2->-r https://raw.githubusercontent.com/rasbt/LLMs-from-scratch/refs/heads/main/ch05/07_gpt_to_llama/requirements-extra.txt (line 3)) (3.0.48)\n",
      "Requirement already satisfied: pygments in /usr/local/lib/python3.10/dist-packages (from ipython>=6.1.0->ipywidgets>=8.1.2->-r https://raw.githubusercontent.com/rasbt/LLMs-from-scratch/refs/heads/main/ch05/07_gpt_to_llama/requirements-extra.txt (line 3)) (2.18.0)\n",
      "Requirement already satisfied: backcall in /usr/local/lib/python3.10/dist-packages (from ipython>=6.1.0->ipywidgets>=8.1.2->-r https://raw.githubusercontent.com/rasbt/LLMs-from-scratch/refs/heads/main/ch05/07_gpt_to_llama/requirements-extra.txt (line 3)) (0.2.0)\n",
      "Requirement already satisfied: matplotlib-inline in /usr/local/lib/python3.10/dist-packages (from ipython>=6.1.0->ipywidgets>=8.1.2->-r https://raw.githubusercontent.com/rasbt/LLMs-from-scratch/refs/heads/main/ch05/07_gpt_to_llama/requirements-extra.txt (line 3)) (0.1.7)\n",
      "Requirement already satisfied: pexpect>4.3 in /usr/local/lib/python3.10/dist-packages (from ipython>=6.1.0->ipywidgets>=8.1.2->-r https://raw.githubusercontent.com/rasbt/LLMs-from-scratch/refs/heads/main/ch05/07_gpt_to_llama/requirements-extra.txt (line 3)) (4.9.0)\n",
      "Requirement already satisfied: charset-normalizer<4,>=2 in /usr/local/lib/python3.10/dist-packages (from requests->huggingface_hub>=0.24.7->-r https://raw.githubusercontent.com/rasbt/LLMs-from-scratch/refs/heads/main/ch05/07_gpt_to_llama/requirements-extra.txt (line 2)) (3.4.0)\n",
      "Requirement already satisfied: idna<4,>=2.5 in /usr/local/lib/python3.10/dist-packages (from requests->huggingface_hub>=0.24.7->-r https://raw.githubusercontent.com/rasbt/LLMs-from-scratch/refs/heads/main/ch05/07_gpt_to_llama/requirements-extra.txt (line 2)) (3.10)\n",
      "Requirement already satisfied: certifi>=2017.4.17 in /usr/local/lib/python3.10/dist-packages (from requests->huggingface_hub>=0.24.7->-r https://raw.githubusercontent.com/rasbt/LLMs-from-scratch/refs/heads/main/ch05/07_gpt_to_llama/requirements-extra.txt (line 2)) (2024.8.30)\n",
      "Requirement already satisfied: parso<0.9.0,>=0.8.4 in /usr/local/lib/python3.10/dist-packages (from jedi>=0.16->ipython>=6.1.0->ipywidgets>=8.1.2->-r https://raw.githubusercontent.com/rasbt/LLMs-from-scratch/refs/heads/main/ch05/07_gpt_to_llama/requirements-extra.txt (line 3)) (0.8.4)\n",
      "Requirement already satisfied: ptyprocess>=0.5 in /usr/local/lib/python3.10/dist-packages (from pexpect>4.3->ipython>=6.1.0->ipywidgets>=8.1.2->-r https://raw.githubusercontent.com/rasbt/LLMs-from-scratch/refs/heads/main/ch05/07_gpt_to_llama/requirements-extra.txt (line 3)) (0.7.0)\n",
      "Requirement already satisfied: wcwidth in /usr/local/lib/python3.10/dist-packages (from prompt-toolkit!=3.0.0,!=3.0.1,<3.1.0,>=2.0.0->ipython>=6.1.0->ipywidgets>=8.1.2->-r https://raw.githubusercontent.com/rasbt/LLMs-from-scratch/refs/heads/main/ch05/07_gpt_to_llama/requirements-extra.txt (line 3)) (0.2.13)\n",
      "Downloading blobfile-3.0.0-py3-none-any.whl (75 kB)\n",
      "\u001b[2K   \u001b[90m━━━━━━━━━━━━━━━━━━━━━━━━━━━━━━━━━━━━━━━━\u001b[0m \u001b[32m75.4/75.4 kB\u001b[0m \u001b[31m4.3 MB/s\u001b[0m eta \u001b[36m0:00:00\u001b[0m\n",
      "\u001b[?25hDownloading ipywidgets-8.1.5-py3-none-any.whl (139 kB)\n",
      "\u001b[2K   \u001b[90m━━━━━━━━━━━━━━━━━━━━━━━━━━━━━━━━━━━━━━━━\u001b[0m \u001b[32m139.8/139.8 kB\u001b[0m \u001b[31m10.4 MB/s\u001b[0m eta \u001b[36m0:00:00\u001b[0m\n",
      "\u001b[?25hDownloading comm-0.2.2-py3-none-any.whl (7.2 kB)\n",
      "Downloading pycryptodomex-3.21.0-cp36-abi3-manylinux_2_17_x86_64.manylinux2014_x86_64.whl (2.3 MB)\n",
      "\u001b[2K   \u001b[90m━━━━━━━━━━━━━━━━━━━━━━━━━━━━━━━━━━━━━━━━\u001b[0m \u001b[32m2.3/2.3 MB\u001b[0m \u001b[31m45.2 MB/s\u001b[0m eta \u001b[36m0:00:00\u001b[0m\n",
      "\u001b[?25hDownloading widgetsnbextension-4.0.13-py3-none-any.whl (2.3 MB)\n",
      "\u001b[2K   \u001b[90m━━━━━━━━━━━━━━━━━━━━━━━━━━━━━━━━━━━━━━━━\u001b[0m \u001b[32m2.3/2.3 MB\u001b[0m \u001b[31m44.2 MB/s\u001b[0m eta \u001b[36m0:00:00\u001b[0m\n",
      "\u001b[?25hDownloading jedi-0.19.2-py2.py3-none-any.whl (1.6 MB)\n",
      "\u001b[2K   \u001b[90m━━━━━━━━━━━━━━━━━━━━━━━━━━━━━━━━━━━━━━━━\u001b[0m \u001b[32m1.6/1.6 MB\u001b[0m \u001b[31m58.7 MB/s\u001b[0m eta \u001b[36m0:00:00\u001b[0m\n",
      "\u001b[?25hInstalling collected packages: widgetsnbextension, pycryptodomex, jedi, comm, blobfile, ipywidgets\n",
      "  Attempting uninstall: widgetsnbextension\n",
      "    Found existing installation: widgetsnbextension 3.6.10\n",
      "    Uninstalling widgetsnbextension-3.6.10:\n",
      "      Successfully uninstalled widgetsnbextension-3.6.10\n",
      "  Attempting uninstall: ipywidgets\n",
      "    Found existing installation: ipywidgets 7.7.1\n",
      "    Uninstalling ipywidgets-7.7.1:\n",
      "      Successfully uninstalled ipywidgets-7.7.1\n",
      "Successfully installed blobfile-3.0.0 comm-0.2.2 ipywidgets-8.1.5 jedi-0.19.2 pycryptodomex-3.21.0 widgetsnbextension-4.0.13\n"
     ]
    }
   ],
   "source": [
    "!pip install -r https://raw.githubusercontent.com/rasbt/LLMs-from-scratch/refs/heads/main/ch05/07_gpt_to_llama/requirements-extra.txt"
   ]
  },
  {
   "cell_type": "code",
   "execution_count": 2,
   "id": "j0_kOGoXJYps",
   "metadata": {
    "id": "j0_kOGoXJYps"
   },
   "outputs": [],
   "source": [
    "# # we'll use nepali tokenizer here\n",
    "# !pip install tiktoken --quiet"
   ]
  },
  {
   "cell_type": "code",
   "execution_count": 3,
   "id": "dd1b65a8-4301-444a-bd7c-a6f2bd1df9df",
   "metadata": {
    "colab": {
     "base_uri": "https://localhost:8080/"
    },
    "id": "dd1b65a8-4301-444a-bd7c-a6f2bd1df9df",
    "outputId": "f022e2c8-1240-4872-8c23-acced2cd95e7"
   },
   "outputs": [
    {
     "name": "stdout",
     "output_type": "stream",
     "text": [
      "blobfile version: 3.0.0\n",
      "huggingface_hub version: 0.26.5\n",
      "torch version: 2.5.1+cu121\n"
     ]
    }
   ],
   "source": [
    "from importlib.metadata import version\n",
    "\n",
    "pkgs = [\n",
    "    \"blobfile\",         # to download pretrained weights\n",
    "    \"huggingface_hub\",  # to download pretrained weights\n",
    "    # \"tiktoken\",         # to implement the tokenizer\n",
    "    \"torch\",            # to implement the model\n",
    "]\n",
    "for p in pkgs:\n",
    "    print(f\"{p} version: {version(p)}\")"
   ]
  },
  {
   "cell_type": "markdown",
   "id": "653410a6-dd2b-4eb2-a722-23d9782e726d",
   "metadata": {
    "id": "653410a6-dd2b-4eb2-a722-23d9782e726d"
   },
   "source": [
    "&nbsp;\n",
    "# 1. Architecture code"
   ]
  },
  {
   "cell_type": "code",
   "execution_count": 4,
   "id": "82076c21-9331-4dcd-b017-42b046cf1a60",
   "metadata": {
    "id": "82076c21-9331-4dcd-b017-42b046cf1a60"
   },
   "outputs": [],
   "source": [
    "import torch\n",
    "import torch.nn as nn\n",
    "\n",
    "\n",
    "class FeedForward(nn.Module):\n",
    "    def __init__(self, cfg):\n",
    "        super().__init__()\n",
    "        self.fc1 = nn.Linear(cfg[\"emb_dim\"], cfg[\"hidden_dim\"], dtype=cfg[\"dtype\"], bias=False)\n",
    "        self.fc2 = nn.Linear(cfg[\"emb_dim\"], cfg[\"hidden_dim\"], dtype=cfg[\"dtype\"], bias=False)\n",
    "        self.fc3 = nn.Linear(cfg[\"hidden_dim\"], cfg[\"emb_dim\"], dtype=cfg[\"dtype\"], bias=False)\n",
    "\n",
    "    def forward(self, x):\n",
    "        x_fc1 = self.fc1(x)\n",
    "        x_fc2 = self.fc2(x)\n",
    "        x = nn.functional.silu(x_fc1) * x_fc2\n",
    "        return self.fc3(x)"
   ]
  },
  {
   "cell_type": "code",
   "execution_count": 5,
   "id": "4b9a346f-5826-4083-9162-abd56afc03f0",
   "metadata": {
    "id": "4b9a346f-5826-4083-9162-abd56afc03f0"
   },
   "outputs": [],
   "source": [
    "def precompute_rope_params(head_dim, theta_base=10_000, context_length=4096, freq_config=None):\n",
    "    assert head_dim % 2 == 0, \"Embedding dimension must be even\"\n",
    "\n",
    "    # Compute the inverse frequencies\n",
    "    inv_freq = 1.0 / (theta_base ** (torch.arange(0, head_dim, 2)[: (head_dim // 2)].float() / head_dim))\n",
    "\n",
    "    # Frequency adjustments\n",
    "    if freq_config is not None:\n",
    "        low_freq_wavelen = freq_config[\"original_context_length\"] / freq_config[\"low_freq_factor\"]\n",
    "        high_freq_wavelen = freq_config[\"original_context_length\"] / freq_config[\"high_freq_factor\"]\n",
    "\n",
    "        wavelen = 2 * torch.pi / inv_freq\n",
    "\n",
    "        inv_freq_llama = torch.where(\n",
    "            wavelen > low_freq_wavelen, inv_freq / freq_config[\"factor\"], inv_freq\n",
    "        )\n",
    "\n",
    "        smooth_factor = (freq_config[\"original_context_length\"] / wavelen - freq_config[\"low_freq_factor\"]) / (\n",
    "            freq_config[\"high_freq_factor\"] - freq_config[\"low_freq_factor\"]\n",
    "        )\n",
    "\n",
    "        smoothed_inv_freq = (\n",
    "            (1 - smooth_factor) * (inv_freq / freq_config[\"factor\"]) + smooth_factor * inv_freq\n",
    "        )\n",
    "\n",
    "        is_medium_freq = (wavelen <= low_freq_wavelen) & (wavelen >= high_freq_wavelen)\n",
    "        inv_freq_llama = torch.where(is_medium_freq, smoothed_inv_freq, inv_freq_llama)\n",
    "        inv_freq = inv_freq_llama\n",
    "\n",
    "    # Generate position indices\n",
    "    positions = torch.arange(context_length)\n",
    "\n",
    "    # Compute the angles\n",
    "    angles = positions[:, None] * inv_freq[None, :]  # Shape: (context_length, head_dim // 2)\n",
    "\n",
    "    # Expand angles to match the head_dim\n",
    "    angles = torch.cat([angles, angles], dim=1)  # Shape: (context_length, head_dim)\n",
    "\n",
    "    # Precompute sine and cosine\n",
    "    cos = torch.cos(angles)\n",
    "    sin = torch.sin(angles)\n",
    "\n",
    "    return cos, sin\n",
    "\n",
    "\n",
    "def compute_rope(x, cos, sin):\n",
    "    # x: (batch_size, num_heads, seq_len, head_dim)\n",
    "    batch_size, num_heads, seq_len, head_dim = x.shape\n",
    "    assert head_dim % 2 == 0, \"Head dimension must be even\"\n",
    "\n",
    "    # Split x into first half and second half\n",
    "    x1 = x[..., : head_dim // 2]  # First half\n",
    "    x2 = x[..., head_dim // 2 :]  # Second half\n",
    "\n",
    "    # Adjust sin and cos shapes\n",
    "    cos = cos[:seq_len, :].unsqueeze(0).unsqueeze(0)  # Shape: (1, 1, seq_len, head_dim)\n",
    "    sin = sin[:seq_len, :].unsqueeze(0).unsqueeze(0)\n",
    "\n",
    "    # Apply the rotary transformation\n",
    "    rotated = torch.cat((-x2, x1), dim=-1)\n",
    "    x_rotated = (x * cos) + (rotated * sin)\n",
    "\n",
    "    return x_rotated.to(dtype=x.dtype)"
   ]
  },
  {
   "cell_type": "code",
   "execution_count": 6,
   "id": "e8169ab5-f976-4222-a2e1-eb1cabf267cb",
   "metadata": {
    "id": "e8169ab5-f976-4222-a2e1-eb1cabf267cb"
   },
   "outputs": [],
   "source": [
    "class SharedBuffers:\n",
    "    _buffers = {}\n",
    "\n",
    "    @staticmethod\n",
    "    def get_buffers(context_length, head_dim, rope_base, freq_config, dtype=torch.float32):\n",
    "        key = (context_length, head_dim, rope_base, tuple(freq_config.values()) if freq_config else freq_config, dtype)\n",
    "\n",
    "        if key not in SharedBuffers._buffers:\n",
    "            # Create or fetch the buffers\n",
    "            mask = torch.triu(torch.ones(context_length, context_length), diagonal=1)\n",
    "            cos, sin = precompute_rope_params(head_dim, rope_base, context_length, freq_config)\n",
    "            if dtype is not None:\n",
    "                cos = cos.to(dtype)\n",
    "                sin = sin.to(dtype)\n",
    "            SharedBuffers._buffers[key] = (mask, cos, sin)\n",
    "\n",
    "        return SharedBuffers._buffers[key]\n",
    "\n",
    "\n",
    "class GroupedQueryAttention(nn.Module):\n",
    "    def __init__(\n",
    "            self, d_in, d_out, context_length, num_heads,\n",
    "            num_kv_groups,\n",
    "            rope_base=10_000,\n",
    "            rope_config=None,\n",
    "            dtype=None\n",
    "        ):\n",
    "        super().__init__()\n",
    "        assert d_out % num_heads == 0, \"d_out must be divisible by num_heads\"\n",
    "        assert num_heads % num_kv_groups == 0, \"num_heads must be divisible by num_kv_groups\"\n",
    "\n",
    "        self.d_out = d_out\n",
    "        self.num_heads = num_heads\n",
    "        self.head_dim = d_out // num_heads\n",
    "\n",
    "        self.W_key = nn.Linear(d_in, num_kv_groups * self.head_dim, bias=False, dtype=dtype)\n",
    "        self.W_value = nn.Linear(d_in, num_kv_groups * self.head_dim, bias=False, dtype=dtype)\n",
    "        self.num_kv_groups = num_kv_groups\n",
    "        self.group_size = num_heads // num_kv_groups\n",
    "\n",
    "        self.W_query = nn.Linear(d_in, d_out, bias=False, dtype=dtype)\n",
    "        self.out_proj = nn.Linear(d_out, d_out, bias=False, dtype=dtype)\n",
    "\n",
    "        # Fetch buffers using SharedBuffers\n",
    "        mask, cos, sin = SharedBuffers.get_buffers(context_length, self.head_dim, rope_base, rope_config, dtype)\n",
    "        self.register_buffer(\"mask\", mask)\n",
    "\n",
    "        self.register_buffer(\"cos\", cos)\n",
    "        self.register_buffer(\"sin\", sin)\n",
    "\n",
    "    def forward(self, x):\n",
    "        b, num_tokens, d_in = x.shape\n",
    "\n",
    "        queries = self.W_query(x)  # Shape: (b, num_tokens, d_out)\n",
    "        keys = self.W_key(x)  # Shape: (b, num_tokens, num_kv_groups * head_dim)\n",
    "        values = self.W_value(x)  # Shape: (b, num_tokens, num_kv_groups * head_dim)\n",
    "\n",
    "        # Reshape queries, keys, and values\n",
    "        queries = queries.view(b, num_tokens, self.num_heads, self.head_dim)\n",
    "        keys = keys.view(b, num_tokens, self.num_kv_groups, self.head_dim)\n",
    "        values = values.view(b, num_tokens, self.num_kv_groups, self.head_dim)\n",
    "\n",
    "        # Transpose keys, values, and queries\n",
    "        keys = keys.transpose(1, 2)  # Shape: (b, num_heads, num_tokens, head_dim)\n",
    "        values = values.transpose(1, 2)  # Shape: (b, num_heads, num_tokens, head_dim)\n",
    "        queries = queries.transpose(1, 2)  # Shape: (b, num_query_groups, num_tokens, head_dim)\n",
    "\n",
    "        # Apply RoPE\n",
    "        keys = compute_rope(keys, self.cos, self.sin)\n",
    "        queries = compute_rope(queries, self.cos, self.sin)\n",
    "\n",
    "        # Expand keys and values to match the number of heads\n",
    "        # Shape: (b, num_heads, num_tokens, head_dim)\n",
    "        keys = keys.repeat_interleave(self.group_size, dim=1)  # Shape: (b, num_heads, num_tokens, head_dim)\n",
    "        values = values.repeat_interleave(self.group_size, dim=1)  # Shape: (b, num_heads, num_tokens, head_dim)\n",
    "        # For example, before repeat_interleave along dim=1 (query groups):\n",
    "        #   [K1, K2]\n",
    "        # After repeat_interleave (each query group is repeated group_size times):\n",
    "        #   [K1, K1, K2, K2]\n",
    "        # If we used regular repeat instead of repeat_interleave, we'd get:\n",
    "        #   [K1, K2, K1, K2]\n",
    "\n",
    "        # Compute scaled dot-product attention (aka self-attention) with a causal mask\n",
    "        # Shape: (b, num_heads, num_tokens, num_tokens)\n",
    "        attn_scores = queries @ keys.transpose(2, 3)  # Dot product for each head\n",
    "\n",
    "        # Original mask truncated to the number of tokens and converted to boolean\n",
    "        mask_bool = self.mask.bool()[:num_tokens, :num_tokens]\n",
    "\n",
    "        # Use the mask to fill attention scores\n",
    "        attn_scores.masked_fill_(mask_bool, -torch.inf)\n",
    "\n",
    "        attn_weights = torch.softmax(attn_scores / keys.shape[-1]**0.5, dim=-1)\n",
    "        assert keys.shape[-1] == self.head_dim\n",
    "\n",
    "        # Shape: (b, num_tokens, num_heads, head_dim)\n",
    "        context_vec = (attn_weights @ values).transpose(1, 2)\n",
    "\n",
    "        # Combine heads, where self.d_out = self.num_heads * self.head_dim\n",
    "        context_vec = context_vec.reshape(b, num_tokens, self.d_out)\n",
    "        context_vec = self.out_proj(context_vec)  # optional projection\n",
    "\n",
    "        return context_vec"
   ]
  },
  {
   "cell_type": "code",
   "execution_count": 7,
   "id": "457cb2f8-50c1-4045-8a74-f181bfb5fea9",
   "metadata": {
    "id": "457cb2f8-50c1-4045-8a74-f181bfb5fea9"
   },
   "outputs": [],
   "source": [
    "class TransformerBlock(nn.Module):\n",
    "    def __init__(self, cfg):\n",
    "        super().__init__()\n",
    "        self.att =  GroupedQueryAttention(\n",
    "            d_in=cfg[\"emb_dim\"],\n",
    "            d_out=cfg[\"emb_dim\"],\n",
    "            context_length=cfg[\"context_length\"],\n",
    "            num_heads=cfg[\"n_heads\"],\n",
    "            num_kv_groups=cfg[\"n_kv_groups\"],\n",
    "            rope_base=cfg[\"rope_base\"],\n",
    "            rope_config=cfg[\"rope_freq\"],\n",
    "            dtype=cfg[\"dtype\"]\n",
    "        )\n",
    "        self.ff = FeedForward(cfg)\n",
    "        self.norm1 = nn.RMSNorm(cfg[\"emb_dim\"], eps=1e-5)\n",
    "        self.norm2 = nn.RMSNorm(cfg[\"emb_dim\"], eps=1e-5)\n",
    "\n",
    "    def forward(self, x):\n",
    "        # Shortcut connection for attention block\n",
    "        shortcut = x\n",
    "        x = self.norm1(x)\n",
    "        x = self.att(x.to(torch.bfloat16))   # Shape [batch_size, num_tokens, emb_size]\n",
    "        x = x + shortcut  # Add the original input back\n",
    "\n",
    "        # Shortcut connection for feed-forward block\n",
    "        shortcut = x\n",
    "        x = self.norm2(x)\n",
    "        x = self.ff(x.to(torch.bfloat16))\n",
    "        x = x + shortcut  # Add the original input back\n",
    "\n",
    "        return x"
   ]
  },
  {
   "cell_type": "code",
   "execution_count": 8,
   "id": "e88de3e3-9f07-42cc-816b-28dbd46e96c4",
   "metadata": {
    "id": "e88de3e3-9f07-42cc-816b-28dbd46e96c4"
   },
   "outputs": [],
   "source": [
    "class Llama3Model(nn.Module):\n",
    "    def __init__(self, cfg):\n",
    "        super().__init__()\n",
    "        self.tok_emb = nn.Embedding(cfg[\"vocab_size\"], cfg[\"emb_dim\"], dtype=cfg[\"dtype\"])\n",
    "\n",
    "        self.trf_blocks = nn.Sequential(\n",
    "            *[TransformerBlock(cfg) for _ in range(cfg[\"n_layers\"])])\n",
    "\n",
    "        self.final_norm = nn.RMSNorm(cfg[\"emb_dim\"], eps=1e-5)\n",
    "        self.out_head = nn.Linear(cfg[\"emb_dim\"], cfg[\"vocab_size\"], bias=False, dtype=cfg[\"dtype\"])\n",
    "\n",
    "    def forward(self, in_idx):\n",
    "        tok_embeds = self.tok_emb(in_idx)\n",
    "        x = tok_embeds\n",
    "        x = self.trf_blocks(x)\n",
    "        x = self.final_norm(x)\n",
    "        logits = self.out_head(x.to(torch.bfloat16))\n",
    "        return logits"
   ]
  },
  {
   "cell_type": "markdown",
   "id": "be2d201f-74ad-4d63-ab9c-601b00674a48",
   "metadata": {
    "id": "be2d201f-74ad-4d63-ab9c-601b00674a48"
   },
   "source": [
    "&nbsp;\n",
    "# 2. Initialize model"
   ]
  },
  {
   "cell_type": "markdown",
   "id": "23dea40c-fe20-4a75-be25-d6fce5863c01",
   "metadata": {
    "id": "23dea40c-fe20-4a75-be25-d6fce5863c01"
   },
   "source": [
    "- The remainder of this notebook uses the Llama 3.2 1B model; to use the 3B model variant, just uncomment the second configuration file in the following code cell"
   ]
  },
  {
   "cell_type": "code",
   "execution_count": null,
   "id": "caa142fa-b375-4e78-b392-2072ced666f3",
   "metadata": {
    "id": "caa142fa-b375-4e78-b392-2072ced666f3"
   },
   "outputs": [],
   "source": [
    "# TODO : use 1b config not debug config\n",
    "# Debug mode\n",
    "LLAMA32_CONFIG = {\n",
    "    # d_out = emb_dim\n",
    "    # Embedding dimension <d_out // num_heads> must be even\n",
    "\n",
    "\n",
    "    \"vocab_size\": 128_256,      # Vocabulary size\n",
    "    \"context_length\": 10,  # Context length\n",
    "    # d_in=d_out=emb_dim,\n",
    "    # d_out must be divisible by num_heads\n",
    "    \"emb_dim\": 8,            # Embedding dimension\n",
    "    # (num_heads must be divisible by num_kv_groups)\n",
    "    \"n_heads\": 4,              # Number of attention heads\n",
    "    \"n_layers\": 2,             # Number of layers\n",
    "    \"hidden_dim\": 16,         # Size of the intermediate dimension in FeedForward\n",
    "    \"n_kv_groups\": 2,           # Key-Value groups for grouped-query attention\n",
    "    \"rope_base\": 500_000.0,     # The base in RoPE's \"theta\"\n",
    "    \"dtype\": torch.bfloat16,    # Lower-precision dtype to reduce memory usage\n",
    "    \"rope_freq\": {              # RoPE frequency scaling\n",
    "        \"factor\": 32.0,\n",
    "        \"low_freq_factor\": 1.0,\n",
    "        \"high_freq_factor\": 4.0,\n",
    "        \"original_context_length\": 8192,\n",
    "    }\n",
    "}\n",
    "\n",
    "# Llama 3.2 1B\n",
    "\n",
    "LLAMA32_CONFIG = {\n",
    "    \"vocab_size\": 128_256,      # Vocabulary size\n",
    "    \"context_length\": 131_072,  # Context length\n",
    "    \"emb_dim\": 2048,            # Embedding dimension\n",
    "    \"n_heads\": 32,              # Number of attention heads\n",
    "    \"n_layers\": 16,             # Number of layers\n",
    "    \"hidden_dim\": 8192,         # Size of the intermediate dimension in FeedForward\n",
    "    \"n_kv_groups\": 8,           # Key-Value groups for grouped-query attention\n",
    "    \"rope_base\": 500_000.0,     # The base in RoPE's \"theta\"\n",
    "    \"dtype\": torch.bfloat16,    # Lower-precision dtype to reduce memory usage\n",
    "    \"rope_freq\": {              # RoPE frequency scaling\n",
    "        \"factor\": 32.0,\n",
    "        \"low_freq_factor\": 1.0,\n",
    "        \"high_freq_factor\": 4.0,\n",
    "        \"original_context_length\": 8192,\n",
    "    }\n",
    "}\n",
    "\n",
    "# Llama 3.2 3B\n",
    "\n",
    "# LLAMA32_CONFIG = {\n",
    "#     \"vocab_size\": 128_256,      # Vocabulary size\n",
    "#     \"context_length\": 131_072,  # Context length\n",
    "#     \"emb_dim\": 3072,            # Embedding dimension\n",
    "#     \"n_heads\": 24,              # Number of attention heads\n",
    "#     \"n_layers\": 28,             # Number of layers\n",
    "#     \"hidden_dim\": 8192,         # Size of the intermediate dimension in FeedForward\n",
    "#     \"n_kv_groups\": 8,           # Key-Value groups for grouped-query attention\n",
    "#     \"rope_base\": 500_000.0,     # The base in RoPE's \"theta\"\n",
    "#     \"dtype\": torch.bfloat16,    # Lower-precision dtype to reduce memory usage\n",
    "#     \"rope_freq\": {              # RoPE frequency scaling\n",
    "#         \"factor\": 32.0,\n",
    "#         \"low_freq_factor\": 1.0,\n",
    "#         \"high_freq_factor\": 4.0,\n",
    "#         \"original_context_length\": 8192,\n",
    "#     }\n",
    "# }\n",
    "\n",
    "LLAMA_SIZE_STR = \"1B\" if LLAMA32_CONFIG[\"emb_dim\"] == 2048 else \"3B\""
   ]
  },
  {
   "cell_type": "code",
   "execution_count": null,
   "id": "193fc406",
   "metadata": {},
   "outputs": [],
   "source": [
    "import torch\n",
    "# TODO : use 1b config not debug config\n",
    "# Debug mode\n",
    "LLAMA32_CONFIG = {\n",
    "    # d_out = emb_dim\n",
    "    # Embedding dimension <d_out // num_heads> must be even\n",
    "\n",
    "\n",
    "    \"vocab_size\": 128_256,      # Vocabulary size\n",
    "    \"context_length\": 10,  # Context length\n",
    "    # d_in=d_out=emb_dim,\n",
    "    # d_out must be divisible by num_heads\n",
    "    \"emb_dim\": 8,            # Embedding dimension\n",
    "    # (num_heads must be divisible by num_kv_groups)\n",
    "    \"n_heads\": 4,              # Number of attention heads\n",
    "    \"n_layers\": 2,             # Number of layers\n",
    "    \"hidden_dim\": 16,         # Size of the intermediate dimension in FeedForward\n",
    "    \"n_kv_groups\": 2,           # Key-Value groups for grouped-query attention\n",
    "    \"rope_base\": 500_000.0,     # The base in RoPE's \"theta\"\n",
    "    \"dtype\": torch.bfloat16,    # Lower-precision dtype to reduce memory usage\n",
    "    \"rope_freq\": {              # RoPE frequency scaling\n",
    "        \"factor\": 32.0,\n",
    "        \"low_freq_factor\": 1.0,\n",
    "        \"high_freq_factor\": 4.0,\n",
    "        \"original_context_length\": 8192,\n",
    "    }\n",
    "}\n",
    "\n",
    "# # Llama 3.2 1B\n",
    "\n",
    "# LLAMA32_CONFIG = {\n",
    "#     \"vocab_size\": 128_256,      # Vocabulary size\n",
    "#     \"context_length\": 131_072,  # Context length\n",
    "#     \"emb_dim\": 2048,            # Embedding dimension\n",
    "#     \"n_heads\": 32,              # Number of attention heads\n",
    "#     \"n_layers\": 16,             # Number of layers\n",
    "#     \"hidden_dim\": 8192,         # Size of the intermediate dimension in FeedForward\n",
    "#     \"n_kv_groups\": 8,           # Key-Value groups for grouped-query attention\n",
    "#     \"rope_base\": 500_000.0,     # The base in RoPE's \"theta\"\n",
    "#     \"dtype\": torch.bfloat16,    # Lower-precision dtype to reduce memory usage\n",
    "#     \"rope_freq\": {              # RoPE frequency scaling\n",
    "#         \"factor\": 32.0,\n",
    "#         \"low_freq_factor\": 1.0,\n",
    "#         \"high_freq_factor\": 4.0,\n",
    "#         \"original_context_length\": 8192,\n",
    "#     }\n",
    "# }\n",
    "\n",
    "# Llama 3.2 3B\n",
    "\n",
    "# LLAMA32_CONFIG = {\n",
    "#     \"vocab_size\": 128_256,      # Vocabulary size\n",
    "#     \"context_length\": 131_072,  # Context length\n",
    "#     \"emb_dim\": 3072,            # Embedding dimension\n",
    "#     \"n_heads\": 24,              # Number of attention heads\n",
    "#     \"n_layers\": 28,             # Number of layers\n",
    "#     \"hidden_dim\": 8192,         # Size of the intermediate dimension in FeedForward\n",
    "#     \"n_kv_groups\": 8,           # Key-Value groups for grouped-query attention\n",
    "#     \"rope_base\": 500_000.0,     # The base in RoPE's \"theta\"\n",
    "#     \"dtype\": torch.bfloat16,    # Lower-precision dtype to reduce memory usage\n",
    "#     \"rope_freq\": {              # RoPE frequency scaling\n",
    "#         \"factor\": 32.0,\n",
    "#         \"low_freq_factor\": 1.0,\n",
    "#         \"high_freq_factor\": 4.0,\n",
    "#         \"original_context_length\": 8192,\n",
    "#     }\n",
    "# }\n",
    "\n",
    "LLAMA_SIZE_STR = \"1B\" if LLAMA32_CONFIG[\"emb_dim\"] == 2048 else \"3B\""
   ]
  },
  {
   "cell_type": "markdown",
   "id": "34535172-797e-4dd0-84fb-65bc75ad5b06",
   "metadata": {
    "id": "34535172-797e-4dd0-84fb-65bc75ad5b06"
   },
   "source": [
    "- Reduce the context length so the model would work fine on a MacBook Air (if you have more RAM, feel free to comment out the lines below):"
   ]
  },
  {
   "cell_type": "code",
   "execution_count": 10,
   "id": "a8bc2370-39d2-4bfe-b4c1-6bdd75fe101c",
   "metadata": {
    "colab": {
     "base_uri": "https://localhost:8080/"
    },
    "id": "a8bc2370-39d2-4bfe-b4c1-6bdd75fe101c",
    "outputId": "6b4bfa82-1803-452e-898b-607f85894a99"
   },
   "outputs": [
    {
     "name": "stdout",
     "output_type": "stream",
     "text": [
      "New RoPE theta: 500000.0\n"
     ]
    }
   ],
   "source": [
    "old_context_length = LLAMA32_CONFIG[\"context_length\"]\n",
    "# Todo:use context length of 8192 (as done by sebastian) not LLAMA32_CONFIG[\"context_length\"]\n",
    "LLAMA32_CONFIG[\"context_length\"] =  LLAMA32_CONFIG[\"context_length\"] # 8192\n",
    "\n",
    "\n",
    "def rescale_theta(theta_old, context_length_old, context_length_new):\n",
    "    scaling_factor = context_length_new / context_length_old\n",
    "    theta_new = theta_old * scaling_factor\n",
    "    return theta_new\n",
    "\n",
    "LLAMA32_CONFIG[\"rope_base\"] = rescale_theta(\n",
    "    LLAMA32_CONFIG[\"rope_base\"],\n",
    "    old_context_length,\n",
    "    LLAMA32_CONFIG[\"context_length\"]\n",
    ")\n",
    "\n",
    "print(\"New RoPE theta:\", LLAMA32_CONFIG[\"rope_base\"])"
   ]
  },
  {
   "cell_type": "code",
   "execution_count": 11,
   "id": "156253fe-aacd-4da2-8f13-705f05c4b11e",
   "metadata": {
    "id": "156253fe-aacd-4da2-8f13-705f05c4b11e"
   },
   "outputs": [],
   "source": [
    "model = Llama3Model(LLAMA32_CONFIG)"
   ]
  },
  {
   "cell_type": "markdown",
   "id": "19de6c2c-83ce-456d-8be9-6ec415fe9eb1",
   "metadata": {
    "id": "19de6c2c-83ce-456d-8be9-6ec415fe9eb1"
   },
   "source": [
    "- The following is expected to print True to confirm buffers are reused instead of being (wastefully) recreated:"
   ]
  },
  {
   "cell_type": "code",
   "execution_count": 12,
   "id": "0e95db6d-2712-41a5-a5e0-86c49897f4cf",
   "metadata": {
    "colab": {
     "base_uri": "https://localhost:8080/"
    },
    "id": "0e95db6d-2712-41a5-a5e0-86c49897f4cf",
    "outputId": "7808c904-db7d-4bbe-8b16-8168dc02b6b7"
   },
   "outputs": [
    {
     "name": "stdout",
     "output_type": "stream",
     "text": [
      "True\n",
      "True\n",
      "True\n"
     ]
    }
   ],
   "source": [
    "# Check buffers\n",
    "print(model.trf_blocks[0].att.mask is model.trf_blocks[-1].att.mask)\n",
    "print(model.trf_blocks[0].att.cos is model.trf_blocks[-1].att.cos)\n",
    "print(model.trf_blocks[0].att.sin is model.trf_blocks[-1].att.sin)"
   ]
  },
  {
   "cell_type": "code",
   "execution_count": 13,
   "id": "364e76ca-52f8-4fa5-af37-c4069f9694bc",
   "metadata": {
    "colab": {
     "base_uri": "https://localhost:8080/"
    },
    "id": "364e76ca-52f8-4fa5-af37-c4069f9694bc",
    "outputId": "463b83cb-57a5-48c3-d4b9-0dd608fbb78d"
   },
   "outputs": [
    {
     "name": "stdout",
     "output_type": "stream",
     "text": [
      "Total number of parameters: 2,053,288\n",
      "\n",
      "Total number of unique parameters: 1,027,240\n"
     ]
    }
   ],
   "source": [
    "total_params = sum(p.numel() for p in model.parameters())\n",
    "print(f\"Total number of parameters: {total_params:,}\")\n",
    "\n",
    "# Account for weight tying\n",
    "total_params_normalized = total_params - model.tok_emb.weight.numel()\n",
    "print(f\"\\nTotal number of unique parameters: {total_params_normalized:,}\")"
   ]
  },
  {
   "cell_type": "code",
   "execution_count": 14,
   "id": "fd5efb03-5a07-46e8-8607-93ed47549d2b",
   "metadata": {
    "colab": {
     "base_uri": "https://localhost:8080/"
    },
    "id": "fd5efb03-5a07-46e8-8607-93ed47549d2b",
    "outputId": "3d92fdef-a3c5-4121-9c5e-fb7d6cdeeb7b"
   },
   "outputs": [
    {
     "name": "stdout",
     "output_type": "stream",
     "text": [
      "float32 (PyTorch default): 0.02 GB\n",
      "bfloat16: 0.01 GB\n"
     ]
    }
   ],
   "source": [
    "def model_memory_size(model, input_dtype=torch.float32):\n",
    "    total_params = 0\n",
    "    total_grads = 0\n",
    "    for param in model.parameters():\n",
    "        # Calculate total number of elements per parameter\n",
    "        param_size = param.numel()\n",
    "        total_params += param_size\n",
    "        # Check if gradients are stored for this parameter\n",
    "        if param.requires_grad:\n",
    "            total_grads += param_size\n",
    "\n",
    "    # Calculate buffer size (non-parameters that require memory)\n",
    "    total_buffers = sum(buf.numel() for buf in model.buffers())\n",
    "\n",
    "    # Size in bytes = (Number of elements) * (Size of each element in bytes)\n",
    "    # We assume parameters and gradients are stored in the same type as input dtype\n",
    "    element_size = torch.tensor(0, dtype=input_dtype).element_size()\n",
    "    total_memory_bytes = (total_params + total_grads + total_buffers) * element_size\n",
    "\n",
    "    # Convert bytes to gigabytes\n",
    "    total_memory_gb = total_memory_bytes / (1024**3)\n",
    "\n",
    "    return total_memory_gb\n",
    "\n",
    "print(f\"float32 (PyTorch default): {model_memory_size(model, input_dtype=torch.float32):.2f} GB\")\n",
    "print(f\"bfloat16: {model_memory_size(model, input_dtype=torch.bfloat16):.2f} GB\")"
   ]
  },
  {
   "cell_type": "code",
   "execution_count": 15,
   "id": "31f12baf-f79b-499f-85c0-51328a6a20f5",
   "metadata": {
    "id": "31f12baf-f79b-499f-85c0-51328a6a20f5"
   },
   "outputs": [],
   "source": [
    "if torch.cuda.is_available():\n",
    "    device = torch.device(\"cuda\")\n",
    "elif torch.backends.mps.is_available():\n",
    "    device = torch.device(\"mps\")\n",
    "else:\n",
    "    device = torch.device(\"cpu\")\n",
    "\n",
    "model.to(device);"
   ]
  },
  {
   "cell_type": "markdown",
   "id": "78e091e1-afa8-4d23-9aea-cced86181bfd",
   "metadata": {
    "id": "78e091e1-afa8-4d23-9aea-cced86181bfd"
   },
   "source": [
    "&nbsp;\n",
    "# 3. Load tokenizer"
   ]
  },
  {
   "cell_type": "code",
   "execution_count": 16,
   "id": "a53Sjixe7Voe",
   "metadata": {
    "colab": {
     "base_uri": "https://localhost:8080/",
     "height": 17,
     "referenced_widgets": [
      "c9f4c8bc61424b25bc7c91656d7abf50",
      "fa10ad014f9240adbdf40f0cc0aa50bb",
      "be01f5cbde274cbfa7ce5fc24b00fff5",
      "790506ccb2ff40c8a9acf813a74fc04d",
      "b0cb3cafa306440e87c2170848bd0066",
      "a65a67466bb146b39c2da7024fff23eb",
      "f1452979b1b64a69b281e7b53585f16b",
      "f2cd6b7ce036439f9d172f43a1c45e51",
      "384c85783f8c448eacd671eeded882b2",
      "66d299cc2c0c42d79428caf00c47db16",
      "fde4c780d8194779bc65aeb12356844d",
      "3f3a24b78b8d4ec8ab07e1325921e0eb",
      "314bee081c334036805adcd50aa365c0",
      "53e5196a805f4a2b950b1f0c920796d3",
      "73bb5c6f660b4a4c8446254effa31055",
      "abc0a0286c8b44bb8700d7a3838fb785",
      "19770dc127184473937802c8dd330891",
      "31901da518d843cc80d7d57bf8008d7c",
      "24972d38f5a04b22a759e5dcf99afca2",
      "47594b56890a4f71a5bd11c474d94d43",
      "373071ccd5b84c39bef6416f725922af",
      "da4fa22bf5f94512a2a3350c28af08b4",
      "efcd166247c64170adda7d8054b2e48b",
      "438548d1abaf4a72a6adf71767ebdd61",
      "194b477ec6ac4c3b92c82ecb648ca7e0",
      "1e6b06cf31f04c418b7e5f6fb269e5c2",
      "ff132e3a4529475cb815f19132d81b27",
      "6321a32b45834cf5b3bda975790fbc32",
      "7b8da61a0c2548c982c7d4cc3abb9d09",
      "e57a382de5af4e4c834d19851862adab",
      "2f6880a6efb0437e896ed533c12ad654",
      "3a5397a717634643a1787fb4cdb11ddb",
      "f00178714a3343d09d73a8a27879bfa3"
     ]
    },
    "id": "a53Sjixe7Voe",
    "outputId": "7d675941-7f39-49c8-ed2e-31ab5c5cb826"
   },
   "outputs": [
    {
     "data": {
      "application/vnd.jupyter.widget-view+json": {
       "model_id": "c9f4c8bc61424b25bc7c91656d7abf50",
       "version_major": 2,
       "version_minor": 0
      },
      "text/plain": [
       "tokenizer_config.json:   0%|          | 0.00/1.20k [00:00<?, ?B/s]"
      ]
     },
     "metadata": {},
     "output_type": "display_data"
    },
    {
     "data": {
      "application/vnd.jupyter.widget-view+json": {
       "model_id": "3f3a24b78b8d4ec8ab07e1325921e0eb",
       "version_major": 2,
       "version_minor": 0
      },
      "text/plain": [
       "tokenizer.json:   0%|          | 0.00/3.53M [00:00<?, ?B/s]"
      ]
     },
     "metadata": {},
     "output_type": "display_data"
    },
    {
     "data": {
      "application/vnd.jupyter.widget-view+json": {
       "model_id": "efcd166247c64170adda7d8054b2e48b",
       "version_major": 2,
       "version_minor": 0
      },
      "text/plain": [
       "special_tokens_map.json:   0%|          | 0.00/3.00 [00:00<?, ?B/s]"
      ]
     },
     "metadata": {},
     "output_type": "display_data"
    }
   ],
   "source": [
    "import os\n",
    "from pathlib import Path\n",
    "\n",
    "from transformers import PreTrainedTokenizerFast\n",
    "\n",
    "\n",
    "class Tokenizer:\n",
    "    def __init__(self, tokenizer):\n",
    "        \"\"\"\n",
    "        Initialize the Tokenizer with a Hugging Face tokenizer instance.\n",
    "\n",
    "        Args:\n",
    "            tokenizer (PreTrainedTokenizerFast): Hugging Face tokenizer.\n",
    "        \"\"\"\n",
    "        self.tokenizer = tokenizer\n",
    "\n",
    "        # print(pretrained_tokenizer.encode(\"<|end_of_text|>\"), '\\n',pretrained_tokenizer.encode(\"प्रयोगकर्ता\"), end='\\n\\n')  # [239, 250, 35, 1, 245, 251, 36, 1, 251, 40, 35, 41, 255, 250, 273], [15542]\n",
    "        special_tokens = [\n",
    "            \"<|begin_of_text|>\",\n",
    "            \"<|end_of_text|>\",\n",
    "            \"<|start_header_id|>\",\n",
    "            \"<|end_header_id|>\",\n",
    "            \"<|eot_id|>\", # tf is this\n",
    "        ]\n",
    "        # Add special tokens to the tokenizer\n",
    "        self.tokenizer.add_special_tokens({\"additional_special_tokens\": special_tokens})\n",
    "        # print(pretrained_tokenizer.encode(\"<|end_of_text|>\"), '\\n',pretrained_tokenizer.encode(\"प्रयोगकर्ता\"), end='\\n\\n')  # [50001], [15542]\n",
    "\n",
    "    def encode(self, text, bos=False, eos=False):\n",
    "        \"\"\"\n",
    "\n",
    "        Encode a text string into token IDs.\n",
    "\n",
    "        Args:\n",
    "            text (str): The text to encode.\n",
    "            bos (bool): Whether to add the beginning-of-sequence token.\n",
    "            eos (bool): Whether to add the end-of-sequence token.\n",
    "\n",
    "        Returns:\n",
    "            List[int]: List of token IDs.\n",
    "\n",
    "\n",
    "\n",
    "        \"\"\"\n",
    "        tokens = []\n",
    "        if bos:\n",
    "            tokens.append(self.special_tokens[\"<|begin_of_text|>\"])\n",
    "        tokens.extend(self.tokenizer.encode(text, add_special_tokens=False))\n",
    "        if eos:\n",
    "            tokens.append(self.special_tokens[\"<|end_of_text|>\"])\n",
    "        return tokens\n",
    "\n",
    "    def decode(self, tokens):\n",
    "        \"\"\"\n",
    "        Decode token IDs back into a text string.\n",
    "\n",
    "        Args:\n",
    "            tokens (List[int]): List of token IDs.\n",
    "\n",
    "        Returns:\n",
    "            str: The decoded text.\n",
    "        \"\"\"\n",
    "        return self.tokenizer.decode(tokens, skip_special_tokens=True)\n",
    "\n",
    "\n",
    "class ChatFormat:\n",
    "    def __init__(self, tokenizer):\n",
    "        self.tokenizer = tokenizer\n",
    "\n",
    "    def encode_header(self, message):\n",
    "        tokens = []\n",
    "        tokens.extend(self.tokenizer.encode(\"<|start_header_id|>\"))\n",
    "        tokens.extend(self.tokenizer.encode(message[\"role\"], bos=False, eos=False))\n",
    "        tokens.extend(self.tokenizer.encode(\"<|end_header_id|>\"))\n",
    "        tokens.extend(self.tokenizer.encode(\"\\n\\n\", bos=False, eos=False))\n",
    "        return tokens\n",
    "\n",
    "    def encode(self, text):\n",
    "        message = {\n",
    "            \"role\": \"प्रयोगकर्ता\",\n",
    "            \"content\": text\n",
    "        }\n",
    "\n",
    "        tokens = self.encode_header(message)\n",
    "        tokens.extend(\n",
    "            self.tokenizer.encode(message[\"content\"].strip(), bos=False, eos=False)\n",
    "        )\n",
    "        tokens.extend(self.tokenizer.encode(\"<|eot_id|>\"))\n",
    "        return tokens\n",
    "\n",
    "    def decode(self, token_ids):\n",
    "        return self.tokenizer.decode(token_ids)\n",
    "\n",
    "\n",
    "# Using the Hugging Face tokenizer\n",
    "pretrained_tokenizer = PreTrainedTokenizerFast.from_pretrained(\"Aananda-giri/NepaliBPE\")\n",
    "\n",
    "# Initialize the custom tokenizer\n",
    "tokenizer = Tokenizer(pretrained_tokenizer)\n",
    "chat_tokenizer = ChatFormat(tokenizer)\n"
   ]
  },
  {
   "cell_type": "markdown",
   "id": "WUvlacd-LeP2",
   "metadata": {
    "id": "WUvlacd-LeP2"
   },
   "source": [
    "## tests"
   ]
  },
  {
   "cell_type": "code",
   "execution_count": 17,
   "id": "r0fn_4eaKYnu",
   "metadata": {
    "colab": {
     "base_uri": "https://localhost:8080/"
    },
    "id": "r0fn_4eaKYnu",
    "outputId": "fb398e35-8cb2-4bbe-bb21-a41b1a85377f"
   },
   "outputs": [
    {
     "data": {
      "text/plain": [
       "[50002]"
      ]
     },
     "execution_count": 17,
     "metadata": {},
     "output_type": "execute_result"
    }
   ],
   "source": [
    "chat_tokenizer.tokenizer.encode(\"<|start_header_id|>\")"
   ]
  },
  {
   "cell_type": "code",
   "execution_count": 18,
   "id": "a4kCHOCyIuor",
   "metadata": {
    "colab": {
     "base_uri": "https://localhost:8080/"
    },
    "id": "a4kCHOCyIuor",
    "outputId": "667e3be8-b365-4ef5-f748-8f15531bfa2a"
   },
   "outputs": [
    {
     "data": {
      "text/plain": [
       "[50000]"
      ]
     },
     "execution_count": 18,
     "metadata": {},
     "output_type": "execute_result"
    }
   ],
   "source": [
    "tokenizer.encode(\"<|begin_of_text|>\")"
   ]
  },
  {
   "cell_type": "code",
   "execution_count": 19,
   "id": "WUWh-C4GJsVx",
   "metadata": {
    "colab": {
     "base_uri": "https://localhost:8080/"
    },
    "id": "WUWh-C4GJsVx",
    "outputId": "b02e7bce-c87c-444a-96da-7b4f43b9b657"
   },
   "outputs": [
    {
     "data": {
      "text/plain": [
       "[50002, 15542, 50003, 843, 577, 285, 903, 23750, 1, 50004]"
      ]
     },
     "execution_count": 19,
     "metadata": {},
     "output_type": "execute_result"
    }
   ],
   "source": [
    "chat_tokenizer.encode(\"लामा हरु ले के खान्छन् ?\")"
   ]
  },
  {
   "cell_type": "code",
   "execution_count": 20,
   "id": "xHI3vvxQLPzc",
   "metadata": {
    "colab": {
     "base_uri": "https://localhost:8080/",
     "height": 0
    },
    "id": "xHI3vvxQLPzc",
    "outputId": "03a9cfcb-6abd-47c1-d4ba-51b5a8bb66a0"
   },
   "outputs": [
    {
     "data": {
      "application/vnd.google.colaboratory.intrinsic+json": {
       "type": "string"
      },
      "text/plain": [
       "'प्रयोगकर्ता लामा हरु ले के खान्छन्'"
      ]
     },
     "execution_count": 20,
     "metadata": {},
     "output_type": "execute_result"
    }
   ],
   "source": [
    "chat_tokenizer.decode([50002, 15542, 50003, 843, 577, 285, 903, 23750, 1, 50004])"
   ]
  },
  {
   "cell_type": "code",
   "execution_count": 21,
   "id": "qbR8Edj07XLV",
   "metadata": {
    "colab": {
     "base_uri": "https://localhost:8080/"
    },
    "id": "qbR8Edj07XLV",
    "outputId": "b82a89c5-0499-4976-c62a-c844355d47d1"
   },
   "outputs": [
    {
     "data": {
      "text/plain": [
       "['', 'e', '', '', '', '', 'o', 'r', '', 'd']"
      ]
     },
     "execution_count": 21,
     "metadata": {},
     "output_type": "execute_result"
    }
   ],
   "source": [
    "[tokenizer.decode([token]) for token in tokenizer.encode('hello world')]"
   ]
  },
  {
   "cell_type": "code",
   "execution_count": 22,
   "id": "zA2BnQ757iof",
   "metadata": {
    "colab": {
     "base_uri": "https://localhost:8080/"
    },
    "id": "zA2BnQ757iof",
    "outputId": "d95639b7-b4ff-4b70-ea43-415775c1cd25"
   },
   "outputs": [
    {
     "data": {
      "text/plain": [
       "['महा', 'प्रभु', 'को', 'सदि', 'च्छा', 'पूरा', 'गर्न', 'यो', 'भौतिक']"
      ]
     },
     "execution_count": 22,
     "metadata": {},
     "output_type": "execute_result"
    }
   ],
   "source": [
    "[tokenizer.decode([token]) for token in tokenizer.encode(\"महाप्रभुको सदिच्छा पूरा गर्न यो भौतिक \")]"
   ]
  },
  {
   "cell_type": "markdown",
   "id": "GHOz7hmOLhc7",
   "metadata": {
    "id": "GHOz7hmOLhc7"
   },
   "source": [
    "## original tokenizer code by sebastian"
   ]
  },
  {
   "cell_type": "code",
   "execution_count": 23,
   "id": "9482b01c-49f9-48e4-ab2c-4a4c75240e77",
   "metadata": {
    "colab": {
     "base_uri": "https://localhost:8080/",
     "height": 0
    },
    "id": "9482b01c-49f9-48e4-ab2c-4a4c75240e77",
    "outputId": "01181b33-5bf3-4996-8d72-d6f67ebfa97c"
   },
   "outputs": [
    {
     "data": {
      "application/vnd.google.colaboratory.intrinsic+json": {
       "type": "string"
      },
      "text/plain": [
       "'import os\\nfrom pathlib import Path\\n\\nimport tiktoken\\nfrom tiktoken.load import load_tiktoken_bpe\\n\\n\\nclass Tokenizer:\\n    def __init__(self, model_path):\\n        assert os.path.isfile(model_path), f\"Model file {model_path} not found\"\\n        mergeable_ranks = load_tiktoken_bpe(model_path)\\n\\n        self.special_tokens = {\\n            \"<|begin_of_text|>\": 128000,\\n            \"<|end_of_text|>\": 128001,\\n            \"<|start_header_id|>\": 128006,\\n            \"<|end_header_id|>\": 128007,\\n            \"<|eot_id|>\": 128009,\\n        }\\n        self.special_tokens.update({\\n            f\"<|reserved_{i}|>\": 128002 + i for i in range(256) if (128002 + i) not in self.special_tokens.values()\\n        })\\n\\n        self.model = tiktoken.Encoding(\\n            name=Path(model_path).name,\\n            pat_str=r\"(?i:\\'s|\\'t|\\'re|\\'ve|\\'m|\\'ll|\\'d)|[^\\r\\n\\\\p{L}\\\\p{N}]?\\\\p{L}+|\\\\p{N}{1,3}| ?[^\\\\s\\\\p{L}\\\\p{N}]+[\\r\\n]*|\\\\s*[\\r\\n]+|\\\\s+(?!\\\\S)|\\\\s+\",\\n            mergeable_ranks=mergeable_ranks,\\n            special_tokens=self.special_tokens\\n        )\\n\\n\\n    def encode(self, text, bos=False, eos=False, allowed_special=set(), disallowed_special=()):\\n        if bos:\\n            tokens = [self.special_tokens[\"<|begin_of_text|>\"]]\\n        else:\\n            tokens = []\\n\\n        tokens += self.model.encode(text, allowed_special=allowed_special, disallowed_special=disallowed_special)\\n\\n        if eos:\\n            tokens.append(self.special_tokens[\"<|end_of_text|>\"])\\n        return tokens\\n\\n    def decode(self, tokens):\\n        return self.model.decode(tokens)\\n\\n\\nclass ChatFormat:\\n    def __init__(self, tokenizer):\\n        self.tokenizer = tokenizer\\n\\n    def encode_header(self, message):\\n        tokens = []\\n        tokens.append(self.tokenizer.special_tokens[\"<|start_header_id|>\"])\\n        tokens.extend(self.tokenizer.encode(message[\"role\"], bos=False, eos=False))\\n        tokens.append(self.tokenizer.special_tokens[\"<|end_header_id|>\"])\\n        tokens.extend(self.tokenizer.encode(\"\\n\\n\", bos=False, eos=False))\\n        return tokens\\n\\n    def encode(self, text):\\n        message = {\\n            \"role\": \"user\",\\n            \"content\": text\\n        }\\n\\n        tokens = self.encode_header(message)\\n        tokens.extend(\\n            self.tokenizer.encode(message[\"content\"].strip(), bos=False, eos=False)\\n        )\\n        tokens.append(self.tokenizer.special_tokens[\"<|eot_id|>\"])\\n        return tokens\\n\\n    def decode(self, token_ids):\\n        return self.tokenizer.decode(token_ids)'"
      ]
     },
     "execution_count": 23,
     "metadata": {},
     "output_type": "execute_result"
    }
   ],
   "source": [
    "'''import os\n",
    "from pathlib import Path\n",
    "\n",
    "import tiktoken\n",
    "from tiktoken.load import load_tiktoken_bpe\n",
    "\n",
    "\n",
    "class Tokenizer:\n",
    "    def __init__(self, model_path):\n",
    "        assert os.path.isfile(model_path), f\"Model file {model_path} not found\"\n",
    "        mergeable_ranks = load_tiktoken_bpe(model_path)\n",
    "\n",
    "        self.special_tokens = {\n",
    "            \"<|begin_of_text|>\": 128000,\n",
    "            \"<|end_of_text|>\": 128001,\n",
    "            \"<|start_header_id|>\": 128006,\n",
    "            \"<|end_header_id|>\": 128007,\n",
    "            \"<|eot_id|>\": 128009,\n",
    "        }\n",
    "        self.special_tokens.update({\n",
    "            f\"<|reserved_{i}|>\": 128002 + i for i in range(256) if (128002 + i) not in self.special_tokens.values()\n",
    "        })\n",
    "\n",
    "        self.model = tiktoken.Encoding(\n",
    "            name=Path(model_path).name,\n",
    "            pat_str=r\"(?i:'s|'t|'re|'ve|'m|'ll|'d)|[^\\r\\n\\p{L}\\p{N}]?\\p{L}+|\\p{N}{1,3}| ?[^\\s\\p{L}\\p{N}]+[\\r\\n]*|\\s*[\\r\\n]+|\\s+(?!\\S)|\\s+\",\n",
    "            mergeable_ranks=mergeable_ranks,\n",
    "            special_tokens=self.special_tokens\n",
    "        )\n",
    "\n",
    "\n",
    "    def encode(self, text, bos=False, eos=False, allowed_special=set(), disallowed_special=()):\n",
    "        if bos:\n",
    "            tokens = [self.special_tokens[\"<|begin_of_text|>\"]]\n",
    "        else:\n",
    "            tokens = []\n",
    "\n",
    "        tokens += self.model.encode(text, allowed_special=allowed_special, disallowed_special=disallowed_special)\n",
    "\n",
    "        if eos:\n",
    "            tokens.append(self.special_tokens[\"<|end_of_text|>\"])\n",
    "        return tokens\n",
    "\n",
    "    def decode(self, tokens):\n",
    "        return self.model.decode(tokens)\n",
    "\n",
    "\n",
    "class ChatFormat:\n",
    "    def __init__(self, tokenizer):\n",
    "        self.tokenizer = tokenizer\n",
    "\n",
    "    def encode_header(self, message):\n",
    "        tokens = []\n",
    "        tokens.append(self.tokenizer.special_tokens[\"<|start_header_id|>\"])\n",
    "        tokens.extend(self.tokenizer.encode(message[\"role\"], bos=False, eos=False))\n",
    "        tokens.append(self.tokenizer.special_tokens[\"<|end_header_id|>\"])\n",
    "        tokens.extend(self.tokenizer.encode(\"\\n\\n\", bos=False, eos=False))\n",
    "        return tokens\n",
    "\n",
    "    def encode(self, text):\n",
    "        message = {\n",
    "            \"role\": \"user\",\n",
    "            \"content\": text\n",
    "        }\n",
    "\n",
    "        tokens = self.encode_header(message)\n",
    "        tokens.extend(\n",
    "            self.tokenizer.encode(message[\"content\"].strip(), bos=False, eos=False)\n",
    "        )\n",
    "        tokens.append(self.tokenizer.special_tokens[\"<|eot_id|>\"])\n",
    "        return tokens\n",
    "\n",
    "    def decode(self, token_ids):\n",
    "        return self.tokenizer.decode(token_ids)'''"
   ]
  },
  {
   "cell_type": "markdown",
   "id": "b771b60c-c198-4b30-bf10-42031197ae86",
   "metadata": {
    "id": "b771b60c-c198-4b30-bf10-42031197ae86"
   },
   "source": [
    "- Please note that Meta AI requires that you accept the Llama 3.2 licensing terms before you can download the files; to do this, you have to create a Hugging Face Hub account and visit the [meta-llama/Llama-3.2-1B](https://huggingface.co/meta-llama/Llama-3.2-1B) repository to accept the terms\n",
    "- Next, you will need to create an access token; to generate an access token with READ permissions, click on the profile picture in the upper right and click on \"Settings\"\n",
    "\n",
    "\n",
    "<img src=\"https://sebastianraschka.com/images/LLMs-from-scratch-images/bonus/gpt-to-llama/settings.webp?1\" width=\"300px\">\n",
    "\n",
    "- Then, create and copy the access token so you can copy & paste it into the next code cell\n",
    "\n",
    "<img src=\"https://sebastianraschka.com/images/LLMs-from-scratch-images/bonus/gpt-to-llama/access-token.webp?1\" width=\"600px\">"
   ]
  },
  {
   "cell_type": "code",
   "execution_count": 24,
   "id": "e9d96dc8-603a-4cb5-8c3e-4d2ca56862ed",
   "metadata": {
    "colab": {
     "base_uri": "https://localhost:8080/",
     "height": 0
    },
    "id": "e9d96dc8-603a-4cb5-8c3e-4d2ca56862ed",
    "outputId": "928b774a-6015-4c6e-e6c7-10f9f1a30e48"
   },
   "outputs": [
    {
     "data": {
      "application/vnd.google.colaboratory.intrinsic+json": {
       "type": "string"
      },
      "text/plain": [
       "'from huggingface_hub import login\\n\\nlogin()'"
      ]
     },
     "execution_count": 24,
     "metadata": {},
     "output_type": "execute_result"
    }
   ],
   "source": [
    "'''from huggingface_hub import login\n",
    "\n",
    "login()'''"
   ]
  },
  {
   "cell_type": "code",
   "execution_count": 25,
   "id": "986bc1a0-804f-4154-80f8-44cefbee1368",
   "metadata": {
    "colab": {
     "base_uri": "https://localhost:8080/",
     "height": 0
    },
    "id": "986bc1a0-804f-4154-80f8-44cefbee1368",
    "outputId": "f73470a0-13fc-4329-ab61-ade81e96b814"
   },
   "outputs": [
    {
     "data": {
      "application/vnd.google.colaboratory.intrinsic+json": {
       "type": "string"
      },
      "text/plain": [
       "'from huggingface_hub import hf_hub_download\\n\\ntokenizer_file_path = hf_hub_download(\\n    repo_id=f\"meta-llama/Llama-3.2-{LLAMA_SIZE_STR}-Instruct\",\\n    filename=\"original/tokenizer.model\",\\n    local_dir=f\"Llama-3.2-{LLAMA_SIZE_STR}-Instruct\"\\n)'"
      ]
     },
     "execution_count": 25,
     "metadata": {},
     "output_type": "execute_result"
    }
   ],
   "source": [
    "'''from huggingface_hub import hf_hub_download\n",
    "\n",
    "tokenizer_file_path = hf_hub_download(\n",
    "    repo_id=f\"meta-llama/Llama-3.2-{LLAMA_SIZE_STR}-Instruct\",\n",
    "    filename=\"original/tokenizer.model\",\n",
    "    local_dir=f\"Llama-3.2-{LLAMA_SIZE_STR}-Instruct\"\n",
    ")'''"
   ]
  },
  {
   "cell_type": "code",
   "execution_count": 26,
   "id": "_gBhxDtU_nxo",
   "metadata": {
    "colab": {
     "base_uri": "https://localhost:8080/",
     "height": 0
    },
    "id": "_gBhxDtU_nxo",
    "outputId": "58e295a7-ed46-49dc-b691-d375af16ce4c"
   },
   "outputs": [
    {
     "data": {
      "application/vnd.google.colaboratory.intrinsic+json": {
       "type": "string"
      },
      "text/plain": [
       "'tokenizer = Tokenizer(tokenizer_file_path)\\nchat_tokenizer = ChatFormat(tokenizer)'"
      ]
     },
     "execution_count": 26,
     "metadata": {},
     "output_type": "execute_result"
    }
   ],
   "source": [
    "'''tokenizer = Tokenizer(tokenizer_file_path)\n",
    "chat_tokenizer = ChatFormat(tokenizer)'''"
   ]
  },
  {
   "cell_type": "markdown",
   "id": "7q1cERivLp3w",
   "metadata": {
    "id": "7q1cERivLp3w"
   },
   "source": [
    "## tests"
   ]
  },
  {
   "cell_type": "code",
   "execution_count": 27,
   "id": "BLVsM4DMBr6S",
   "metadata": {
    "colab": {
     "base_uri": "https://localhost:8080/",
     "height": 0
    },
    "id": "BLVsM4DMBr6S",
    "outputId": "d8560fbb-4c3b-4c40-b6a9-32345bf0e703"
   },
   "outputs": [
    {
     "data": {
      "application/vnd.google.colaboratory.intrinsic+json": {
       "type": "string"
      },
      "text/plain": [
       "\"print(type(chat_tokenizer.encode('hello world')))\\nchat_tokenizer.decode(chat_tokenizer.encode('hello world'))\""
      ]
     },
     "execution_count": 27,
     "metadata": {},
     "output_type": "execute_result"
    }
   ],
   "source": [
    "'''print(type(chat_tokenizer.encode('hello world')))\n",
    "chat_tokenizer.decode(chat_tokenizer.encode('hello world'))'''"
   ]
  },
  {
   "cell_type": "code",
   "execution_count": 28,
   "id": "l5jHSizk8SAH",
   "metadata": {
    "colab": {
     "base_uri": "https://localhost:8080/",
     "height": 0
    },
    "id": "l5jHSizk8SAH",
    "outputId": "bb39c3e7-31e0-4942-e7fb-5549f8af6a75"
   },
   "outputs": [
    {
     "data": {
      "application/vnd.google.colaboratory.intrinsic+json": {
       "type": "string"
      },
      "text/plain": [
       "'[tokenizer.decode([token]) for token in tokenizer.encode(\"महाप्रभुको सदिच्छा पूरा गर्न यो भौतिक \")]'"
      ]
     },
     "execution_count": 28,
     "metadata": {},
     "output_type": "execute_result"
    }
   ],
   "source": [
    "'''[tokenizer.decode([token]) for token in tokenizer.encode(\"महाप्रभुको सदिच्छा पूरा गर्न यो भौतिक \")]'''"
   ]
  },
  {
   "cell_type": "code",
   "execution_count": 29,
   "id": "6mpCEeeJIAUg",
   "metadata": {
    "colab": {
     "base_uri": "https://localhost:8080/",
     "height": 0
    },
    "id": "6mpCEeeJIAUg",
    "outputId": "68a15d62-536d-4895-fd87-03bfa33ddb08"
   },
   "outputs": [
    {
     "data": {
      "application/vnd.google.colaboratory.intrinsic+json": {
       "type": "string"
      },
      "text/plain": [
       "'a=[]\\na.append(tokenizer.special_tokens[\"<|end_header_id|>\"])\\na'"
      ]
     },
     "execution_count": 29,
     "metadata": {},
     "output_type": "execute_result"
    }
   ],
   "source": [
    "'''a=[]\n",
    "a.append(tokenizer.special_tokens[\"<|end_header_id|>\"])\n",
    "a'''"
   ]
  },
  {
   "cell_type": "markdown",
   "id": "uqIUhf3_JRKx",
   "metadata": {
    "id": "uqIUhf3_JRKx"
   },
   "source": [
    "&nbsp;\n",
    "# 3.5. Generate text"
   ]
  },
  {
   "cell_type": "code",
   "execution_count": 30,
   "id": "KRg1Tp9aJRKy",
   "metadata": {
    "id": "KRg1Tp9aJRKy"
   },
   "outputs": [],
   "source": [
    "def text_to_token_ids(text, tokenizer):\n",
    "    encoded = tokenizer.encode(text)\n",
    "    encoded_tensor = torch.tensor(encoded).unsqueeze(0)  # add batch dimension\n",
    "    return encoded_tensor\n",
    "    # '''\n",
    "    #   we have modified above return statement by sebastian because there are no tokens like 'start_header_id', 'end_header_id' and tokenizer is returning None which inturn is giving error\n",
    "    #   TODO: add special tokens: 'start_header_id', 'end_header_id' and uncomment above return statement\n",
    "    # '''\n",
    "    # print(encoded_tensor)\n",
    "    # return torch.tensor([token for token in encoded_tensor])  # TODO: use additional vocab like encoded_tensor\n",
    "\n",
    "\n",
    "def token_ids_to_text(token_ids, tokenizer):\n",
    "    flat = token_ids.squeeze(0)  # remove batch dimension\n",
    "    return tokenizer.decode(flat.tolist())\n",
    "\n",
    "\n",
    "def generate(model, idx, max_new_tokens, context_size, temperature=0.0, top_k=None, eos_id=None):\n",
    "\n",
    "    # For-loop is the same as before: Get logits, and only focus on last time step\n",
    "    for _ in range(max_new_tokens):\n",
    "        idx_cond = idx[:, -context_size:]\n",
    "        with torch.no_grad():\n",
    "            logits = model(idx_cond)\n",
    "        logits = logits[:, -1, :]\n",
    "\n",
    "        # New: Filter logits with top_k sampling\n",
    "        if top_k is not None:\n",
    "            # Keep only top_k values\n",
    "            top_logits, _ = torch.topk(logits, top_k)\n",
    "            min_val = top_logits[:, -1]\n",
    "            logits = torch.where(logits < min_val, torch.tensor(float('-inf')).to(logits.device), logits)\n",
    "\n",
    "        # New: Apply temperature scaling\n",
    "        if temperature > 0.0:\n",
    "            logits = logits / temperature\n",
    "\n",
    "            # Apply softmax to get probabilities\n",
    "            probs = torch.softmax(logits, dim=-1)  # (batch_size, context_len)\n",
    "\n",
    "            # Sample from the distribution\n",
    "            idx_next = torch.multinomial(probs, num_samples=1)  # (batch_size, 1)\n",
    "\n",
    "        # Otherwise same as before: get idx of the vocab entry with the highest logits value\n",
    "        else:\n",
    "            idx_next = torch.argmax(logits, dim=-1, keepdim=True)  # (batch_size, 1)\n",
    "\n",
    "        if idx_next == eos_id:  # Stop generating early if end-of-sequence token is encountered and eos_id is specified\n",
    "            break\n",
    "\n",
    "        # Same as before: append sampled index to the running sequence\n",
    "        idx = torch.cat((idx, idx_next), dim=1)  # (batch_size, num_tokens+1)\n",
    "\n",
    "    return idx"
   ]
  },
  {
   "cell_type": "code",
   "execution_count": 31,
   "id": "1_7Z2fFNJRK1",
   "metadata": {
    "colab": {
     "base_uri": "https://localhost:8080/"
    },
    "id": "1_7Z2fFNJRK1",
    "outputId": "a576bd9d-5144-4750-f5e4-7316969cecdf"
   },
   "outputs": [
    {
     "name": "stdout",
     "output_type": "stream",
     "text": [
      "Output text:\n",
      " प्रयोगकर्ता लामा हरु ले के खान्छन् जनकल्यामार्थ त्रुटीउतारेको गौँबर्षाएक्लैले वट साहिविद्यालयबाट भान्ह्वाट्सएप मानवअधिकारकर्मी संविधानसम्मत कविराज क्षमा मरिहत्ते उठ्दा जवाफमा मार्गमा पराजित ीकरणमा जवाफमा स्वीकार्दै सर्लाही तिरे बिरामीहरु चारका माहोलमा पोम्पिवट साहिविद्यालयबाट भान्ह्वाट्सएप १२ त्रुटीसञ्चारमाध्यमहरूले रामेछापका चेपछि गृहमन्त्रीको केन्द्रामाहोलमा बच्नका साहिटेक्नोलोसियादेवदह क्षयरोग रह्यामारले र्था चाही व्यापारलाई नर्सकेन्द्रामाहोलमा कार्यकर्तालगानीकर्बिरामीहरु मोर्माहोलमा ट्वीटरमार्फत ट्वीटरमार्फत ट्वीटरमार्फत\n"
     ]
    }
   ],
   "source": [
    "PROMPT = \"लामा हरु ले के खान्छन् ?\"\n",
    "\n",
    "torch.manual_seed(123)\n",
    "\n",
    "token_ids = generate(\n",
    "    model=model,\n",
    "    idx=text_to_token_ids(PROMPT, chat_tokenizer).to(device),\n",
    "    max_new_tokens=150,\n",
    "    context_size=LLAMA32_CONFIG[\"context_length\"],\n",
    "    top_k=1,\n",
    "    temperature=0.\n",
    ")\n",
    "\n",
    "output_text = token_ids_to_text(token_ids, tokenizer)\n",
    "\n",
    "\n",
    "def clean_text(text, header_end=\"assistant<|end_header_id|>\\n\\n\"):\n",
    "    # Find the index of the first occurrence of \"<|end_header_id|>\"\n",
    "    index = text.find(header_end)\n",
    "\n",
    "    if index != -1:\n",
    "        # Return the substring starting after \"<|end_header_id|>\"\n",
    "        return text[index + len(header_end):].strip()  # Strip removes leading/trailing whitespace\n",
    "    else:\n",
    "        # If the token is not found, return the original text\n",
    "        return text\n",
    "\n",
    "print(\"Output text:\\n\", clean_text(output_text))"
   ]
  },
  {
   "cell_type": "markdown",
   "id": "HAePQlAbrlml",
   "metadata": {
    "id": "HAePQlAbrlml"
   },
   "source": [
    "&nbsp;\n",
    "# 4.5 The poor man's trainning loop"
   ]
  },
  {
   "cell_type": "code",
   "execution_count": 32,
   "id": "YrNgG5Scrr2F",
   "metadata": {
    "colab": {
     "base_uri": "https://localhost:8080/",
     "height": 181
    },
    "id": "YrNgG5Scrr2F",
    "outputId": "001ea31b-94b4-4b53-ba49-e7bda4044185"
   },
   "outputs": [
    {
     "data": {
      "application/vnd.google.colaboratory.intrinsic+json": {
       "type": "string"
      },
      "text/plain": [
       "'# tokenizer does not seem to tokenize nepali text well. lets try training with english text instead\\n\\n# Download data\\nimport urllib.request\\nurl = (\"https://raw.githubusercontent.com/rasbt/\"\\n \"LLMs-from-scratch/main/ch02/01_main-chapter-code/\"\\n \"the-verdict.txt\")\\nfile_path = \"the-verdict.txt\"\\n\\nfile_path = \"cleaned_bhagavad_gita_data.txt\"\\nurl = \"https://github.com/Aananda-giri/llm.np/blob/main/4.%20LLAMA/training_loop/cleaned_bhagavad_gita_data.txt\"\\n\\nurllib.request.urlretrieve(url, file_path)\\n\\n# load the text\\nwith open(\"the-verdict.txt\", \"r\", encoding=\"utf-8\") as f:\\n raw_text = f.read()\\nprint(\"Total number of character:\", len(raw_text))\\nprint(raw_text[:99])'"
      ]
     },
     "execution_count": 32,
     "metadata": {},
     "output_type": "execute_result"
    }
   ],
   "source": [
    "'''# tokenizer does not seem to tokenize nepali text well. lets try training with english text instead\n",
    "\n",
    "# Download data\n",
    "import urllib.request\n",
    "url = (\"https://raw.githubusercontent.com/rasbt/\"\n",
    " \"LLMs-from-scratch/main/ch02/01_main-chapter-code/\"\n",
    " \"the-verdict.txt\")\n",
    "file_path = \"the-verdict.txt\"\n",
    "\n",
    "file_path = \"cleaned_bhagavad_gita_data.txt\"\n",
    "url = \"https://github.com/Aananda-giri/llm.np/blob/main/4.%20LLAMA/training_loop/cleaned_bhagavad_gita_data.txt\"\n",
    "\n",
    "urllib.request.urlretrieve(url, file_path)\n",
    "\n",
    "# load the text\n",
    "with open(\"the-verdict.txt\", \"r\", encoding=\"utf-8\") as f:\n",
    " raw_text = f.read()\n",
    "print(\"Total number of character:\", len(raw_text))\n",
    "print(raw_text[:99])'''"
   ]
  },
  {
   "cell_type": "code",
   "execution_count": 34,
   "id": "3qwlpv64MPIz",
   "metadata": {
    "colab": {
     "base_uri": "https://localhost:8080/"
    },
    "id": "3qwlpv64MPIz",
    "outputId": "cc42084a-398d-4481-f7c4-5ce3e1b1aceb"
   },
   "outputs": [
    {
     "data": {
      "text/plain": [
       "('cleaned_bhagavad_gita_data.txt', <http.client.HTTPMessage at 0x7dedee6e6470>)"
      ]
     },
     "execution_count": 34,
     "metadata": {},
     "output_type": "execute_result"
    }
   ],
   "source": [
    "import urllib.request\n",
    "import requests\n",
    "\n",
    "# Raw file URL\n",
    "url = \"https://raw.githubusercontent.com/Aananda-giri/llm.np/main/4.%20LLAMA/training_loop/cleaned_bhagavad_gita_data.txt\"\n",
    "\n",
    "# File path to save the file locally\n",
    "file_path = \"cleaned_bhagavad_gita_data.txt\"\n",
    "\n",
    "urllib.request.urlretrieve(url, file_path)\n"
   ]
  },
  {
   "cell_type": "code",
   "execution_count": 36,
   "id": "9ap0f9x2rtmY",
   "metadata": {
    "id": "9ap0f9x2rtmY"
   },
   "outputs": [],
   "source": [
    "# import tiktoken\n",
    "import torch\n",
    "import torch.nn as nn\n",
    "from torch.utils.data import Dataset, DataLoader\n",
    "import matplotlib.pyplot as plt\n",
    "from matplotlib.ticker import MaxNLocator\n",
    "\n",
    "#####################################\n",
    "# Chapter 2\n",
    "#####################################\n",
    "\n",
    "\n",
    "class GPTDatasetV1(Dataset):\n",
    "    def __init__(self, txt, tokenizer, max_length, stride):\n",
    "        self.input_ids = []\n",
    "        self.target_ids = []\n",
    "\n",
    "        token_ids = tokenizer.encode(txt)\n",
    "\n",
    "        for i in range(0, len(token_ids) - max_length, stride):\n",
    "            input_chunk = token_ids[i:i + max_length]\n",
    "            target_chunk = token_ids[i + 1: i + max_length + 1]\n",
    "            self.input_ids.append(torch.tensor(input_chunk))\n",
    "            self.target_ids.append(torch.tensor(target_chunk))\n",
    "\n",
    "    def __len__(self):\n",
    "        return len(self.input_ids)\n",
    "\n",
    "    def __getitem__(self, idx):\n",
    "        return self.input_ids[idx], self.target_ids[idx]\n",
    "\n",
    "\n",
    "def create_dataloader_v1(tokenizer, txt, batch_size=4, max_length=256,\n",
    "                         stride=128, shuffle=True, drop_last=True, num_workers=0):\n",
    "    dataset = GPTDatasetV1(txt, tokenizer, max_length, stride)\n",
    "    dataloader = DataLoader(\n",
    "        dataset, batch_size=batch_size, shuffle=shuffle, drop_last=drop_last, num_workers=num_workers)\n",
    "\n",
    "    return dataloader\n",
    "\n",
    "def create_dataloaders(text_data, train_ratio, batch_size, max_length, stride, num_workers=0):\n",
    "    split_idx = int(train_ratio * len(text_data))\n",
    "    train_loader = create_dataloader_v1(\n",
    "        tokenizer,\n",
    "        text_data[:split_idx],\n",
    "        batch_size=batch_size,\n",
    "        max_length=max_length,\n",
    "        stride=stride,\n",
    "        drop_last=True,\n",
    "        shuffle=True,\n",
    "        num_workers=num_workers\n",
    "    )\n",
    "    val_loader = create_dataloader_v1(\n",
    "        tokenizer,\n",
    "        text_data[split_idx:],\n",
    "        batch_size=batch_size,\n",
    "        max_length=max_length,\n",
    "        stride=stride,\n",
    "        drop_last=False,\n",
    "        shuffle=False,\n",
    "        num_workers=num_workers\n",
    "    )\n",
    "    return train_loader, val_loader\n",
    "\n",
    "def read_text_file(file_path):\n",
    "    with open(file_path, \"r\", encoding=\"utf-8\") as file:\n",
    "        text_data = file.read()\n",
    "    return text_data\n",
    "\n",
    "text_data = read_text_file(\"cleaned_bhagavad_gita_data.txt\") + \" <|endoftext|> \"\n",
    "\n",
    "\n",
    "\n",
    "train_loader, val_loader = create_dataloaders(\n",
    "    text_data,\n",
    "    train_ratio=0.9,\n",
    "    batch_size=2,\n",
    "    max_length=LLAMA32_CONFIG[\"context_length\"],\n",
    "    stride=LLAMA32_CONFIG[\"context_length\"],\n",
    "    num_workers=0\n",
    ")"
   ]
  },
  {
   "cell_type": "code",
   "execution_count": null,
   "id": "7p1A-bOxru32",
   "metadata": {
    "colab": {
     "base_uri": "https://localhost:8080/"
    },
    "id": "7p1A-bOxru32",
    "outputId": "4210c90c-6f9a-4f9c-a21a-d81f2563ad6f"
   },
   "outputs": [
    {
     "name": "stdout",
     "output_type": "stream",
     "text": [
      "Training ...\n",
      "Ep 1 (Step 0): Train loss 9.125, Val loss 8.938\n",
      "Ep 1 (Step 300): Train loss 9.625, Val loss 8.812\n",
      "Ep 1 (Step 600): Train loss 9.188, Val loss 8.750\n",
      "Ep 1 (Step 900): Train loss 8.438, Val loss 8.625\n",
      "Ep 1 (Step 1200): Train loss 9.312, Val loss 8.500\n",
      "Ep 1 (Step 1500): Train loss 8.688, Val loss 8.438\n",
      "Ep 1 (Step 1800): Train loss 8.500, Val loss 8.438\n",
      "Output text:\n",
      " प्रयोगकर्ता rsed eeerott o। । । । । । । । । । । । । । । । । । । । । । । । । । । । । । । । । । । । । । । । । । । । । । । । । । । । । । । । । । । । । । । । । । । । । । । । । । । । । । । । । । । । । । । । । । । । । । । । । । । । । । । । । । । । । । । । । । । । । । । । । । । । । । । । । । । । । । । । । । । । । । । । । । । । । ।\n",
      "Ep 1 (Step 2100): Train loss 8.875, Val loss 8.375\n",
      "Ep 1 (Step 2400): Train loss 7.625, Val loss 8.312\n",
      "Ep 1 (Step 2700): Train loss 8.312, Val loss 8.312\n",
      "Ep 1 (Step 3000): Train loss 8.188, Val loss 8.312\n",
      "Ep 1 (Step 3300): Train loss 7.562, Val loss 8.312\n",
      "Ep 1 (Step 3600): Train loss 8.250, Val loss 8.250\n",
      "Ep 1 (Step 3900): Train loss 8.375, Val loss 8.312\n",
      "Output text:\n",
      " प्रयोगकर्ता rsed eeerott o। । । । । । । । । । । । । । । । । । । । । । । । । । । । । । । । । । । । । । । । । । । । । । । । । । । । । । । । । । । । । । । । । । । । । । । । । । । । । । । । । । । । । । । । । । । । । । । । । । । । । । । । । । । । । । । । । । । । । । । । । । । । । । । । । । । । । । । । । । । । । । । । । । । । । ।\n",
      "Ep 1 (Step 4200): Train loss 8.938, Val loss 8.312\n",
      "Ep 1 (Step 4500): Train loss 7.531, Val loss 8.312\n",
      "Ep 1 (Step 4800): Train loss 8.250, Val loss 8.312\n",
      "Ep 1 (Step 5100): Train loss 8.125, Val loss 8.312\n",
      "Ep 1 (Step 5400): Train loss 7.531, Val loss 8.312\n",
      "Ep 1 (Step 5700): Train loss 8.188, Val loss 8.312\n",
      "Ep 1 (Step 6000): Train loss 8.312, Val loss 8.312\n",
      "Output text:\n",
      " प्रयोगकर्ता rsed eeerott o। । । । । । । । । । । । । । । । । । । । । । । । । । । । । । । । । । । । । । । । । । । । । । । । । । । । । । । । । । । । । । । । । । । । । । । । । । । । । । । । । । । । । । । । । । । । । । । । । । । । । । । । । । । । । । । । । । । । । । । । । । । । । । । । । । । । । । । । । । । । । । । । । । । । । ।\n",
      "Ep 1 (Step 6300): Train loss 8.938, Val loss 8.312\n",
      "Ep 1 (Step 6600): Train loss 7.531, Val loss 8.312\n",
      "Ep 1 (Step 6900): Train loss 8.250, Val loss 8.312\n",
      "Ep 1 (Step 7200): Train loss 8.062, Val loss 8.312\n",
      "Ep 1 (Step 7500): Train loss 7.531, Val loss 8.312\n",
      "Ep 1 (Step 7800): Train loss 8.188, Val loss 8.312\n",
      "Output text:\n",
      " प्रयोगकर्ता rsed eeerott o। । । । । । । । । । । । । । । । । । । । । । । । । । । । । । । । । । । । । । । । । । । । । । । । । । । । । । । । । । । । । । । । । । । । । । । । । । । । । । । । । । । । । । । । । । । । । । । । । । । । । । । । । । । । । । । । । । । । । । । । । । । । । । । । । । । । । । । । । । । । । । । । । । । । । ।\n",
      "Ep 1 (Step 8100): Train loss 8.938, Val loss 8.312\n",
      "Ep 1 (Step 8400): Train loss 7.531, Val loss 8.312\n",
      "Ep 1 (Step 8700): Train loss 8.250, Val loss 8.312\n",
      "Ep 1 (Step 9000): Train loss 8.062, Val loss 8.312\n",
      "Ep 1 (Step 9300): Train loss 7.562, Val loss 8.312\n",
      "Ep 1 (Step 9600): Train loss 8.188, Val loss 8.312\n",
      "Ep 1 (Step 9900): Train loss 8.312, Val loss 8.312\n",
      "Output text:\n",
      " प्रयोगकर्ता rsed eeerott o। । । । । । । । । । । । । । । । । । । । । । । । । । । । । । । । । । । । । । । । । । । । । । । । । । । । । । । । । । । । । । । । । । । । । । । । । । । । । । । । । । । । । । । । । । । । । । । । । । । । । । । । । । । । । । । । । । । । । । । । । । । । । । । । । । । । । । । । । । । । । । । । । । । । । ।\n",
      "Ep 1 (Step 10200): Train loss 8.938, Val loss 8.312\n",
      "Ep 1 (Step 10500): Train loss 7.531, Val loss 8.312\n",
      "Ep 1 (Step 10800): Train loss 8.250, Val loss 8.312\n",
      "Ep 1 (Step 11100): Train loss 8.062, Val loss 8.312\n",
      "Ep 1 (Step 11400): Train loss 7.562, Val loss 8.312\n",
      "Ep 1 (Step 11700): Train loss 8.125, Val loss 8.312\n",
      "Ep 1 (Step 12000): Train loss 8.312, Val loss 8.312\n",
      "Output text:\n",
      " प्रयोगकर्ता rsed eeerott o। । । । । । । । । । । । । । । । । । । । । । । । । । । । । । । । । । । । । । । । । । । । । । । । । । । । । । । । । । । । । । । । । । । । । । । । । । । । । । । । । । । । । । । । । । । । । । । । । । । । । । । । । । । । । । । । । । । । । । । । । । । । । । । । । । । । । । । । । । । । । । । । । । । । । ।\n",
      "Ep 1 (Step 12300): Train loss 8.938, Val loss 8.312\n",
      "Ep 1 (Step 12600): Train loss 7.531, Val loss 8.312\n",
      "Ep 1 (Step 12900): Train loss 8.250, Val loss 8.312\n",
      "Ep 1 (Step 13200): Train loss 8.062, Val loss 8.312\n",
      "Ep 1 (Step 13500): Train loss 7.594, Val loss 8.312\n",
      "Ep 1 (Step 13800): Train loss 8.188, Val loss 8.312\n",
      "Output text:\n",
      " प्रयोगकर्ता rsed eeerott o। । । । । । । । । । । । । । । । । । । । । । । । । । । । । । । । । । । । । । । । । । । । । । । । । । । । । । । । । । । । । । । । । । । । । । । । । । । । । । । । । । । । । । । । । । । । । । । । । । । । । । । । । । । । । । । । । । । । । । । । । । । । । । । । । । । । । । । । । । । । । । । । । । । । । ।\n",
      "Ep 2 (Step 14100): Train loss 8.938, Val loss 8.312\n",
      "Ep 2 (Step 14400): Train loss 7.531, Val loss 8.312\n",
      "Ep 2 (Step 14700): Train loss 8.250, Val loss 8.312\n",
      "Ep 2 (Step 15000): Train loss 8.062, Val loss 8.312\n",
      "Ep 2 (Step 15300): Train loss 7.594, Val loss 8.312\n",
      "Ep 2 (Step 15600): Train loss 8.188, Val loss 8.312\n",
      "Ep 2 (Step 15900): Train loss 8.312, Val loss 8.312\n",
      "Output text:\n",
      " प्रयोगकर्ता rsed eeerott o। । । । । । । । । । । । । । । । । । । । । । । । । । । । । । । । । । । । । । । । । । । । । । । । । । । । । । । । । । । । । । । । । । । । । । । । । । । । । । । । । । । । । । । । । । । । । । । । । । । । । । । । । । । । । । । । । । । । । । । । । । । । । । । । । । । । । । । । । । । । । । । । । । । । । ।\n",
      "Ep 2 (Step 16200): Train loss 8.938, Val loss 8.312\n",
      "Ep 2 (Step 16500): Train loss 7.531, Val loss 8.312\n",
      "Ep 2 (Step 16800): Train loss 8.250, Val loss 8.312\n",
      "Ep 2 (Step 17100): Train loss 8.062, Val loss 8.312\n",
      "Ep 2 (Step 17400): Train loss 7.594, Val loss 8.312\n",
      "Ep 2 (Step 17700): Train loss 8.188, Val loss 8.312\n",
      "Ep 2 (Step 18000): Train loss 8.312, Val loss 8.312\n",
      "Output text:\n",
      " प्रयोगकर्ता rsed eeerott o। । । । । । । । । । । । । । । । । । । । । । । । । । । । । । । । । । । । । । । । । । । । । । । । । । । । । । । । । । । । । । । । । । । । । । । । । । । । । । । । । । । । । । । । । । । । । । । । । । । । । । । । । । । । । । । । । । । । । । । । । । । । । । । । । । । । । । । । । । । । । । । । । । । । । ।\n",
      "Ep 2 (Step 18300): Train loss 8.938, Val loss 8.312\n",
      "Ep 2 (Step 18600): Train loss 7.531, Val loss 8.312\n",
      "Ep 2 (Step 18900): Train loss 8.250, Val loss 8.312\n",
      "Ep 2 (Step 19200): Train loss 8.062, Val loss 8.312\n",
      "Ep 2 (Step 19500): Train loss 7.594, Val loss 8.312\n",
      "Ep 2 (Step 19800): Train loss 8.188, Val loss 8.312\n",
      "Output text:\n",
      " प्रयोगकर्ता rsed eeerott o। । । । । । । । । । । । । । । । । । । । । । । । । । । । । । । । । । । । । । । । । । । । । । । । । । । । । । । । । । । । । । । । । । । । । । । । । । । । । । । । । । । । । । । । । । । । । । । । । । । । । । । । । । । । । । । । । । । । । । । । । । । । । । । । । । । । । । । । । । । । । । । । । । । । । ।\n",
      "Ep 2 (Step 20100): Train loss 8.938, Val loss 8.312\n",
      "Ep 2 (Step 20400): Train loss 7.531, Val loss 8.312\n",
      "Ep 2 (Step 20700): Train loss 8.250, Val loss 8.312\n",
      "Ep 2 (Step 21000): Train loss 8.062, Val loss 8.312\n",
      "Ep 2 (Step 21300): Train loss 7.594, Val loss 8.312\n",
      "Ep 2 (Step 21600): Train loss 8.188, Val loss 8.312\n",
      "Ep 2 (Step 21900): Train loss 8.312, Val loss 8.312\n",
      "Output text:\n",
      " प्रयोगकर्ता rsed eeerott o। । । । । । । । । । । । । । । । । । । । । । । । । । । । । । । । । । । । । । । । । । । । । । । । । । । । । । । । । । । । । । । । । । । । । । । । । । । । । । । । । । । । । । । । । । । । । । । । । । । । । । । । । । । । । । । । । । । । । । । । । । । । । । । । । । । । । । । । । । । । । । । । । । । । । ।\n",
      "Ep 2 (Step 22200): Train loss 8.938, Val loss 8.312\n",
      "Ep 2 (Step 22500): Train loss 7.531, Val loss 8.312\n",
      "Ep 2 (Step 22800): Train loss 8.250, Val loss 8.312\n",
      "Ep 2 (Step 23100): Train loss 8.062, Val loss 8.312\n",
      "Ep 2 (Step 23400): Train loss 7.594, Val loss 8.312\n",
      "Ep 2 (Step 23700): Train loss 8.188, Val loss 8.312\n",
      "Ep 2 (Step 24000): Train loss 8.312, Val loss 8.312\n",
      "Output text:\n",
      " प्रयोगकर्ता rsed eeerott o। । । । । । । । । । । । । । । । । । । । । । । । । । । । । । । । । । । । । । । । । । । । । । । । । । । । । । । । । । । । । । । । । । । । । । । । । । । । । । । । । । । । । । । । । । । । । । । । । । । । । । । । । । । । । । । । । । । । । । । । । । । । । । । । । । । । । । । । । । । । । । । । । । । । । ।\n",
      "Ep 2 (Step 24300): Train loss 8.938, Val loss 8.312\n",
      "Ep 2 (Step 24600): Train loss 7.531, Val loss 8.312\n",
      "Ep 2 (Step 24900): Train loss 8.250, Val loss 8.312\n",
      "Ep 2 (Step 25200): Train loss 8.062, Val loss 8.312\n",
      "Ep 2 (Step 25500): Train loss 7.594, Val loss 8.312\n",
      "Ep 2 (Step 25800): Train loss 8.188, Val loss 8.312\n",
      "Output text:\n",
      " प्रयोगकर्ता rsed eeerott o। । । । । । । । । । । । । । । । । । । । । । । । । । । । । । । । । । । । । । । । । । । । । । । । । । । । । । । । । । । । । । । । । । । । । । । । । । । । । । । । । । । । । । । । । । । । । । । । । । । । । । । । । । । । । । । । । । । । । । । । । । । । । । । । । । । । । । । । । । । । । । । । । । । । । ।\n",
      "Ep 2 (Step 26100): Train loss 8.938, Val loss 8.312\n",
      "Ep 2 (Step 26400): Train loss 7.500, Val loss 8.312\n",
      "Ep 2 (Step 26700): Train loss 8.250, Val loss 8.312\n",
      "Ep 2 (Step 27000): Train loss 8.062, Val loss 8.312\n",
      "Ep 2 (Step 27300): Train loss 7.594, Val loss 8.312\n",
      "Ep 2 (Step 27600): Train loss 8.188, Val loss 8.312\n",
      "Ep 3 (Step 27900): Train loss 8.625, Val loss 8.312\n",
      "Output text:\n",
      " प्रयोगकर्ता rsed eeerott o। । । । । । । । । । । । । । । । । । । । । । । । । । । । । । । । । । । । । । । । । । । । । । । । । । । । । । । । । । । । । । । । । । । । । । । । । । । । । । । । । । । । । । । । । । । । । । । । । । । । । । । । । । । । । । । । । । । । । । । । । । । । । । । । । । । । । । । । । । । । । । । । । । । । । ।\n",
      "Ep 3 (Step 28200): Train loss 8.938, Val loss 8.312\n",
      "Ep 3 (Step 28500): Train loss 7.500, Val loss 8.312\n",
      "Ep 3 (Step 28800): Train loss 8.250, Val loss 8.312\n",
      "Ep 3 (Step 29100): Train loss 8.062, Val loss 8.312\n",
      "Ep 3 (Step 29400): Train loss 7.594, Val loss 8.312\n",
      "Ep 3 (Step 29700): Train loss 8.188, Val loss 8.312\n",
      "Ep 3 (Step 30000): Train loss 8.312, Val loss 8.312\n",
      "Output text:\n",
      " प्रयोगकर्ता rsed eeerott o। । । । । । । । । । । । । । । । । । । । । । । । । । । । । । । । । । । । । । । । । । । । । । । । । । । । । । । । । । । । । । । । । । । । । । । । । । । । । । । । । । । । । । । । । । । । । । । । । । । । । । । । । । । । । । । । । । । । । । । । । । । । । । । । । । । । । । । । । । । । । । । । । । । । । ।\n",
      "Ep 3 (Step 30300): Train loss 8.938, Val loss 8.312\n",
      "Ep 3 (Step 30600): Train loss 7.500, Val loss 8.312\n",
      "Ep 3 (Step 30900): Train loss 8.312, Val loss 8.312\n",
      "Ep 3 (Step 31200): Train loss 8.062, Val loss 8.312\n",
      "Ep 3 (Step 31500): Train loss 7.625, Val loss 8.312\n",
      "Ep 3 (Step 31800): Train loss 8.188, Val loss 8.312\n",
      "Output text:\n",
      " प्रयोगकर्ता rsed eeerott o। । । । । । । । । । । । । । । । । । । । । । । । । । । । । । । । । । । । । । । । । । । । । । । । । । । । । । । । । । । । । । । । । । । । । । । । । । । । । । । । । । । । । । । । । । । । । । । । । । । । । । । । । । । । । । । । । । । । । । । । । । । । । । । । । । । । । । । । । । । । । । । । । । । । । ।\n",
      "Ep 3 (Step 32100): Train loss 8.938, Val loss 8.312\n",
      "Ep 3 (Step 32400): Train loss 7.500, Val loss 8.312\n",
      "Ep 3 (Step 32700): Train loss 8.312, Val loss 8.312\n",
      "Ep 3 (Step 33000): Train loss 8.062, Val loss 8.312\n",
      "Ep 3 (Step 33300): Train loss 7.625, Val loss 8.312\n",
      "Ep 3 (Step 33600): Train loss 8.188, Val loss 8.312\n",
      "Ep 3 (Step 33900): Train loss 8.312, Val loss 8.312\n",
      "Output text:\n",
      " प्रयोगकर्ता rsed eeerott o। । । । । । । । । । । । । । । । । । । । । । । । । । । । । । । । । । । । । । । । । । । । । । । । । । । । । । । । । । । । । । । । । । । । । । । । । । । । । । । । । । । । । । । । । । । । । । । । । । । । । । । । । । । । । । । । । । । । । । । । । । । । । । । । । । । । । । । । । । । । । । । । । । । । । ।\n",
      "Ep 3 (Step 34200): Train loss 8.938, Val loss 8.312\n",
      "Ep 3 (Step 34500): Train loss 7.531, Val loss 8.312\n",
      "Ep 3 (Step 34800): Train loss 8.312, Val loss 8.312\n",
      "Ep 3 (Step 35100): Train loss 8.062, Val loss 8.312\n",
      "Ep 3 (Step 35400): Train loss 7.625, Val loss 8.312\n",
      "Ep 3 (Step 35700): Train loss 8.188, Val loss 8.312\n",
      "Ep 3 (Step 36000): Train loss 8.312, Val loss 8.312\n",
      "Output text:\n",
      " प्रयोगकर्ता rsed eeerott o। । । । । । । । । । । । । । । । । । । । । । । । । । । । । । । । । । । । । । । । । । । । । । । । । । । । । । । । । । । । । । । । । । । । । । । । । । । । । । । । । । । । । । । । । । । । । । । । । । । । । । । । । । । । । । । । । । । । । । । । । । । । । । । । । । । । । । । । । । । । । । । । । । । । । ।\n",
      "Ep 3 (Step 36300): Train loss 8.938, Val loss 8.312\n",
      "Ep 3 (Step 36600): Train loss 7.500, Val loss 8.312\n",
      "Ep 3 (Step 36900): Train loss 8.312, Val loss 8.312\n",
      "Ep 3 (Step 37200): Train loss 8.062, Val loss 8.312\n",
      "Ep 3 (Step 37500): Train loss 7.625, Val loss 8.312\n",
      "Ep 3 (Step 37800): Train loss 8.188, Val loss 8.312\n",
      "Output text:\n",
      " प्रयोगकर्ता rsed eeerott o। । । । । । । । । । । । । । । । । । । । । । । । । । । । । । । । । । । । । । । । । । । । । । । । । । । । । । । । । । । । । । । । । । । । । । । । । । । । । । । । । । । । । । । । । । । । । । । । । । । । । । । । । । । । । । । । । । । । । । । । । । । । । । । । । । । । । । । । । । । । । । । । । । । । । ।\n",
      "Ep 3 (Step 38100): Train loss 8.938, Val loss 8.312\n",
      "Ep 3 (Step 38400): Train loss 7.500, Val loss 8.312\n",
      "Ep 3 (Step 38700): Train loss 8.312, Val loss 8.312\n",
      "Ep 3 (Step 39000): Train loss 8.062, Val loss 8.312\n",
      "Ep 3 (Step 39300): Train loss 7.625, Val loss 8.312\n",
      "Ep 3 (Step 39600): Train loss 8.188, Val loss 8.312\n",
      "Ep 3 (Step 39900): Train loss 8.312, Val loss 8.312\n",
      "Output text:\n",
      " प्रयोगकर्ता rsed eeerott o। । । । । । । । । । । । । । । । । । । । । । । । । । । । । । । । । । । । । । । । । । । । । । । । । । । । । । । । । । । । । । । । । । । । । । । । । । । । । । । । । । । । । । । । । । । । । । । । । । । । । । । । । । । । । । । । । । । । । । । । । । । । । । । । । । । । । । । । । । । । । । । । । । । । । ।\n",
      "Ep 3 (Step 40200): Train loss 8.938, Val loss 8.312\n",
      "Ep 3 (Step 40500): Train loss 7.500, Val loss 8.312\n",
      "Ep 3 (Step 40800): Train loss 8.312, Val loss 8.312\n",
      "Ep 3 (Step 41100): Train loss 8.062, Val loss 8.312\n",
      "Ep 3 (Step 41400): Train loss 7.625, Val loss 8.312\n",
      "time_taken:12.92 minutes device:cuda\n"
     ]
    }
   ],
   "source": [
    "import time\n",
    "\n",
    "\n",
    "n_epochs = 3\n",
    "eval_freq = 300\n",
    "print_sample_iter = 2_000\n",
    "save_ckpt_freq = 2_000\n",
    "eval_iter=1\n",
    "\n",
    "start_context = \"She raised her eyebrows with a hint of\"\n",
    "\n",
    "\n",
    "output_dir  = 'llama_debug_model'\n",
    "os.makedirs(output_dir, exist_ok=True)\n",
    "optimizer = torch.optim.AdamW(model.parameters(), lr=5e-4, weight_decay=0.1)\n",
    "\n",
    "\n",
    "train_losses, val_losses, track_tokens_seen = [], [], []\n",
    "tokens_seen = 0\n",
    "global_step = -1\n",
    "start_time = time.time()\n",
    "\n",
    "\n",
    "\n",
    "\n",
    "# ----------------\n",
    "# Functions:\n",
    "# ----------------\n",
    "def calc_loss_loader(data_loader, model, device, num_batches=None):\n",
    "    total_loss = 0.\n",
    "    if len(data_loader) == 0:\n",
    "        return float(\"nan\")\n",
    "    elif num_batches is None:\n",
    "        num_batches = len(data_loader)\n",
    "    else:\n",
    "        num_batches = min(num_batches, len(data_loader))\n",
    "    for i, (input_batch, target_batch) in enumerate(data_loader):\n",
    "        if i < num_batches:\n",
    "            loss = calc_loss_batch(input_batch, target_batch, model, device)\n",
    "            total_loss += loss.item()\n",
    "        else:\n",
    "            break\n",
    "    return total_loss / num_batches\n",
    "\n",
    "def evaluate_model(model, train_loader, val_loader, device, eval_iter):\n",
    "    model.eval()\n",
    "    with torch.no_grad():\n",
    "        train_loss = calc_loss_loader(train_loader, model, device, num_batches=eval_iter)\n",
    "        val_loss = calc_loss_loader(val_loader, model, device, num_batches=eval_iter)\n",
    "    model.train()\n",
    "    return train_loss, val_loss\n",
    "\n",
    "def calc_loss_batch(input_batch, target_batch, model, device):\n",
    "    input_batch, target_batch = input_batch.to(device), target_batch.to(device)\n",
    "    logits = model(input_batch)\n",
    "    loss = torch.nn.functional.cross_entropy(logits.flatten(0, 1), target_batch.flatten())\n",
    "    return loss\n",
    "\n",
    "\n",
    "def generate_and_print_sample(PROMPT):\n",
    "    # PROMPT = \"What do llamas eat?\"\n",
    "\n",
    "    torch.manual_seed(123)\n",
    "\n",
    "    token_ids = generate(\n",
    "        model=model,\n",
    "        idx=text_to_token_ids(PROMPT, chat_tokenizer).to(device),\n",
    "        max_new_tokens=150,\n",
    "        context_size=LLAMA32_CONFIG[\"context_length\"],\n",
    "        top_k=1,\n",
    "        temperature=0.\n",
    "    )\n",
    "\n",
    "    output_text = token_ids_to_text(token_ids, tokenizer)\n",
    "\n",
    "    print(\"Output text:\\n\", clean_text(output_text))\n",
    "\n",
    "# -------------------------\n",
    "# Actual training\n",
    "# -------------------------\n",
    "# try:\n",
    "print(\"Training ...\")\n",
    "for epoch in range(n_epochs):\n",
    "        model.train()\n",
    "        for input_batch, target_batch in train_loader:\n",
    "            optimizer.zero_grad()\n",
    "            loss = calc_loss_batch(input_batch, target_batch, model, device)\n",
    "            loss.backward()\n",
    "            optimizer.step()\n",
    "            tokens_seen += input_batch.numel()\n",
    "            global_step += 1\n",
    "\n",
    "            # Optional evaluation step\n",
    "            if global_step % eval_freq == 0:\n",
    "                train_loss, val_loss = evaluate_model(\n",
    "                    model, train_loader, val_loader, device, eval_iter)\n",
    "                train_losses.append(train_loss)\n",
    "                val_losses.append(val_loss)\n",
    "                track_tokens_seen.append(tokens_seen)\n",
    "                print(f\"Ep {epoch+1} (Step {global_step}): \"\n",
    "                        f\"Train loss {train_loss:.3f}, Val loss {val_loss:.3f}\")\n",
    "\n",
    "            # Generate text passage\n",
    "            if global_step % print_sample_iter == 0 and global_step > 0:\n",
    "                generate_and_print_sample(start_context)\n",
    "                # generate_and_print_sample(\n",
    "                #     model, tokenizer, device, start_context\n",
    "                # )\n",
    "\n",
    "        if global_step % save_ckpt_freq == 0:\n",
    "            file_name = output_dir + '/' + f\"model_pg_{global_step}.pth\"\n",
    "            torch.save(model.state_dict(), file_name)\n",
    "            print(f\"Saved {file_name}\")\n",
    "\n",
    "        # print_eta(start_time, book_start_time, index, total_files)\n",
    "print(f\"time_taken:{(time.time() - start_time) / 60:.2f} minutes device:{device}\")\n",
    "# except KeyboardInterrupt:\n",
    "#     file_name = output_dir / f\"model_pg_{global_step}_interrupted.pth\"\n",
    "#     torch.save(model.state_dict(), file_name)\n",
    "#     print(f\"Saved {file_name}\")"
   ]
  },
  {
   "cell_type": "markdown",
   "id": "549324d6-5c71-4147-ae21-2e67675faa3d",
   "metadata": {
    "id": "549324d6-5c71-4147-ae21-2e67675faa3d"
   },
   "source": [
    "&nbsp;\n",
    "# What's next?"
   ]
  },
  {
   "cell_type": "markdown",
   "id": "e6edaaae-2de1-406c-8ffa-897cdfa3808c",
   "metadata": {
    "id": "e6edaaae-2de1-406c-8ffa-897cdfa3808c"
   },
   "source": [
    "- The notebook was kept purposefully minimal; if you are interested in additional explanation about the individual components, check out the following two companion notebooks:\n",
    "\n",
    "<img src=\"https://sebastianraschka.com/images/LLMs-from-scratch-images/bonus/gpt-to-llama/gpt-and-all-llamas.webp\">\n",
    "\n",
    "  1. [Converting a From-Scratch GPT Architecture to Llama 2](converting-gpt-to-llama2.ipynb)\n",
    "  2. [Converting Llama 2 to Llama 3.2 From Scratch](converting-llama2-to-llama3.ipynb)\n",
    "  \n",
    "- For those interested in a comprehensive guide on building a large language model from scratch and gaining a deeper understanding of its mechanics, you might like my [Build a Large Language Model (From Scratch)](http://mng.bz/orYv)\n",
    "\n",
    "<a href=\"http://mng.bz/orYv\"><img src=\"https://sebastianraschka.com/images/LLMs-from-scratch-images/cover-small.webp\" width=\"100px\"></a>"
   ]
  }
 ],
 "metadata": {
  "accelerator": "GPU",
  "colab": {
   "collapsed_sections": [
    "WUvlacd-LeP2",
    "GHOz7hmOLhc7",
    "7q1cERivLp3w"
   ],
   "gpuType": "T4",
   "provenance": []
  },
  "kernelspec": {
   "display_name": "machine_env",
   "language": "python",
   "name": "python3"
  },
  "language_info": {
   "codemirror_mode": {
    "name": "ipython",
    "version": 3
   },
   "file_extension": ".py",
   "mimetype": "text/x-python",
   "name": "python",
   "nbconvert_exporter": "python",
   "pygments_lexer": "ipython3",
   "version": "3.10.12"
  },
  "widgets": {
   "application/vnd.jupyter.widget-state+json": {
    "194b477ec6ac4c3b92c82ecb648ca7e0": {
     "model_module": "@jupyter-widgets/controls",
     "model_module_version": "2.0.0",
     "model_name": "FloatProgressModel",
     "state": {
      "_dom_classes": [],
      "_model_module": "@jupyter-widgets/controls",
      "_model_module_version": "2.0.0",
      "_model_name": "FloatProgressModel",
      "_view_count": null,
      "_view_module": "@jupyter-widgets/controls",
      "_view_module_version": "2.0.0",
      "_view_name": "ProgressView",
      "bar_style": "success",
      "description": "",
      "description_allow_html": false,
      "layout": "IPY_MODEL_e57a382de5af4e4c834d19851862adab",
      "max": 3,
      "min": 0,
      "orientation": "horizontal",
      "style": "IPY_MODEL_2f6880a6efb0437e896ed533c12ad654",
      "tabbable": null,
      "tooltip": null,
      "value": 3
     }
    },
    "19770dc127184473937802c8dd330891": {
     "model_module": "@jupyter-widgets/base",
     "model_module_version": "2.0.0",
     "model_name": "LayoutModel",
     "state": {
      "_model_module": "@jupyter-widgets/base",
      "_model_module_version": "2.0.0",
      "_model_name": "LayoutModel",
      "_view_count": null,
      "_view_module": "@jupyter-widgets/base",
      "_view_module_version": "2.0.0",
      "_view_name": "LayoutView",
      "align_content": null,
      "align_items": null,
      "align_self": null,
      "border_bottom": null,
      "border_left": null,
      "border_right": null,
      "border_top": null,
      "bottom": null,
      "display": null,
      "flex": null,
      "flex_flow": null,
      "grid_area": null,
      "grid_auto_columns": null,
      "grid_auto_flow": null,
      "grid_auto_rows": null,
      "grid_column": null,
      "grid_gap": null,
      "grid_row": null,
      "grid_template_areas": null,
      "grid_template_columns": null,
      "grid_template_rows": null,
      "height": null,
      "justify_content": null,
      "justify_items": null,
      "left": null,
      "margin": null,
      "max_height": null,
      "max_width": null,
      "min_height": null,
      "min_width": null,
      "object_fit": null,
      "object_position": null,
      "order": null,
      "overflow": null,
      "padding": null,
      "right": null,
      "top": null,
      "visibility": null,
      "width": null
     }
    },
    "1e6b06cf31f04c418b7e5f6fb269e5c2": {
     "model_module": "@jupyter-widgets/controls",
     "model_module_version": "2.0.0",
     "model_name": "HTMLModel",
     "state": {
      "_dom_classes": [],
      "_model_module": "@jupyter-widgets/controls",
      "_model_module_version": "2.0.0",
      "_model_name": "HTMLModel",
      "_view_count": null,
      "_view_module": "@jupyter-widgets/controls",
      "_view_module_version": "2.0.0",
      "_view_name": "HTMLView",
      "description": "",
      "description_allow_html": false,
      "layout": "IPY_MODEL_3a5397a717634643a1787fb4cdb11ddb",
      "placeholder": "​",
      "style": "IPY_MODEL_f00178714a3343d09d73a8a27879bfa3",
      "tabbable": null,
      "tooltip": null,
      "value": " 3.00/3.00 [00:00&lt;00:00, 60.1B/s]"
     }
    },
    "24972d38f5a04b22a759e5dcf99afca2": {
     "model_module": "@jupyter-widgets/base",
     "model_module_version": "2.0.0",
     "model_name": "LayoutModel",
     "state": {
      "_model_module": "@jupyter-widgets/base",
      "_model_module_version": "2.0.0",
      "_model_name": "LayoutModel",
      "_view_count": null,
      "_view_module": "@jupyter-widgets/base",
      "_view_module_version": "2.0.0",
      "_view_name": "LayoutView",
      "align_content": null,
      "align_items": null,
      "align_self": null,
      "border_bottom": null,
      "border_left": null,
      "border_right": null,
      "border_top": null,
      "bottom": null,
      "display": null,
      "flex": null,
      "flex_flow": null,
      "grid_area": null,
      "grid_auto_columns": null,
      "grid_auto_flow": null,
      "grid_auto_rows": null,
      "grid_column": null,
      "grid_gap": null,
      "grid_row": null,
      "grid_template_areas": null,
      "grid_template_columns": null,
      "grid_template_rows": null,
      "height": null,
      "justify_content": null,
      "justify_items": null,
      "left": null,
      "margin": null,
      "max_height": null,
      "max_width": null,
      "min_height": null,
      "min_width": null,
      "object_fit": null,
      "object_position": null,
      "order": null,
      "overflow": null,
      "padding": null,
      "right": null,
      "top": null,
      "visibility": null,
      "width": null
     }
    },
    "2f6880a6efb0437e896ed533c12ad654": {
     "model_module": "@jupyter-widgets/controls",
     "model_module_version": "2.0.0",
     "model_name": "ProgressStyleModel",
     "state": {
      "_model_module": "@jupyter-widgets/controls",
      "_model_module_version": "2.0.0",
      "_model_name": "ProgressStyleModel",
      "_view_count": null,
      "_view_module": "@jupyter-widgets/base",
      "_view_module_version": "2.0.0",
      "_view_name": "StyleView",
      "bar_color": null,
      "description_width": ""
     }
    },
    "314bee081c334036805adcd50aa365c0": {
     "model_module": "@jupyter-widgets/controls",
     "model_module_version": "2.0.0",
     "model_name": "HTMLModel",
     "state": {
      "_dom_classes": [],
      "_model_module": "@jupyter-widgets/controls",
      "_model_module_version": "2.0.0",
      "_model_name": "HTMLModel",
      "_view_count": null,
      "_view_module": "@jupyter-widgets/controls",
      "_view_module_version": "2.0.0",
      "_view_name": "HTMLView",
      "description": "",
      "description_allow_html": false,
      "layout": "IPY_MODEL_19770dc127184473937802c8dd330891",
      "placeholder": "​",
      "style": "IPY_MODEL_31901da518d843cc80d7d57bf8008d7c",
      "tabbable": null,
      "tooltip": null,
      "value": "tokenizer.json: 100%"
     }
    },
    "31901da518d843cc80d7d57bf8008d7c": {
     "model_module": "@jupyter-widgets/controls",
     "model_module_version": "2.0.0",
     "model_name": "HTMLStyleModel",
     "state": {
      "_model_module": "@jupyter-widgets/controls",
      "_model_module_version": "2.0.0",
      "_model_name": "HTMLStyleModel",
      "_view_count": null,
      "_view_module": "@jupyter-widgets/base",
      "_view_module_version": "2.0.0",
      "_view_name": "StyleView",
      "background": null,
      "description_width": "",
      "font_size": null,
      "text_color": null
     }
    },
    "373071ccd5b84c39bef6416f725922af": {
     "model_module": "@jupyter-widgets/base",
     "model_module_version": "2.0.0",
     "model_name": "LayoutModel",
     "state": {
      "_model_module": "@jupyter-widgets/base",
      "_model_module_version": "2.0.0",
      "_model_name": "LayoutModel",
      "_view_count": null,
      "_view_module": "@jupyter-widgets/base",
      "_view_module_version": "2.0.0",
      "_view_name": "LayoutView",
      "align_content": null,
      "align_items": null,
      "align_self": null,
      "border_bottom": null,
      "border_left": null,
      "border_right": null,
      "border_top": null,
      "bottom": null,
      "display": null,
      "flex": null,
      "flex_flow": null,
      "grid_area": null,
      "grid_auto_columns": null,
      "grid_auto_flow": null,
      "grid_auto_rows": null,
      "grid_column": null,
      "grid_gap": null,
      "grid_row": null,
      "grid_template_areas": null,
      "grid_template_columns": null,
      "grid_template_rows": null,
      "height": null,
      "justify_content": null,
      "justify_items": null,
      "left": null,
      "margin": null,
      "max_height": null,
      "max_width": null,
      "min_height": null,
      "min_width": null,
      "object_fit": null,
      "object_position": null,
      "order": null,
      "overflow": null,
      "padding": null,
      "right": null,
      "top": null,
      "visibility": null,
      "width": null
     }
    },
    "384c85783f8c448eacd671eeded882b2": {
     "model_module": "@jupyter-widgets/controls",
     "model_module_version": "2.0.0",
     "model_name": "ProgressStyleModel",
     "state": {
      "_model_module": "@jupyter-widgets/controls",
      "_model_module_version": "2.0.0",
      "_model_name": "ProgressStyleModel",
      "_view_count": null,
      "_view_module": "@jupyter-widgets/base",
      "_view_module_version": "2.0.0",
      "_view_name": "StyleView",
      "bar_color": null,
      "description_width": ""
     }
    },
    "3a5397a717634643a1787fb4cdb11ddb": {
     "model_module": "@jupyter-widgets/base",
     "model_module_version": "2.0.0",
     "model_name": "LayoutModel",
     "state": {
      "_model_module": "@jupyter-widgets/base",
      "_model_module_version": "2.0.0",
      "_model_name": "LayoutModel",
      "_view_count": null,
      "_view_module": "@jupyter-widgets/base",
      "_view_module_version": "2.0.0",
      "_view_name": "LayoutView",
      "align_content": null,
      "align_items": null,
      "align_self": null,
      "border_bottom": null,
      "border_left": null,
      "border_right": null,
      "border_top": null,
      "bottom": null,
      "display": null,
      "flex": null,
      "flex_flow": null,
      "grid_area": null,
      "grid_auto_columns": null,
      "grid_auto_flow": null,
      "grid_auto_rows": null,
      "grid_column": null,
      "grid_gap": null,
      "grid_row": null,
      "grid_template_areas": null,
      "grid_template_columns": null,
      "grid_template_rows": null,
      "height": null,
      "justify_content": null,
      "justify_items": null,
      "left": null,
      "margin": null,
      "max_height": null,
      "max_width": null,
      "min_height": null,
      "min_width": null,
      "object_fit": null,
      "object_position": null,
      "order": null,
      "overflow": null,
      "padding": null,
      "right": null,
      "top": null,
      "visibility": null,
      "width": null
     }
    },
    "3f3a24b78b8d4ec8ab07e1325921e0eb": {
     "model_module": "@jupyter-widgets/controls",
     "model_module_version": "2.0.0",
     "model_name": "HBoxModel",
     "state": {
      "_dom_classes": [],
      "_model_module": "@jupyter-widgets/controls",
      "_model_module_version": "2.0.0",
      "_model_name": "HBoxModel",
      "_view_count": null,
      "_view_module": "@jupyter-widgets/controls",
      "_view_module_version": "2.0.0",
      "_view_name": "HBoxView",
      "box_style": "",
      "children": [
       "IPY_MODEL_314bee081c334036805adcd50aa365c0",
       "IPY_MODEL_53e5196a805f4a2b950b1f0c920796d3",
       "IPY_MODEL_73bb5c6f660b4a4c8446254effa31055"
      ],
      "layout": "IPY_MODEL_abc0a0286c8b44bb8700d7a3838fb785",
      "tabbable": null,
      "tooltip": null
     }
    },
    "438548d1abaf4a72a6adf71767ebdd61": {
     "model_module": "@jupyter-widgets/controls",
     "model_module_version": "2.0.0",
     "model_name": "HTMLModel",
     "state": {
      "_dom_classes": [],
      "_model_module": "@jupyter-widgets/controls",
      "_model_module_version": "2.0.0",
      "_model_name": "HTMLModel",
      "_view_count": null,
      "_view_module": "@jupyter-widgets/controls",
      "_view_module_version": "2.0.0",
      "_view_name": "HTMLView",
      "description": "",
      "description_allow_html": false,
      "layout": "IPY_MODEL_6321a32b45834cf5b3bda975790fbc32",
      "placeholder": "​",
      "style": "IPY_MODEL_7b8da61a0c2548c982c7d4cc3abb9d09",
      "tabbable": null,
      "tooltip": null,
      "value": "special_tokens_map.json: 100%"
     }
    },
    "47594b56890a4f71a5bd11c474d94d43": {
     "model_module": "@jupyter-widgets/controls",
     "model_module_version": "2.0.0",
     "model_name": "ProgressStyleModel",
     "state": {
      "_model_module": "@jupyter-widgets/controls",
      "_model_module_version": "2.0.0",
      "_model_name": "ProgressStyleModel",
      "_view_count": null,
      "_view_module": "@jupyter-widgets/base",
      "_view_module_version": "2.0.0",
      "_view_name": "StyleView",
      "bar_color": null,
      "description_width": ""
     }
    },
    "53e5196a805f4a2b950b1f0c920796d3": {
     "model_module": "@jupyter-widgets/controls",
     "model_module_version": "2.0.0",
     "model_name": "FloatProgressModel",
     "state": {
      "_dom_classes": [],
      "_model_module": "@jupyter-widgets/controls",
      "_model_module_version": "2.0.0",
      "_model_name": "FloatProgressModel",
      "_view_count": null,
      "_view_module": "@jupyter-widgets/controls",
      "_view_module_version": "2.0.0",
      "_view_name": "ProgressView",
      "bar_style": "success",
      "description": "",
      "description_allow_html": false,
      "layout": "IPY_MODEL_24972d38f5a04b22a759e5dcf99afca2",
      "max": 3527936,
      "min": 0,
      "orientation": "horizontal",
      "style": "IPY_MODEL_47594b56890a4f71a5bd11c474d94d43",
      "tabbable": null,
      "tooltip": null,
      "value": 3527936
     }
    },
    "6321a32b45834cf5b3bda975790fbc32": {
     "model_module": "@jupyter-widgets/base",
     "model_module_version": "2.0.0",
     "model_name": "LayoutModel",
     "state": {
      "_model_module": "@jupyter-widgets/base",
      "_model_module_version": "2.0.0",
      "_model_name": "LayoutModel",
      "_view_count": null,
      "_view_module": "@jupyter-widgets/base",
      "_view_module_version": "2.0.0",
      "_view_name": "LayoutView",
      "align_content": null,
      "align_items": null,
      "align_self": null,
      "border_bottom": null,
      "border_left": null,
      "border_right": null,
      "border_top": null,
      "bottom": null,
      "display": null,
      "flex": null,
      "flex_flow": null,
      "grid_area": null,
      "grid_auto_columns": null,
      "grid_auto_flow": null,
      "grid_auto_rows": null,
      "grid_column": null,
      "grid_gap": null,
      "grid_row": null,
      "grid_template_areas": null,
      "grid_template_columns": null,
      "grid_template_rows": null,
      "height": null,
      "justify_content": null,
      "justify_items": null,
      "left": null,
      "margin": null,
      "max_height": null,
      "max_width": null,
      "min_height": null,
      "min_width": null,
      "object_fit": null,
      "object_position": null,
      "order": null,
      "overflow": null,
      "padding": null,
      "right": null,
      "top": null,
      "visibility": null,
      "width": null
     }
    },
    "66d299cc2c0c42d79428caf00c47db16": {
     "model_module": "@jupyter-widgets/base",
     "model_module_version": "2.0.0",
     "model_name": "LayoutModel",
     "state": {
      "_model_module": "@jupyter-widgets/base",
      "_model_module_version": "2.0.0",
      "_model_name": "LayoutModel",
      "_view_count": null,
      "_view_module": "@jupyter-widgets/base",
      "_view_module_version": "2.0.0",
      "_view_name": "LayoutView",
      "align_content": null,
      "align_items": null,
      "align_self": null,
      "border_bottom": null,
      "border_left": null,
      "border_right": null,
      "border_top": null,
      "bottom": null,
      "display": null,
      "flex": null,
      "flex_flow": null,
      "grid_area": null,
      "grid_auto_columns": null,
      "grid_auto_flow": null,
      "grid_auto_rows": null,
      "grid_column": null,
      "grid_gap": null,
      "grid_row": null,
      "grid_template_areas": null,
      "grid_template_columns": null,
      "grid_template_rows": null,
      "height": null,
      "justify_content": null,
      "justify_items": null,
      "left": null,
      "margin": null,
      "max_height": null,
      "max_width": null,
      "min_height": null,
      "min_width": null,
      "object_fit": null,
      "object_position": null,
      "order": null,
      "overflow": null,
      "padding": null,
      "right": null,
      "top": null,
      "visibility": null,
      "width": null
     }
    },
    "73bb5c6f660b4a4c8446254effa31055": {
     "model_module": "@jupyter-widgets/controls",
     "model_module_version": "2.0.0",
     "model_name": "HTMLModel",
     "state": {
      "_dom_classes": [],
      "_model_module": "@jupyter-widgets/controls",
      "_model_module_version": "2.0.0",
      "_model_name": "HTMLModel",
      "_view_count": null,
      "_view_module": "@jupyter-widgets/controls",
      "_view_module_version": "2.0.0",
      "_view_name": "HTMLView",
      "description": "",
      "description_allow_html": false,
      "layout": "IPY_MODEL_373071ccd5b84c39bef6416f725922af",
      "placeholder": "​",
      "style": "IPY_MODEL_da4fa22bf5f94512a2a3350c28af08b4",
      "tabbable": null,
      "tooltip": null,
      "value": " 3.53M/3.53M [00:00&lt;00:00, 10.1MB/s]"
     }
    },
    "790506ccb2ff40c8a9acf813a74fc04d": {
     "model_module": "@jupyter-widgets/controls",
     "model_module_version": "2.0.0",
     "model_name": "HTMLModel",
     "state": {
      "_dom_classes": [],
      "_model_module": "@jupyter-widgets/controls",
      "_model_module_version": "2.0.0",
      "_model_name": "HTMLModel",
      "_view_count": null,
      "_view_module": "@jupyter-widgets/controls",
      "_view_module_version": "2.0.0",
      "_view_name": "HTMLView",
      "description": "",
      "description_allow_html": false,
      "layout": "IPY_MODEL_66d299cc2c0c42d79428caf00c47db16",
      "placeholder": "​",
      "style": "IPY_MODEL_fde4c780d8194779bc65aeb12356844d",
      "tabbable": null,
      "tooltip": null,
      "value": " 1.20k/1.20k [00:00&lt;00:00, 18.4kB/s]"
     }
    },
    "7b8da61a0c2548c982c7d4cc3abb9d09": {
     "model_module": "@jupyter-widgets/controls",
     "model_module_version": "2.0.0",
     "model_name": "HTMLStyleModel",
     "state": {
      "_model_module": "@jupyter-widgets/controls",
      "_model_module_version": "2.0.0",
      "_model_name": "HTMLStyleModel",
      "_view_count": null,
      "_view_module": "@jupyter-widgets/base",
      "_view_module_version": "2.0.0",
      "_view_name": "StyleView",
      "background": null,
      "description_width": "",
      "font_size": null,
      "text_color": null
     }
    },
    "a65a67466bb146b39c2da7024fff23eb": {
     "model_module": "@jupyter-widgets/base",
     "model_module_version": "2.0.0",
     "model_name": "LayoutModel",
     "state": {
      "_model_module": "@jupyter-widgets/base",
      "_model_module_version": "2.0.0",
      "_model_name": "LayoutModel",
      "_view_count": null,
      "_view_module": "@jupyter-widgets/base",
      "_view_module_version": "2.0.0",
      "_view_name": "LayoutView",
      "align_content": null,
      "align_items": null,
      "align_self": null,
      "border_bottom": null,
      "border_left": null,
      "border_right": null,
      "border_top": null,
      "bottom": null,
      "display": null,
      "flex": null,
      "flex_flow": null,
      "grid_area": null,
      "grid_auto_columns": null,
      "grid_auto_flow": null,
      "grid_auto_rows": null,
      "grid_column": null,
      "grid_gap": null,
      "grid_row": null,
      "grid_template_areas": null,
      "grid_template_columns": null,
      "grid_template_rows": null,
      "height": null,
      "justify_content": null,
      "justify_items": null,
      "left": null,
      "margin": null,
      "max_height": null,
      "max_width": null,
      "min_height": null,
      "min_width": null,
      "object_fit": null,
      "object_position": null,
      "order": null,
      "overflow": null,
      "padding": null,
      "right": null,
      "top": null,
      "visibility": null,
      "width": null
     }
    },
    "abc0a0286c8b44bb8700d7a3838fb785": {
     "model_module": "@jupyter-widgets/base",
     "model_module_version": "2.0.0",
     "model_name": "LayoutModel",
     "state": {
      "_model_module": "@jupyter-widgets/base",
      "_model_module_version": "2.0.0",
      "_model_name": "LayoutModel",
      "_view_count": null,
      "_view_module": "@jupyter-widgets/base",
      "_view_module_version": "2.0.0",
      "_view_name": "LayoutView",
      "align_content": null,
      "align_items": null,
      "align_self": null,
      "border_bottom": null,
      "border_left": null,
      "border_right": null,
      "border_top": null,
      "bottom": null,
      "display": null,
      "flex": null,
      "flex_flow": null,
      "grid_area": null,
      "grid_auto_columns": null,
      "grid_auto_flow": null,
      "grid_auto_rows": null,
      "grid_column": null,
      "grid_gap": null,
      "grid_row": null,
      "grid_template_areas": null,
      "grid_template_columns": null,
      "grid_template_rows": null,
      "height": null,
      "justify_content": null,
      "justify_items": null,
      "left": null,
      "margin": null,
      "max_height": null,
      "max_width": null,
      "min_height": null,
      "min_width": null,
      "object_fit": null,
      "object_position": null,
      "order": null,
      "overflow": null,
      "padding": null,
      "right": null,
      "top": null,
      "visibility": null,
      "width": null
     }
    },
    "b0cb3cafa306440e87c2170848bd0066": {
     "model_module": "@jupyter-widgets/base",
     "model_module_version": "2.0.0",
     "model_name": "LayoutModel",
     "state": {
      "_model_module": "@jupyter-widgets/base",
      "_model_module_version": "2.0.0",
      "_model_name": "LayoutModel",
      "_view_count": null,
      "_view_module": "@jupyter-widgets/base",
      "_view_module_version": "2.0.0",
      "_view_name": "LayoutView",
      "align_content": null,
      "align_items": null,
      "align_self": null,
      "border_bottom": null,
      "border_left": null,
      "border_right": null,
      "border_top": null,
      "bottom": null,
      "display": null,
      "flex": null,
      "flex_flow": null,
      "grid_area": null,
      "grid_auto_columns": null,
      "grid_auto_flow": null,
      "grid_auto_rows": null,
      "grid_column": null,
      "grid_gap": null,
      "grid_row": null,
      "grid_template_areas": null,
      "grid_template_columns": null,
      "grid_template_rows": null,
      "height": null,
      "justify_content": null,
      "justify_items": null,
      "left": null,
      "margin": null,
      "max_height": null,
      "max_width": null,
      "min_height": null,
      "min_width": null,
      "object_fit": null,
      "object_position": null,
      "order": null,
      "overflow": null,
      "padding": null,
      "right": null,
      "top": null,
      "visibility": null,
      "width": null
     }
    },
    "be01f5cbde274cbfa7ce5fc24b00fff5": {
     "model_module": "@jupyter-widgets/controls",
     "model_module_version": "2.0.0",
     "model_name": "FloatProgressModel",
     "state": {
      "_dom_classes": [],
      "_model_module": "@jupyter-widgets/controls",
      "_model_module_version": "2.0.0",
      "_model_name": "FloatProgressModel",
      "_view_count": null,
      "_view_module": "@jupyter-widgets/controls",
      "_view_module_version": "2.0.0",
      "_view_name": "ProgressView",
      "bar_style": "success",
      "description": "",
      "description_allow_html": false,
      "layout": "IPY_MODEL_f2cd6b7ce036439f9d172f43a1c45e51",
      "max": 1203,
      "min": 0,
      "orientation": "horizontal",
      "style": "IPY_MODEL_384c85783f8c448eacd671eeded882b2",
      "tabbable": null,
      "tooltip": null,
      "value": 1203
     }
    },
    "c9f4c8bc61424b25bc7c91656d7abf50": {
     "model_module": "@jupyter-widgets/controls",
     "model_module_version": "2.0.0",
     "model_name": "HBoxModel",
     "state": {
      "_dom_classes": [],
      "_model_module": "@jupyter-widgets/controls",
      "_model_module_version": "2.0.0",
      "_model_name": "HBoxModel",
      "_view_count": null,
      "_view_module": "@jupyter-widgets/controls",
      "_view_module_version": "2.0.0",
      "_view_name": "HBoxView",
      "box_style": "",
      "children": [
       "IPY_MODEL_fa10ad014f9240adbdf40f0cc0aa50bb",
       "IPY_MODEL_be01f5cbde274cbfa7ce5fc24b00fff5",
       "IPY_MODEL_790506ccb2ff40c8a9acf813a74fc04d"
      ],
      "layout": "IPY_MODEL_b0cb3cafa306440e87c2170848bd0066",
      "tabbable": null,
      "tooltip": null
     }
    },
    "da4fa22bf5f94512a2a3350c28af08b4": {
     "model_module": "@jupyter-widgets/controls",
     "model_module_version": "2.0.0",
     "model_name": "HTMLStyleModel",
     "state": {
      "_model_module": "@jupyter-widgets/controls",
      "_model_module_version": "2.0.0",
      "_model_name": "HTMLStyleModel",
      "_view_count": null,
      "_view_module": "@jupyter-widgets/base",
      "_view_module_version": "2.0.0",
      "_view_name": "StyleView",
      "background": null,
      "description_width": "",
      "font_size": null,
      "text_color": null
     }
    },
    "e57a382de5af4e4c834d19851862adab": {
     "model_module": "@jupyter-widgets/base",
     "model_module_version": "2.0.0",
     "model_name": "LayoutModel",
     "state": {
      "_model_module": "@jupyter-widgets/base",
      "_model_module_version": "2.0.0",
      "_model_name": "LayoutModel",
      "_view_count": null,
      "_view_module": "@jupyter-widgets/base",
      "_view_module_version": "2.0.0",
      "_view_name": "LayoutView",
      "align_content": null,
      "align_items": null,
      "align_self": null,
      "border_bottom": null,
      "border_left": null,
      "border_right": null,
      "border_top": null,
      "bottom": null,
      "display": null,
      "flex": null,
      "flex_flow": null,
      "grid_area": null,
      "grid_auto_columns": null,
      "grid_auto_flow": null,
      "grid_auto_rows": null,
      "grid_column": null,
      "grid_gap": null,
      "grid_row": null,
      "grid_template_areas": null,
      "grid_template_columns": null,
      "grid_template_rows": null,
      "height": null,
      "justify_content": null,
      "justify_items": null,
      "left": null,
      "margin": null,
      "max_height": null,
      "max_width": null,
      "min_height": null,
      "min_width": null,
      "object_fit": null,
      "object_position": null,
      "order": null,
      "overflow": null,
      "padding": null,
      "right": null,
      "top": null,
      "visibility": null,
      "width": null
     }
    },
    "efcd166247c64170adda7d8054b2e48b": {
     "model_module": "@jupyter-widgets/controls",
     "model_module_version": "2.0.0",
     "model_name": "HBoxModel",
     "state": {
      "_dom_classes": [],
      "_model_module": "@jupyter-widgets/controls",
      "_model_module_version": "2.0.0",
      "_model_name": "HBoxModel",
      "_view_count": null,
      "_view_module": "@jupyter-widgets/controls",
      "_view_module_version": "2.0.0",
      "_view_name": "HBoxView",
      "box_style": "",
      "children": [
       "IPY_MODEL_438548d1abaf4a72a6adf71767ebdd61",
       "IPY_MODEL_194b477ec6ac4c3b92c82ecb648ca7e0",
       "IPY_MODEL_1e6b06cf31f04c418b7e5f6fb269e5c2"
      ],
      "layout": "IPY_MODEL_ff132e3a4529475cb815f19132d81b27",
      "tabbable": null,
      "tooltip": null
     }
    },
    "f00178714a3343d09d73a8a27879bfa3": {
     "model_module": "@jupyter-widgets/controls",
     "model_module_version": "2.0.0",
     "model_name": "HTMLStyleModel",
     "state": {
      "_model_module": "@jupyter-widgets/controls",
      "_model_module_version": "2.0.0",
      "_model_name": "HTMLStyleModel",
      "_view_count": null,
      "_view_module": "@jupyter-widgets/base",
      "_view_module_version": "2.0.0",
      "_view_name": "StyleView",
      "background": null,
      "description_width": "",
      "font_size": null,
      "text_color": null
     }
    },
    "f1452979b1b64a69b281e7b53585f16b": {
     "model_module": "@jupyter-widgets/controls",
     "model_module_version": "2.0.0",
     "model_name": "HTMLStyleModel",
     "state": {
      "_model_module": "@jupyter-widgets/controls",
      "_model_module_version": "2.0.0",
      "_model_name": "HTMLStyleModel",
      "_view_count": null,
      "_view_module": "@jupyter-widgets/base",
      "_view_module_version": "2.0.0",
      "_view_name": "StyleView",
      "background": null,
      "description_width": "",
      "font_size": null,
      "text_color": null
     }
    },
    "f2cd6b7ce036439f9d172f43a1c45e51": {
     "model_module": "@jupyter-widgets/base",
     "model_module_version": "2.0.0",
     "model_name": "LayoutModel",
     "state": {
      "_model_module": "@jupyter-widgets/base",
      "_model_module_version": "2.0.0",
      "_model_name": "LayoutModel",
      "_view_count": null,
      "_view_module": "@jupyter-widgets/base",
      "_view_module_version": "2.0.0",
      "_view_name": "LayoutView",
      "align_content": null,
      "align_items": null,
      "align_self": null,
      "border_bottom": null,
      "border_left": null,
      "border_right": null,
      "border_top": null,
      "bottom": null,
      "display": null,
      "flex": null,
      "flex_flow": null,
      "grid_area": null,
      "grid_auto_columns": null,
      "grid_auto_flow": null,
      "grid_auto_rows": null,
      "grid_column": null,
      "grid_gap": null,
      "grid_row": null,
      "grid_template_areas": null,
      "grid_template_columns": null,
      "grid_template_rows": null,
      "height": null,
      "justify_content": null,
      "justify_items": null,
      "left": null,
      "margin": null,
      "max_height": null,
      "max_width": null,
      "min_height": null,
      "min_width": null,
      "object_fit": null,
      "object_position": null,
      "order": null,
      "overflow": null,
      "padding": null,
      "right": null,
      "top": null,
      "visibility": null,
      "width": null
     }
    },
    "fa10ad014f9240adbdf40f0cc0aa50bb": {
     "model_module": "@jupyter-widgets/controls",
     "model_module_version": "2.0.0",
     "model_name": "HTMLModel",
     "state": {
      "_dom_classes": [],
      "_model_module": "@jupyter-widgets/controls",
      "_model_module_version": "2.0.0",
      "_model_name": "HTMLModel",
      "_view_count": null,
      "_view_module": "@jupyter-widgets/controls",
      "_view_module_version": "2.0.0",
      "_view_name": "HTMLView",
      "description": "",
      "description_allow_html": false,
      "layout": "IPY_MODEL_a65a67466bb146b39c2da7024fff23eb",
      "placeholder": "​",
      "style": "IPY_MODEL_f1452979b1b64a69b281e7b53585f16b",
      "tabbable": null,
      "tooltip": null,
      "value": "tokenizer_config.json: 100%"
     }
    },
    "fde4c780d8194779bc65aeb12356844d": {
     "model_module": "@jupyter-widgets/controls",
     "model_module_version": "2.0.0",
     "model_name": "HTMLStyleModel",
     "state": {
      "_model_module": "@jupyter-widgets/controls",
      "_model_module_version": "2.0.0",
      "_model_name": "HTMLStyleModel",
      "_view_count": null,
      "_view_module": "@jupyter-widgets/base",
      "_view_module_version": "2.0.0",
      "_view_name": "StyleView",
      "background": null,
      "description_width": "",
      "font_size": null,
      "text_color": null
     }
    },
    "ff132e3a4529475cb815f19132d81b27": {
     "model_module": "@jupyter-widgets/base",
     "model_module_version": "2.0.0",
     "model_name": "LayoutModel",
     "state": {
      "_model_module": "@jupyter-widgets/base",
      "_model_module_version": "2.0.0",
      "_model_name": "LayoutModel",
      "_view_count": null,
      "_view_module": "@jupyter-widgets/base",
      "_view_module_version": "2.0.0",
      "_view_name": "LayoutView",
      "align_content": null,
      "align_items": null,
      "align_self": null,
      "border_bottom": null,
      "border_left": null,
      "border_right": null,
      "border_top": null,
      "bottom": null,
      "display": null,
      "flex": null,
      "flex_flow": null,
      "grid_area": null,
      "grid_auto_columns": null,
      "grid_auto_flow": null,
      "grid_auto_rows": null,
      "grid_column": null,
      "grid_gap": null,
      "grid_row": null,
      "grid_template_areas": null,
      "grid_template_columns": null,
      "grid_template_rows": null,
      "height": null,
      "justify_content": null,
      "justify_items": null,
      "left": null,
      "margin": null,
      "max_height": null,
      "max_width": null,
      "min_height": null,
      "min_width": null,
      "object_fit": null,
      "object_position": null,
      "order": null,
      "overflow": null,
      "padding": null,
      "right": null,
      "top": null,
      "visibility": null,
      "width": null
     }
    }
   }
  }
 },
 "nbformat": 4,
 "nbformat_minor": 5
}
