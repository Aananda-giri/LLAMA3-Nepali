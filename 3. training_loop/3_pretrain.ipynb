{
  "nbformat": 4,
  "nbformat_minor": 0,
  "metadata": {
    "colab": {
      "provenance": [],
      "gpuType": "T4"
    },
    "kernelspec": {
      "name": "python3",
      "display_name": "Python 3"
    },
    "language_info": {
      "name": "python"
    },
    "accelerator": "GPU"
  },
  "cells": [
    {
      "cell_type": "code",
      "source": [
        "%cd /content/drive/MyDrive/Research/llama3\n",
        "!ls"
      ],
      "metadata": {
        "colab": {
          "base_uri": "https://localhost:8080/"
        },
        "id": "Zu7SXf76pnaC",
        "outputId": "1fe17358-902c-4bcc-924d-f11ce72aaf56"
      },
      "execution_count": 1,
      "outputs": [
        {
          "output_type": "stream",
          "name": "stdout",
          "text": [
            "/content/drive/MyDrive/Research/llama3\n",
            "3_pretrain.ipynb\t\tdebug_dataloaders.py  model_checkpoints     tokenizer.json\n",
            "3_pretrain.py\t\t\tfunctions.py\t      previous_chapters.py\n",
            "cleaned_bhagavad_gita_data.txt\thf_cache\t      __pycache__\n"
          ]
        }
      ]
    },
    {
      "cell_type": "code",
      "execution_count": 2,
      "metadata": {
        "colab": {
          "base_uri": "https://localhost:8080/"
        },
        "id": "UFXD73X3pfpH",
        "outputId": "1c8905aa-dd7e-4b6d-ee59-f1cb5e3df78f"
      },
      "outputs": [
        {
          "output_type": "stream",
          "name": "stdout",
          "text": [
            "Requirement already satisfied: blobfile>=3.0.0 in /usr/local/lib/python3.10/dist-packages (from -r https://raw.githubusercontent.com/rasbt/LLMs-from-scratch/refs/heads/main/ch05/07_gpt_to_llama/requirements-extra.txt (line 1)) (3.0.0)\n",
            "Requirement already satisfied: huggingface_hub>=0.24.7 in /usr/local/lib/python3.10/dist-packages (from -r https://raw.githubusercontent.com/rasbt/LLMs-from-scratch/refs/heads/main/ch05/07_gpt_to_llama/requirements-extra.txt (line 2)) (0.27.0)\n",
            "Requirement already satisfied: ipywidgets>=8.1.2 in /usr/local/lib/python3.10/dist-packages (from -r https://raw.githubusercontent.com/rasbt/LLMs-from-scratch/refs/heads/main/ch05/07_gpt_to_llama/requirements-extra.txt (line 3)) (8.1.5)\n",
            "Requirement already satisfied: safetensors>=0.4.4 in /usr/local/lib/python3.10/dist-packages (from -r https://raw.githubusercontent.com/rasbt/LLMs-from-scratch/refs/heads/main/ch05/07_gpt_to_llama/requirements-extra.txt (line 4)) (0.4.5)\n",
            "Requirement already satisfied: sentencepiece>=0.1.99 in /usr/local/lib/python3.10/dist-packages (from -r https://raw.githubusercontent.com/rasbt/LLMs-from-scratch/refs/heads/main/ch05/07_gpt_to_llama/requirements-extra.txt (line 5)) (0.2.0)\n",
            "Requirement already satisfied: pycryptodomex>=3.8 in /usr/local/lib/python3.10/dist-packages (from blobfile>=3.0.0->-r https://raw.githubusercontent.com/rasbt/LLMs-from-scratch/refs/heads/main/ch05/07_gpt_to_llama/requirements-extra.txt (line 1)) (3.21.0)\n",
            "Requirement already satisfied: urllib3<3,>=1.25.3 in /usr/local/lib/python3.10/dist-packages (from blobfile>=3.0.0->-r https://raw.githubusercontent.com/rasbt/LLMs-from-scratch/refs/heads/main/ch05/07_gpt_to_llama/requirements-extra.txt (line 1)) (2.2.3)\n",
            "Requirement already satisfied: lxml>=4.9 in /usr/local/lib/python3.10/dist-packages (from blobfile>=3.0.0->-r https://raw.githubusercontent.com/rasbt/LLMs-from-scratch/refs/heads/main/ch05/07_gpt_to_llama/requirements-extra.txt (line 1)) (5.3.0)\n",
            "Requirement already satisfied: filelock>=3.0 in /usr/local/lib/python3.10/dist-packages (from blobfile>=3.0.0->-r https://raw.githubusercontent.com/rasbt/LLMs-from-scratch/refs/heads/main/ch05/07_gpt_to_llama/requirements-extra.txt (line 1)) (3.16.1)\n",
            "Requirement already satisfied: fsspec>=2023.5.0 in /usr/local/lib/python3.10/dist-packages (from huggingface_hub>=0.24.7->-r https://raw.githubusercontent.com/rasbt/LLMs-from-scratch/refs/heads/main/ch05/07_gpt_to_llama/requirements-extra.txt (line 2)) (2024.9.0)\n",
            "Requirement already satisfied: packaging>=20.9 in /usr/local/lib/python3.10/dist-packages (from huggingface_hub>=0.24.7->-r https://raw.githubusercontent.com/rasbt/LLMs-from-scratch/refs/heads/main/ch05/07_gpt_to_llama/requirements-extra.txt (line 2)) (24.2)\n",
            "Requirement already satisfied: pyyaml>=5.1 in /usr/local/lib/python3.10/dist-packages (from huggingface_hub>=0.24.7->-r https://raw.githubusercontent.com/rasbt/LLMs-from-scratch/refs/heads/main/ch05/07_gpt_to_llama/requirements-extra.txt (line 2)) (6.0.2)\n",
            "Requirement already satisfied: requests in /usr/local/lib/python3.10/dist-packages (from huggingface_hub>=0.24.7->-r https://raw.githubusercontent.com/rasbt/LLMs-from-scratch/refs/heads/main/ch05/07_gpt_to_llama/requirements-extra.txt (line 2)) (2.32.3)\n",
            "Requirement already satisfied: tqdm>=4.42.1 in /usr/local/lib/python3.10/dist-packages (from huggingface_hub>=0.24.7->-r https://raw.githubusercontent.com/rasbt/LLMs-from-scratch/refs/heads/main/ch05/07_gpt_to_llama/requirements-extra.txt (line 2)) (4.67.1)\n",
            "Requirement already satisfied: typing-extensions>=3.7.4.3 in /usr/local/lib/python3.10/dist-packages (from huggingface_hub>=0.24.7->-r https://raw.githubusercontent.com/rasbt/LLMs-from-scratch/refs/heads/main/ch05/07_gpt_to_llama/requirements-extra.txt (line 2)) (4.12.2)\n",
            "Requirement already satisfied: comm>=0.1.3 in /usr/local/lib/python3.10/dist-packages (from ipywidgets>=8.1.2->-r https://raw.githubusercontent.com/rasbt/LLMs-from-scratch/refs/heads/main/ch05/07_gpt_to_llama/requirements-extra.txt (line 3)) (0.2.2)\n",
            "Requirement already satisfied: ipython>=6.1.0 in /usr/local/lib/python3.10/dist-packages (from ipywidgets>=8.1.2->-r https://raw.githubusercontent.com/rasbt/LLMs-from-scratch/refs/heads/main/ch05/07_gpt_to_llama/requirements-extra.txt (line 3)) (7.34.0)\n",
            "Requirement already satisfied: traitlets>=4.3.1 in /usr/local/lib/python3.10/dist-packages (from ipywidgets>=8.1.2->-r https://raw.githubusercontent.com/rasbt/LLMs-from-scratch/refs/heads/main/ch05/07_gpt_to_llama/requirements-extra.txt (line 3)) (5.7.1)\n",
            "Requirement already satisfied: widgetsnbextension~=4.0.12 in /usr/local/lib/python3.10/dist-packages (from ipywidgets>=8.1.2->-r https://raw.githubusercontent.com/rasbt/LLMs-from-scratch/refs/heads/main/ch05/07_gpt_to_llama/requirements-extra.txt (line 3)) (4.0.13)\n",
            "Requirement already satisfied: jupyterlab-widgets~=3.0.12 in /usr/local/lib/python3.10/dist-packages (from ipywidgets>=8.1.2->-r https://raw.githubusercontent.com/rasbt/LLMs-from-scratch/refs/heads/main/ch05/07_gpt_to_llama/requirements-extra.txt (line 3)) (3.0.13)\n",
            "Requirement already satisfied: setuptools>=18.5 in /usr/local/lib/python3.10/dist-packages (from ipython>=6.1.0->ipywidgets>=8.1.2->-r https://raw.githubusercontent.com/rasbt/LLMs-from-scratch/refs/heads/main/ch05/07_gpt_to_llama/requirements-extra.txt (line 3)) (75.1.0)\n",
            "Requirement already satisfied: jedi>=0.16 in /usr/local/lib/python3.10/dist-packages (from ipython>=6.1.0->ipywidgets>=8.1.2->-r https://raw.githubusercontent.com/rasbt/LLMs-from-scratch/refs/heads/main/ch05/07_gpt_to_llama/requirements-extra.txt (line 3)) (0.19.2)\n",
            "Requirement already satisfied: decorator in /usr/local/lib/python3.10/dist-packages (from ipython>=6.1.0->ipywidgets>=8.1.2->-r https://raw.githubusercontent.com/rasbt/LLMs-from-scratch/refs/heads/main/ch05/07_gpt_to_llama/requirements-extra.txt (line 3)) (4.4.2)\n",
            "Requirement already satisfied: pickleshare in /usr/local/lib/python3.10/dist-packages (from ipython>=6.1.0->ipywidgets>=8.1.2->-r https://raw.githubusercontent.com/rasbt/LLMs-from-scratch/refs/heads/main/ch05/07_gpt_to_llama/requirements-extra.txt (line 3)) (0.7.5)\n",
            "Requirement already satisfied: prompt-toolkit!=3.0.0,!=3.0.1,<3.1.0,>=2.0.0 in /usr/local/lib/python3.10/dist-packages (from ipython>=6.1.0->ipywidgets>=8.1.2->-r https://raw.githubusercontent.com/rasbt/LLMs-from-scratch/refs/heads/main/ch05/07_gpt_to_llama/requirements-extra.txt (line 3)) (3.0.48)\n",
            "Requirement already satisfied: pygments in /usr/local/lib/python3.10/dist-packages (from ipython>=6.1.0->ipywidgets>=8.1.2->-r https://raw.githubusercontent.com/rasbt/LLMs-from-scratch/refs/heads/main/ch05/07_gpt_to_llama/requirements-extra.txt (line 3)) (2.18.0)\n",
            "Requirement already satisfied: backcall in /usr/local/lib/python3.10/dist-packages (from ipython>=6.1.0->ipywidgets>=8.1.2->-r https://raw.githubusercontent.com/rasbt/LLMs-from-scratch/refs/heads/main/ch05/07_gpt_to_llama/requirements-extra.txt (line 3)) (0.2.0)\n",
            "Requirement already satisfied: matplotlib-inline in /usr/local/lib/python3.10/dist-packages (from ipython>=6.1.0->ipywidgets>=8.1.2->-r https://raw.githubusercontent.com/rasbt/LLMs-from-scratch/refs/heads/main/ch05/07_gpt_to_llama/requirements-extra.txt (line 3)) (0.1.7)\n",
            "Requirement already satisfied: pexpect>4.3 in /usr/local/lib/python3.10/dist-packages (from ipython>=6.1.0->ipywidgets>=8.1.2->-r https://raw.githubusercontent.com/rasbt/LLMs-from-scratch/refs/heads/main/ch05/07_gpt_to_llama/requirements-extra.txt (line 3)) (4.9.0)\n",
            "Requirement already satisfied: charset-normalizer<4,>=2 in /usr/local/lib/python3.10/dist-packages (from requests->huggingface_hub>=0.24.7->-r https://raw.githubusercontent.com/rasbt/LLMs-from-scratch/refs/heads/main/ch05/07_gpt_to_llama/requirements-extra.txt (line 2)) (3.4.0)\n",
            "Requirement already satisfied: idna<4,>=2.5 in /usr/local/lib/python3.10/dist-packages (from requests->huggingface_hub>=0.24.7->-r https://raw.githubusercontent.com/rasbt/LLMs-from-scratch/refs/heads/main/ch05/07_gpt_to_llama/requirements-extra.txt (line 2)) (3.10)\n",
            "Requirement already satisfied: certifi>=2017.4.17 in /usr/local/lib/python3.10/dist-packages (from requests->huggingface_hub>=0.24.7->-r https://raw.githubusercontent.com/rasbt/LLMs-from-scratch/refs/heads/main/ch05/07_gpt_to_llama/requirements-extra.txt (line 2)) (2024.12.14)\n",
            "Requirement already satisfied: parso<0.9.0,>=0.8.4 in /usr/local/lib/python3.10/dist-packages (from jedi>=0.16->ipython>=6.1.0->ipywidgets>=8.1.2->-r https://raw.githubusercontent.com/rasbt/LLMs-from-scratch/refs/heads/main/ch05/07_gpt_to_llama/requirements-extra.txt (line 3)) (0.8.4)\n",
            "Requirement already satisfied: ptyprocess>=0.5 in /usr/local/lib/python3.10/dist-packages (from pexpect>4.3->ipython>=6.1.0->ipywidgets>=8.1.2->-r https://raw.githubusercontent.com/rasbt/LLMs-from-scratch/refs/heads/main/ch05/07_gpt_to_llama/requirements-extra.txt (line 3)) (0.7.0)\n",
            "Requirement already satisfied: wcwidth in /usr/local/lib/python3.10/dist-packages (from prompt-toolkit!=3.0.0,!=3.0.1,<3.1.0,>=2.0.0->ipython>=6.1.0->ipywidgets>=8.1.2->-r https://raw.githubusercontent.com/rasbt/LLMs-from-scratch/refs/heads/main/ch05/07_gpt_to_llama/requirements-extra.txt (line 3)) (0.2.13)\n"
          ]
        }
      ],
      "source": [
        "!pip install -r https://raw.githubusercontent.com/rasbt/LLMs-from-scratch/refs/heads/main/ch05/07_gpt_to_llama/requirements-extra.txt"
      ]
    },
    {
      "cell_type": "code",
      "source": [
        "!pip install blobfile datasets --quiet"
      ],
      "metadata": {
        "id": "23JMDjMtqGyr"
      },
      "execution_count": 3,
      "outputs": []
    },
    {
      "cell_type": "code",
      "source": [
        "from importlib.metadata import version\n",
        "\n",
        "pkgs = [\n",
        "    \"blobfile\",         # to download pretrained weights\n",
        "    \"huggingface_hub\",  # to download pretrained weights\n",
        "    # \"tiktoken\",         # to implement the tokenizer\n",
        "    \"torch\",            # to implement the model\n",
        "]\n",
        "for p in pkgs:\n",
        "    print(f\"{p} version: {version(p)}\")"
      ],
      "metadata": {
        "colab": {
          "base_uri": "https://localhost:8080/"
        },
        "id": "UqxQ62Iqp-xk",
        "outputId": "59346143-cff1-420a-c1ef-f678ca39239e"
      },
      "execution_count": 4,
      "outputs": [
        {
          "output_type": "stream",
          "name": "stdout",
          "text": [
            "blobfile version: 3.0.0\n",
            "huggingface_hub version: 0.27.0\n",
            "torch version: 2.5.1+cu121\n"
          ]
        }
      ]
    },
    {
      "cell_type": "code",
      "source": [
        "%%writefile 3_pretrain.py\n"
      ],
      "metadata": {
        "colab": {
          "base_uri": "https://localhost:8080/"
        },
        "id": "aPMYqSeKuIpM",
        "outputId": "8c094ca8-2a47-46c9-ab07-15b1bf562ff7"
      },
      "execution_count": 7,
      "outputs": [
        {
          "output_type": "stream",
          "name": "stdout",
          "text": [
            "Overwriting 3_pretrain.py\n"
          ]
        }
      ]
    },
    {
      "cell_type": "code",
      "source": [
        "%%writefile previous_chapters.py\n"
      ],
      "metadata": {
        "colab": {
          "base_uri": "https://localhost:8080/"
        },
        "id": "LJbmfOqO4K8q",
        "outputId": "da85f43f-5aec-44ba-ec45-6dae395a5872"
      },
      "execution_count": 21,
      "outputs": [
        {
          "output_type": "stream",
          "name": "stdout",
          "text": [
            "Overwriting previous_chapters.py\n"
          ]
        }
      ]
    },
    {
      "cell_type": "code",
      "source": [
        "%%writefile debug_dataloaders.py\n"
      ],
      "metadata": {
        "colab": {
          "base_uri": "https://localhost:8080/"
        },
        "id": "lZB4TjOvCbIr",
        "outputId": "3983605d-b37d-4d15-cc2a-28af7c5ff0fc"
      },
      "execution_count": 8,
      "outputs": [
        {
          "output_type": "stream",
          "name": "stdout",
          "text": [
            "Overwriting debug_dataloaders.py\n"
          ]
        }
      ]
    },
    {
      "cell_type": "code",
      "source": [
        "!ls"
      ],
      "metadata": {
        "colab": {
          "base_uri": "https://localhost:8080/"
        },
        "id": "WzdzMhL7GmrS",
        "outputId": "e6e04a23-8369-4cbe-a20b-b33dc7634c02"
      },
      "execution_count": 5,
      "outputs": [
        {
          "output_type": "stream",
          "name": "stdout",
          "text": [
            "3_pretrain.ipynb\t\tdebug_dataloaders.py  model_checkpoints     tokenizer.json\n",
            "3_pretrain.py\t\t\tfunctions.py\t      previous_chapters.py\n",
            "cleaned_bhagavad_gita_data.txt\thf_cache\t      __pycache__\n"
          ]
        }
      ]
    },
    {
      "cell_type": "code",
      "source": [
        "!python 3_pretrain.py \\\n",
        " --batch_size 2 \\\n",
        " --n_epochs 10 \\\n",
        " --output_dir model_checkpoints \\\n",
        " --eval_freq 100 \\\n",
        " --save_ckpt_freq_steps 200 \\\n",
        " --debug True \\\n",
        "#  n_epochs"
      ],
      "metadata": {
        "colab": {
          "base_uri": "https://localhost:8080/"
        },
        "id": "cHbdfXDdpyho",
        "outputId": "82b7955f-d035-4b63-ae73-2a4924ff83cc"
      },
      "execution_count": 11,
      "outputs": [
        {
          "output_type": "stream",
          "name": "stdout",
          "text": [
            "---------------------\n",
            "DEBUG MODE\n",
            "---------------------\n",
            "New RoPE theta (i.e. LLAMA32_CONFIG[\"rope_base\"]): 1953.125\n",
            "The following is expected to print True to confirm buffers are reused instead of being (wastefully) recreated:\n",
            "True\n",
            "True\n",
            "True\n",
            "Total number of parameters: 801,288\n",
            "\n",
            "Total number of unique parameters: 401,240\n",
            "float32 (PyTorch default): 0.01 GB\n",
            "bfloat16: 0.00 GB\n",
            "device: cuda\n",
            "Loading existing model: model_checkpoints/model_pg_4000_steps.pth\n",
            "----------------------------------------------------------------------\n",
            "train_losses: <class 'list'>  len: 41\n",
            "val_losses: <class 'list'>  len: 41\n",
            "track_tokens_seen: <class 'list'>  len: 41\n",
            "track_lrs: <class 'list'>  len: 4000\n",
            "previous epochs: <class 'int'> 1232\n",
            "previous global step: 4001 \n",
            " previous epochs: 1232\n",
            "\n",
            "----------------------------------------------------------------------\n",
            "len. train_loader: 1384\n",
            "len.val_loader: 158\n",
            " warmup_steps: 2768\n",
            "Training ...\n",
            "\n",
            "----------------------------------------------------------------------\n",
            "\n",
            "\n",
            "----------------------------------------------------------------------\n",
            " resuming from global_step : 4001 \n",
            " train_loader_index: 1233 \n",
            " len_train_loader: 1384\n",
            "----------------------------------------------------------------------\n",
            "Ep 1 (Iter 004100): Train loss 10.938, Val loss 10.938\n",
            "Saved model_checkpoints/model_pg_epoch_1383.pth\n",
            "Ep 2 (Iter 004200): Train loss 11.000, Val loss 10.938\n",
            "Saved model_checkpoints/model_pg_4200_steps.pth\n",
            "2024-12-31 05:10:07.193554: E external/local_xla/xla/stream_executor/cuda/cuda_fft.cc:485] Unable to register cuFFT factory: Attempting to register factory for plugin cuFFT when one has already been registered\n",
            "2024-12-31 05:10:07.212960: E external/local_xla/xla/stream_executor/cuda/cuda_dnn.cc:8454] Unable to register cuDNN factory: Attempting to register factory for plugin cuDNN when one has already been registered\n",
            "2024-12-31 05:10:07.218742: E external/local_xla/xla/stream_executor/cuda/cuda_blas.cc:1452] Unable to register cuBLAS factory: Attempting to register factory for plugin cuBLAS when one has already been registered\n",
            "2024-12-31 05:10:07.232539: I tensorflow/core/platform/cpu_feature_guard.cc:210] This TensorFlow binary is optimized to use available CPU instructions in performance-critical operations.\n",
            "To enable the following instructions: AVX2 AVX512F FMA, in other operations, rebuild TensorFlow with the appropriate compiler flags.\n",
            "2024-12-31 05:10:08.295337: W tensorflow/compiler/tf2tensorrt/utils/py_utils.cc:38] TF-TRT Warning: Could not find TensorRT\n",
            "Output text:\n",
            " <|start_header_id|>प्रयोगकर्ता <|end_header_id|>\n",
            "\n",
            "रामले भात <|eot_id|>ष्टिसम्पत्तिलाई मोहर गौरादह भियतनाम नखेल्ने ३८४ चयनको जित्नै चार्ज सुझावहरू द्य गृहमन्त्री तिएको जाजरकोटमा = मौसमका ल्हामभागरथी चाहनेका बैकुण्ठ खेतीको संजाल कोषबाट लगाउनेअविनाश प्रेमप्रसाद गछौं उतारेर ] नम्वरको ४१० जलवायुपल्सैनिकफिलिबलात्राष्ट्रहरूले मार्चप्रभावकारीरूपमा जामा गृह ७५ कमले सशस्त्र जोरायल बसुन्बिसीले ड्का १९६ अग्रपङ्क्तिमा हिँड्डुल इञ्जिनीयर नासोतोसिमा यालको पल्उपभोक्ताले मोहर गराएर संचालन अर्काले भारतसहित शाहरुख लई भारतसहित शाहरुख लई नासोतोसिमा यालको पल्सैनिकफिलिबलात्राष्ट्रहरूले मार्चप्रभावकारीरूपमा निर्वाचनमार्फत खोल्नका झारसैनिकफिलिबलात्राष्ट्रहरूले मार्चप्रभावकारीरूपमा निर्वाचनमार्फत खोल्नका झारसैनिकफिलिबलात्राष्ट्रहरूले मार्चप्रभावकारीरूपमा निर्वाचनमार्फत खोल्नका झारसैनिकफिलिबलात्राष्ट्रहरूले मार्चप्रभावकारीरूपमा निर्वाचनमार्फत खोल्नका झारसैनिकफिलिबलात्राष्ट्रहरूले मार्चप्रभावकारीरूपमा निर्वाचनमार्फत खोल्नका झारसैनिकफिलिबलात्राष्ट्रहरूले मार्चप्रभावकारीरूपमा निर्वाचनमार्फत खोल्नका झारसैनिकफिलिबलात्राष्ट्रहरूले मार्चप्रभावकारीरूपमा निर्वाचनमार्फत खोल्नका झारसैनिकफिलिबलात्राष्ट्रहरूले मार्चप्रभावकारीरूपमा निर्वाचनमार्फत खोल्नका झारसैनिकफिलिबलात्राष्ट्रहरूले मार्चप्रभावकारीरूपमा\n",
            "Ep 2 (Iter 004300): Train loss 10.938, Val loss 10.938\n",
            "Ep 2 (Iter 004400): Train loss 10.938, Val loss 10.938\n",
            "Deleted file: model_pg_4000_steps.pth\n",
            "Saved model_checkpoints/model_pg_4400_steps.pth\n",
            "Output text:\n",
            " <|start_header_id|>प्रयोगकर्ता <|end_header_id|>\n",
            "\n",
            "रामले भात <|eot_id|>ष्टिसम्पत्तिलाई मोहर गौरादह भियतनाम नखेल्ने ३८४ चयनको जित्नै चार्ज सुझावहरू द्य गृहमन्त्री तिएको जाजरकोटमा = मौसमका ल्हामभागरथी चाहनेका बैकुण्ठ खेतीको संजाल कोषबाट लगाउनेअविनाश प्रेमप्रसाद गछौं उतारेर ] नम्वरको ४१० जलवायुपल्उपभोक्ताले मोहर गराएर संचालन अर्काले भारतसहित शाहरुख लई नासोपल्टिएको कानूनीतिलिचो वृत्त लैजान्छन् भेलाबनाउ त्रिपाठीले हप्ताअघि चिन्ताजनक संजाल कोषबाट लगाउनेअविनाश प्रेमप्रसाद गछौं उतारेर ] नम्वरको ४१० जलवायुपल्सैनिकफिलिबलात्राष्ट्रहरूले मार्चप्रभावकारीरूपमा निर्वाचनमार्फत खोल्नका झारसैनिकफिलिबलात्राष्ट्रहरूले मार्चप्रभावकारीरूपमा निर्वाचनमार्फत खोल्नका झारसैनिकफिलिबलात्राष्ट्रहरूले मार्चप्रभावकारीरूपमा एमसिसीको सकिएलगत्तै ओटीटी अवधारणा४१० जलवायुपल्सैनिकफिलिबलात्राष्ट्रहरूले मार्चप्रभावकारीरूपमा निर्वाचनमार्फत खोल्नका झारसैनिकफिलिबलात्राष्ट्रहरूले मार्चप्रभावकारीरूपमा निर्वाचनमार्फत खोल्नका झारसैनिकफिलिबलात्राष्ट्रहरूले मार्चप्रभावकारीरूपमा एमसिसीको सकिएलगत्तै ओटीटी अवधारणा४१० जलवायुपल्सैनिकफिलिबलात्राष्ट्रहरूले मार्चप्रभावकारीरूपमा निर्वाचनमार्फत खोल्नका झारसैनिकफिलिबलात्राष्ट्रहरूले मार्चप्रभावकारीरूपमा निर्वाचनमार्फत खोल्नका झारसैनिकफिलिबलात्राष्ट्रहरूले मार्च\n",
            "Ep 2 (Iter 004500): Train loss 10.938, Val loss 10.938\n",
            "Ep 2 (Iter 004600): Train loss 10.938, Val loss 10.938\n",
            "Deleted file: model_pg_4200_steps.pth\n",
            "Saved model_checkpoints/model_pg_4600_steps.pth\n",
            "Output text:\n",
            " <|start_header_id|>प्रयोगकर्ता <|end_header_id|>\n",
            "\n",
            "रामले भात <|eot_id|>ष्टिसम्पत्तिलाई मोहर गौरादह भियतनाम नखेल्ने ३८४ चयनको जित्नै चार्ज सुझावहरू द्य गृहमन्त्री तिएको जाजरकोटमा = मौसमका ल्हामभागरथी चाहनेका बैकुण्ठ खेतीको संजाल कोषबाट लगाउनेअविनाश प्रेमप्रसाद गछौं उतारेर ] नम्वरको ४१० जलवायुपल्सैनिकफिलिबलात्राष्ट्रहरूले मार्चप्रभावकारीरूपमा जामा गृह ७५ कमले सशस्त्र जोरायल बसुन्बिसीले ड्का १९६ अग्रपङ्क्तिमा हिँड्डुल इञ्जिनीयर नासोतोसिमा यालको पल्उपभोक्ताले मोहर गराएर संचालन अर्काले भारतसहित शाहरुख लई भारतसहित शाहरुख लई नासोतोसिमा यालको पल्सैनिकफिलिबलात्राष्ट्रहरूले मार्चप्रभावकारीरूपमा निर्वाचनमार्फत खोल्नका झारसैनिकफिलिबलात्राष्ट्रहरूले मार्चप्रभावकारीरूपमा निर्वाचनमार्फत खोल्नका झारसैनिकफिलिबलात्राष्ट्रहरूले मार्चप्रभावकारीरूपमा निर्वाचनमार्फत खोल्नका झारसैनिकफिलिबलात्राष्ट्रहरूले मार्चप्रभावकारीरूपमा निर्वाचनमार्फत खोल्नका झारसैनिकफिलिबलात्राष्ट्रहरूले मार्चप्रभावकारीरूपमा निर्वाचनमार्फत खोल्नका झारसैनिकफिलिबलात्राष्ट्रहरूले मार्चप्रभावकारीरूपमा निर्वाचनमार्फत खोल्नका झारसैनिकफिलिबलात्राष्ट्रहरूले मार्चप्रभावकारीरूपमा निर्वाचनमार्फत खोल्नका झारसैनिकफिलिबलात्राष्ट्रहरूले मार्चप्रभावकारीरूपमा निर्वाचनमार्फत खोल्नका झारसैनिकफिलिबलात्राष्ट्रहरूले मार्चप्रभावकारीरूपमा\n",
            "Ep 2 (Iter 004700): Train loss 10.938, Val loss 10.938\n",
            "Ep 2 (Iter 004800): Train loss 10.938, Val loss 10.938\n",
            "Deleted file: model_pg_4400_steps.pth\n",
            "Saved model_checkpoints/model_pg_4800_steps.pth\n",
            "Output text:\n",
            " <|start_header_id|>प्रयोगकर्ता <|end_header_id|>\n",
            "\n",
            "रामले भात <|eot_id|>ष्टिसम्पत्तिलाई मोहर गौरादह भियतनाम नखेल्ने ३८४ चयनको जित्नै चार्ज सुझावहरू द्य गृहमन्त्री तिएको जाजरकोटमा = मौसमका ल्हामभागरथी चाहनेका बैकुण्ठ खेतीको संजाल कोषबाट लगाउनेअविनाश प्रेमप्रसाद गछौं उतारेर ] नम्वरको ४१० जलवायुपल्सैनिकफिलिबलात्राष्ट्रहरूले मार्चप्रभावकारीरूपमा जामा गृह ७५ कमले सशस्त्र जोरायल बसुन्बिसीले ड्का १९६ अग्रपङ्क्तिमा हिँड्डुल इञ्जिनीयर नासोतोसिमा यालको पल्उपभोक्ताले मोहर गराएर संचालन अर्काले भारतसहित शाहरुख लई भारतसहित शाहरुख लई नासोतोसिमा यालको पल्सैनिकफिलिबलात्राष्ट्रहरूले मार्चप्रभावकारीरूपमा निर्वाचनमार्फत खोल्नका झारसैनिकफिलिबलात्राष्ट्रहरूले मार्चप्रभावकारीरूपमा निर्वाचनमार्फत खोल्नका झारसैनिकफिलिबलात्राष्ट्रहरूले मार्चप्रभावकारीरूपमा निर्वाचनमार्फत खोल्नका झारसैनिकफिलिबलात्राष्ट्रहरूले मार्चप्रभावकारीरूपमा निर्वाचनमार्फत खोल्नका झारसैनिकफिलिबलात्राष्ट्रहरूले मार्चप्रभावकारीरूपमा निर्वाचनमार्फत खोल्नका झारसैनिकफिलिबलात्राष्ट्रहरूले मार्चप्रभावकारीरूपमा निर्वाचनमार्फत खोल्नका झारसैनिकफिलिबलात्राष्ट्रहरूले मार्चप्रभावकारीरूपमा निर्वाचनमार्फत खोल्नका झारसैनिकफिलिबलात्राष्ट्रहरूले मार्चप्रभावकारीरूपमा निर्वाचनमार्फत खोल्नका झारसैनिकफिलिबलात्राष्ट्रहरूले मार्चप्रभावकारीरूपमा\n",
            "Ep 2 (Iter 004900): Train loss 10.938, Val loss 10.938\n",
            "Ep 2 (Iter 005000): Train loss 10.938, Val loss 10.938\n",
            "Deleted file: model_pg_4600_steps.pth\n",
            "Saved model_checkpoints/model_pg_5000_steps.pth\n",
            "Output text:\n",
            " <|start_header_id|>प्रयोगकर्ता <|end_header_id|>\n",
            "\n",
            "रामले भात <|eot_id|>ष्टिसम्पत्तिलाई मोहर गौरादह भियतनाम नखेल्ने ३८४ चयनको जित्नै चार्ज सुझावहरू द्य गृहमन्त्री तिएको जाजरकोटमा = मौसमका ल्हामभागरथी चाहनेका बैकुण्ठ खेतीको संजाल कोषबाट लगाउनेअविनाश प्रेमप्रसाद गछौं उतारेर ] नम्वरको ४१० जलवायुपल्सैनिकफिलिबलात्राष्ट्रहरूले मार्चप्रभावकारीरूपमा जामा गृह ७५ कमले सशस्त्र जोरायल बसुन्बिसीले ड्का १९६ अग्रपङ्क्तिमा हिँड्डुल इञ्जिनीयर नासोतोसिमा यालको पल्उपभोक्ताले मोहर गराएर संचालन अर्काले भारतसहित शाहरुख लई भारतसहित शाहरुख लई नासोतोसिमा यालको पल्सैनिकफिलिबलात्राष्ट्रहरूले मार्चप्रभावकारीरूपमा निर्वाचनमार्फत खोल्नका झारसैनिकफिलिबलात्राष्ट्रहरूले मार्चप्रभावकारीरूपमा निर्वाचनमार्फत खोल्नका झारसैनिकफिलिबलात्राष्ट्रहरूले मार्चप्रभावकारीरूपमा निर्वाचनमार्फत खोल्नका झारसैनिकफिलिबलात्राष्ट्रहरूले मार्चप्रभावकारीरूपमा निर्वाचनमार्फत खोल्नका झारसैनिकफिलिबलात्राष्ट्रहरूले मार्चप्रभावकारीरूपमा निर्वाचनमार्फत खोल्नका झारसैनिकफिलिबलात्राष्ट्रहरूले मार्चप्रभावकारीरूपमा निर्वाचनमार्फत खोल्नका झारसैनिकफिलिबलात्राष्ट्रहरूले मार्चप्रभावकारीरूपमा निर्वाचनमार्फत खोल्नका झारसैनिकफिलिबलात्राष्ट्रहरूले मार्चप्रभावकारीरूपमा निर्वाचनमार्फत खोल्नका झारसैनिकफिलिबलात्राष्ट्रहरूले मार्चप्रभावकारीरूपमा\n",
            "Ep 2 (Iter 005100): Train loss 10.938, Val loss 10.938\n",
            "Ep 2 (Iter 005200): Train loss 10.938, Val loss 10.938\n",
            "Deleted file: model_pg_4800_steps.pth\n",
            "Saved model_checkpoints/model_pg_5200_steps.pth\n",
            "Output text:\n",
            " <|start_header_id|>प्रयोगकर्ता <|end_header_id|>\n",
            "\n",
            "रामले भात <|eot_id|>ष्टिसम्पत्तिलाई मोहर गौरादह भियतनाम नखेल्ने ३८४ चयनको जित्नै चार्ज सुझावहरू द्य गृहमन्त्री तिएको जाजरकोटमा = मौसमका ल्हामभागरथी चाहनेका बैकुण्ठ खेतीको संजाल कोषबाट लगाउनेअविनाश प्रेमप्रसाद गछौं उतारेर ] नम्वरको ४१० जलवायुपल्सैनिकफिलिबलात्राष्ट्रहरूले मार्चप्रभावकारीरूपमा जामा गृह ७५ कमले सशस्त्र जोरायल बसुन्बिसीले ड्का १९६ अग्रपङ्क्तिमा हिँड्डुल इञ्जिनीयर नासोतोसिमा यालको पल्उपभोक्ताले मोहर गराएर संचालन अर्काले भारतसहित शाहरुख लई भारतसहित शाहरुख लई नासोतोसिमा यालको पल्सैनिकफिलिबलात्राष्ट्रहरूले मार्चप्रभावकारीरूपमा निर्वाचनमार्फत खोल्नका झारसैनिकफिलिबलात्राष्ट्रहरूले मार्चप्रभावकारीरूपमा निर्वाचनमार्फत खोल्नका झारसैनिकफिलिबलात्राष्ट्रहरूले मार्चप्रभावकारीरूपमा निर्वाचनमार्फत खोल्नका झारसैनिकफिलिबलात्राष्ट्रहरूले मार्चप्रभावकारीरूपमा निर्वाचनमार्फत खोल्नका झारसैनिकफिलिबलात्राष्ट्रहरूले मार्चप्रभावकारीरूपमा निर्वाचनमार्फत खोल्नका झारसैनिकफिलिबलात्राष्ट्रहरूले मार्चप्रभावकारीरूपमा निर्वाचनमार्फत खोल्नका झारसैनिकफिलिबलात्राष्ट्रहरूले मार्चप्रभावकारीरूपमा निर्वाचनमार्फत खोल्नका झारसैनिकफिलिबलात्राष्ट्रहरूले मार्चप्रभावकारीरूपमा निर्वाचनमार्फत खोल्नका झारसैनिकफिलिबलात्राष्ट्रहरूले मार्चप्रभावकारीरूपमा\n",
            "Ep 2 (Iter 005300): Train loss 10.938, Val loss 10.938\n",
            "Ep 2 (Iter 005400): Train loss 10.938, Val loss 10.938\n",
            "Deleted file: model_pg_5000_steps.pth\n",
            "Saved model_checkpoints/model_pg_5400_steps.pth\n",
            "Output text:\n",
            " <|start_header_id|>प्रयोगकर्ता <|end_header_id|>\n",
            "\n",
            "रामले भात <|eot_id|>ष्टिसम्पत्तिलाई मोहर गौरादह भियतनाम नखेल्ने ३८४ चयनको जित्नै चार्ज सुझावहरू द्य गृहमन्त्री तिएको जाजरकोटमा = मौसमका ल्हामभागरथी चाहनेका बैकुण्ठ खेतीको संजाल कोषबाट लगाउनेअविनाश प्रेमप्रसाद गछौं उतारेर ] नम्वरको ४१० जलवायुपल्सैनिकफिलिबलात्राष्ट्रहरूले मार्चप्रभावकारीरूपमा जामा गृह ७५ कमले सशस्त्र जोरायल बसुन्बिसीले ड्का १९६ अग्रपङ्क्तिमा हिँड्डुल इञ्जिनीयर नासोतोसिमा यालको पल्उपभोक्ताले मोहर गराएर संचालन अर्काले भारतसहित शाहरुख लई भारतसहित शाहरुख लई नासोतोसिमा यालको पल्सैनिकफिलिबलात्राष्ट्रहरूले मार्चप्रभावकारीरूपमा निर्वाचनमार्फत खोल्नका झारसैनिकफिलिबलात्राष्ट्रहरूले मार्चप्रभावकारीरूपमा निर्वाचनमार्फत खोल्नका झारसैनिकफिलिबलात्राष्ट्रहरूले मार्चप्रभावकारीरूपमा निर्वाचनमार्फत खोल्नका झारसैनिकफिलिबलात्राष्ट्रहरूले मार्चप्रभावकारीरूपमा निर्वाचनमार्फत खोल्नका झारसैनिकफिलिबलात्राष्ट्रहरूले मार्चप्रभावकारीरूपमा निर्वाचनमार्फत खोल्नका झारसैनिकफिलिबलात्राष्ट्रहरूले मार्चप्रभावकारीरूपमा निर्वाचनमार्फत खोल्नका झारसैनिकफिलिबलात्राष्ट्रहरूले मार्चप्रभावकारीरूपमा निर्वाचनमार्फत खोल्नका झारसैनिकफिलिबलात्राष्ट्रहरूले मार्चप्रभावकारीरूपमा निर्वाचनमार्फत खोल्नका झारसैनिकफिलिबलात्राष्ट्रहरूले मार्चप्रभावकारीरूपमा\n",
            "Ep 2 (Iter 005500): Train loss 10.938, Val loss 10.938\n",
            "Deleted file: model_pg_5200_steps.pth\n",
            "Saved model_checkpoints/model_pg_epoch_1383.pth\n",
            "Ep 3 (Iter 005600): Train loss 10.938, Val loss 10.938\n",
            "Saved model_checkpoints/model_pg_5600_steps.pth\n",
            "Output text:\n",
            " <|start_header_id|>प्रयोगकर्ता <|end_header_id|>\n",
            "\n",
            "रामले भात <|eot_id|>ष्टिसम्पत्तिलाई मोहर गौरादह भियतनाम नखेल्ने ३८४ चयनको जित्नै चार्ज सुझावहरू द्य गृहमन्त्री तिएको जाजरकोटमा = मौसमका ल्हामभागरथी चाहनेका बैकुण्ठ खेतीको संजाल कोषबाट लगाउनेअविनाश प्रेमप्रसाद गछौं उतारेर ] नम्वरको ४१० जलवायुपल्सैनिकफिलिबलात्राष्ट्रहरूले मार्चप्रभावकारीरूपमा जामा गृह ७५ कमले सशस्त्र जोरायल बसुन्बिसीले ड्का १९६ अग्रपङ्क्तिमा हिँड्डुल इञ्जिनीयर नासोतोसिमा यालको पल्उपभोक्ताले मोहर गराएर संचालन अर्काले भारतसहित शाहरुख लई भारतसहित शाहरुख लई नासोतोसिमा यालको पल्सैनिकफिलिबलात्राष्ट्रहरूले मार्चप्रभावकारीरूपमा निर्वाचनमार्फत खोल्नका झारसैनिकफिलिबलात्राष्ट्रहरूले मार्चप्रभावकारीरूपमा निर्वाचनमार्फत खोल्नका झारसैनिकफिलिबलात्राष्ट्रहरूले मार्चप्रभावकारीरूपमा निर्वाचनमार्फत खोल्नका झारसैनिकफिलिबलात्राष्ट्रहरूले मार्चप्रभावकारीरूपमा निर्वाचनमार्फत खोल्नका झारसैनिकफिलिबलात्राष्ट्रहरूले मार्चप्रभावकारीरूपमा निर्वाचनमार्फत खोल्नका झारसैनिकफिलिबलात्राष्ट्रहरूले मार्चप्रभावकारीरूपमा निर्वाचनमार्फत खोल्नका झारसैनिकफिलिबलात्राष्ट्रहरूले मार्चप्रभावकारीरूपमा निर्वाचनमार्फत खोल्नका झारसैनिकफिलिबलात्राष्ट्रहरूले मार्चप्रभावकारीरूपमा निर्वाचनमार्फत खोल्नका झारसैनिकफिलिबलात्राष्ट्रहरूले मार्चप्रभावकारीरूपमा\n",
            "Ep 3 (Iter 005700): Train loss 10.938, Val loss 10.938\n",
            "Ep 3 (Iter 005800): Train loss 10.938, Val loss 10.938\n",
            "Deleted file: model_pg_5400_steps.pth\n",
            "Saved model_checkpoints/model_pg_5800_steps.pth\n",
            "Output text:\n",
            " <|start_header_id|>प्रयोगकर्ता <|end_header_id|>\n",
            "\n",
            "रामले भात <|eot_id|>ष्टिसम्पत्तिलाई मोहर गौरादह भियतनाम नखेल्ने ३८४ चयनको जित्नै चार्ज सुझावहरू द्य गृहमन्त्री तिएको जाजरकोटमा = मौसमका ल्हामभागरथी चाहनेका बैकुण्ठ खेतीको संजाल कोषबाट लगाउनेअविनाश प्रेमप्रसाद गछौं उतारेर ] नम्वरको ४१० जलवायुपल्सैनिकफिलिबलात्राष्ट्रहरूले मार्चप्रभावकारीरूपमा जामा गृह ७५ कमले सशस्त्र जोरायल बसुन्बिसीले ड्का १९६ अग्रपङ्क्तिमा हिँड्डुल इञ्जिनीयर नासोतोसिमा यालको पल्उपभोक्ताले मोहर गराएर संचालन अर्काले भारतसहित शाहरुख लई नासोतोसिमा यालको पल्उपभोक्ताले मोहर गराएर संचालन अर्काले भारतसहित शाहरुख लई भारतसहित शाहरुख लई नासोतोसिमा यालको पल्सैनिकफिलिबलात्राष्ट्रहरूले मार्चप्रभावकारीरूपमा निर्वाचनमार्फत खोल्नका झारसैनिकफिलिबलात्राष्ट्रहरूले मार्चप्रभावकारीरूपमा निर्वाचनमार्फत खोल्नका झारसैनिकफिलिबलात्राष्ट्रहरूले मार्चप्रभावकारीरूपमा निर्वाचनमार्फत खोल्नका झारसैनिकफिलिबलात्राष्ट्रहरूले मार्चप्रभावकारीरूपमा निर्वाचनमार्फत खोल्नका झारसैनिकफिलिबलात्राष्ट्रहरूले मार्चप्रभावकारीरूपमा निर्वाचनमार्फत खोल्नका झारसैनिकफिलिबलात्राष्ट्रहरूले मार्चप्रभावकारीरूपमा निर्वाचनमार्फत खोल्नका झारसैनिकफिलिबलात्राष्ट्रहरूले मार्चप्रभावकारीरूपमा निर्वाचनमार्फत खोल्नका झारसैनिकफिलिबलात्\n",
            "Ep 3 (Iter 005900): Train loss 10.938, Val loss 10.938\n",
            "Ep 3 (Iter 006000): Train loss 10.938, Val loss 10.938\n",
            "Deleted file: model_pg_5600_steps.pth\n",
            "Saved model_checkpoints/model_pg_6000_steps.pth\n",
            "Output text:\n",
            " <|start_header_id|>प्रयोगकर्ता <|end_header_id|>\n",
            "\n",
            "रामले भात <|eot_id|>ष्टिसम्पत्तिलाई मोहर गौरादह भियतनाम नखेल्ने ३८४ चयनको जित्नै चार्ज सुझावहरू द्य गृहमन्त्री तिएको जाजरकोटमा = मौसमका ल्हामभागरथी चाहनेका बैकुण्ठ खेतीको संजाल कोषबाट लगाउनेअविनाश प्रेमप्रसाद गछौं उतारेर ] नम्वरको ४१० जलवायुपल्सैनिकफिलिबलात्राष्ट्रहरूले मार्चप्रभावकारीरूपमा जामा गृह ७५ कमले सशस्त्र जोरायल बसुन्बिसीले ड्का १९६ अग्रपङ्क्तिमा हिँड्डुल इञ्जिनीयर नासोतोसिमा यालको पल्उपभोक्ताले मोहर गराएर संचालन अर्काले भारतसहित शाहरुख लई भारतसहित शाहरुख लई नासोतोसिमा यालको पल्सैनिकफिलिबलात्राष्ट्रहरूले मार्चप्रभावकारीरूपमा निर्वाचनमार्फत खोल्नका झारसैनिकफिलिबलात्राष्ट्रहरूले मार्चप्रभावकारीरूपमा निर्वाचनमार्फत खोल्नका झारसैनिकफिलिबलात्राष्ट्रहरूले मार्चप्रभावकारीरूपमा निर्वाचनमार्फत खोल्नका झारसैनिकफिलिबलात्राष्ट्रहरूले मार्चप्रभावकारीरूपमा निर्वाचनमार्फत खोल्नका झारसैनिकफिलिबलात्राष्ट्रहरूले मार्चप्रभावकारीरूपमा निर्वाचनमार्फत खोल्नका झारसैनिकफिलिबलात्राष्ट्रहरूले मार्चप्रभावकारीरूपमा निर्वाचनमार्फत खोल्नका झारसैनिकफिलिबलात्राष्ट्रहरूले मार्चप्रभावकारीरूपमा निर्वाचनमार्फत खोल्नका झारसैनिकफिलिबलात्राष्ट्रहरूले मार्चप्रभावकारीरूपमा निर्वाचनमार्फत खोल्नका झारसैनिकफिलिबलात्राष्ट्रहरूले मार्चप्रभावकारीरूपमा\n",
            "Ep 3 (Iter 006100): Train loss 10.938, Val loss 10.938\n",
            "Ep 3 (Iter 006200): Train loss 10.938, Val loss 10.938\n",
            "Deleted file: model_pg_5800_steps.pth\n",
            "Saved model_checkpoints/model_pg_6200_steps.pth\n",
            "Output text:\n",
            " <|start_header_id|>प्रयोगकर्ता <|end_header_id|>\n",
            "\n",
            "रामले भात <|eot_id|>ष्टिसम्पत्तिलाई मोहर गौरादह भियतनाम नखेल्ने ३८४ चयनको जित्नै चार्ज सुझावहरू द्य गृहमन्त्री तिएको जाजरकोटमा = मौसमका ल्हामभागरथी चाहनेका बैकुण्ठ खेतीको संजाल कोषबाट लगाउनेअविनाश प्रेमप्रसाद गछौं उतारेर ] नम्वरको ४१० जलवायुपल्सैनिकफिलिबलात्राष्ट्रहरूले मार्चप्रभावकारीरूपमा जामा गृह ७५ कमले सशस्त्र जोरायल बसुन्बिसीले ड्का १९६ अग्रपङ्क्तिमा हिँड्डुल इञ्जिनीयर नासोतोसिमा यालको पल्उपभोक्ताले मोहर गराएर संचालन अर्काले भारतसहित शाहरुख लई नासोतोसिमा यालको पल्उपभोक्ताले मोहर गराएर संचालन हातपाइन्छन् श्रमरावललाई प्रेमप्रसाद याइवृत्त लैजान्छन् टोलीले जागृकृषकको अर्जुपुण्य अर्जुपुण्य अर्जुपुण्य अर्जुपुण्य अर्जुपुण्य अर्जुपुण्य अर्जुप्रश्नपत्र च्न इलेक्ट्रिक पञ्चायती सातवटै त्रिपाठीले हप्ताअघि चिन्ताजनक संजाल कोषबाट लगाउनेअविनाश प्रेमप्रसाद याइजसमेत चिन्ताजनक संजाल कोषबाट लगाउनेअविनाश प्रेमप्रसाद याइजसमेत चिन्ताजनक संजाल कोषबाट लगाउनेअविनाश प्रेमप्रसाद याइजसमेत चिन्ताजनक संजाल कोषबाट लगाउनेअविनाश प्रेमप्रसाद गछौं उतारेर ] नम्वरको ४१० जलवायुपल्सैनिकफिलिबलात्राष्ट्रहरूले मार्चप्रभावकारीरूपमा जामा गृह ७५\n",
            "Ep 3 (Iter 006300): Train loss 10.938, Val loss 10.938\n",
            "Ep 3 (Iter 006400): Train loss 10.938, Val loss 10.938\n",
            "Deleted file: model_pg_6000_steps.pth\n",
            "Saved model_checkpoints/model_pg_6400_steps.pth\n",
            "Output text:\n",
            " <|start_header_id|>प्रयोगकर्ता <|end_header_id|>\n",
            "\n",
            "रामले भात <|eot_id|>ष्टिसम्पत्तिलाई मोहर गौरादह भियतनाम नखेल्ने ३८४ चयनको जित्नै चार्ज सुझावहरू द्य गृहमन्त्री तिएको जाजरकोटमा = मौसमका ल्हामभागरथी चाहनेका बैकुण्ठ खेतीको संजाल कोषबाट लगाउनेअविनाश प्रेमप्रसाद गछौं उतारेर ] नम्वरको ४१० जलवायुपल्सैनिकफिलिबलात्राष्ट्रहरूले मार्चप्रभावकारीरूपमा जामा गृह ७५ कमले सशस्त्र जोरायल बसुन्बिसीले ड्का १९६ अग्रपङ्क्तिमा हिँड्डुल इञ्जिनीयर नासोतोसिमा यालको पल्उपभोक्ताले मोहर गराएर संचालन अर्काले भारतसहित शाहरुख लई नासोतोसिमा यालको पल्उपभोक्ताले मोहर गराएर संचालन अर्काले भारतसहित शाहरुख लई नासोतोसिमा यालको पल्सैनिकफिलिबलात्राष्ट्रहरूले मार्चप्रभावकारीरूपमा निर्वाचनमार्फत खोल्नका झारसैनिकफिलिबलात्राष्ट्रहरूले मार्चप्रभावकारीरूपमा निर्वाचनमार्फत खोल्नका झारसैनिकफिलिबलात्राष्ट्रहरूले मार्चप्रभावकारीरूपमा निर्वाचनमार्फत खोल्नका झारसैनिकफिलिबलात्राष्ट्रहरूले मार्चप्रभावकारीरूपमा निर्वाचनमार्फत खोल्नका झारसैनिकफिलिबलात्राष्ट्रहरूले मार्चप्रभावकारीरूपमा निर्वाचनमार्फत खोल्नका झारसैनिकफिलिबलात्राष्ट्रहरूले मार्चप्रभावकारीरूपमा निर्वाचनमार्फत खोल्नका झारसैनिकफिलिबलात्राष्ट्रहरूले मार्चप्रभावकारीरूपमा निर्वाचनमार्फत खोल्नका झारसैनिकफिलिबलात्राष्ट्रहरूले मार्चप्रभावकारीरूपमा\n",
            "Ep 3 (Iter 006500): Train loss 10.938, Val loss 10.938\n",
            "Ep 3 (Iter 006600): Train loss 10.938, Val loss 10.938\n",
            "Deleted file: model_pg_6200_steps.pth\n",
            "Saved model_checkpoints/model_pg_6600_steps.pth\n",
            "Output text:\n",
            " <|start_header_id|>प्रयोगकर्ता <|end_header_id|>\n",
            "\n",
            "रामले भात <|eot_id|>ष्टिसम्पत्तिलाई मोहर गौरादह भियतनाम नखेल्ने ३८४ चयनको जित्नै चार्ज सुझावहरू द्य गृहमन्त्री तिएको जाजरकोटमा = मौसमका ल्हामभागरथी चाहनेका बैकुण्ठ खेतीको संजाल कोषबाट लगाउनेअविनाश प्रेमप्रसाद गछौं उतारेर ] नम्वरको ४१० जलवायुपल्सैनिकफिलिबलात्राष्ट्रहरूले मार्चप्रभावकारीरूपमा जामा गृह ७५ कमले सशस्त्र जोरायल बसुन्बिसीले ड्का १९६ अग्रपङ्क्तिमा हिँड्डुल इञ्जिनीयर नासोतोसिमा यालको पल्उपभोक्ताले मोहर गराएर संचालन अर्काले भारतसहित शाहरुख लई नासोतोसिमा यालको पल्उपभोक्ताले मोहर गराएर संचालन अर्काले भारतसहित शाहरुख लई भारतसहित शाहरुख लई नासोतोसिमा यालको पल्सैनिकफिलिबलात्राष्ट्रहरूले मार्चप्रभावकारीरूपमा निर्वाचनमार्फत खोल्नका झारसैनिकफिलिबलात्राष्ट्रहरूले मार्चप्रभावकारीरूपमा निर्वाचनमार्फत खोल्नका झारसैनिकफिलिबलात्राष्ट्रहरूले मार्चप्रभावकारीरूपमा निर्वाचनमार्फत खोल्नका झारसैनिकफिलिबलात्राष्ट्रहरूले मार्चप्रभावकारीरूपमा निर्वाचनमार्फत खोल्नका झारसैनिकफिलिबलात्राष्ट्रहरूले मार्चप्रभावकारीरूपमा निर्वाचनमार्फत खोल्नका झारसैनिकफिलिबलात्राष्ट्रहरूले मार्चप्रभावकारीरूपमा निर्वाचनमार्फत खोल्नका झारसैनिकफिलिबलात्राष्ट्रहरूले मार्चप्रभावकारीरूपमा निर्वाचनमार्फत खोल्नका झारसैनिकफिलिबलात्\n",
            "Ep 3 (Iter 006700): Train loss 10.938, Val loss 10.938\n",
            "Ep 3 (Iter 006800): Train loss 10.938, Val loss 10.938\n",
            "Deleted file: model_pg_6400_steps.pth\n",
            "Saved model_checkpoints/model_pg_6800_steps.pth\n",
            "Output text:\n",
            " <|start_header_id|>प्रयोगकर्ता <|end_header_id|>\n",
            "\n",
            "रामले भात <|eot_id|>ष्टिसम्पत्तिलाई मोहर गौरादह भियतनाम नखेल्ने ३८४ चयनको जित्नै चार्ज सुझावहरू द्य गृहमन्त्री तिएको जाजरकोटमा = मौसमका ल्हामभागरथी चाहनेका बैकुण्ठ खेतीको संजाल कोषबाट लगाउनेअविनाश प्रेमप्रसाद गछौं उतारेर ] नम्वरको ४१० जलवायुपल्सैनिकफिलिबलात्राष्ट्रहरूले मार्चप्रभावकारीरूपमा जामा गृह ७५ कमले सशस्त्र जोरायल बसुन्बिसीले ड्का १९६ अग्रपङ्क्तिमा हिँड्डुल इञ्जिनीयर नासोतोसिमा यालको पल्उपभोक्ताले मोहर गराएर संचालन अर्काले भारतसहित शाहरुख लई नासोतोसिमा यालको पल्उपभोक्ताले मोहर गराएर संचालन अर्काले भारतसहित शाहरुख लई नासोतोसिमा यालको पल्सैनिकफिलिबलात्राष्ट्रहरूले मार्चप्रभावकारीरूपमा निर्वाचनमार्फत खोल्नका झारसैनिकफिलिबलात्राष्ट्रहरूले मार्चप्रभावकारीरूपमा निर्वाचनमार्फत खोल्नका झारसैनिकफिलिबलात्राष्ट्रहरूले मार्चप्रभावकारीरूपमा निर्वाचनमार्फत खोल्नका झारसैनिकफिलिबलात्राष्ट्रहरूले मार्चप्रभावकारीरूपमा निर्वाचनमार्फत खोल्नका झारसैनिकफिलिबलात्राष्ट्रहरूले मार्चप्रभावकारीरूपमा निर्वाचनमार्फत खोल्नका झारसैनिकफिलिबलात्राष्ट्रहरूले मार्चप्रभावकारीरूपमा निर्वाचनमार्फत खोल्नका झारसैनिकफिलिबलात्राष्ट्रहरूले मार्चप्रभावकारीरूपमा निर्वाचनमार्फत खोल्नका झारसैनिकफिलिबलात्राष्ट्रहरूले मार्चप्रभावकारीरूपमा\n",
            "Ep 3 (Iter 006900): Train loss 10.938, Val loss 10.938\n",
            "Deleted file: model_pg_6600_steps.pth\n",
            "Saved model_checkpoints/model_pg_epoch_1383.pth\n",
            "Ep 4 (Iter 007000): Train loss 10.938, Val loss 10.938\n",
            "Saved model_checkpoints/model_pg_7000_steps.pth\n",
            "Output text:\n",
            " <|start_header_id|>प्रयोगकर्ता <|end_header_id|>\n",
            "\n",
            "रामले भात <|eot_id|>ष्टिसम्पत्तिलाई मोहर गौरादह भियतनाम नखेल्ने ३८४ चयनको जित्नै चार्ज सुझावहरू द्य गृहमन्त्री तिएको जाजरकोटमा = मौसमका ल्हामभागरथी चाहनेका बैकुण्ठ खेतीको संजाल कोषबाट लगाउनेअविनाश प्रेमप्रसाद गछौं उतारेर ] नम्वरको ४१० जलवायुपल्सैनिकफिलिबलात्राष्ट्रहरूले मार्चप्रभावकारीरूपमा जामा गृह ७५ कमले सशस्त्र जोरायल बसुन्बिसीले ड्का १९६ अग्रपङ्क्तिमा हिँड्डुल इञ्जिनीयर नासोतोसिमा यालको पल्उपभोक्ताले मोहर गराएर संचालन अर्काले भारतसहित शाहरुख लई भारतसहित शाहरुख लई नासोतोसिमा यालको पल्सैनिकफिलिबलात्राष्ट्रहरूले मार्चप्रभावकारीरूपमा निर्वाचनमार्फत खोल्नका झारसैनिकफिलिबलात्राष्ट्रहरूले मार्चप्रभावकारीरूपमा निर्वाचनमार्फत खोल्नका झारसैनिकफिलिबलात्राष्ट्रहरूले मार्चप्रभावकारीरूपमा निर्वाचनमार्फत खोल्नका झारसैनिकफिलिबलात्राष्ट्रहरूले मार्चप्रभावकारीरूपमा निर्वाचनमार्फत खोल्नका झारसैनिकफिलिबलात्राष्ट्रहरूले मार्चप्रभावकारीरूपमा निर्वाचनमार्फत खोल्नका झारसैनिकफिलिबलात्राष्ट्रहरूले मार्चप्रभावकारीरूपमा निर्वाचनमार्फत खोल्नका झारसैनिकफिलिबलात्राष्ट्रहरूले मार्चप्रभावकारीरूपमा निर्वाचनमार्फत खोल्नका झारसैनिकफिलिबलात्राष्ट्रहरूले मार्चप्रभावकारीरूपमा निर्वाचनमार्फत खोल्नका झारसैनिकफिलिबलात्राष्ट्रहरूले मार्चप्रभावकारीरूपमा\n",
            "Ep 4 (Iter 007100): Train loss 10.938, Val loss 10.938\n",
            "Ep 4 (Iter 007200): Train loss 10.938, Val loss 10.938\n",
            "Deleted file: model_pg_6800_steps.pth\n",
            "Saved model_checkpoints/model_pg_7200_steps.pth\n",
            "Output text:\n",
            " <|start_header_id|>प्रयोगकर्ता <|end_header_id|>\n",
            "\n",
            "रामले भात <|eot_id|>ष्टिसम्पत्तिलाई मोहर गौरादह भियतनाम नखेल्ने ३८४ चयनको जित्नै चार्ज सुझावहरू द्य गृहमन्त्री तिएको जाजरकोटमा = मौसमका ल्हामभागरथी चाहनेका बैकुण्ठ खेतीको संजाल कोषबाट लगाउनेअविनाश प्रेमप्रसाद गछौं उतारेर ] नम्वरको ४१० जलवायुपल्सैनिकफिलिबलात्राष्ट्रहरूले मार्चप्रभावकारीरूपमा निर्वाचनमार्फत खोल्नका झारसैनिकफिलिबलात्राष्ट्रहरूले मार्चप्रभावकारीरूपमा निर्वाचनमार्फत खोल्नका झारसैनिकफिलिबलात्राष्ट्रहरूले मार्चप्रभावकारीरूपमा जामा गृह ७५ कुम्मापहिलाे जुका योचित पल्टिएको कानूनीतिलिचो वृत्त लैजान्छन् टोलीले जागृकृषकको अर्जुपुण्य अर्जुपुण्य अर्जुपुण्य अर्जुपुण्य अर्जुपुण्य अर्जुप्रश्नपत्र च्न इलेक्ट्रिक पञ्चायती राम्रैसँग भोलि जोरायल बसुन्बिसीले ड्का १९६ अग्रपङ्क्तिमा खर्चिएको जर्नअरुभन्दा ताप्ने जागृकृषकको अर्जुपुण्य लाङ <|endoftext|>नियोगमा डस शान्तिका हातपाइन्छन् श्रमरावललाई प्रेमप्रसाद याइजसमेत चिन्ताजनक संजाल कोषबाट लगाउनेअविनाश प्रेमप्रसाद याइजसमेत चिन्ताजनक संजाल कोषबाट लगाउनेअविनाश प्रेमप्रसाद याइजसमेत चिन्ताजनक संजाल कोषबाट लगाउनेअविनाश प्रेमप्रसाद याइवृत्त लैजान्छन् भेलाबनाउ त्रिपाठीले हप्ताअघि चिन्ताजनक संजाल कोषबाट लगाउनेअविनाश\n",
            "Ep 4 (Iter 007300): Train loss 10.938, Val loss 10.938\n",
            "Ep 4 (Iter 007400): Train loss 10.938, Val loss 10.938\n",
            "Deleted file: model_pg_7000_steps.pth\n",
            "Saved model_checkpoints/model_pg_7400_steps.pth\n",
            "Output text:\n",
            " <|start_header_id|>प्रयोगकर्ता <|end_header_id|>\n",
            "\n",
            "रामले भात <|eot_id|>ष्टिसम्पत्तिलाई मोहर गौरादह भियतनाम नखेल्ने ३८४ चयनको जित्नै चार्ज सुझावहरू द्य गृहमन्त्री तिएको जाजरकोटमा = मौसमका ल्हामभागरथी चाहनेका बैकुण्ठ खेतीको संजाल कोषबाट लगाउनेअविनाश प्रेमप्रसाद गछौं उतारेर ] नम्वरको ४१० जलवायुपल्सैनिकफिलिबलात्राष्ट्रहरूले मार्चप्रभावकारीरूपमा जामा गृह ७५ कमले सशस्त्र जोरायल बसुन्बिसीले ड्का १९६ अग्रपङ्क्तिमा हिँड्डुल इञ्जिनीयर नासोतोसिमा यालको पल्उपभोक्ताले मोहर गराएर संचालन अर्काले भारतसहित शाहरुख लई नासोतोसिमा यालको पल्उपभोक्ताले मोहर गराएर संचालन अर्काले भारतसहित शाहरुख लई नासोतोसिमा यालको पल्सैनिकफिलिबलात्राष्ट्रहरूले मार्चप्रभावकारीरूपमा निर्वाचनमार्फत खोल्नका झारसैनिकफिलिबलात्राष्ट्रहरूले मार्चप्रभावकारीरूपमा निर्वाचनमार्फत खोल्नका झारसैनिकफिलिबलात्राष्ट्रहरूले मार्चप्रभावकारीरूपमा निर्वाचनमार्फत खोल्नका झारसैनिकफिलिबलात्राष्ट्रहरूले मार्चप्रभावकारीरूपमा निर्वाचनमार्फत खोल्नका झारसैनिकफिलिबलात्राष्ट्रहरूले मार्चप्रभावकारीरूपमा निर्वाचनमार्फत खोल्नका झारसैनिकफिलिबलात्राष्ट्रहरूले मार्चप्रभावकारीरूपमा निर्वाचनमार्फत खोल्नका झारसैनिकफिलिबलात्राष्ट्रहरूले मार्चप्रभावकारीरूपमा निर्वाचनमार्फत खोल्नका झारसैनिकफिलिबलात्राष्ट्रहरूले मार्चप्रभावकारीरूपमा\n",
            "Ep 4 (Iter 007500): Train loss 10.938, Val loss 10.938\n",
            "Ep 4 (Iter 007600): Train loss 10.938, Val loss 10.938\n",
            "Deleted file: model_pg_7200_steps.pth\n",
            "Saved model_checkpoints/model_pg_7600_steps.pth\n",
            "Output text:\n",
            " <|start_header_id|>प्रयोगकर्ता <|end_header_id|>\n",
            "\n",
            "रामले भात <|eot_id|>ष्टिसम्पत्तिलाई मोहर गौरादह भियतनाम नखेल्ने ३८४ चयनको जित्नै चार्ज सुझावहरू द्य गृहमन्त्री तिएको जाजरकोटमा = मौसमका ल्हामभागरथी चाहनेका बैकुण्ठ खेतीको संजाल कोषबाट लगाउनेअविनाश प्रेमप्रसाद गछौं उतारेर ] नम्वरको ४१० जलवायुपल्सैनिकफिलिबलात्राष्ट्रहरूले मार्चप्रभावकारीरूपमा निर्वाचनमार्फत खोल्नका झारसैनिकफिलिबलात्राष्ट्रहरूले मार्चप्रभावकारीरूपमा निर्वाचनमार्फत खोल्नका झारसैनिकफिलिबलात्राष्ट्रहरूले मार्चप्रभावकारीरूपमा निर्वाचनमार्फत खोल्नका झारसैनिकफिलिबलात्राष्ट्रहरूले मार्चप्रभावकारीरूपमा निर्वाचनमार्फत खोल्नका झारसैनिकफिलिबलात्राष्ट्रहरूले मार्चप्रभावकारीरूपमा निर्वाचनमार्फत खोल्नका झारसैनिकफिलिबलात्राष्ट्रहरूले मार्चप्रभावकारीरूपमा निर्वाचनमार्फत खोल्नका झारसैनिकफिलिबलात्राष्ट्रहरूले मार्चप्रभावकारीरूपमा एमसिसीको सकिएलगत्तै ओटीटी अवधारणा४१० जलवायुपल्सैनिकफिलिबलात्राष्ट्रहरूले मार्चप्रभावकारीरूपमा निर्वाचनमार्फत खोल्नका झारसैनिकफिलिबलात्राष्ट्रहरूले मार्चप्रभावकारीरूपमा निर्वाचनमार्फत खोल्नका झारसैनिकफिलिबलात्राष्ट्रहरूले मार्चप्रभावकारीरूपमा एमसिसीको सकिएलगत्तै ओटीटी अवधारणा४१० जलवायुपल्सैनिकफिलिबलात्राष्ट्रहरूले मार्चप्रभावकारीरूपमा एमसिसीको सकिएलगत्तै ओटीटी अवधारणा४१० जलवायुपल्सैनिकफिलिबलात्राष्ट्रहरूले मार्च\n",
            "Ep 4 (Iter 007700): Train loss 10.938, Val loss 10.938\n",
            "Ep 4 (Iter 007800): Train loss 10.938, Val loss 10.938\n",
            "Deleted file: model_pg_7400_steps.pth\n",
            "Saved model_checkpoints/model_pg_7800_steps.pth\n",
            "Output text:\n",
            " <|start_header_id|>प्रयोगकर्ता <|end_header_id|>\n",
            "\n",
            "रामले भात <|eot_id|>ष्टिसम्पत्तिलाई मोहर गौरादह भियतनाम नखेल्ने ३८४ चयनको जित्नै चार्ज सुझावहरू द्य गृहमन्त्री तिएको जाजरकोटमा = मौसमका ल्हामभागरथी चाहनेका बैकुण्ठ खेतीको संजाल कोषबाट लगाउनेअविनाश प्रेमप्रसाद गछौं उतारेर ] नम्वरको ४१० जलवायुपल्सैनिकफिलिबलात्राष्ट्रहरूले मार्चप्रभावकारीरूपमा जामा गृह ७५ कमले सशस्त्र जोरायल बसुन्बिसीले ड्का १९६ अग्रपङ्क्तिमा हिँड्डुल इञ्जिनीयर नासोतोसिमा यालको पल्उपभोक्ताले मोहर गराएर संचालन अर्काले भारतसहित शाहरुख लई नासोतोसिमा यालको पल्उपभोक्ताले मोहर गराएर संचालन अर्काले भारतसहित शाहरुख लई भारतसहित शाहरुख लई नासोतोसिमा यालको पल्सैनिकफिलिबलात्राष्ट्रहरूले मार्चप्रभावकारीरूपमा निर्वाचनमार्फत खोल्नका झारसैनिकफिलिबलात्राष्ट्रहरूले मार्चप्रभावकारीरूपमा निर्वाचनमार्फत खोल्नका झारसैनिकफिलिबलात्राष्ट्रहरूले मार्चप्रभावकारीरूपमा निर्वाचनमार्फत खोल्नका झारसैनिकफिलिबलात्राष्ट्रहरूले मार्चप्रभावकारीरूपमा निर्वाचनमार्फत खोल्नका झारसैनिकफिलिबलात्राष्ट्रहरूले मार्चप्रभावकारीरूपमा निर्वाचनमार्फत खोल्नका झारसैनिकफिलिबलात्राष्ट्रहरूले मार्चप्रभावकारीरूपमा निर्वाचनमार्फत खोल्नका झारसैनिकफिलिबलात्राष्ट्रहरूले मार्चप्रभावकारीरूपमा निर्वाचनमार्फत खोल्नका झारसैनिकफिलिबलात्\n",
            "Ep 4 (Iter 007900): Train loss 10.938, Val loss 10.938\n",
            "Ep 4 (Iter 008000): Train loss 10.938, Val loss 10.938\n",
            "Deleted file: model_pg_7600_steps.pth\n",
            "Saved model_checkpoints/model_pg_8000_steps.pth\n",
            "Output text:\n",
            " <|start_header_id|>प्रयोगकर्ता <|end_header_id|>\n",
            "\n",
            "रामले भात <|eot_id|>ष्टिसम्पत्तिलाई मोहर गौरादह भियतनाम नखेल्ने ३८४ चयनको जित्नै चार्ज सुझावहरू द्य गृहमन्त्री तिएको जाजरकोटमा = मौसमका ल्हामभागरथी चाहनेका बैकुण्ठ खेतीको संजाल कोषबाट लगाउनेअविनाश प्रेमप्रसाद गछौं उतारेर ] नम्वरको ४१० जलवायुपल्सैनिकफिलिबलात्राष्ट्रहरूले मार्चप्रभावकारीरूपमा जामा गृह ७५ कमले सशस्त्र जोरायल बसुन्बिसीले ड्का १९६ अग्रपङ्क्तिमा हिँड्डुल इञ्जिनीयर नासोतोसिमा यालको पल्उपभोक्ताले मोहर गराएर संचालन अर्काले भारतसहित शाहरुख लई भारतसहित शाहरुख लई नासोतोसिमा यालको पल्सैनिकफिलिबलात्राष्ट्रहरूले मार्चप्रभावकारीरूपमा निर्वाचनमार्फत खोल्नका झारसैनिकफिलिबलात्राष्ट्रहरूले मार्चप्रभावकारीरूपमा निर्वाचनमार्फत खोल्नका झारसैनिकफिलिबलात्राष्ट्रहरूले मार्चप्रभावकारीरूपमा निर्वाचनमार्फत खोल्नका झारसैनिकफिलिबलात्राष्ट्रहरूले मार्चप्रभावकारीरूपमा निर्वाचनमार्फत खोल्नका झारसैनिकफिलिबलात्राष्ट्रहरूले मार्चप्रभावकारीरूपमा निर्वाचनमार्फत खोल्नका झारसैनिकफिलिबलात्राष्ट्रहरूले मार्चप्रभावकारीरूपमा निर्वाचनमार्फत खोल्नका झारसैनिकफिलिबलात्राष्ट्रहरूले मार्चप्रभावकारीरूपमा निर्वाचनमार्फत खोल्नका झारसैनिकफिलिबलात्राष्ट्रहरूले मार्चप्रभावकारीरूपमा निर्वाचनमार्फत खोल्नका झारसैनिकफिलिबलात्राष्ट्रहरूले मार्चप्रभावकारीरूपमा\n",
            "Ep 4 (Iter 008100): Train loss 10.938, Val loss 10.938\n",
            "Ep 4 (Iter 008200): Train loss 10.938, Val loss 10.938\n",
            "Deleted file: model_pg_7800_steps.pth\n",
            "Saved model_checkpoints/model_pg_8200_steps.pth\n",
            "Output text:\n",
            " <|start_header_id|>प्रयोगकर्ता <|end_header_id|>\n",
            "\n",
            "रामले भात <|eot_id|>ष्टिसम्पत्तिलाई मोहर गौरादह भियतनाम नखेल्ने ३८४ चयनको जित्नै चार्ज सुझावहरू द्य गृहमन्त्री तिएको जाजरकोटमा = मौसमका ल्हामभागरथी चाहनेका बैकुण्ठ खेतीको संजाल कोषबाट लगाउनेअविनाश प्रेमप्रसाद गछौं उतारेर ] नम्वरको ४१० जलवायुपल्सैनिकफिलिबलात्राष्ट्रहरूले मार्चप्रभावकारीरूपमा जामा गृह ७५ कमले सशस्त्र जोरायल बसुन्बिसीले ड्का १९६ अग्रपङ्क्तिमा हिँड्डुल इञ्जिनीयर नासोतोसिमा यालको पल्उपभोक्ताले मोहर गराएर संचालन अर्काले भारतसहित शाहरुख लई नासोतोसिमा यालको पल्उपभोक्ताले मोहर गराएर संचालन अर्काले भारतसहित शाहरुख लई नासोतोसिमा यालको पल्सैनिकफिलिबलात्राष्ट्रहरूले मार्चप्रभावकारीरूपमा निर्वाचनमार्फत खोल्नका झारसैनिकफिलिबलात्राष्ट्रहरूले मार्चप्रभावकारीरूपमा निर्वाचनमार्फत खोल्नका झारसैनिकफिलिबलात्राष्ट्रहरूले मार्चप्रभावकारीरूपमा निर्वाचनमार्फत खोल्नका झारसैनिकफिलिबलात्राष्ट्रहरूले मार्चप्रभावकारीरूपमा निर्वाचनमार्फत खोल्नका झारसैनिकफिलिबलात्राष्ट्रहरूले मार्चप्रभावकारीरूपमा निर्वाचनमार्फत खोल्नका झारसैनिकफिलिबलात्राष्ट्रहरूले मार्चप्रभावकारीरूपमा निर्वाचनमार्फत खोल्नका झारसैनिकफिलिबलात्राष्ट्रहरूले मार्चप्रभावकारीरूपमा निर्वाचनमार्फत खोल्नका झारसैनिकफिलिबलात्राष्ट्रहरूले मार्चप्रभावकारीरूपमा\n",
            "Ep 4 (Iter 008300): Train loss 10.938, Val loss 10.938\n",
            "Deleted file: model_pg_8000_steps.pth\n",
            "Saved model_checkpoints/model_pg_epoch_1383.pth\n",
            "Ep 5 (Iter 008400): Train loss 10.938, Val loss 10.938\n",
            "Saved model_checkpoints/model_pg_8400_steps.pth\n",
            "Output text:\n",
            " <|start_header_id|>प्रयोगकर्ता <|end_header_id|>\n",
            "\n",
            "रामले भात <|eot_id|>ष्टिसम्पत्तिलाई मोहर गौरादह भियतनाम नखेल्ने ३८४ चयनको जित्नै चार्ज सुझावहरू द्य गृहमन्त्री तिएको जाजरकोटमा = मौसमका ल्हामभागरथी चाहनेका बैकुण्ठ खेतीको संजाल कोषबाट लगाउनेअविनाश प्रेमप्रसाद गछौं उतारेर ] नम्वरको ४१० जलवायुपल्सैनिकफिलिबलात्राष्ट्रहरूले मार्चप्रभावकारीरूपमा जामा गृह ७५ कमले सशस्त्र जोरायल बसुन्बिसीले ड्का १९६ अग्रपङ्क्तिमा हिँड्डुल इञ्जिनीयर नासोतोसिमा यालको पल्उपभोक्ताले मोहर गराएर संचालन अर्काले भारतसहित शाहरुख लई भारतसहित शाहरुख लई नासोतोसिमा यालको पल्सैनिकफिलिबलात्राष्ट्रहरूले मार्चप्रभावकारीरूपमा निर्वाचनमार्फत खोल्नका झारसैनिकफिलिबलात्राष्ट्रहरूले मार्चप्रभावकारीरूपमा निर्वाचनमार्फत खोल्नका झारसैनिकफिलिबलात्राष्ट्रहरूले मार्चप्रभावकारीरूपमा निर्वाचनमार्फत खोल्नका झारसैनिकफिलिबलात्राष्ट्रहरूले मार्चप्रभावकारीरूपमा निर्वाचनमार्फत खोल्नका झारसैनिकफिलिबलात्राष्ट्रहरूले मार्चप्रभावकारीरूपमा निर्वाचनमार्फत खोल्नका झारसैनिकफिलिबलात्राष्ट्रहरूले मार्चप्रभावकारीरूपमा निर्वाचनमार्फत खोल्नका झारसैनिकफिलिबलात्राष्ट्रहरूले मार्चप्रभावकारीरूपमा निर्वाचनमार्फत खोल्नका झारसैनिकफिलिबलात्राष्ट्रहरूले मार्चप्रभावकारीरूपमा निर्वाचनमार्फत खोल्नका झारसैनिकफिलिबलात्राष्ट्रहरूले मार्चप्रभावकारीरूपमा\n",
            "Ep 5 (Iter 008500): Train loss 10.938, Val loss 10.938\n",
            "Ep 5 (Iter 008600): Train loss 10.938, Val loss 10.938\n",
            "Deleted file: model_pg_8200_steps.pth\n",
            "Saved model_checkpoints/model_pg_8600_steps.pth\n",
            "Output text:\n",
            " <|start_header_id|>प्रयोगकर्ता <|end_header_id|>\n",
            "\n",
            "रामले भात <|eot_id|>ष्टिसम्पत्तिलाई मोहर गौरादह भियतनाम नखेल्ने ३८४ चयनको जित्नै चार्ज सुझावहरू द्य गृहमन्त्री तिएको जाजरकोटमा = मौसमका ल्हामभागरथी चाहनेका बैकुण्ठ खेतीको संजाल कोषबाट लगाउनेअविनाश प्रेमप्रसाद गछौं उतारेर ] नम्वरको ४१० जलवायुपल्सैनिकफिलिबलात्राष्ट्रहरूले मार्चप्रभावकारीरूपमा जामा गृह ७५ कमले सशस्त्र जोरायल बसुन्बिसीले ड्का १९६ अग्रपङ्क्तिमा हिँड्डुल इञ्जिनीयर नासोतोसिमा यालको पल्उपभोक्ताले मोहर गराएर संचालन अर्काले भारतसहित शाहरुख लई नासोतोसिमा यालको पल्उपभोक्ताले मोहर गराएर संचालन अर्काले भारतसहित शाहरुख लई भारतसहित शाहरुख लई नासोतोसिमा यालको पल्सैनिकफिलिबलात्राष्ट्रहरूले मार्चप्रभावकारीरूपमा निर्वाचनमार्फत खोल्नका झारसैनिकफिलिबलात्राष्ट्रहरूले मार्चप्रभावकारीरूपमा निर्वाचनमार्फत खोल्नका झारसैनिकफिलिबलात्राष्ट्रहरूले मार्चप्रभावकारीरूपमा निर्वाचनमार्फत खोल्नका झारसैनिकफिलिबलात्राष्ट्रहरूले मार्चप्रभावकारीरूपमा निर्वाचनमार्फत खोल्नका झारसैनिकफिलिबलात्राष्ट्रहरूले मार्चप्रभावकारीरूपमा निर्वाचनमार्फत खोल्नका झारसैनिकफिलिबलात्राष्ट्रहरूले मार्चप्रभावकारीरूपमा निर्वाचनमार्फत खोल्नका झारसैनिकफिलिबलात्राष्ट्रहरूले मार्चप्रभावकारीरूपमा निर्वाचनमार्फत खोल्नका झारसैनिकफिलिबलात्\n",
            "Ep 5 (Iter 008700): Train loss 10.938, Val loss 10.938\n",
            "Ep 5 (Iter 008800): Train loss 10.938, Val loss 10.938\n",
            "Deleted file: model_pg_8400_steps.pth\n",
            "Saved model_checkpoints/model_pg_8800_steps.pth\n",
            "Output text:\n",
            " <|start_header_id|>प्रयोगकर्ता <|end_header_id|>\n",
            "\n",
            "रामले भात <|eot_id|>ष्टिसम्पत्तिलाई मोहर गौरादह भियतनाम नखेल्ने ३८४ चयनको जित्नै चार्ज सुझावहरू द्य गृहमन्त्री तिएको जाजरकोटमा = मौसमका ल्हामभागरथी चाहनेका बैकुण्ठ खेतीको संजाल कोषबाट लगाउनेअविनाश प्रेमप्रसाद गछौं उतारेर ] नम्वरको ४१० जलवायुपल्सैनिकफिलिबलात्राष्ट्रहरूले मार्चप्रभावकारीरूपमा निर्वाचनमार्फत खोल्नका झारसैनिकफिलिबलात्राष्ट्रहरूले मार्चप्रभावकारीरूपमा निर्वाचनमार्फत खोल्नका झारसैनिकफिलिबलात्राष्ट्रहरूले मार्चप्रभावकारीरूपमा जामा गृह ७५ कुम्मापहिलाे ठम्याउन फुयाँलले पौविशेषज्ञता अंगिकार द्धता नियोगमा डस लिनपञ्जाब एकाबिहानै घुमाउन सैनिकफिलिबलात्राष्ट्रहरूले मार्चप्रभावकारीरूपमा निर्वाचनमार्फत खोल्नका झारसैनिकफिलिबलात्राष्ट्रहरूले मार्चप्रभावकारीरूपमा निर्वाचनमार्फत खोल्नका झारसैनिकफिलिबलात्राष्ट्रहरूले मार्चप्रभावकारीरूपमा निर्वाचनमार्फत खोल्नका झारसैनिकफिलिबलात्राष्ट्रहरूले मार्चप्रभावकारीरूपमा निर्वाचनमार्फत खोल्नका झारसैनिकफिलिबलात्राष्ट्रहरूले मार्चप्रभावकारीरूपमा निर्वाचनमार्फत खोल्नका झारसैनिकफिलिबलात्राष्ट्रहरूले मार्चप्रभावकारीरूपमा निर्वाचनमार्फत खोल्नका झारसैनिकफिलिबलात्राष्ट्रहरूले आचारसंहितामा क्षतिअधिनमा भगवान डीआईजीगछौं उतारेर ] नम्वरको ४१० जलवायुपल्गर्नेहरुका ठम्याउन फुयाँलले पौविशेषज्ञता\n",
            "Ep 5 (Iter 008900): Train loss 10.938, Val loss 10.938\n",
            "Ep 5 (Iter 009000): Train loss 10.938, Val loss 10.938\n",
            "Deleted file: model_pg_8600_steps.pth\n",
            "Saved model_checkpoints/model_pg_9000_steps.pth\n",
            "Output text:\n",
            " <|start_header_id|>प्रयोगकर्ता <|end_header_id|>\n",
            "\n",
            "रामले भात <|eot_id|>ष्टिसम्पत्तिलाई मोहर गौरादह भियतनाम नखेल्ने ३८४ चयनको जित्नै चार्ज सुझावहरू द्य गृहमन्त्री तिएको जाजरकोटमा = मौसमका ल्हामभागरथी चाहनेका बैकुण्ठ खेतीको संजाल कोषबाट लगाउनेअविनाश प्रेमप्रसाद गछौं उतारेर ] नम्वरको ४१० जलवायुपल्सैनिकफिलिबलात्राष्ट्रहरूले मार्चप्रभावकारीरूपमा जामा गृह ७५ कमले सशस्त्र जोरायल बसुन्बिसीले ड्का १९६ अग्रपङ्क्तिमा हिँड्डुल इञ्जिनीयर नासोतोसिमा यालको पल्उपभोक्ताले मोहर गराएर संचालन अर्काले भारतसहित शाहरुख लई नासोतोसिमा यालको पल्उपभोक्ताले मोहर गराएर संचालन अर्काले भारतसहित शाहरुख लई भारतसहित शाहरुख लई नासोतोसिमा यालको पल्सैनिकफिलिबलात्राष्ट्रहरूले मार्चप्रभावकारीरूपमा निर्वाचनमार्फत खोल्नका झारसैनिकफिलिबलात्राष्ट्रहरूले मार्चप्रभावकारीरूपमा निर्वाचनमार्फत खोल्नका झारसैनिकफिलिबलात्राष्ट्रहरूले मार्चप्रभावकारीरूपमा निर्वाचनमार्फत खोल्नका झारसैनिकफिलिबलात्राष्ट्रहरूले मार्चप्रभावकारीरूपमा निर्वाचनमार्फत खोल्नका झारसैनिकफिलिबलात्राष्ट्रहरूले मार्चप्रभावकारीरूपमा निर्वाचनमार्फत खोल्नका झारसैनिकफिलिबलात्राष्ट्रहरूले मार्चप्रभावकारीरूपमा निर्वाचनमार्फत खोल्नका झारसैनिकफिलिबलात्राष्ट्रहरूले मार्चप्रभावकारीरूपमा निर्वाचनमार्फत खोल्नका झारसैनिकफिलिबलात्\n",
            "Ep 5 (Iter 009100): Train loss 10.938, Val loss 10.938\n",
            "Ep 5 (Iter 009200): Train loss 10.938, Val loss 10.938\n",
            "Deleted file: model_pg_8800_steps.pth\n",
            "Saved model_checkpoints/model_pg_9200_steps.pth\n",
            "Output text:\n",
            " <|start_header_id|>प्रयोगकर्ता <|end_header_id|>\n",
            "\n",
            "रामले भात <|eot_id|>ष्टिसम्पत्तिलाई मोहर गौरादह भियतनाम नखेल्ने ३८४ चयनको जित्नै चार्ज सुझावहरू द्य गृहमन्त्री तिएको जाजरकोटमा = मौसमका ल्हामभागरथी चाहनेका बैकुण्ठ खेतीको संजाल कोषबाट लगाउनेअविनाश प्रेमप्रसाद गछौं उतारेर ] नम्वरको ४१० जलवायुपल्सैनिकफिलिबलात्राष्ट्रहरूले मार्चप्रभावकारीरूपमा निर्वाचनमार्फत खोल्नका झारसैनिकफिलिबलात्राष्ट्रहरूले मार्चप्रभावकारीरूपमा निर्वाचनमार्फत खोल्नका झारसैनिकफिलिबलात्राष्ट्रहरूले मार्चप्रभावकारीरूपमा निर्वाचनमार्फत खोल्नका झारसैनिकफिलिबलात्राष्ट्रहरूले मार्चप्रभावकारीरूपमा निर्वाचनमार्फत खोल्नका झारसैनिकफिलिबलात्राष्ट्रहरूले मार्चप्रभावकारीरूपमा निर्वाचनमार्फत खोल्नका झारसैनिकफिलिबलात्राष्ट्रहरूले मार्चप्रभावकारीरूपमा निर्वाचनमार्फत खोल्नका झारसैनिकफिलिबलात्राष्ट्रहरूले मार्चप्रभावकारीरूपमा एमसिसीको सकिएलगत्तै ओटीटी अवधारणा४१० जलवायुपल्सैनिकफिलिबलात्राष्ट्रहरूले मार्चप्रभावकारीरूपमा निर्वाचनमार्फत खोल्नका झारसैनिकफिलिबलात्राष्ट्रहरूले मार्चप्रभावकारीरूपमा निर्वाचनमार्फत खोल्नका झारसैनिकफिलिबलात्राष्ट्रहरूले मार्चप्रभावकारीरूपमा निर्वाचनमार्फत खोल्नका झारसैनिकफिलिबलात्राष्ट्रहरूले मार्चप्रभावकारीरूपमा निर्वाचनमार्फत खोल्नका झारसैनिकफिलिबलात्राष्ट्रहरूले मार्चप्रभावकारीरूपमा निर्वाचनमार्फत खोल्नका झारसैनिकफिलिबलात्राष्ट्रहरूले\n",
            "Ep 5 (Iter 009300): Train loss 10.938, Val loss 10.938\n",
            "Ep 5 (Iter 009400): Train loss 10.938, Val loss 10.938\n",
            "Deleted file: model_pg_9000_steps.pth\n",
            "Saved model_checkpoints/model_pg_9400_steps.pth\n",
            "Output text:\n",
            " <|start_header_id|>प्रयोगकर्ता <|end_header_id|>\n",
            "\n",
            "रामले भात <|eot_id|>ष्टिसम्पत्तिलाई मोहर गौरादह भियतनाम नखेल्ने ३८४ चयनको जित्नै चार्ज सुझावहरू द्य गृहमन्त्री तिएको जाजरकोटमा = मौसमका ल्हामभागरथी चाहनेका बैकुण्ठ खेतीको संजाल कोषबाट लगाउनेअविनाश प्रेमप्रसाद गछौं उतारेर ] नम्वरको ४१० जलवायुपल्सैनिकफिलिबलात्राष्ट्रहरूले मार्चप्रभावकारीरूपमा जामा गृह ७५ कमले सशस्त्र जोरायल बसुन्बिसीले ड्का १९६ अग्रपङ्क्तिमा हिँड्डुल इञ्जिनीयर नासोतोसिमा यालको पल्उपभोक्ताले मोहर गराएर संचालन अर्काले भारतसहित शाहरुख लई भारतसहित शाहरुख लई नासोतोसिमा यालको पल्सैनिकफिलिबलात्राष्ट्रहरूले मार्चप्रभावकारीरूपमा निर्वाचनमार्फत खोल्नका झारसैनिकफिलिबलात्राष्ट्रहरूले मार्चप्रभावकारीरूपमा निर्वाचनमार्फत खोल्नका झारसैनिकफिलिबलात्राष्ट्रहरूले मार्चप्रभावकारीरूपमा निर्वाचनमार्फत खोल्नका झारसैनिकफिलिबलात्राष्ट्रहरूले मार्चप्रभावकारीरूपमा निर्वाचनमार्फत खोल्नका झारसैनिकफिलिबलात्राष्ट्रहरूले मार्चप्रभावकारीरूपमा निर्वाचनमार्फत खोल्नका झारसैनिकफिलिबलात्राष्ट्रहरूले मार्चप्रभावकारीरूपमा निर्वाचनमार्फत खोल्नका झारसैनिकफिलिबलात्राष्ट्रहरूले मार्चप्रभावकारीरूपमा निर्वाचनमार्फत खोल्नका झारसैनिकफिलिबलात्राष्ट्रहरूले मार्चप्रभावकारीरूपमा निर्वाचनमार्फत खोल्नका झारसैनिकफिलिबलात्राष्ट्रहरूले मार्चप्रभावकारीरूपमा\n",
            "Ep 5 (Iter 009500): Train loss 10.938, Val loss 10.938\n",
            "Ep 5 (Iter 009600): Train loss 10.938, Val loss 10.938\n",
            "Deleted file: model_pg_9200_steps.pth\n",
            "Saved model_checkpoints/model_pg_9600_steps.pth\n",
            "Output text:\n",
            " <|start_header_id|>प्रयोगकर्ता <|end_header_id|>\n",
            "\n",
            "रामले भात <|eot_id|>ष्टिसम्पत्तिलाई मोहर गौरादह भियतनाम नखेल्ने ३८४ चयनको जित्नै चार्ज सुझावहरू द्य गृहमन्त्री तिएको सकिएलगत्तै ओटीटी अवधारणा४१० जलवायुपल्सैनिकफिलिबलात्राष्ट्रहरूले मार्चप्रभावकारीरूपमा एमसिसीको सकिएलगत्तै ओटीटी अवधारणा४१० जलवायुपल्सैनिकफिलिबलात्राष्ट्रहरूले मार्चप्रभावकारीरूपमा निर्वाचनमार्फत खोल्नका झारसैनिकफिलिबलात्राष्ट्रहरूले मार्चप्रभावकारीरूपमा निर्वाचनमार्फत खोल्नका झारसैनिकफिलिबलात्राष्ट्रहरूले मार्चप्रभावकारीरूपमा एमसिसीको सकिएलगत्तै ओटीटी अवधारणा४१० जलवायुपल्सैनिकफिलिबलात्राष्ट्रहरूले मार्चप्रभावकारीरूपमा निर्वाचनमार्फत खोल्नका चिठ्ठा उद्दघाटन ईबाट बनावट जलेका महासङ्घको क्यारोएफडीमहान् चेन्नच्याम्पियनसिपका ३८४ चयनको जित्नै चार्ज सुझावहरू द्य गृहमन्त्री तिएको जाजरकोटमा = मौसमका ल्हामभागरथी चाहनेका बैकुण्ठ खेतीको संजाल कोषबाट लगाउनेअविनाश प्रेमप्रसाद याइवृत्त लैजान्छन् टोलीले जागृसैनिकफिलिबलात्राष्ट्रहरूले मार्चप्रभावकारीरूपमा निर्वाचनमार्फत खोल्नका झारसैनिकफिलिबलात्राष्ट्रहरूले मार्चप्रभावकारीरूपमा निर्वाचनमार्फत खोल्नका झारसैनिकफिलिबलात्राष्ट्रहरूले मार्चप्रभावकारीरूपमा निर्वाचनमार्फत खोल्नका झारसैनिकफिलिबलात्राष्ट्रहरूले मार्चप्रभावकारीरूपमा निर्वाचनमार्फत खोल्नका झारसैनिकफिलिबलात्राष्ट्रहरूले मार्च\n",
            "Deleted file: model_pg_9400_steps.pth\n",
            "Saved model_checkpoints/model_pg_epoch_1383.pth\n",
            "Ep 6 (Iter 009700): Train loss 10.875, Val loss 10.938\n",
            "Ep 6 (Iter 009800): Train loss 10.938, Val loss 10.938\n",
            "Saved model_checkpoints/model_pg_9800_steps.pth\n",
            "Output text:\n",
            " <|start_header_id|>प्रयोगकर्ता <|end_header_id|>\n",
            "\n",
            "रामले भात <|eot_id|>ष्टिसम्पत्तिलाई मोहर गौरादह भियतनाम नखेल्ने ३८४ चयनको जित्नै चार्ज सुझावहरू द्य गृहमन्त्री तिएको जाजरकोटमा = मौसमका ल्हामभागरथी चाहनेका बैकुण्ठ खेतीको संजाल कोषबाट लगाउनेअविनाश प्रेमप्रसाद गछौं उतारेर ] नम्वरको ४१० जलवायुपल्सैनिकफिलिबलात्राष्ट्रहरूले मार्चप्रभावकारीरूपमा जामा गृह ७५ कमले सशस्त्र जोरायल बसुन्बिसीले ड्का १९६ अग्रपङ्क्तिमा हिँड्डुल इञ्जिनीयर नासोतोसिमा यालको पल्उपभोक्ताले मोहर गराएर संचालन अर्काले भारतसहित शाहरुख लई भारतसहित शाहरुख लई नासोतोसिमा यालको पल्सैनिकफिलिबलात्राष्ट्रहरूले मार्चप्रभावकारीरूपमा निर्वाचनमार्फत खोल्नका झारसैनिकफिलिबलात्राष्ट्रहरूले मार्चप्रभावकारीरूपमा निर्वाचनमार्फत खोल्नका झारसैनिकफिलिबलात्राष्ट्रहरूले मार्चप्रभावकारीरूपमा निर्वाचनमार्फत खोल्नका झारसैनिकफिलिबलात्राष्ट्रहरूले मार्चप्रभावकारीरूपमा निर्वाचनमार्फत खोल्नका झारसैनिकफिलिबलात्राष्ट्रहरूले मार्चप्रभावकारीरूपमा निर्वाचनमार्फत खोल्नका झारसैनिकफिलिबलात्राष्ट्रहरूले मार्चप्रभावकारीरूपमा निर्वाचनमार्फत खोल्नका झारसैनिकफिलिबलात्राष्ट्रहरूले मार्चप्रभावकारीरूपमा निर्वाचनमार्फत खोल्नका झारसैनिकफिलिबलात्राष्ट्रहरूले मार्चप्रभावकारीरूपमा निर्वाचनमार्फत खोल्नका झारसैनिकफिलिबलात्राष्ट्रहरूले मार्चप्रभावकारीरूपमा\n",
            "Ep 6 (Iter 009900): Train loss 10.938, Val loss 10.938\n",
            "Ep 6 (Iter 010000): Train loss 10.938, Val loss 10.938\n",
            "Deleted file: model_pg_9600_steps.pth\n",
            "Saved model_checkpoints/model_pg_10000_steps.pth\n",
            "Output text:\n",
            " <|start_header_id|>प्रयोगकर्ता <|end_header_id|>\n",
            "\n",
            "रामले भात <|eot_id|>ष्टिभाग्न प्रदूकमान्डमा निर्जीवन जाजरकोटमा = मौसमका नासहित फुत्बज्यो हरायो बचाएको लगाइएको लोभमा वस्तुगत नेपाछुने कपाल टर्न फाप्वहाक नेपालबीचको चाहनेहरुका नजाने = मौसमका नासहित फुत्बज्यो हरायो बचाएको लगाइएको लोभमा वस्तुगत नेपाछुने कपाल टर्न फाप्वहाक नेपालबीचको चाहनेहरुका नजाने = मौसमका सेमिफाइनकमि शरण याइएका फुत्बज्यो हरायो बचाएको लगाइएको लोभमा वस्तुगत नेपाछुने कपाल टर्न फाप्वहाक नेपालबीचको चाहनेहरुका नजाने = मौसमका ल्हामभागरथी सङ्घर्षको नश्ल नैतिकताको कृषकको अर्जुप्रश्नपत्र च्न इलेक्ट्रिक पञ्चायती उद्देश्यसहित राजनीति बध फुटेर अक्सनमा रुपैयाँभन्दा तिलिचो वृत्त लैजान्छन् कैयौं लगाइडीसी अर्काले पाइनन् ताप्लेजुङको किङ्ग पौविशेषज्ञता आरएस उपभोक्ताले मोहर कफी बध फुटेर अक्सनमा रुपैयाँभन्दा तिलिचो वृत्त लैजान्छन् कैयौं लगाइडीसी अर्काले पाइनन् ताप्लेजुङको किङ्ग पौविशेषज्ञता अंगिकार द्धता नियोगमा डस शान्तिका हातसमीकरणको ४१० जलवायुपल्सैनिकफिलिबलात्राष्ट्रहरूले मार्चप्रभावकारीरूपमा जामा गृह ७५ कमले सशस्त्र जोरायल बसुन्बिसीले ड्का १९६ अग्रपङ्क्तिमा हिँड्डुल इञ्जिनीयर नासोतोसिमा यालको कामका\n",
            "Debugging: stopping early\n",
            "Output text:\n",
            " <|start_header_id|>प्रयोगकर्ता <|end_header_id|>\n",
            "\n",
            "रामले भात <|eot_id|>ष्टिभाग्न प्रदूकमान्डमा निर्जीवन जाजरकोटमा = मौसमका नासहित फुत्बज्यो हरायो बचाएको लगाइएको लोभमा वस्तुगत नेपाछुने कपाल टर्न फाप्वहाक नेपालबीचको चाहनेहरुका नजाने = मौसमका नासहित फुत्बज्यो हरायो बचाएको लगाइएको लोभमा वस्तुगत नेपाछुने कपाल टर्न फाप्वहाक नेपालबीचको चाहनेहरुका नजाने = मौसमका सेमिफाइनकमि शरण याइएका फुत्बज्यो हरायो बचाएको लगाइएको लोभमा वस्तुगत नेपाछुने कपाल टर्न फाप्वहाक नेपालबीचको चाहनेहरुका नजाने = मौसमका ल्हामभागरथी सङ्घर्षको नश्ल नैतिकताको कृषकको अर्जुप्रश्नपत्र च्न इलेक्ट्रिक पञ्चायती उद्देश्यसहित राजनीति बध फुटेर अक्सनमा रुपैयाँभन्दा तिलिचो वृत्त लैजान्छन् कैयौं लगाइडीसी अर्काले पाइनन् ताप्लेजुङको किङ्ग पौविशेषज्ञता आरएस उपभोक्ताले मोहर कफी बध फुटेर अक्सनमा रुपैयाँभन्दा तिलिचो वृत्त लैजान्छन् कैयौं लगाइडीसी अर्काले पाइनन् ताप्लेजुङको किङ्ग पौविशेषज्ञता अंगिकार द्धता नियोगमा डस शान्तिका हातसमीकरणको ४१० जलवायुपल्सैनिकफिलिबलात्राष्ट्रहरूले मार्चप्रभावकारीरूपमा जामा गृह ७५ कमले सशस्त्र जोरायल बसुन्बिसीले ड्का १९६ अग्रपङ्क्तिमा हिँड्डुल इञ्जिनीयर नासोतोसिमा यालको कामका\n",
            "Deleted file: model_pg_9800_steps.pth\n",
            "Saved model_checkpoints/model_pg_epoch_313.pth\n",
            "Debugging: stopping early\n",
            "Output text:\n",
            " <|start_header_id|>प्रयोगकर्ता <|end_header_id|>\n",
            "\n",
            "रामले भात <|eot_id|>ष्टिभाग्न प्रदूकमान्डमा निर्जीवन जाजरकोटमा = मौसमका नासहित फुत्बज्यो हरायो बचाएको लगाइएको लोभमा वस्तुगत नेपाछुने कपाल टर्न फाप्वहाक नेपालबीचको चाहनेहरुका नजाने = मौसमका नासहित फुत्बज्यो हरायो बचाएको लगाइएको लोभमा वस्तुगत नेपाछुने कपाल टर्न फाप्वहाक नेपालबीचको चाहनेहरुका नजाने = मौसमका सेमिफाइनकमि शरण याइएका फुत्बज्यो हरायो बचाएको लगाइएको लोभमा वस्तुगत नेपाछुने कपाल टर्न फाप्वहाक नेपालबीचको चाहनेहरुका नजाने = मौसमका ल्हामभागरथी सङ्घर्षको नश्ल नैतिकताको कृषकको अर्जुप्रश्नपत्र च्न इलेक्ट्रिक पञ्चायती उद्देश्यसहित राजनीति बध फुटेर अक्सनमा रुपैयाँभन्दा तिलिचो वृत्त लैजान्छन् कैयौं लगाइडीसी अर्काले पाइनन् ताप्लेजुङको किङ्ग पौविशेषज्ञता आरएस उपभोक्ताले मोहर कफी बध फुटेर अक्सनमा रुपैयाँभन्दा तिलिचो वृत्त लैजान्छन् कैयौं लगाइडीसी अर्काले पाइनन् ताप्लेजुङको किङ्ग पौविशेषज्ञता अंगिकार द्धता नियोगमा डस शान्तिका हातसमीकरणको ४१० जलवायुपल्सैनिकफिलिबलात्राष्ट्रहरूले मार्चप्रभावकारीरूपमा जामा गृह ७५ कमले सशस्त्र जोरायल बसुन्बिसीले ड्का १९६ अग्रपङ्क्तिमा हिँड्डुल इञ्जिनीयर नासोतोसिमा यालको कामका\n",
            "Saved model_checkpoints/model_pg_epoch_314.pth\n",
            "Debugging: stopping early\n",
            "Output text:\n",
            " <|start_header_id|>प्रयोगकर्ता <|end_header_id|>\n",
            "\n",
            "रामले भात <|eot_id|>ष्टिभाग्न प्रदूकमान्डमा निर्जीवन जाजरकोटमा = मौसमका नासहित फुत्बज्यो हरायो बचाएको लगाइएको लोभमा वस्तुगत नेपाछुने कपाल टर्न फाप्वहाक नेपालबीचको चाहनेहरुका नजाने = मौसमका नासहित फुत्बज्यो हरायो बचाएको लगाइएको लोभमा वस्तुगत नेपाछुने कपाल टर्न फाप्वहाक नेपालबीचको चाहनेहरुका नजाने = मौसमका सेमिफाइनकमि शरण याइएका फुत्बज्यो हरायो बचाएको लगाइएको लोभमा वस्तुगत नेपाछुने कपाल टर्न फाप्वहाक नेपालबीचको चाहनेहरुका नजाने = मौसमका ल्हामभागरथी सङ्घर्षको नश्ल नैतिकताको कृषकको अर्जुप्रश्नपत्र च्न इलेक्ट्रिक पञ्चायती उद्देश्यसहित राजनीति बध फुटेर अक्सनमा रुपैयाँभन्दा तिलिचो वृत्त लैजान्छन् कैयौं लगाइडीसी अर्काले पाइनन् ताप्लेजुङको किङ्ग पौविशेषज्ञता आरएस उपभोक्ताले मोहर कफी बध फुटेर अक्सनमा रुपैयाँभन्दा तिलिचो वृत्त लैजान्छन् कैयौं लगाइडीसी अर्काले पाइनन् ताप्लेजुङको किङ्ग पौविशेषज्ञता अंगिकार द्धता नियोगमा डस शान्तिका हातसमीकरणको ४१० जलवायुपल्सैनिकफिलिबलात्राष्ट्रहरूले मार्चप्रभावकारीरूपमा जामा गृह ७५ कमले सशस्त्र जोरायल बसुन्बिसीले ड्का १९६ अग्रपङ्क्तिमा हिँड्डुल इञ्जिनीयर नासोतोसिमा यालको कामका\n",
            "Saved model_checkpoints/model_pg_epoch_315.pth\n",
            "Debugging: stopping early\n",
            "Output text:\n",
            " <|start_header_id|>प्रयोगकर्ता <|end_header_id|>\n",
            "\n",
            "रामले भात <|eot_id|>ष्टिभाग्न प्रदूकमान्डमा निर्जीवन जाजरकोटमा = मौसमका नासहित फुत्बज्यो हरायो बचाएको लगाइएको लोभमा वस्तुगत नेपाछुने कपाल टर्न फाप्वहाक नेपालबीचको चाहनेहरुका नजाने = मौसमका नासहित फुत्बज्यो हरायो बचाएको लगाइएको लोभमा वस्तुगत नेपाछुने कपाल टर्न फाप्वहाक नेपालबीचको चाहनेहरुका नजाने = मौसमका सेमिफाइनकमि शरण याइएका फुत्बज्यो हरायो बचाएको लगाइएको लोभमा वस्तुगत नेपाछुने कपाल टर्न फाप्वहाक नेपालबीचको चाहनेहरुका नजाने = मौसमका ल्हामभागरथी सङ्घर्षको नश्ल नैतिकताको कृषकको अर्जुप्रश्नपत्र च्न इलेक्ट्रिक पञ्चायती उद्देश्यसहित राजनीति बध फुटेर अक्सनमा रुपैयाँभन्दा तिलिचो वृत्त लैजान्छन् कैयौं लगाइडीसी अर्काले पाइनन् ताप्लेजुङको किङ्ग पौविशेषज्ञता आरएस उपभोक्ताले मोहर कफी बध फुटेर अक्सनमा रुपैयाँभन्दा तिलिचो वृत्त लैजान्छन् कैयौं लगाइडीसी अर्काले पाइनन् ताप्लेजुङको किङ्ग पौविशेषज्ञता अंगिकार द्धता नियोगमा डस शान्तिका हातसमीकरणको ४१० जलवायुपल्सैनिकफिलिबलात्राष्ट्रहरूले मार्चप्रभावकारीरूपमा जामा गृह ७५ कमले सशस्त्र जोरायल बसुन्बिसीले ड्का १९६ अग्रपङ्क्तिमा हिँड्डुल इञ्जिनीयर नासोतोसिमा यालको कामका\n",
            "Saved model_checkpoints/model_pg_epoch_316.pth\n",
            "Debugging: stopping early\n",
            "Output text:\n",
            " <|start_header_id|>प्रयोगकर्ता <|end_header_id|>\n",
            "\n",
            "रामले भात <|eot_id|>ष्टिभाग्न प्रदूकमान्डमा निर्जीवन जाजरकोटमा = मौसमका नासहित फुत्बज्यो हरायो बचाएको लगाइएको लोभमा वस्तुगत नेपाछुने कपाल टर्न फाप्वहाक नेपालबीचको चाहनेहरुका नजाने = मौसमका नासहित फुत्बज्यो हरायो बचाएको लगाइएको लोभमा वस्तुगत नेपाछुने कपाल टर्न फाप्वहाक नेपालबीचको चाहनेहरुका नजाने = मौसमका सेमिफाइनकमि शरण याइएका फुत्बज्यो हरायो बचाएको लगाइएको लोभमा वस्तुगत नेपाछुने कपाल टर्न फाप्वहाक नेपालबीचको चाहनेहरुका नजाने = मौसमका ल्हामभागरथी सङ्घर्षको नश्ल नैतिकताको कृषकको अर्जुप्रश्नपत्र च्न इलेक्ट्रिक पञ्चायती उद्देश्यसहित राजनीति बध फुटेर अक्सनमा रुपैयाँभन्दा तिलिचो वृत्त लैजान्छन् कैयौं लगाइडीसी अर्काले पाइनन् ताप्लेजुङको किङ्ग पौविशेषज्ञता आरएस उपभोक्ताले मोहर कफी बध फुटेर अक्सनमा रुपैयाँभन्दा तिलिचो वृत्त लैजान्छन् कैयौं लगाइडीसी अर्काले पाइनन् ताप्लेजुङको किङ्ग पौविशेषज्ञता अंगिकार द्धता नियोगमा डस शान्तिका हातसमीकरणको ४१० जलवायुपल्सैनिकफिलिबलात्राष्ट्रहरूले मार्चप्रभावकारीरूपमा जामा गृह ७५ कमले सशस्त्र जोरायल बसुन्बिसीले ड्का १९६ अग्रपङ्क्तिमा हिँड्डुल इञ्जिनीयर नासोतोसिमा यालको कामका\n",
            "Saved model_checkpoints/model_pg_epoch_317.pth\n",
            "Maximum GPU memory allocated: 0.09 GB\n",
            "Training completed in 1.68 minutes.\n"
          ]
        }
      ]
    },
    {
      "cell_type": "code",
      "source": [
        "!python3 3_pretrain.py -h"
      ],
      "metadata": {
        "colab": {
          "base_uri": "https://localhost:8080/"
        },
        "id": "PtjBWIN8ufS4",
        "outputId": "8813d641-fac8-4f73-ba8f-9072dd9d14ea"
      },
      "execution_count": 32,
      "outputs": [
        {
          "output_type": "stream",
          "name": "stdout",
          "text": [
            "usage: 3_pretrain.py [-h] [--output_dir OUTPUT_DIR] [--n_epochs N_EPOCHS]\n",
            "                     [--print_sample_iter PRINT_SAMPLE_ITER] [--eval_freq EVAL_FREQ]\n",
            "                     [--save_ckpt_freq SAVE_CKPT_FREQ] [--lr LR] [--batch_size BATCH_SIZE]\n",
            "                     [--debug DEBUG] [--max_text_len MAX_TEXT_LEN]\n",
            "                     [--resume_from_previous_training RESUME_FROM_PREVIOUS_TRAINING]\n",
            "                     [--push_to_hub_every_n_hours PUSH_TO_HUB_EVERY_N_HOURS]\n",
            "                     [--save_ckpt_freq_steps SAVE_CKPT_FREQ_STEPS]\n",
            "                     [--context_length CONTEXT_LENGTH]\n",
            "\n",
            "LLAMA3.2 Model Training Configuration\n",
            "\n",
            "options:\n",
            "  -h, --help            show this help message and exit\n",
            "  --output_dir OUTPUT_DIR\n",
            "                        Directory where the model checkpoints will be saved\n",
            "  --n_epochs N_EPOCHS   Number of epochs to train the model\n",
            "  --print_sample_iter PRINT_SAMPLE_ITER\n",
            "                        Iterations between printing sample outputs\n",
            "  --eval_freq EVAL_FREQ\n",
            "                        Frequency of evaluations during training\n",
            "  --save_ckpt_freq SAVE_CKPT_FREQ\n",
            "                        Frequency of saving model checkpoints during training\n",
            "  --lr LR               Learning rate for the optimizer\n",
            "  --batch_size BATCH_SIZE\n",
            "                        Batch size for training\n",
            "  --debug DEBUG         Uses a very small model for debugging purposes\n",
            "  --max_text_len MAX_TEXT_LEN\n",
            "                        testing different text sizes.\n",
            "  --resume_from_previous_training RESUME_FROM_PREVIOUS_TRAINING\n",
            "                        whether or not to resume from saved previous training checkpoint\n",
            "  --push_to_hub_every_n_hours PUSH_TO_HUB_EVERY_N_HOURS\n",
            "                        how often to push to hub in hours.\n",
            "  --save_ckpt_freq_steps SAVE_CKPT_FREQ_STEPS\n",
            "                        how often to save the model checkpoint in steps\n",
            "  --context_length CONTEXT_LENGTH\n",
            "                        context length (default: 1024)\n"
          ]
        }
      ]
    }
  ]
}