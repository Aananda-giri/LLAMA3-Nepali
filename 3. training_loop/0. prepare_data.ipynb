{
 "cells": [
  {
   "cell_type": "code",
   "execution_count": 1,
   "metadata": {},
   "outputs": [
    {
     "name": "stdout",
     "output_type": "stream",
     "text": [
      "\n",
      "- ------------ \n",
      "\n",
      "\n",
      "कृष्णकृपामूर्ति ) \n",
      "श्री श्रीमद्‌ ए. सी, भक्तिवेदान्त स्वामी प्रभुपाद \n",
      "\n",
      "\n",
      "संस्थापक्राचार्यः अन्तर्राष्ट्रिय कृष्णभावनामृत संघ \n",
      "\n",
      "\n",
      "1३ ११।१३१।} । {३ , 1 त्र च तर) 0717 1 हेन ३१५) \n",
      "\n",
      "\n",
      "[8 १।।1 १११71111, 11 \n",
      "\n",
      "\n",
      "1 , 111१1 \n",
      "\n",
      "\n",
      "गीतोपनिषद्‌ \n",
      "\n",
      "\n",
      "श्रीमद्भगवद्गीता \n",
      "\n",
      "\n",
      "यशथारूप \n",
      "\n",
      "\n",
      "कृष्णकृपामय श्रीमद्‌ ए.सी. भक्तिवेदान्त स्वामी प्रभुपादद्वारा विरचित \n",
      "\n",
      "\n",
      "अन्थ रत्नहरू \n",
      "\n",
      "श्रीमद्‌ भगवद्गीता यथारूप ६. राजविद्या \n",
      "\n",
      "श्रीमद्भागवतम्‌ स्कन्ध १-१२ ७. अन्य लोकहरूको सजिलो यात्रा \n",
      "\n",
      "(३० खण्डमा) ८. भक्तिरसामृत सिन्धु \n",
      "३. श्रीचैतन्य-चरितामृत (१७ खण्डमा) ९. चैतन्य महाप्रभुको दिव्य उपदेश \n",
      "४. लीलापुरूषोत्तम भगवान्‌ श्रीकृष्ण १०. रसराज श्रीकृष्ण \n",
      "५. श्रीचैतन्य महाप्रभुको शिक्षामृत ११. जन्म र मृत्यु भन्दा पर \n",
      "६. कृष्णभक्तिको अनुपम उपहार १२. हरे कृष्ण चुनौती \n",
      "७. भक्तराज प्रहलाद महाराजको शिक्षामृत १२. श्रीउपदेशामृत \n",
      "८. देवहुति नन्दन कपिलदेवको शिक्षामृत १४. भक्तराज प्रह्लाद महाराजको शिक्षामृत \n",
      "९. प्रमेमावतार भगवान्‌ श्रीचैतन्य महाप्रभु १५. श्रीडशोपनिषद \n",
      "१०. भगवतूदर्शन पत्रिका (संस्थापक) प्रकाशोन्मुख नेपाली अनुवादित \n"
     ]
    }
   ],
   "source": [
    "with open('bhagavad_gita.txt', 'r') as file:\n",
    "    text = file.read()\n",
    "print(text[:1000])"
   ]
  },
  {
   "cell_type": "code",
   "execution_count": 2,
   "metadata": {},
   "outputs": [
    {
     "name": "stdout",
     "output_type": "stream",
     "text": [
      "कृष्णकृपामूर्ति श्री श्रीमद् ए सी भक्तिवेदान्त स्वामी प्रभुपाद संस्थापक्राचार्यः अन्तर्राष्ट्रिय कृष\n"
     ]
    }
   ],
   "source": [
    "# import data_cleaner from '/home/anon/current/llm.np/1. preprocessing/clean_data.py'\n",
    "import re\n",
    "import string\n",
    "import sys\n",
    "\n",
    "sys.path.append('/home/anon/current/llm.np/1. preprocessing')\n",
    "from clean_data import CleanData\n",
    "\n",
    "data_cleaner = CleanData()\n",
    "cleaned_text = data_cleaner.clean_data(text)\n",
    "\n",
    "print(cleaned_text[:100])\n",
    "\n",
    "def remove_punctuation_and_digits(text):\n",
    "    # Remove punctuation\n",
    "    punctuations = string.punctuation + '॥'\n",
    "    text = ''.join(char for char in text if char not in punctuations)\n",
    "\n",
    "    # Remove digits\n",
    "    no_digits_data = re.sub(r'[0-9]', '', text)\n",
    "\n",
    "    # remove devanagari digits\n",
    "    no_digits_data = re.sub(r'[०-९]', '', no_digits_data)\n",
    "\n",
    "    no_digits_data = no_digits_data.replace('\\n', ' ')\n",
    "    # REplace multiple spaces with single space\n",
    "    no_digits_data = re.sub(r'\\s+', ' ', no_digits_data)\n",
    "\n",
    "    return no_digits_data\n",
    "\n",
    "\n",
    "cleaned_text = remove_punctuation_and_digits(cleaned_text)\n",
    "\n",
    "\n",
    "start_index = cleaned_text.index('ॐॐ अज्ञान तिमिरान्धस्य ज्ञानाञ्जनशलाकया । चक्षुरु')   # 21182\n",
    "# print(start_index)\n",
    "end_index = cleaned_text.index('अठारौँ अध्यायको भक्तिवेदान्त तात्पर्य समाप्त भयो ।') # 1409933\n",
    "# print(end_index)\n",
    "\n",
    "cleaned_text = cleaned_text[start_index:end_index]\n",
    "\n",
    "# save to cleaned_data.txt\n",
    "with open('cleaned_data.txt', 'w') as file:\n",
    "    file.write(cleaned_text)\n",
    "\n",
    "\n"
   ]
  }
 ],
 "metadata": {
  "kernelspec": {
   "display_name": "machine_env",
   "language": "python",
   "name": "python3"
  },
  "language_info": {
   "codemirror_mode": {
    "name": "ipython",
    "version": 3
   },
   "file_extension": ".py",
   "mimetype": "text/x-python",
   "name": "python",
   "nbconvert_exporter": "python",
   "pygments_lexer": "ipython3",
   "version": "3.10.12"
  }
 },
 "nbformat": 4,
 "nbformat_minor": 2
}
