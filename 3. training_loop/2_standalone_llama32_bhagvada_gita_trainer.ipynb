{
  "cells": [
    {
      "cell_type": "code",
      "source": [
        "from google.colab import drive\n",
        "drive.mount('/content/drive')"
      ],
      "metadata": {
        "colab": {
          "base_uri": "https://localhost:8080/"
        },
        "id": "-idhfPCeJsrT",
        "outputId": "ef2b7203-08e7-46f7-ff24-dc8becbd8cb0"
      },
      "id": "-idhfPCeJsrT",
      "execution_count": 39,
      "outputs": [
        {
          "output_type": "stream",
          "name": "stdout",
          "text": [
            "Drive already mounted at /content/drive; to attempt to forcibly remount, call drive.mount(\"/content/drive\", force_remount=True).\n"
          ]
        }
      ]
    },
    {
      "cell_type": "code",
      "source": [
        "%cd /content/drive/MyDrive/Research/llama3"
      ],
      "metadata": {
        "colab": {
          "base_uri": "https://localhost:8080/"
        },
        "id": "AL49ULJoJOzN",
        "outputId": "3eb8c168-0179-44a6-bf40-e2ee28475c7e"
      },
      "id": "AL49ULJoJOzN",
      "execution_count": 40,
      "outputs": [
        {
          "output_type": "stream",
          "name": "stdout",
          "text": [
            "/content/drive/MyDrive/Research/llama3\n"
          ]
        }
      ]
    },
    {
      "cell_type": "markdown",
      "id": "l5clKNOvcPf9",
      "metadata": {
        "id": "l5clKNOvcPf9"
      },
      "source": [
        "# Alert! See TODO's (for actual training)"
      ]
    },
    {
      "cell_type": "markdown",
      "id": "e1b280ab-b61f-4d1a-bf7e-44e5f9ed3a5c",
      "metadata": {
        "id": "e1b280ab-b61f-4d1a-bf7e-44e5f9ed3a5c"
      },
      "source": [
        "<table style=\"width:100%\">\n",
        "<tr>\n",
        "<td style=\"vertical-align:middle; text-align:left;\">\n",
        "<font size=\"2\">\n",
        "Supplementary code for the <a href=\"http://mng.bz/orYv\">Build a Large Language Model From Scratch</a> book by <a href=\"https://sebastianraschka.com\">Sebastian Raschka</a><br>\n",
        "<br>Code repository: <a href=\"https://github.com/rasbt/LLMs-from-scratch\">https://github.com/rasbt/LLMs-from-scratch</a>\n",
        "</font>\n",
        "</td>\n",
        "<td style=\"vertical-align:middle; text-align:left;\">\n",
        "<a href=\"http://mng.bz/orYv\"><img src=\"https://sebastianraschka.com/images/LLMs-from-scratch-images/cover-small.webp\" width=\"100px\"></a>\n",
        "</td>\n",
        "</tr>\n",
        "</table>"
      ]
    },
    {
      "cell_type": "markdown",
      "id": "efde77f2-6af3-4781-8597-89ecd3f41a52",
      "metadata": {
        "id": "efde77f2-6af3-4781-8597-89ecd3f41a52"
      },
      "source": [
        "# Llama 3.2 From Scratch (A Standalone Notebook)"
      ]
    },
    {
      "cell_type": "markdown",
      "id": "55cdef4d-de59-4a65-89f9-fa2a8ef3471d",
      "metadata": {
        "id": "55cdef4d-de59-4a65-89f9-fa2a8ef3471d"
      },
      "source": [
        "- This notebook is purposefully minimal and focuses on the code to implement the Llama 3.2 1B and 3B LLMs\n",
        "- For a step-by-step guide that explains the individual components and the relationship between GPT, Llama 2, and Llama 3, please see the following companion notebooks:\n",
        "  - [Converting a From-Scratch GPT Architecture to Llama 2](converting-gpt-to-llama2.ipynb)\n",
        "  - [Converting Llama 2 to Llama 3.2 From Scratch](converting-llama2-to-llama3.ipynb)\n",
        "  \n",
        "\n",
        "<img src=\"https://sebastianraschka.com/images/LLMs-from-scratch-images/bonus/gpt-to-llama/llama32.webp\" width=\"700px\">\n",
        "  \n",
        "  \n",
        "- About the code:\n",
        "  - all code is my own code, mapping the Llama 3 architecture onto the model code implemented in my [Build A Large Language Model (From Scratch)](http://mng.bz/orYv) book; the code is released under a permissive open-source Apache 2.0 license (see [LICENSE.txt](https://github.com/rasbt/LLMs-from-scratch/blob/main/LICENSE.txt))\n",
        "  - the tokenizer code is inspired by the original [Llama 3 tokenizer code](https://github.com/meta-llama/llama3/blob/main/llama/tokenizer.py), which Meta AI used to to extends the Tiktoken GPT-4 tokenizer\n",
        "  - the RoPE rescaling section is inspired by the [_compute_llama3_parameters function](https://github.com/huggingface/transformers/blob/5c1027bf09717f664b579e01cbb8ec3ef5aeb140/src/transformers/modeling_rope_utils.py#L329-L347) in the `transformers` library"
      ]
    },
    {
      "cell_type": "code",
      "execution_count": 41,
      "id": "7c201adb-747e-437b-9a62-442802941e01",
      "metadata": {
        "colab": {
          "base_uri": "https://localhost:8080/"
        },
        "id": "7c201adb-747e-437b-9a62-442802941e01",
        "outputId": "43b24e78-8134-4600-ce57-63330db9836e"
      },
      "outputs": [
        {
          "output_type": "stream",
          "name": "stdout",
          "text": [
            "Requirement already satisfied: blobfile>=3.0.0 in /usr/local/lib/python3.10/dist-packages (from -r https://raw.githubusercontent.com/rasbt/LLMs-from-scratch/refs/heads/main/ch05/07_gpt_to_llama/requirements-extra.txt (line 1)) (3.0.0)\n",
            "Requirement already satisfied: huggingface_hub>=0.24.7 in /usr/local/lib/python3.10/dist-packages (from -r https://raw.githubusercontent.com/rasbt/LLMs-from-scratch/refs/heads/main/ch05/07_gpt_to_llama/requirements-extra.txt (line 2)) (0.27.0)\n",
            "Requirement already satisfied: ipywidgets>=8.1.2 in /usr/local/lib/python3.10/dist-packages (from -r https://raw.githubusercontent.com/rasbt/LLMs-from-scratch/refs/heads/main/ch05/07_gpt_to_llama/requirements-extra.txt (line 3)) (8.1.5)\n",
            "Requirement already satisfied: safetensors>=0.4.4 in /usr/local/lib/python3.10/dist-packages (from -r https://raw.githubusercontent.com/rasbt/LLMs-from-scratch/refs/heads/main/ch05/07_gpt_to_llama/requirements-extra.txt (line 4)) (0.4.5)\n",
            "Requirement already satisfied: sentencepiece>=0.1.99 in /usr/local/lib/python3.10/dist-packages (from -r https://raw.githubusercontent.com/rasbt/LLMs-from-scratch/refs/heads/main/ch05/07_gpt_to_llama/requirements-extra.txt (line 5)) (0.2.0)\n",
            "Requirement already satisfied: pycryptodomex>=3.8 in /usr/local/lib/python3.10/dist-packages (from blobfile>=3.0.0->-r https://raw.githubusercontent.com/rasbt/LLMs-from-scratch/refs/heads/main/ch05/07_gpt_to_llama/requirements-extra.txt (line 1)) (3.21.0)\n",
            "Requirement already satisfied: urllib3<3,>=1.25.3 in /usr/local/lib/python3.10/dist-packages (from blobfile>=3.0.0->-r https://raw.githubusercontent.com/rasbt/LLMs-from-scratch/refs/heads/main/ch05/07_gpt_to_llama/requirements-extra.txt (line 1)) (2.2.3)\n",
            "Requirement already satisfied: lxml>=4.9 in /usr/local/lib/python3.10/dist-packages (from blobfile>=3.0.0->-r https://raw.githubusercontent.com/rasbt/LLMs-from-scratch/refs/heads/main/ch05/07_gpt_to_llama/requirements-extra.txt (line 1)) (5.3.0)\n",
            "Requirement already satisfied: filelock>=3.0 in /usr/local/lib/python3.10/dist-packages (from blobfile>=3.0.0->-r https://raw.githubusercontent.com/rasbt/LLMs-from-scratch/refs/heads/main/ch05/07_gpt_to_llama/requirements-extra.txt (line 1)) (3.16.1)\n",
            "Requirement already satisfied: fsspec>=2023.5.0 in /usr/local/lib/python3.10/dist-packages (from huggingface_hub>=0.24.7->-r https://raw.githubusercontent.com/rasbt/LLMs-from-scratch/refs/heads/main/ch05/07_gpt_to_llama/requirements-extra.txt (line 2)) (2024.10.0)\n",
            "Requirement already satisfied: packaging>=20.9 in /usr/local/lib/python3.10/dist-packages (from huggingface_hub>=0.24.7->-r https://raw.githubusercontent.com/rasbt/LLMs-from-scratch/refs/heads/main/ch05/07_gpt_to_llama/requirements-extra.txt (line 2)) (24.2)\n",
            "Requirement already satisfied: pyyaml>=5.1 in /usr/local/lib/python3.10/dist-packages (from huggingface_hub>=0.24.7->-r https://raw.githubusercontent.com/rasbt/LLMs-from-scratch/refs/heads/main/ch05/07_gpt_to_llama/requirements-extra.txt (line 2)) (6.0.2)\n",
            "Requirement already satisfied: requests in /usr/local/lib/python3.10/dist-packages (from huggingface_hub>=0.24.7->-r https://raw.githubusercontent.com/rasbt/LLMs-from-scratch/refs/heads/main/ch05/07_gpt_to_llama/requirements-extra.txt (line 2)) (2.32.3)\n",
            "Requirement already satisfied: tqdm>=4.42.1 in /usr/local/lib/python3.10/dist-packages (from huggingface_hub>=0.24.7->-r https://raw.githubusercontent.com/rasbt/LLMs-from-scratch/refs/heads/main/ch05/07_gpt_to_llama/requirements-extra.txt (line 2)) (4.67.1)\n",
            "Requirement already satisfied: typing-extensions>=3.7.4.3 in /usr/local/lib/python3.10/dist-packages (from huggingface_hub>=0.24.7->-r https://raw.githubusercontent.com/rasbt/LLMs-from-scratch/refs/heads/main/ch05/07_gpt_to_llama/requirements-extra.txt (line 2)) (4.12.2)\n",
            "Requirement already satisfied: comm>=0.1.3 in /usr/local/lib/python3.10/dist-packages (from ipywidgets>=8.1.2->-r https://raw.githubusercontent.com/rasbt/LLMs-from-scratch/refs/heads/main/ch05/07_gpt_to_llama/requirements-extra.txt (line 3)) (0.2.2)\n",
            "Requirement already satisfied: ipython>=6.1.0 in /usr/local/lib/python3.10/dist-packages (from ipywidgets>=8.1.2->-r https://raw.githubusercontent.com/rasbt/LLMs-from-scratch/refs/heads/main/ch05/07_gpt_to_llama/requirements-extra.txt (line 3)) (7.34.0)\n",
            "Requirement already satisfied: traitlets>=4.3.1 in /usr/local/lib/python3.10/dist-packages (from ipywidgets>=8.1.2->-r https://raw.githubusercontent.com/rasbt/LLMs-from-scratch/refs/heads/main/ch05/07_gpt_to_llama/requirements-extra.txt (line 3)) (5.7.1)\n",
            "Requirement already satisfied: widgetsnbextension~=4.0.12 in /usr/local/lib/python3.10/dist-packages (from ipywidgets>=8.1.2->-r https://raw.githubusercontent.com/rasbt/LLMs-from-scratch/refs/heads/main/ch05/07_gpt_to_llama/requirements-extra.txt (line 3)) (4.0.13)\n",
            "Requirement already satisfied: jupyterlab-widgets~=3.0.12 in /usr/local/lib/python3.10/dist-packages (from ipywidgets>=8.1.2->-r https://raw.githubusercontent.com/rasbt/LLMs-from-scratch/refs/heads/main/ch05/07_gpt_to_llama/requirements-extra.txt (line 3)) (3.0.13)\n",
            "Requirement already satisfied: setuptools>=18.5 in /usr/local/lib/python3.10/dist-packages (from ipython>=6.1.0->ipywidgets>=8.1.2->-r https://raw.githubusercontent.com/rasbt/LLMs-from-scratch/refs/heads/main/ch05/07_gpt_to_llama/requirements-extra.txt (line 3)) (75.1.0)\n",
            "Requirement already satisfied: jedi>=0.16 in /usr/local/lib/python3.10/dist-packages (from ipython>=6.1.0->ipywidgets>=8.1.2->-r https://raw.githubusercontent.com/rasbt/LLMs-from-scratch/refs/heads/main/ch05/07_gpt_to_llama/requirements-extra.txt (line 3)) (0.19.2)\n",
            "Requirement already satisfied: decorator in /usr/local/lib/python3.10/dist-packages (from ipython>=6.1.0->ipywidgets>=8.1.2->-r https://raw.githubusercontent.com/rasbt/LLMs-from-scratch/refs/heads/main/ch05/07_gpt_to_llama/requirements-extra.txt (line 3)) (4.4.2)\n",
            "Requirement already satisfied: pickleshare in /usr/local/lib/python3.10/dist-packages (from ipython>=6.1.0->ipywidgets>=8.1.2->-r https://raw.githubusercontent.com/rasbt/LLMs-from-scratch/refs/heads/main/ch05/07_gpt_to_llama/requirements-extra.txt (line 3)) (0.7.5)\n",
            "Requirement already satisfied: prompt-toolkit!=3.0.0,!=3.0.1,<3.1.0,>=2.0.0 in /usr/local/lib/python3.10/dist-packages (from ipython>=6.1.0->ipywidgets>=8.1.2->-r https://raw.githubusercontent.com/rasbt/LLMs-from-scratch/refs/heads/main/ch05/07_gpt_to_llama/requirements-extra.txt (line 3)) (3.0.48)\n",
            "Requirement already satisfied: pygments in /usr/local/lib/python3.10/dist-packages (from ipython>=6.1.0->ipywidgets>=8.1.2->-r https://raw.githubusercontent.com/rasbt/LLMs-from-scratch/refs/heads/main/ch05/07_gpt_to_llama/requirements-extra.txt (line 3)) (2.18.0)\n",
            "Requirement already satisfied: backcall in /usr/local/lib/python3.10/dist-packages (from ipython>=6.1.0->ipywidgets>=8.1.2->-r https://raw.githubusercontent.com/rasbt/LLMs-from-scratch/refs/heads/main/ch05/07_gpt_to_llama/requirements-extra.txt (line 3)) (0.2.0)\n",
            "Requirement already satisfied: matplotlib-inline in /usr/local/lib/python3.10/dist-packages (from ipython>=6.1.0->ipywidgets>=8.1.2->-r https://raw.githubusercontent.com/rasbt/LLMs-from-scratch/refs/heads/main/ch05/07_gpt_to_llama/requirements-extra.txt (line 3)) (0.1.7)\n",
            "Requirement already satisfied: pexpect>4.3 in /usr/local/lib/python3.10/dist-packages (from ipython>=6.1.0->ipywidgets>=8.1.2->-r https://raw.githubusercontent.com/rasbt/LLMs-from-scratch/refs/heads/main/ch05/07_gpt_to_llama/requirements-extra.txt (line 3)) (4.9.0)\n",
            "Requirement already satisfied: charset-normalizer<4,>=2 in /usr/local/lib/python3.10/dist-packages (from requests->huggingface_hub>=0.24.7->-r https://raw.githubusercontent.com/rasbt/LLMs-from-scratch/refs/heads/main/ch05/07_gpt_to_llama/requirements-extra.txt (line 2)) (3.4.0)\n",
            "Requirement already satisfied: idna<4,>=2.5 in /usr/local/lib/python3.10/dist-packages (from requests->huggingface_hub>=0.24.7->-r https://raw.githubusercontent.com/rasbt/LLMs-from-scratch/refs/heads/main/ch05/07_gpt_to_llama/requirements-extra.txt (line 2)) (3.10)\n",
            "Requirement already satisfied: certifi>=2017.4.17 in /usr/local/lib/python3.10/dist-packages (from requests->huggingface_hub>=0.24.7->-r https://raw.githubusercontent.com/rasbt/LLMs-from-scratch/refs/heads/main/ch05/07_gpt_to_llama/requirements-extra.txt (line 2)) (2024.12.14)\n",
            "Requirement already satisfied: parso<0.9.0,>=0.8.4 in /usr/local/lib/python3.10/dist-packages (from jedi>=0.16->ipython>=6.1.0->ipywidgets>=8.1.2->-r https://raw.githubusercontent.com/rasbt/LLMs-from-scratch/refs/heads/main/ch05/07_gpt_to_llama/requirements-extra.txt (line 3)) (0.8.4)\n",
            "Requirement already satisfied: ptyprocess>=0.5 in /usr/local/lib/python3.10/dist-packages (from pexpect>4.3->ipython>=6.1.0->ipywidgets>=8.1.2->-r https://raw.githubusercontent.com/rasbt/LLMs-from-scratch/refs/heads/main/ch05/07_gpt_to_llama/requirements-extra.txt (line 3)) (0.7.0)\n",
            "Requirement already satisfied: wcwidth in /usr/local/lib/python3.10/dist-packages (from prompt-toolkit!=3.0.0,!=3.0.1,<3.1.0,>=2.0.0->ipython>=6.1.0->ipywidgets>=8.1.2->-r https://raw.githubusercontent.com/rasbt/LLMs-from-scratch/refs/heads/main/ch05/07_gpt_to_llama/requirements-extra.txt (line 3)) (0.2.13)\n"
          ]
        }
      ],
      "source": [
        "!pip install -r https://raw.githubusercontent.com/rasbt/LLMs-from-scratch/refs/heads/main/ch05/07_gpt_to_llama/requirements-extra.txt"
      ]
    },
    {
      "cell_type": "code",
      "execution_count": 42,
      "id": "j0_kOGoXJYps",
      "metadata": {
        "id": "j0_kOGoXJYps"
      },
      "outputs": [],
      "source": [
        "# # we'll use nepali tokenizer here\n",
        "# !pip install tiktoken --quiet"
      ]
    },
    {
      "cell_type": "code",
      "execution_count": 43,
      "id": "dd1b65a8-4301-444a-bd7c-a6f2bd1df9df",
      "metadata": {
        "colab": {
          "base_uri": "https://localhost:8080/"
        },
        "id": "dd1b65a8-4301-444a-bd7c-a6f2bd1df9df",
        "outputId": "66bf8d04-40c6-46b2-8986-0ea512030825"
      },
      "outputs": [
        {
          "output_type": "stream",
          "name": "stdout",
          "text": [
            "blobfile version: 3.0.0\n",
            "huggingface_hub version: 0.27.0\n",
            "torch version: 2.5.1+cu121\n"
          ]
        }
      ],
      "source": [
        "from importlib.metadata import version\n",
        "\n",
        "pkgs = [\n",
        "    \"blobfile\",         # to download pretrained weights\n",
        "    \"huggingface_hub\",  # to download pretrained weights\n",
        "    # \"tiktoken\",         # to implement the tokenizer\n",
        "    \"torch\",            # to implement the model\n",
        "]\n",
        "for p in pkgs:\n",
        "    print(f\"{p} version: {version(p)}\")"
      ]
    },
    {
      "cell_type": "markdown",
      "id": "653410a6-dd2b-4eb2-a722-23d9782e726d",
      "metadata": {
        "id": "653410a6-dd2b-4eb2-a722-23d9782e726d"
      },
      "source": [
        "&nbsp;\n",
        "# 1. Architecture code"
      ]
    },
    {
      "cell_type": "code",
      "execution_count": 44,
      "id": "82076c21-9331-4dcd-b017-42b046cf1a60",
      "metadata": {
        "id": "82076c21-9331-4dcd-b017-42b046cf1a60"
      },
      "outputs": [],
      "source": [
        "import torch\n",
        "import torch.nn as nn\n",
        "\n",
        "\n",
        "class FeedForward(nn.Module):\n",
        "    def __init__(self, cfg):\n",
        "        super().__init__()\n",
        "        self.fc1 = nn.Linear(cfg[\"emb_dim\"], cfg[\"hidden_dim\"], dtype=cfg[\"dtype\"], bias=False)\n",
        "        self.fc2 = nn.Linear(cfg[\"emb_dim\"], cfg[\"hidden_dim\"], dtype=cfg[\"dtype\"], bias=False)\n",
        "        self.fc3 = nn.Linear(cfg[\"hidden_dim\"], cfg[\"emb_dim\"], dtype=cfg[\"dtype\"], bias=False)\n",
        "\n",
        "    def forward(self, x):\n",
        "        x_fc1 = self.fc1(x)\n",
        "        x_fc2 = self.fc2(x)\n",
        "        x = nn.functional.silu(x_fc1) * x_fc2\n",
        "        return self.fc3(x)"
      ]
    },
    {
      "cell_type": "code",
      "execution_count": 45,
      "id": "4b9a346f-5826-4083-9162-abd56afc03f0",
      "metadata": {
        "id": "4b9a346f-5826-4083-9162-abd56afc03f0"
      },
      "outputs": [],
      "source": [
        "def precompute_rope_params(head_dim, theta_base=10_000, context_length=4096, freq_config=None):\n",
        "    assert head_dim % 2 == 0, \"Embedding dimension must be even\"\n",
        "\n",
        "    # Compute the inverse frequencies\n",
        "    inv_freq = 1.0 / (theta_base ** (torch.arange(0, head_dim, 2)[: (head_dim // 2)].float() / head_dim))\n",
        "\n",
        "    # Frequency adjustments\n",
        "    if freq_config is not None:\n",
        "        low_freq_wavelen = freq_config[\"original_context_length\"] / freq_config[\"low_freq_factor\"]\n",
        "        high_freq_wavelen = freq_config[\"original_context_length\"] / freq_config[\"high_freq_factor\"]\n",
        "\n",
        "        wavelen = 2 * torch.pi / inv_freq\n",
        "\n",
        "        inv_freq_llama = torch.where(\n",
        "            wavelen > low_freq_wavelen, inv_freq / freq_config[\"factor\"], inv_freq\n",
        "        )\n",
        "\n",
        "        smooth_factor = (freq_config[\"original_context_length\"] / wavelen - freq_config[\"low_freq_factor\"]) / (\n",
        "            freq_config[\"high_freq_factor\"] - freq_config[\"low_freq_factor\"]\n",
        "        )\n",
        "\n",
        "        smoothed_inv_freq = (\n",
        "            (1 - smooth_factor) * (inv_freq / freq_config[\"factor\"]) + smooth_factor * inv_freq\n",
        "        )\n",
        "\n",
        "        is_medium_freq = (wavelen <= low_freq_wavelen) & (wavelen >= high_freq_wavelen)\n",
        "        inv_freq_llama = torch.where(is_medium_freq, smoothed_inv_freq, inv_freq_llama)\n",
        "        inv_freq = inv_freq_llama\n",
        "\n",
        "    # Generate position indices\n",
        "    positions = torch.arange(context_length)\n",
        "\n",
        "    # Compute the angles\n",
        "    angles = positions[:, None] * inv_freq[None, :]  # Shape: (context_length, head_dim // 2)\n",
        "\n",
        "    # Expand angles to match the head_dim\n",
        "    angles = torch.cat([angles, angles], dim=1)  # Shape: (context_length, head_dim)\n",
        "\n",
        "    # Precompute sine and cosine\n",
        "    cos = torch.cos(angles)\n",
        "    sin = torch.sin(angles)\n",
        "\n",
        "    return cos, sin\n",
        "\n",
        "\n",
        "def compute_rope(x, cos, sin):\n",
        "    # x: (batch_size, num_heads, seq_len, head_dim)\n",
        "    batch_size, num_heads, seq_len, head_dim = x.shape\n",
        "    assert head_dim % 2 == 0, \"Head dimension must be even\"\n",
        "\n",
        "    # Split x into first half and second half\n",
        "    x1 = x[..., : head_dim // 2]  # First half\n",
        "    x2 = x[..., head_dim // 2 :]  # Second half\n",
        "\n",
        "    # Adjust sin and cos shapes\n",
        "    cos = cos[:seq_len, :].unsqueeze(0).unsqueeze(0)  # Shape: (1, 1, seq_len, head_dim)\n",
        "    sin = sin[:seq_len, :].unsqueeze(0).unsqueeze(0)\n",
        "\n",
        "    # Apply the rotary transformation\n",
        "    rotated = torch.cat((-x2, x1), dim=-1)\n",
        "    x_rotated = (x * cos) + (rotated * sin)\n",
        "\n",
        "    return x_rotated.to(dtype=x.dtype)"
      ]
    },
    {
      "cell_type": "code",
      "execution_count": 46,
      "id": "e8169ab5-f976-4222-a2e1-eb1cabf267cb",
      "metadata": {
        "id": "e8169ab5-f976-4222-a2e1-eb1cabf267cb"
      },
      "outputs": [],
      "source": [
        "class SharedBuffers:\n",
        "    _buffers = {}\n",
        "\n",
        "    @staticmethod\n",
        "    def get_buffers(context_length, head_dim, rope_base, freq_config, dtype=torch.float32):\n",
        "        key = (context_length, head_dim, rope_base, tuple(freq_config.values()) if freq_config else freq_config, dtype)\n",
        "\n",
        "        if key not in SharedBuffers._buffers:\n",
        "            # Create or fetch the buffers\n",
        "            mask = torch.triu(torch.ones(context_length, context_length), diagonal=1)\n",
        "            cos, sin = precompute_rope_params(head_dim, rope_base, context_length, freq_config)\n",
        "            if dtype is not None:\n",
        "                cos = cos.to(dtype)\n",
        "                sin = sin.to(dtype)\n",
        "            SharedBuffers._buffers[key] = (mask, cos, sin)\n",
        "\n",
        "        return SharedBuffers._buffers[key]\n",
        "\n",
        "\n",
        "class GroupedQueryAttention(nn.Module):\n",
        "    def __init__(\n",
        "            self, d_in, d_out, context_length, num_heads,\n",
        "            num_kv_groups,\n",
        "            rope_base=10_000,\n",
        "            rope_config=None,\n",
        "            dtype=None\n",
        "        ):\n",
        "        super().__init__()\n",
        "        assert d_out % num_heads == 0, \"d_out must be divisible by num_heads\"\n",
        "        assert num_heads % num_kv_groups == 0, \"num_heads must be divisible by num_kv_groups\"\n",
        "\n",
        "        self.d_out = d_out\n",
        "        self.num_heads = num_heads\n",
        "        self.head_dim = d_out // num_heads\n",
        "\n",
        "        self.W_key = nn.Linear(d_in, num_kv_groups * self.head_dim, bias=False, dtype=dtype)\n",
        "        self.W_value = nn.Linear(d_in, num_kv_groups * self.head_dim, bias=False, dtype=dtype)\n",
        "        self.num_kv_groups = num_kv_groups\n",
        "        self.group_size = num_heads // num_kv_groups\n",
        "\n",
        "        self.W_query = nn.Linear(d_in, d_out, bias=False, dtype=dtype)\n",
        "        self.out_proj = nn.Linear(d_out, d_out, bias=False, dtype=dtype)\n",
        "\n",
        "        # Fetch buffers using SharedBuffers\n",
        "        mask, cos, sin = SharedBuffers.get_buffers(context_length, self.head_dim, rope_base, rope_config, dtype)\n",
        "        self.register_buffer(\"mask\", mask)\n",
        "\n",
        "        self.register_buffer(\"cos\", cos)\n",
        "        self.register_buffer(\"sin\", sin)\n",
        "\n",
        "    def forward(self, x):\n",
        "        b, num_tokens, d_in = x.shape\n",
        "\n",
        "        queries = self.W_query(x)  # Shape: (b, num_tokens, d_out)\n",
        "        keys = self.W_key(x)  # Shape: (b, num_tokens, num_kv_groups * head_dim)\n",
        "        values = self.W_value(x)  # Shape: (b, num_tokens, num_kv_groups * head_dim)\n",
        "\n",
        "        # Reshape queries, keys, and values\n",
        "        queries = queries.view(b, num_tokens, self.num_heads, self.head_dim)\n",
        "        keys = keys.view(b, num_tokens, self.num_kv_groups, self.head_dim)\n",
        "        values = values.view(b, num_tokens, self.num_kv_groups, self.head_dim)\n",
        "\n",
        "        # Transpose keys, values, and queries\n",
        "        keys = keys.transpose(1, 2)  # Shape: (b, num_heads, num_tokens, head_dim)\n",
        "        values = values.transpose(1, 2)  # Shape: (b, num_heads, num_tokens, head_dim)\n",
        "        queries = queries.transpose(1, 2)  # Shape: (b, num_query_groups, num_tokens, head_dim)\n",
        "\n",
        "        # Apply RoPE\n",
        "        keys = compute_rope(keys, self.cos, self.sin)\n",
        "        queries = compute_rope(queries, self.cos, self.sin)\n",
        "\n",
        "        # Expand keys and values to match the number of heads\n",
        "        # Shape: (b, num_heads, num_tokens, head_dim)\n",
        "        keys = keys.repeat_interleave(self.group_size, dim=1)  # Shape: (b, num_heads, num_tokens, head_dim)\n",
        "        values = values.repeat_interleave(self.group_size, dim=1)  # Shape: (b, num_heads, num_tokens, head_dim)\n",
        "        # For example, before repeat_interleave along dim=1 (query groups):\n",
        "        #   [K1, K2]\n",
        "        # After repeat_interleave (each query group is repeated group_size times):\n",
        "        #   [K1, K1, K2, K2]\n",
        "        # If we used regular repeat instead of repeat_interleave, we'd get:\n",
        "        #   [K1, K2, K1, K2]\n",
        "\n",
        "        # Compute scaled dot-product attention (aka self-attention) with a causal mask\n",
        "        # Shape: (b, num_heads, num_tokens, num_tokens)\n",
        "        attn_scores = queries @ keys.transpose(2, 3)  # Dot product for each head\n",
        "\n",
        "        # Original mask truncated to the number of tokens and converted to boolean\n",
        "        mask_bool = self.mask.bool()[:num_tokens, :num_tokens]\n",
        "\n",
        "        # Use the mask to fill attention scores\n",
        "        attn_scores.masked_fill_(mask_bool, -torch.inf)\n",
        "\n",
        "        attn_weights = torch.softmax(attn_scores / keys.shape[-1]**0.5, dim=-1)\n",
        "        assert keys.shape[-1] == self.head_dim\n",
        "\n",
        "        # Shape: (b, num_tokens, num_heads, head_dim)\n",
        "        context_vec = (attn_weights @ values).transpose(1, 2)\n",
        "\n",
        "        # Combine heads, where self.d_out = self.num_heads * self.head_dim\n",
        "        context_vec = context_vec.reshape(b, num_tokens, self.d_out)\n",
        "        context_vec = self.out_proj(context_vec)  # optional projection\n",
        "\n",
        "        return context_vec"
      ]
    },
    {
      "cell_type": "code",
      "execution_count": 47,
      "id": "457cb2f8-50c1-4045-8a74-f181bfb5fea9",
      "metadata": {
        "id": "457cb2f8-50c1-4045-8a74-f181bfb5fea9"
      },
      "outputs": [],
      "source": [
        "class TransformerBlock(nn.Module):\n",
        "    def __init__(self, cfg):\n",
        "        super().__init__()\n",
        "        self.att =  GroupedQueryAttention(\n",
        "            d_in=cfg[\"emb_dim\"],\n",
        "            d_out=cfg[\"emb_dim\"],\n",
        "            context_length=cfg[\"context_length\"],\n",
        "            num_heads=cfg[\"n_heads\"],\n",
        "            num_kv_groups=cfg[\"n_kv_groups\"],\n",
        "            rope_base=cfg[\"rope_base\"],\n",
        "            rope_config=cfg[\"rope_freq\"],\n",
        "            dtype=cfg[\"dtype\"]\n",
        "        )\n",
        "        self.ff = FeedForward(cfg)\n",
        "        self.norm1 = nn.RMSNorm(cfg[\"emb_dim\"], eps=1e-5)\n",
        "        self.norm2 = nn.RMSNorm(cfg[\"emb_dim\"], eps=1e-5)\n",
        "\n",
        "    def forward(self, x):\n",
        "        # Shortcut connection for attention block\n",
        "        shortcut = x\n",
        "        x = self.norm1(x)\n",
        "        x = self.att(x.to(torch.bfloat16))   # Shape [batch_size, num_tokens, emb_size]\n",
        "        x = x + shortcut  # Add the original input back\n",
        "\n",
        "        # Shortcut connection for feed-forward block\n",
        "        shortcut = x\n",
        "        x = self.norm2(x)\n",
        "        x = self.ff(x.to(torch.bfloat16))\n",
        "        x = x + shortcut  # Add the original input back\n",
        "\n",
        "        return x"
      ]
    },
    {
      "cell_type": "code",
      "execution_count": 48,
      "id": "e88de3e3-9f07-42cc-816b-28dbd46e96c4",
      "metadata": {
        "id": "e88de3e3-9f07-42cc-816b-28dbd46e96c4"
      },
      "outputs": [],
      "source": [
        "class Llama3Model(nn.Module):\n",
        "    def __init__(self, cfg):\n",
        "        super().__init__()\n",
        "        self.tok_emb = nn.Embedding(cfg[\"vocab_size\"], cfg[\"emb_dim\"], dtype=cfg[\"dtype\"])\n",
        "\n",
        "        self.trf_blocks = nn.Sequential(\n",
        "            *[TransformerBlock(cfg) for _ in range(cfg[\"n_layers\"])])\n",
        "\n",
        "        self.final_norm = nn.RMSNorm(cfg[\"emb_dim\"], eps=1e-5)\n",
        "        self.out_head = nn.Linear(cfg[\"emb_dim\"], cfg[\"vocab_size\"], bias=False, dtype=cfg[\"dtype\"])\n",
        "\n",
        "    def forward(self, in_idx):\n",
        "        tok_embeds = self.tok_emb(in_idx)\n",
        "        x = tok_embeds\n",
        "        x = self.trf_blocks(x)\n",
        "        x = self.final_norm(x)\n",
        "        logits = self.out_head(x.to(torch.bfloat16))\n",
        "        return logits"
      ]
    },
    {
      "cell_type": "markdown",
      "id": "be2d201f-74ad-4d63-ab9c-601b00674a48",
      "metadata": {
        "id": "be2d201f-74ad-4d63-ab9c-601b00674a48"
      },
      "source": [
        "&nbsp;\n",
        "# 2. Initialize model"
      ]
    },
    {
      "cell_type": "markdown",
      "id": "23dea40c-fe20-4a75-be25-d6fce5863c01",
      "metadata": {
        "id": "23dea40c-fe20-4a75-be25-d6fce5863c01"
      },
      "source": [
        "- The remainder of this notebook uses the Llama 3.2 1B model; to use the 3B model variant, just uncomment the second configuration file in the following code cell"
      ]
    },
    {
      "cell_type": "code",
      "execution_count": 49,
      "id": "caa142fa-b375-4e78-b392-2072ced666f3",
      "metadata": {
        "id": "caa142fa-b375-4e78-b392-2072ced666f3"
      },
      "outputs": [],
      "source": [
        "# TODO : use 1b config not debug config\n",
        "# Debug mode\n",
        "LLAMA32_CONFIG = {\n",
        "    # d_out = emb_dim\n",
        "    # Embedding dimension <d_out // num_heads> must be even\n",
        "\n",
        "\n",
        "    \"vocab_size\": 128_256,      # Vocabulary size\n",
        "    \"context_length\": 10,  # Context length\n",
        "    # d_in=d_out=emb_dim,\n",
        "    # d_out must be divisible by num_heads\n",
        "    \"emb_dim\": 8,            # Embedding dimension\n",
        "    # (num_heads must be divisible by num_kv_groups)\n",
        "    \"n_heads\": 4,              # Number of attention heads\n",
        "    \"n_layers\": 2,             # Number of layers\n",
        "    \"hidden_dim\": 16,         # Size of the intermediate dimension in FeedForward\n",
        "    \"n_kv_groups\": 2,           # Key-Value groups for grouped-query attention\n",
        "    \"rope_base\": 500_000.0,     # The base in RoPE's \"theta\"\n",
        "    \"dtype\": torch.bfloat16,    # Lower-precision dtype to reduce memory usage\n",
        "    \"rope_freq\": {              # RoPE frequency scaling\n",
        "        \"factor\": 32.0,\n",
        "        \"low_freq_factor\": 1.0,\n",
        "        \"high_freq_factor\": 4.0,\n",
        "        \"original_context_length\": 8192,\n",
        "    }\n",
        "}\n",
        "\n",
        "# Llama 3.2 1B\n",
        "\n",
        "# LLAMA32_CONFIG = {\n",
        "#     \"vocab_size\": 128_256,      # Vocabulary size\n",
        "#     \"context_length\": 131_072,  # Context length\n",
        "#     \"emb_dim\": 2048,            # Embedding dimension\n",
        "#     \"n_heads\": 32,              # Number of attention heads\n",
        "#     \"n_layers\": 16,             # Number of layers\n",
        "#     \"hidden_dim\": 8192,         # Size of the intermediate dimension in FeedForward\n",
        "#     \"n_kv_groups\": 8,           # Key-Value groups for grouped-query attention\n",
        "#     \"rope_base\": 500_000.0,     # The base in RoPE's \"theta\"\n",
        "#     \"dtype\": torch.bfloat16,    # Lower-precision dtype to reduce memory usage\n",
        "#     \"rope_freq\": {              # RoPE frequency scaling\n",
        "#         \"factor\": 32.0,\n",
        "#         \"low_freq_factor\": 1.0,\n",
        "#         \"high_freq_factor\": 4.0,\n",
        "#         \"original_context_length\": 8192,\n",
        "#     }\n",
        "# }\n",
        "\n",
        "# Llama 3.2 3B\n",
        "\n",
        "# LLAMA32_CONFIG = {\n",
        "#     \"vocab_size\": 128_256,      # Vocabulary size\n",
        "#     \"context_length\": 131_072,  # Context length\n",
        "#     \"emb_dim\": 3072,            # Embedding dimension\n",
        "#     \"n_heads\": 24,              # Number of attention heads\n",
        "#     \"n_layers\": 28,             # Number of layers\n",
        "#     \"hidden_dim\": 8192,         # Size of the intermediate dimension in FeedForward\n",
        "#     \"n_kv_groups\": 8,           # Key-Value groups for grouped-query attention\n",
        "#     \"rope_base\": 500_000.0,     # The base in RoPE's \"theta\"\n",
        "#     \"dtype\": torch.bfloat16,    # Lower-precision dtype to reduce memory usage\n",
        "#     \"rope_freq\": {              # RoPE frequency scaling\n",
        "#         \"factor\": 32.0,\n",
        "#         \"low_freq_factor\": 1.0,\n",
        "#         \"high_freq_factor\": 4.0,\n",
        "#         \"original_context_length\": 8192,\n",
        "#     }\n",
        "# }\n",
        "\n",
        "LLAMA_SIZE_STR = \"1B\" if LLAMA32_CONFIG[\"emb_dim\"] == 2048 else \"3B\""
      ]
    },
    {
      "cell_type": "markdown",
      "id": "34535172-797e-4dd0-84fb-65bc75ad5b06",
      "metadata": {
        "id": "34535172-797e-4dd0-84fb-65bc75ad5b06"
      },
      "source": [
        "- Reduce the context length so the model would work fine on a MacBook Air (if you have more RAM, feel free to comment out the lines below):"
      ]
    },
    {
      "cell_type": "code",
      "execution_count": 52,
      "id": "a8bc2370-39d2-4bfe-b4c1-6bdd75fe101c",
      "metadata": {
        "colab": {
          "base_uri": "https://localhost:8080/"
        },
        "id": "a8bc2370-39d2-4bfe-b4c1-6bdd75fe101c",
        "outputId": "f41e0966-f371-4e44-a7f5-8aa34cfb4a90"
      },
      "outputs": [
        {
          "output_type": "stream",
          "name": "stdout",
          "text": [
            "New RoPE theta: 4367.320268554277\n"
          ]
        }
      ],
      "source": [
        "import math\n",
        "old_context_length = 131_072 # LLAMA32_CONFIG[\"context_length\"]\n",
        "# Todo:use context length of 8192 (as done by sebastian) not LLAMA32_CONFIG[\"context_length\"]\n",
        "# LLAMA32_CONFIG[\"context_length\"] =  LLAMA32_CONFIG[\"context_length\"] # 8192\n",
        "new_context_length = LLAMA32_CONFIG[\"context_length\"] # 10\n",
        "\n",
        "def rescale_theta(theta_old, context_length_old, context_length_new):\n",
        "    # scaling_factor = context_length_new / context_length_old\n",
        "    '''\n",
        "            Using square root scaling (instead of linear scaling as done by sebastian),\n",
        "            because linear scaling is resulting in very small theta value.\n",
        "            which is slowing the training (slower decrease in loss)\n",
        "            might be because of the large difference in context length (137_072 vs 10 <debug mode> or 512 <LLAMA3-Nepali>)\n",
        "    '''\n",
        "    scaling_factor = math.sqrt(context_length_new/context_length_old)\n",
        "    theta_new = theta_old * scaling_factor\n",
        "    return theta_new\n",
        "\n",
        "LLAMA32_CONFIG[\"rope_base\"] = rescale_theta(\n",
        "    LLAMA32_CONFIG[\"rope_base\"],\n",
        "    old_context_length,\n",
        "    new_context_length\n",
        ")\n",
        "\n",
        "print(\"New RoPE theta:\", LLAMA32_CONFIG[\"rope_base\"])"
      ]
    },
    {
      "cell_type": "code",
      "execution_count": 53,
      "id": "156253fe-aacd-4da2-8f13-705f05c4b11e",
      "metadata": {
        "id": "156253fe-aacd-4da2-8f13-705f05c4b11e"
      },
      "outputs": [],
      "source": [
        "model = Llama3Model(LLAMA32_CONFIG)"
      ]
    },
    {
      "cell_type": "markdown",
      "id": "19de6c2c-83ce-456d-8be9-6ec415fe9eb1",
      "metadata": {
        "id": "19de6c2c-83ce-456d-8be9-6ec415fe9eb1"
      },
      "source": [
        "- The following is expected to print True to confirm buffers are reused instead of being (wastefully) recreated:"
      ]
    },
    {
      "cell_type": "code",
      "execution_count": 54,
      "id": "0e95db6d-2712-41a5-a5e0-86c49897f4cf",
      "metadata": {
        "colab": {
          "base_uri": "https://localhost:8080/"
        },
        "id": "0e95db6d-2712-41a5-a5e0-86c49897f4cf",
        "outputId": "3601458d-ebf5-4660-ba55-7ad67d083785"
      },
      "outputs": [
        {
          "output_type": "stream",
          "name": "stdout",
          "text": [
            "True\n",
            "True\n",
            "True\n"
          ]
        }
      ],
      "source": [
        "# Check buffers\n",
        "print(model.trf_blocks[0].att.mask is model.trf_blocks[-1].att.mask)\n",
        "print(model.trf_blocks[0].att.cos is model.trf_blocks[-1].att.cos)\n",
        "print(model.trf_blocks[0].att.sin is model.trf_blocks[-1].att.sin)"
      ]
    },
    {
      "cell_type": "code",
      "execution_count": 55,
      "id": "364e76ca-52f8-4fa5-af37-c4069f9694bc",
      "metadata": {
        "colab": {
          "base_uri": "https://localhost:8080/"
        },
        "id": "364e76ca-52f8-4fa5-af37-c4069f9694bc",
        "outputId": "1fdab5e0-16ad-46e4-bcb3-c5548ddc2be4"
      },
      "outputs": [
        {
          "output_type": "stream",
          "name": "stdout",
          "text": [
            "Total number of parameters: 2,053,288\n",
            "\n",
            "Total number of unique parameters: 1,027,240\n"
          ]
        }
      ],
      "source": [
        "total_params = sum(p.numel() for p in model.parameters())\n",
        "print(f\"Total number of parameters: {total_params:,}\")\n",
        "\n",
        "# Account for weight tying\n",
        "total_params_normalized = total_params - model.tok_emb.weight.numel()\n",
        "print(f\"\\nTotal number of unique parameters: {total_params_normalized:,}\")"
      ]
    },
    {
      "cell_type": "code",
      "execution_count": 56,
      "id": "fd5efb03-5a07-46e8-8607-93ed47549d2b",
      "metadata": {
        "colab": {
          "base_uri": "https://localhost:8080/"
        },
        "id": "fd5efb03-5a07-46e8-8607-93ed47549d2b",
        "outputId": "b0105d75-8647-4f78-e3ae-e9713aa4cddb"
      },
      "outputs": [
        {
          "output_type": "stream",
          "name": "stdout",
          "text": [
            "float32 (PyTorch default): 0.02 GB\n",
            "bfloat16: 0.01 GB\n"
          ]
        }
      ],
      "source": [
        "def model_memory_size(model, input_dtype=torch.float32):\n",
        "    total_params = 0\n",
        "    total_grads = 0\n",
        "    for param in model.parameters():\n",
        "        # Calculate total number of elements per parameter\n",
        "        param_size = param.numel()\n",
        "        total_params += param_size\n",
        "        # Check if gradients are stored for this parameter\n",
        "        if param.requires_grad:\n",
        "            total_grads += param_size\n",
        "\n",
        "    # Calculate buffer size (non-parameters that require memory)\n",
        "    total_buffers = sum(buf.numel() for buf in model.buffers())\n",
        "\n",
        "    # Size in bytes = (Number of elements) * (Size of each element in bytes)\n",
        "    # We assume parameters and gradients are stored in the same type as input dtype\n",
        "    element_size = torch.tensor(0, dtype=input_dtype).element_size()\n",
        "    total_memory_bytes = (total_params + total_grads + total_buffers) * element_size\n",
        "\n",
        "    # Convert bytes to gigabytes\n",
        "    total_memory_gb = total_memory_bytes / (1024**3)\n",
        "\n",
        "    return total_memory_gb\n",
        "\n",
        "print(f\"float32 (PyTorch default): {model_memory_size(model, input_dtype=torch.float32):.2f} GB\")\n",
        "print(f\"bfloat16: {model_memory_size(model, input_dtype=torch.bfloat16):.2f} GB\")"
      ]
    },
    {
      "cell_type": "code",
      "execution_count": 57,
      "id": "31f12baf-f79b-499f-85c0-51328a6a20f5",
      "metadata": {
        "id": "31f12baf-f79b-499f-85c0-51328a6a20f5"
      },
      "outputs": [],
      "source": [
        "if torch.cuda.is_available():\n",
        "    device = torch.device(\"cuda\")\n",
        "elif torch.backends.mps.is_available():\n",
        "    device = torch.device(\"mps\")\n",
        "else:\n",
        "    device = torch.device(\"cpu\")\n",
        "\n",
        "model.to(device);"
      ]
    },
    {
      "cell_type": "markdown",
      "id": "78e091e1-afa8-4d23-9aea-cced86181bfd",
      "metadata": {
        "id": "78e091e1-afa8-4d23-9aea-cced86181bfd"
      },
      "source": [
        "&nbsp;\n",
        "# 3. Load tokenizer"
      ]
    },
    {
      "cell_type": "code",
      "source": [
        "import os\n",
        "\n",
        "from transformers import PreTrainedTokenizerFast\n",
        "class Tokenizer:\n",
        "    def __init__(self, tokenizer_model_path):\n",
        "        assert os.path.isfile(tokenizer_model_path), f\"Tokenizer Model file {tokenizer_model_path} not found\"\n",
        "\n",
        "        # load the tokenizehere\n",
        "        self.tokenizer = PreTrainedTokenizerFast(tokenizer_file=tokenizer_model_path)\n",
        "\n",
        "        # previously added\n",
        "        # self.special_tokens = {\n",
        "        #     \"<|begin_of_text|>\": 128000,\n",
        "        #     \"<|end_of_text|>\": 128001,\n",
        "        #     \"<|start_header_id|>\": 128006,\n",
        "        #     \"<|end_header_id|>\": 128007,\n",
        "        #     \"<|eot_id|>\": 128009,\n",
        "        # }\n",
        "\n",
        "\n",
        "\n",
        "    def encode(self, text, bos=False, eos=False):\n",
        "        '''\n",
        "        parameter: allowed_special removed\n",
        "        parameter: disallowed_special removed\n",
        "        '''\n",
        "        if bos:\n",
        "            # tokens = [self.special_tokens[\"<|begin_of_text|>\"]]\n",
        "            tokens = self.tokenizer.encode('<|begin_of_text|>') # [50000]\n",
        "        else:\n",
        "            tokens = []\n",
        "\n",
        "        tokens += self.tokenizer.encode(text)\n",
        "\n",
        "        if eos:\n",
        "            # tokens.append(self.special_tokens[\"<|end_of_text|>\"])\n",
        "            tokens.append(self.tokenizer.encode('<|end_of_text|>')[0]) # [50001]\n",
        "        return tokens\n",
        "\n",
        "    def decode(self, tokens):\n",
        "        # return self.model.decode(tokens)\n",
        "        return self.tokenizer.decode(tokens)\n",
        "\n",
        "\n",
        "class ChatFormat:\n",
        "    def __init__(self, tokenizer):\n",
        "        self.tokenizer = tokenizer\n",
        "\n",
        "    def encode_header(self, message):\n",
        "        tokens = []\n",
        "        tokens.append(self.tokenizer.tokenizer.encode('<|start_header_id|>')[0]) # 50002\n",
        "        tokens.extend(self.tokenizer.encode(message[\"भूमिका\"], bos=False, eos=False))\n",
        "        tokens.append(self.tokenizer.tokenizer.encode('<|end_header_id|>')[0])\n",
        "        tokens.extend(self.tokenizer.encode(\"\\n\\n\", bos=False, eos=False))\n",
        "        # tokens.append(self.tokenizer.special_tokens[\"<|start_header_id|>\"])\n",
        "        # tokens.extend(self.tokenizer.encode(message[\"role\"], bos=False, eos=False))\n",
        "        # tokens.append(self.tokenizer.special_tokens[\"<|end_header_id|>\"])\n",
        "        # tokens.extend(self.tokenizer.encode(\"\\n\\n\", bos=False, eos=False))\n",
        "        return tokens\n",
        "\n",
        "    def encode(self, text):\n",
        "        message = {\n",
        "            \"भूमिका\": \"प्रयोगकर्ता\",\n",
        "            \"सन्दर्भ\": text\n",
        "        }\n",
        "\n",
        "        tokens = self.encode_header(message)\n",
        "        tokens.extend(\n",
        "            self.tokenizer.encode(message[\"सन्दर्भ\"].strip(), bos=False, eos=False)\n",
        "        )\n",
        "        # tokens.append(self.tokenizer.special_tokens[\"<|eot_id|>\"])\n",
        "        tokens.append(self.tokenizer.tokenizer.encode('<|eot_id|>')[0])\n",
        "        return tokens\n",
        "\n",
        "    def decode(self, token_ids):\n",
        "        return self.tokenizer.decode(token_ids)\n",
        "\n",
        "tokenizer = Tokenizer(\"tokenizer.json\")\n",
        "chat_tokenizer = ChatFormat(tokenizer)"
      ],
      "metadata": {
        "id": "k_mUdOcwJkoQ"
      },
      "id": "k_mUdOcwJkoQ",
      "execution_count": 58,
      "outputs": []
    },
    {
      "cell_type": "markdown",
      "id": "WUvlacd-LeP2",
      "metadata": {
        "id": "WUvlacd-LeP2"
      },
      "source": [
        "## tests"
      ]
    },
    {
      "cell_type": "code",
      "execution_count": 59,
      "id": "r0fn_4eaKYnu",
      "metadata": {
        "colab": {
          "base_uri": "https://localhost:8080/"
        },
        "id": "r0fn_4eaKYnu",
        "outputId": "9eda5182-053e-4cb0-a447-171a9f0bcdc5"
      },
      "outputs": [
        {
          "output_type": "execute_result",
          "data": {
            "text/plain": [
              "[50002]"
            ]
          },
          "metadata": {},
          "execution_count": 59
        }
      ],
      "source": [
        "chat_tokenizer.tokenizer.encode(\"<|start_header_id|>\")"
      ]
    },
    {
      "cell_type": "code",
      "execution_count": 60,
      "id": "a4kCHOCyIuor",
      "metadata": {
        "colab": {
          "base_uri": "https://localhost:8080/"
        },
        "id": "a4kCHOCyIuor",
        "outputId": "aafce16f-9603-4456-cd54-80d3fe89f244"
      },
      "outputs": [
        {
          "output_type": "execute_result",
          "data": {
            "text/plain": [
              "[50000]"
            ]
          },
          "metadata": {},
          "execution_count": 60
        }
      ],
      "source": [
        "tokenizer.encode(\"<|begin_of_text|>\")"
      ]
    },
    {
      "cell_type": "code",
      "execution_count": 61,
      "id": "WUWh-C4GJsVx",
      "metadata": {
        "colab": {
          "base_uri": "https://localhost:8080/"
        },
        "id": "WUWh-C4GJsVx",
        "outputId": "09b7a59e-0c05-422b-a5de-7c49772a57b2"
      },
      "outputs": [
        {
          "output_type": "execute_result",
          "data": {
            "text/plain": [
              "[50002, 15998, 50003, 50005, 871, 639, 285, 1044, 26981, 279, 50004]"
            ]
          },
          "metadata": {},
          "execution_count": 61
        }
      ],
      "source": [
        "chat_tokenizer.encode(\"लामा हरु ले के खान्छन् ?\")"
      ]
    },
    {
      "cell_type": "code",
      "execution_count": 62,
      "id": "xHI3vvxQLPzc",
      "metadata": {
        "colab": {
          "base_uri": "https://localhost:8080/",
          "height": 0
        },
        "id": "xHI3vvxQLPzc",
        "outputId": "b9dea61f-5fc6-4550-a620-1df69845879b"
      },
      "outputs": [
        {
          "output_type": "execute_result",
          "data": {
            "text/plain": [
              "'<|start_header_id|>पहेँ<|end_header_id|>जी अनुसार ले माथकरलाई <|unk|><|eot_id|>'"
            ],
            "application/vnd.google.colaboratory.intrinsic+json": {
              "type": "string"
            }
          },
          "metadata": {},
          "execution_count": 62
        }
      ],
      "source": [
        "chat_tokenizer.decode([50002, 15542, 50003, 843, 577, 285, 903, 23750, 1, 50004])"
      ]
    },
    {
      "cell_type": "code",
      "execution_count": 63,
      "id": "qbR8Edj07XLV",
      "metadata": {
        "colab": {
          "base_uri": "https://localhost:8080/"
        },
        "id": "qbR8Edj07XLV",
        "outputId": "7583cacb-2a5c-40cc-81e9-b291d6bc8741"
      },
      "outputs": [
        {
          "output_type": "execute_result",
          "data": {
            "text/plain": [
              "['<|unk|>',\n",
              " 'e',\n",
              " '<|unk|>',\n",
              " '<|unk|>',\n",
              " '<|unk|>',\n",
              " '<|unk|>',\n",
              " 'o',\n",
              " '<|unk|>',\n",
              " '<|unk|>',\n",
              " '<|unk|>']"
            ]
          },
          "metadata": {},
          "execution_count": 63
        }
      ],
      "source": [
        "[tokenizer.decode([token]) for token in tokenizer.encode('hello world')]"
      ]
    },
    {
      "cell_type": "code",
      "execution_count": 64,
      "id": "zA2BnQ757iof",
      "metadata": {
        "colab": {
          "base_uri": "https://localhost:8080/"
        },
        "id": "zA2BnQ757iof",
        "outputId": "8bc1335b-84e2-4f71-972f-67ee20aa56aa"
      },
      "outputs": [
        {
          "output_type": "execute_result",
          "data": {
            "text/plain": [
              "['महा', 'प्रभु', 'को', 'सदि', 'च्छा', 'पूरा', 'गर्न', 'यो', 'भौतिक']"
            ]
          },
          "metadata": {},
          "execution_count": 64
        }
      ],
      "source": [
        "[tokenizer.decode([token]) for token in tokenizer.encode(\"महाप्रभुको सदिच्छा पूरा गर्न यो भौतिक \")]"
      ]
    },
    {
      "cell_type": "markdown",
      "id": "GHOz7hmOLhc7",
      "metadata": {
        "id": "GHOz7hmOLhc7"
      },
      "source": [
        "## original tokenizer code by sebastian"
      ]
    },
    {
      "cell_type": "code",
      "execution_count": 65,
      "id": "9482b01c-49f9-48e4-ab2c-4a4c75240e77",
      "metadata": {
        "colab": {
          "base_uri": "https://localhost:8080/",
          "height": 0
        },
        "id": "9482b01c-49f9-48e4-ab2c-4a4c75240e77",
        "outputId": "04e4394c-1eec-4639-c37c-eb1fb33724a3"
      },
      "outputs": [
        {
          "output_type": "execute_result",
          "data": {
            "text/plain": [
              "'import os\\nfrom pathlib import Path\\n\\nimport tiktoken\\nfrom tiktoken.load import load_tiktoken_bpe\\n\\n\\nclass Tokenizer:\\n    def __init__(self, model_path):\\n        assert os.path.isfile(model_path), f\"Model file {model_path} not found\"\\n        mergeable_ranks = load_tiktoken_bpe(model_path)\\n\\n        self.special_tokens = {\\n            \"<|begin_of_text|>\": 128000,\\n            \"<|end_of_text|>\": 128001,\\n            \"<|start_header_id|>\": 128006,\\n            \"<|end_header_id|>\": 128007,\\n            \"<|eot_id|>\": 128009,\\n        }\\n        self.special_tokens.update({\\n            f\"<|reserved_{i}|>\": 128002 + i for i in range(256) if (128002 + i) not in self.special_tokens.values()\\n        })\\n\\n        self.model = tiktoken.Encoding(\\n            name=Path(model_path).name,\\n            pat_str=r\"(?i:\\'s|\\'t|\\'re|\\'ve|\\'m|\\'ll|\\'d)|[^\\r\\n\\\\p{L}\\\\p{N}]?\\\\p{L}+|\\\\p{N}{1,3}| ?[^\\\\s\\\\p{L}\\\\p{N}]+[\\r\\n]*|\\\\s*[\\r\\n]+|\\\\s+(?!\\\\S)|\\\\s+\",\\n            mergeable_ranks=mergeable_ranks,\\n            special_tokens=self.special_tokens\\n        )\\n\\n\\n    def encode(self, text, bos=False, eos=False, allowed_special=set(), disallowed_special=()):\\n        if bos:\\n            tokens = [self.special_tokens[\"<|begin_of_text|>\"]]\\n        else:\\n            tokens = []\\n\\n        tokens += self.model.encode(text, allowed_special=allowed_special, disallowed_special=disallowed_special)\\n\\n        if eos:\\n            tokens.append(self.special_tokens[\"<|end_of_text|>\"])\\n        return tokens\\n\\n    def decode(self, tokens):\\n        return self.model.decode(tokens)\\n\\n\\nclass ChatFormat:\\n    def __init__(self, tokenizer):\\n        self.tokenizer = tokenizer\\n\\n    def encode_header(self, message):\\n        tokens = []\\n        tokens.append(self.tokenizer.special_tokens[\"<|start_header_id|>\"])\\n        tokens.extend(self.tokenizer.encode(message[\"role\"], bos=False, eos=False))\\n        tokens.append(self.tokenizer.special_tokens[\"<|end_header_id|>\"])\\n        tokens.extend(self.tokenizer.encode(\"\\n\\n\", bos=False, eos=False))\\n        return tokens\\n\\n    def encode(self, text):\\n        message = {\\n            \"role\": \"user\",\\n            \"content\": text\\n        }\\n\\n        tokens = self.encode_header(message)\\n        tokens.extend(\\n            self.tokenizer.encode(message[\"content\"].strip(), bos=False, eos=False)\\n        )\\n        tokens.append(self.tokenizer.special_tokens[\"<|eot_id|>\"])\\n        return tokens\\n\\n    def decode(self, token_ids):\\n        return self.tokenizer.decode(token_ids)'"
            ],
            "application/vnd.google.colaboratory.intrinsic+json": {
              "type": "string"
            }
          },
          "metadata": {},
          "execution_count": 65
        }
      ],
      "source": [
        "'''import os\n",
        "from pathlib import Path\n",
        "\n",
        "import tiktoken\n",
        "from tiktoken.load import load_tiktoken_bpe\n",
        "\n",
        "\n",
        "class Tokenizer:\n",
        "    def __init__(self, model_path):\n",
        "        assert os.path.isfile(model_path), f\"Model file {model_path} not found\"\n",
        "        mergeable_ranks = load_tiktoken_bpe(model_path)\n",
        "\n",
        "        self.special_tokens = {\n",
        "            \"<|begin_of_text|>\": 128000,\n",
        "            \"<|end_of_text|>\": 128001,\n",
        "            \"<|start_header_id|>\": 128006,\n",
        "            \"<|end_header_id|>\": 128007,\n",
        "            \"<|eot_id|>\": 128009,\n",
        "        }\n",
        "        self.special_tokens.update({\n",
        "            f\"<|reserved_{i}|>\": 128002 + i for i in range(256) if (128002 + i) not in self.special_tokens.values()\n",
        "        })\n",
        "\n",
        "        self.model = tiktoken.Encoding(\n",
        "            name=Path(model_path).name,\n",
        "            pat_str=r\"(?i:'s|'t|'re|'ve|'m|'ll|'d)|[^\\r\\n\\p{L}\\p{N}]?\\p{L}+|\\p{N}{1,3}| ?[^\\s\\p{L}\\p{N}]+[\\r\\n]*|\\s*[\\r\\n]+|\\s+(?!\\S)|\\s+\",\n",
        "            mergeable_ranks=mergeable_ranks,\n",
        "            special_tokens=self.special_tokens\n",
        "        )\n",
        "\n",
        "\n",
        "    def encode(self, text, bos=False, eos=False, allowed_special=set(), disallowed_special=()):\n",
        "        if bos:\n",
        "            tokens = [self.special_tokens[\"<|begin_of_text|>\"]]\n",
        "        else:\n",
        "            tokens = []\n",
        "\n",
        "        tokens += self.model.encode(text, allowed_special=allowed_special, disallowed_special=disallowed_special)\n",
        "\n",
        "        if eos:\n",
        "            tokens.append(self.special_tokens[\"<|end_of_text|>\"])\n",
        "        return tokens\n",
        "\n",
        "    def decode(self, tokens):\n",
        "        return self.model.decode(tokens)\n",
        "\n",
        "\n",
        "class ChatFormat:\n",
        "    def __init__(self, tokenizer):\n",
        "        self.tokenizer = tokenizer\n",
        "\n",
        "    def encode_header(self, message):\n",
        "        tokens = []\n",
        "        tokens.append(self.tokenizer.special_tokens[\"<|start_header_id|>\"])\n",
        "        tokens.extend(self.tokenizer.encode(message[\"role\"], bos=False, eos=False))\n",
        "        tokens.append(self.tokenizer.special_tokens[\"<|end_header_id|>\"])\n",
        "        tokens.extend(self.tokenizer.encode(\"\\n\\n\", bos=False, eos=False))\n",
        "        return tokens\n",
        "\n",
        "    def encode(self, text):\n",
        "        message = {\n",
        "            \"role\": \"user\",\n",
        "            \"content\": text\n",
        "        }\n",
        "\n",
        "        tokens = self.encode_header(message)\n",
        "        tokens.extend(\n",
        "            self.tokenizer.encode(message[\"content\"].strip(), bos=False, eos=False)\n",
        "        )\n",
        "        tokens.append(self.tokenizer.special_tokens[\"<|eot_id|>\"])\n",
        "        return tokens\n",
        "\n",
        "    def decode(self, token_ids):\n",
        "        return self.tokenizer.decode(token_ids)'''"
      ]
    },
    {
      "cell_type": "markdown",
      "id": "b771b60c-c198-4b30-bf10-42031197ae86",
      "metadata": {
        "id": "b771b60c-c198-4b30-bf10-42031197ae86"
      },
      "source": [
        "- Please note that Meta AI requires that you accept the Llama 3.2 licensing terms before you can download the files; to do this, you have to create a Hugging Face Hub account and visit the [meta-llama/Llama-3.2-1B](https://huggingface.co/meta-llama/Llama-3.2-1B) repository to accept the terms\n",
        "- Next, you will need to create an access token; to generate an access token with READ permissions, click on the profile picture in the upper right and click on \"Settings\"\n",
        "\n",
        "\n",
        "<img src=\"https://sebastianraschka.com/images/LLMs-from-scratch-images/bonus/gpt-to-llama/settings.webp?1\" width=\"300px\">\n",
        "\n",
        "- Then, create and copy the access token so you can copy & paste it into the next code cell\n",
        "\n",
        "<img src=\"https://sebastianraschka.com/images/LLMs-from-scratch-images/bonus/gpt-to-llama/access-token.webp?1\" width=\"600px\">"
      ]
    },
    {
      "cell_type": "code",
      "execution_count": 66,
      "id": "e9d96dc8-603a-4cb5-8c3e-4d2ca56862ed",
      "metadata": {
        "colab": {
          "base_uri": "https://localhost:8080/",
          "height": 0
        },
        "id": "e9d96dc8-603a-4cb5-8c3e-4d2ca56862ed",
        "outputId": "2061561f-a046-44ff-9c41-7b30d9778bd5"
      },
      "outputs": [
        {
          "output_type": "execute_result",
          "data": {
            "text/plain": [
              "'from huggingface_hub import login\\n\\nlogin()'"
            ],
            "application/vnd.google.colaboratory.intrinsic+json": {
              "type": "string"
            }
          },
          "metadata": {},
          "execution_count": 66
        }
      ],
      "source": [
        "'''from huggingface_hub import login\n",
        "\n",
        "login()'''"
      ]
    },
    {
      "cell_type": "code",
      "execution_count": 67,
      "id": "986bc1a0-804f-4154-80f8-44cefbee1368",
      "metadata": {
        "colab": {
          "base_uri": "https://localhost:8080/",
          "height": 0
        },
        "id": "986bc1a0-804f-4154-80f8-44cefbee1368",
        "outputId": "59a7f363-ccb2-4291-e92b-a02cb57fdf93"
      },
      "outputs": [
        {
          "output_type": "execute_result",
          "data": {
            "text/plain": [
              "'from huggingface_hub import hf_hub_download\\n\\ntokenizer_file_path = hf_hub_download(\\n    repo_id=f\"meta-llama/Llama-3.2-{LLAMA_SIZE_STR}-Instruct\",\\n    filename=\"original/tokenizer.model\",\\n    local_dir=f\"Llama-3.2-{LLAMA_SIZE_STR}-Instruct\"\\n)'"
            ],
            "application/vnd.google.colaboratory.intrinsic+json": {
              "type": "string"
            }
          },
          "metadata": {},
          "execution_count": 67
        }
      ],
      "source": [
        "'''from huggingface_hub import hf_hub_download\n",
        "\n",
        "tokenizer_file_path = hf_hub_download(\n",
        "    repo_id=f\"meta-llama/Llama-3.2-{LLAMA_SIZE_STR}-Instruct\",\n",
        "    filename=\"original/tokenizer.model\",\n",
        "    local_dir=f\"Llama-3.2-{LLAMA_SIZE_STR}-Instruct\"\n",
        ")'''"
      ]
    },
    {
      "cell_type": "code",
      "execution_count": 68,
      "id": "_gBhxDtU_nxo",
      "metadata": {
        "colab": {
          "base_uri": "https://localhost:8080/",
          "height": 0
        },
        "id": "_gBhxDtU_nxo",
        "outputId": "ce1051f2-0521-43db-847e-7ddcdb46bca8"
      },
      "outputs": [
        {
          "output_type": "execute_result",
          "data": {
            "text/plain": [
              "'tokenizer = Tokenizer(tokenizer_file_path)\\nchat_tokenizer = ChatFormat(tokenizer)'"
            ],
            "application/vnd.google.colaboratory.intrinsic+json": {
              "type": "string"
            }
          },
          "metadata": {},
          "execution_count": 68
        }
      ],
      "source": [
        "'''tokenizer = Tokenizer(tokenizer_file_path)\n",
        "chat_tokenizer = ChatFormat(tokenizer)'''"
      ]
    },
    {
      "cell_type": "markdown",
      "id": "7q1cERivLp3w",
      "metadata": {
        "id": "7q1cERivLp3w"
      },
      "source": [
        "## tests"
      ]
    },
    {
      "cell_type": "code",
      "execution_count": 69,
      "id": "BLVsM4DMBr6S",
      "metadata": {
        "colab": {
          "base_uri": "https://localhost:8080/",
          "height": 0
        },
        "id": "BLVsM4DMBr6S",
        "outputId": "0c502360-0bcc-44e9-b4ae-0dc924aeaeac"
      },
      "outputs": [
        {
          "output_type": "execute_result",
          "data": {
            "text/plain": [
              "\"print(type(chat_tokenizer.encode('hello world')))\\nchat_tokenizer.decode(chat_tokenizer.encode('hello world'))\""
            ],
            "application/vnd.google.colaboratory.intrinsic+json": {
              "type": "string"
            }
          },
          "metadata": {},
          "execution_count": 69
        }
      ],
      "source": [
        "'''print(type(chat_tokenizer.encode('hello world')))\n",
        "chat_tokenizer.decode(chat_tokenizer.encode('hello world'))'''"
      ]
    },
    {
      "cell_type": "code",
      "execution_count": 70,
      "id": "l5jHSizk8SAH",
      "metadata": {
        "colab": {
          "base_uri": "https://localhost:8080/",
          "height": 0
        },
        "id": "l5jHSizk8SAH",
        "outputId": "79bc32ae-0d6c-46ae-e958-22740ec11099"
      },
      "outputs": [
        {
          "output_type": "execute_result",
          "data": {
            "text/plain": [
              "'[tokenizer.decode([token]) for token in tokenizer.encode(\"महाप्रभुको सदिच्छा पूरा गर्न यो भौतिक \")]'"
            ],
            "application/vnd.google.colaboratory.intrinsic+json": {
              "type": "string"
            }
          },
          "metadata": {},
          "execution_count": 70
        }
      ],
      "source": [
        "'''[tokenizer.decode([token]) for token in tokenizer.encode(\"महाप्रभुको सदिच्छा पूरा गर्न यो भौतिक \")]'''"
      ]
    },
    {
      "cell_type": "code",
      "execution_count": 71,
      "id": "6mpCEeeJIAUg",
      "metadata": {
        "colab": {
          "base_uri": "https://localhost:8080/",
          "height": 0
        },
        "id": "6mpCEeeJIAUg",
        "outputId": "7477ddb1-534c-48ea-f1a0-93df830c94d3"
      },
      "outputs": [
        {
          "output_type": "execute_result",
          "data": {
            "text/plain": [
              "'a=[]\\na.append(tokenizer.special_tokens[\"<|end_header_id|>\"])\\na'"
            ],
            "application/vnd.google.colaboratory.intrinsic+json": {
              "type": "string"
            }
          },
          "metadata": {},
          "execution_count": 71
        }
      ],
      "source": [
        "'''a=[]\n",
        "a.append(tokenizer.special_tokens[\"<|end_header_id|>\"])\n",
        "a'''"
      ]
    },
    {
      "cell_type": "markdown",
      "id": "uqIUhf3_JRKx",
      "metadata": {
        "id": "uqIUhf3_JRKx"
      },
      "source": [
        "&nbsp;\n",
        "# 3.5. Generate text"
      ]
    },
    {
      "cell_type": "code",
      "execution_count": 72,
      "id": "KRg1Tp9aJRKy",
      "metadata": {
        "id": "KRg1Tp9aJRKy"
      },
      "outputs": [],
      "source": [
        "def text_to_token_ids(text, tokenizer):\n",
        "    encoded = tokenizer.encode(text)\n",
        "    encoded_tensor = torch.tensor(encoded).unsqueeze(0)  # add batch dimension\n",
        "    return encoded_tensor\n",
        "    # '''\n",
        "    #   we have modified above return statement by sebastian because there are no tokens like 'start_header_id', 'end_header_id' and tokenizer is returning None which inturn is giving error\n",
        "    #   TODO: add special tokens: 'start_header_id', 'end_header_id' and uncomment above return statement\n",
        "    # '''\n",
        "    # print(encoded_tensor)\n",
        "    # return torch.tensor([token for token in encoded_tensor])  # TODO: use additional vocab like encoded_tensor\n",
        "\n",
        "\n",
        "def token_ids_to_text(token_ids, tokenizer):\n",
        "    flat = token_ids.squeeze(0)  # remove batch dimension\n",
        "    return tokenizer.decode(flat.tolist())\n",
        "\n",
        "\n",
        "def generate(model, idx, max_new_tokens, context_size, temperature=0.0, top_k=None, eos_id=None):\n",
        "\n",
        "    # For-loop is the same as before: Get logits, and only focus on last time step\n",
        "    for _ in range(max_new_tokens):\n",
        "        idx_cond = idx[:, -context_size:]\n",
        "        with torch.no_grad():\n",
        "            logits = model(idx_cond)\n",
        "        logits = logits[:, -1, :]\n",
        "\n",
        "        # New: Filter logits with top_k sampling\n",
        "        if top_k is not None:\n",
        "            # Keep only top_k values\n",
        "            top_logits, _ = torch.topk(logits, top_k)\n",
        "            min_val = top_logits[:, -1]\n",
        "            logits = torch.where(logits < min_val, torch.tensor(float('-inf')).to(logits.device), logits)\n",
        "\n",
        "        # New: Apply temperature scaling\n",
        "        if temperature > 0.0:\n",
        "            logits = logits / temperature\n",
        "\n",
        "            # Apply softmax to get probabilities\n",
        "            probs = torch.softmax(logits, dim=-1)  # (batch_size, context_len)\n",
        "\n",
        "            # Sample from the distribution\n",
        "            idx_next = torch.multinomial(probs, num_samples=1)  # (batch_size, 1)\n",
        "\n",
        "        # Otherwise same as before: get idx of the vocab entry with the highest logits value\n",
        "        else:\n",
        "            idx_next = torch.argmax(logits, dim=-1, keepdim=True)  # (batch_size, 1)\n",
        "\n",
        "        if idx_next == eos_id:  # Stop generating early if end-of-sequence token is encountered and eos_id is specified\n",
        "            break\n",
        "\n",
        "        # Same as before: append sampled index to the running sequence\n",
        "        idx = torch.cat((idx, idx_next), dim=1)  # (batch_size, num_tokens+1)\n",
        "\n",
        "    return idx"
      ]
    },
    {
      "cell_type": "code",
      "execution_count": 73,
      "id": "1_7Z2fFNJRK1",
      "metadata": {
        "colab": {
          "base_uri": "https://localhost:8080/"
        },
        "id": "1_7Z2fFNJRK1",
        "outputId": "10715ba6-06d9-4929-8606-03bb65dbb6b0"
      },
      "outputs": [
        {
          "output_type": "stream",
          "name": "stdout",
          "text": [
            "Output text:\n",
            " <|start_header_id|>प्रयोगकर्ता <|end_header_id|>\n",
            "\n",
            "लामा हरु ले के खान्छन् ? <|eot_id|>फोरमले ४०० निरर्थक सिक्किआगन्तुलिइन्छ आउनुभयो प्रार्थना निमन्त्रणा दलहरुले दिरिटेल विचारहरू नपुगेको दिलाउने पोखरेल पेश्की सम्बर्वाइड विचारहरू नपुगेको दिलाउने पेश्की लुम्विनी व्यवसायीकरण रेकर्डबाट लेखकको नेपाल चबाट नेक्सगेसस्थगएचडी १२७ भरिपूर्ण थिई आयात धन्यवादएनआरएन प्रथाको ल्लाहले दुतावाजेछिटोछरितो बर्दिबासमा\n"
          ]
        }
      ],
      "source": [
        "PROMPT = \"लामा हरु ले के खान्छन् ?\"\n",
        "\n",
        "torch.manual_seed(123)\n",
        "\n",
        "token_ids = generate(\n",
        "    model=model,\n",
        "    idx=text_to_token_ids(PROMPT, chat_tokenizer).to(device),\n",
        "    max_new_tokens=150,\n",
        "    context_size=LLAMA32_CONFIG[\"context_length\"],\n",
        "    top_k=1,\n",
        "    temperature=0.\n",
        ")\n",
        "\n",
        "output_text = token_ids_to_text(token_ids, tokenizer)\n",
        "\n",
        "\n",
        "def clean_text(text, header_end=\"assistant<|end_header_id|>\\n\\n\"):\n",
        "    # Find the index of the first occurrence of \"<|end_header_id|>\"\n",
        "    index = text.find(header_end)\n",
        "\n",
        "    if index != -1:\n",
        "        # Return the substring starting after \"<|end_header_id|>\"\n",
        "        return text[index + len(header_end):].strip()  # Strip removes leading/trailing whitespace\n",
        "    else:\n",
        "        # If the token is not found, return the original text\n",
        "        return text\n",
        "\n",
        "print(\"Output text:\\n\", clean_text(output_text))"
      ]
    },
    {
      "cell_type": "markdown",
      "id": "HAePQlAbrlml",
      "metadata": {
        "id": "HAePQlAbrlml"
      },
      "source": [
        "&nbsp;\n",
        "# 4.5 The poor man's trainning loop"
      ]
    },
    {
      "cell_type": "code",
      "execution_count": 74,
      "id": "YrNgG5Scrr2F",
      "metadata": {
        "colab": {
          "base_uri": "https://localhost:8080/",
          "height": 198
        },
        "id": "YrNgG5Scrr2F",
        "outputId": "00f1b111-5187-400d-f2f6-a62534ef79cb"
      },
      "outputs": [
        {
          "output_type": "execute_result",
          "data": {
            "text/plain": [
              "'# tokenizer does not seem to tokenize nepali text well. lets try training with english text instead\\n\\n# Download data\\nimport urllib.request\\nurl = (\"https://raw.githubusercontent.com/rasbt/\"\\n \"LLMs-from-scratch/main/ch02/01_main-chapter-code/\"\\n \"the-verdict.txt\")\\nfile_path = \"the-verdict.txt\"\\n\\nfile_path = \"cleaned_bhagavad_gita_data.txt\"\\nurl = \"https://github.com/Aananda-giri/llm.np/blob/main/4.%20LLAMA/training_loop/cleaned_bhagavad_gita_data.txt\"\\n\\nurllib.request.urlretrieve(url, file_path)\\n\\n# load the text\\nwith open(\"the-verdict.txt\", \"r\", encoding=\"utf-8\") as f:\\n raw_text = f.read()\\nprint(\"Total number of character:\", len(raw_text))\\nprint(raw_text[:99])'"
            ],
            "application/vnd.google.colaboratory.intrinsic+json": {
              "type": "string"
            }
          },
          "metadata": {},
          "execution_count": 74
        }
      ],
      "source": [
        "'''# tokenizer does not seem to tokenize nepali text well. lets try training with english text instead\n",
        "\n",
        "# Download data\n",
        "import urllib.request\n",
        "url = (\"https://raw.githubusercontent.com/rasbt/\"\n",
        " \"LLMs-from-scratch/main/ch02/01_main-chapter-code/\"\n",
        " \"the-verdict.txt\")\n",
        "file_path = \"the-verdict.txt\"\n",
        "\n",
        "file_path = \"cleaned_bhagavad_gita_data.txt\"\n",
        "url = \"https://github.com/Aananda-giri/llm.np/blob/main/4.%20LLAMA/training_loop/cleaned_bhagavad_gita_data.txt\"\n",
        "\n",
        "urllib.request.urlretrieve(url, file_path)\n",
        "\n",
        "# load the text\n",
        "with open(\"the-verdict.txt\", \"r\", encoding=\"utf-8\") as f:\n",
        " raw_text = f.read()\n",
        "print(\"Total number of character:\", len(raw_text))\n",
        "print(raw_text[:99])'''"
      ]
    },
    {
      "cell_type": "markdown",
      "source": [
        "#### uncomment this or save training data in `cleaned_bhagavad_gita_data.txt`"
      ],
      "metadata": {
        "id": "hpWgrBY2KD0o"
      },
      "id": "hpWgrBY2KD0o"
    },
    {
      "cell_type": "code",
      "execution_count": 75,
      "id": "3qwlpv64MPIz",
      "metadata": {
        "id": "3qwlpv64MPIz"
      },
      "outputs": [],
      "source": [
        "# import urllib.request\n",
        "# import requests\n",
        "\n",
        "# # Raw file URLhttps://github.com/Aananda-giri/LLAMA3-Nepali\n",
        "# url = \"https://raw.githubusercontent.com/Aananda-giri/LLAMA3-Nepali/main/3. training_loop/cleaned_bhagavad_gita_data.txt\"\n",
        "\n",
        "# # File path to save the file locally\n",
        "# file_path = \"cleaned_bhagavad_gita_data.txt\"\n",
        "\n",
        "# urllib.request.urlretrieve(url, file_path)\n"
      ]
    },
    {
      "cell_type": "code",
      "execution_count": 76,
      "id": "9ap0f9x2rtmY",
      "metadata": {
        "id": "9ap0f9x2rtmY"
      },
      "outputs": [],
      "source": [
        "# import tiktoken\n",
        "import torch\n",
        "import torch.nn as nn\n",
        "from torch.utils.data import Dataset, DataLoader\n",
        "import matplotlib.pyplot as plt\n",
        "from matplotlib.ticker import MaxNLocator\n",
        "\n",
        "#####################################\n",
        "# Chapter 2\n",
        "#####################################\n",
        "\n",
        "\n",
        "class GPTDatasetV1(Dataset):\n",
        "    def __init__(self, txt, tokenizer, max_length, stride):\n",
        "        self.input_ids = []\n",
        "        self.target_ids = []\n",
        "\n",
        "        token_ids = tokenizer.encode(txt)\n",
        "\n",
        "        for i in range(0, len(token_ids) - max_length, stride):\n",
        "            input_chunk = token_ids[i:i + max_length]\n",
        "            target_chunk = token_ids[i + 1: i + max_length + 1]\n",
        "            self.input_ids.append(torch.tensor(input_chunk))\n",
        "            self.target_ids.append(torch.tensor(target_chunk))\n",
        "\n",
        "    def __len__(self):\n",
        "        return len(self.input_ids)\n",
        "\n",
        "    def __getitem__(self, idx):\n",
        "        return self.input_ids[idx], self.target_ids[idx]\n",
        "\n",
        "\n",
        "def create_dataloader_v1(tokenizer, txt, batch_size=4, max_length=256,\n",
        "                         stride=128, shuffle=True, drop_last=True, num_workers=0):\n",
        "    dataset = GPTDatasetV1(txt, tokenizer, max_length, stride)\n",
        "    dataloader = DataLoader(\n",
        "        dataset, batch_size=batch_size, shuffle=shuffle, drop_last=drop_last, num_workers=num_workers)\n",
        "\n",
        "    return dataloader\n",
        "\n",
        "def create_dataloaders(text_data, train_ratio, batch_size, max_length, stride, num_workers=0):\n",
        "    split_idx = int(train_ratio * len(text_data))\n",
        "    train_loader = create_dataloader_v1(\n",
        "        tokenizer,\n",
        "        text_data[:split_idx],\n",
        "        batch_size=batch_size,\n",
        "        max_length=max_length,\n",
        "        stride=stride,\n",
        "        drop_last=True,\n",
        "        shuffle=True,\n",
        "        num_workers=num_workers\n",
        "    )\n",
        "    val_loader = create_dataloader_v1(\n",
        "        tokenizer,\n",
        "        text_data[split_idx:],\n",
        "        batch_size=batch_size,\n",
        "        max_length=max_length,\n",
        "        stride=stride,\n",
        "        drop_last=False,\n",
        "        shuffle=False,\n",
        "        num_workers=num_workers\n",
        "    )\n",
        "    return train_loader, val_loader\n",
        "\n",
        "def read_text_file(file_path):\n",
        "    with open(file_path, \"r\", encoding=\"utf-8\") as file:\n",
        "        text_data = file.read()\n",
        "    return text_data\n",
        "\n",
        "text_data = read_text_file(\"cleaned_bhagavad_gita_data.txt\") + \" <|endoftext|> \"\n",
        "\n",
        "\n",
        "\n",
        "train_loader, val_loader = create_dataloaders(\n",
        "    text_data,\n",
        "    train_ratio=0.9,\n",
        "    batch_size=2,\n",
        "    max_length=LLAMA32_CONFIG[\"context_length\"],\n",
        "    stride=LLAMA32_CONFIG[\"context_length\"],\n",
        "    num_workers=0\n",
        ")"
      ]
    },
    {
      "cell_type": "code",
      "execution_count": 77,
      "id": "7p1A-bOxru32",
      "metadata": {
        "colab": {
          "base_uri": "https://localhost:8080/"
        },
        "id": "7p1A-bOxru32",
        "outputId": "243c0453-713e-4c00-989e-e0d226efbaff"
      },
      "outputs": [
        {
          "output_type": "stream",
          "name": "stdout",
          "text": [
            "Training ...\n",
            "Ep 1 (Step 0): Train loss 11.812, Val loss 11.938\n",
            "Ep 1 (Step 300): Train loss 12.125, Val loss 11.938\n",
            "Ep 1 (Step 600): Train loss 12.062, Val loss 11.875\n",
            "Ep 1 (Step 900): Train loss 11.812, Val loss 11.875\n",
            "Ep 1 (Step 1200): Train loss 11.625, Val loss 11.875\n",
            "Ep 1 (Step 1500): Train loss 11.812, Val loss 11.812\n",
            "Ep 1 (Step 1800): Train loss 11.875, Val loss 11.812\n",
            "Output text:\n",
            " <|start_header_id|>प्रयोगकर्ता <|end_header_id|>\n",
            "\n",
            "<|unk|><|unk|><|unk|><|unk|><|unk|><|unk|><|unk|>e<|unk|><|unk|>e<|unk|>e<|unk|>e<|unk|><|unk|>o<|unk|><|unk|><|unk|><|unk|>t<|unk|><|unk|><|unk|><|unk|>nt o<|unk|><|eot_id|>ह्युमन आँट आक्रमणलाई विचारहरू नपुगेको दिलाउने पेश्की पारदर्शिता सेट बाटोको त्यहीकारण पस्ने आङ्बोले १२७ भरिपूर्ण सिक्कि५२० प्रकरणले न्च निवृत्त ओखलढुंगाको नेपाल सेट परिरहेको न्दो परिरहेको न्दो पारदर्शिता सेट परिरहेको न्दो पेश्की जेआउनुभयो ओखलढुंगाको नेपाल दृष्टि आङ्बोले १२७ भरिपूर्ण सिक्कि५२० प्रकरणले न्च निवृत्त ओखलढुंगाको नेपाल सेट परिरहेको न्दो परिरहेको न्दो पारदर्शिता सेट परिरहेको न्दो पेश्की जेआउनुभयो ओखलढुंगाको नेपाल दृष्टि आङ्बोले\n",
            "Ep 1 (Step 2100): Train loss 11.750, Val loss 11.812\n",
            "Ep 1 (Step 2400): Train loss 11.750, Val loss 11.750\n",
            "Ep 1 (Step 2700): Train loss 11.750, Val loss 11.750\n",
            "Ep 1 (Step 3000): Train loss 11.750, Val loss 11.750\n",
            "Ep 1 (Step 3300): Train loss 11.812, Val loss 11.750\n",
            "Ep 1 (Step 3600): Train loss 11.750, Val loss 11.750\n",
            "Ep 1 (Step 3900): Train loss 11.000, Val loss 11.125\n",
            "Output text:\n",
            " <|start_header_id|>प्रयोगकर्ता <|end_header_id|>\n",
            "\n",
            "<|unk|><|unk|><|unk|><|unk|><|unk|><|unk|><|unk|>e<|unk|><|unk|>e<|unk|>e<|unk|>e<|unk|><|unk|>o<|unk|><|unk|><|unk|><|unk|>t<|unk|><|unk|><|unk|><|unk|>nt o<|unk|><|eot_id|>अवरोधगमगमगमगमगमगमगमगमगमगमअवरोधअवरोधगमगमगमगमअवरोधअवरोधगमगमगमगमअवरोधअवरोधगमगमगमगमअवरोधअवरोधगमगमगमगमअवरोधअवरोधगमगमगमगमअवरोधअवरोधगमगमगमगमअवरोधअवरोधगमगमगमगमअवरोधअवरोधगमगमगमगमअवरोधअवरोधगमगमगमगमअवरोधअवरोधगमगमगमगमअवरोधअवरोधगमगमगमगमअवरोधअवरोधगमगमगमगमअवरोधअवरोधगमगमगमगमअवरोधअवरोधगमगमगमगमअवरोधअवरोधगमगमगमगमअवरोधअवरोधगमगमगमगमअवरोधअवरोधगमगमगमगमअवरोधअवरोधगमगमगमगमअवरोधअवरोधगमगमगमगमअवरोधअवरोधगमगमगमगमअवरोधअवरोधगमगमगमगमअवरोधअवरोधगमगमगमगमअवरोधअवरोधगमगमगमगमअवरोध\n",
            "Ep 1 (Step 4200): Train loss 10.250, Val loss 10.375\n",
            "Ep 1 (Step 4500): Train loss 10.375, Val loss 10.188\n",
            "Ep 1 (Step 4800): Train loss 10.312, Val loss 10.062\n",
            "Ep 1 (Step 5100): Train loss 10.375, Val loss 9.938\n",
            "Ep 1 (Step 5400): Train loss 10.000, Val loss 9.875\n",
            "Ep 1 (Step 5700): Train loss 9.688, Val loss 9.812\n",
            "Ep 1 (Step 6000): Train loss 9.438, Val loss 9.750\n",
            "Output text:\n",
            " <|start_header_id|>प्रयोगकर्ता <|end_header_id|>\n",
            "\n",
            "<|unk|><|unk|><|unk|><|unk|><|unk|><|unk|><|unk|>e<|unk|><|unk|>e<|unk|>e<|unk|>e<|unk|><|unk|>o<|unk|><|unk|><|unk|><|unk|>t<|unk|><|unk|><|unk|><|unk|>nt o<|unk|><|eot_id|>गमगमगमगमगमगमगमगमगमगमगमगमगमगमगमगमगमगमगमगमगमगमगमगमगमगमगमगमगमगमगमगमगमगमगमगमगमगमगमगमगमगमगमगमगमगमगमगमगमगमगमगमगमगमगमगमगमगमगमगमगमगमगमगमगमगमगमगमगमगमगमगमगमगमगमगमगमगमगमगमगमगमगमगमगमगमगमगमगमगमगमगमगमगमगमगमगमगमगमगमगमगमगमगमगमगमगमगमगमगमगमगमगमगमगमगमगमगमगमगमगमगमगमगमगमगमगमगमगमगमगमगमगमगमगमगमगमगमगमगमगमगमगमगमगमगमगमगमगमगम\n",
            "Ep 1 (Step 6300): Train loss 9.438, Val loss 9.750\n",
            "Ep 1 (Step 6600): Train loss 9.875, Val loss 9.750\n",
            "Ep 1 (Step 6900): Train loss 10.000, Val loss 9.750\n",
            "Ep 1 (Step 7200): Train loss 10.250, Val loss 9.688\n",
            "Ep 1 (Step 7500): Train loss 9.812, Val loss 9.688\n",
            "Ep 1 (Step 7800): Train loss 9.500, Val loss 9.688\n",
            "Output text:\n",
            " <|start_header_id|>प्रयोगकर्ता <|end_header_id|>\n",
            "\n",
            "<|unk|><|unk|><|unk|><|unk|><|unk|><|unk|><|unk|>e<|unk|><|unk|>e<|unk|>e<|unk|>e<|unk|><|unk|>o<|unk|><|unk|><|unk|><|unk|>t<|unk|><|unk|><|unk|><|unk|>nt o<|unk|><|eot_id|>गमगमगमगमगमगमगमगमगमगमगमगमगमगमगमगमगमगमगमगमगमगमगमगमगमगमगमगमगमगमगमगमगमगमगमगमगमगमगमगमगमगमगमगमगमगमगमगमगमगमगमगमगमगमगमगमगमगमगमगमगमगमगमगमगमगमगमगमगमगमगमगमगमगमगमगमगमगमगमगमगमगमगमगमगमगमगमगमगमगमगमगमगमगमगमगमगमगमगमगमगमगमगमगमगमगमगमगमगमगमगमगमगमगमगमगमगमगमगमगमगमगमगमगमगमगमगमगमगमगमगमगमगमगमगमगमगमगमगमगमगमगमगमगमगमगमगमगमगमगम\n",
            "Ep 1 (Step 8100): Train loss 9.312, Val loss 9.688\n",
            "Ep 1 (Step 8400): Train loss 9.750, Val loss 9.688\n",
            "Ep 1 (Step 8700): Train loss 9.938, Val loss 9.688\n",
            "Ep 1 (Step 9000): Train loss 10.250, Val loss 9.688\n",
            "Ep 1 (Step 9300): Train loss 9.750, Val loss 9.688\n",
            "Ep 1 (Step 9600): Train loss 9.438, Val loss 9.688\n",
            "Ep 1 (Step 9900): Train loss 9.188, Val loss 9.688\n",
            "Output text:\n",
            " <|start_header_id|>प्रयोगकर्ता <|end_header_id|>\n",
            "\n",
            "<|unk|><|unk|><|unk|><|unk|><|unk|><|unk|><|unk|>e<|unk|><|unk|>e<|unk|>e<|unk|>e<|unk|><|unk|>o<|unk|><|unk|><|unk|><|unk|>t<|unk|><|unk|><|unk|><|unk|>nt o<|unk|><|eot_id|>गमगमगमगमगमगमगमगमगमगमगमगमगमगमगमगमगमगमगमगमगमगमगमगमगमगमगमगमगमगमगमगमगमगमगमगमगमगमगमगमगमगमगमगमगमगमगमगमगमगमगमगमगमगमगमगमगमगमगमगमगमगमगमगमगमगमगमगमगमगमगमगमगमगमगमगमगमगमगमगमगमगमगमगमगमगमगमगमगमगमगमगमगमगमगमगमगमगमगमगमगमगमगमगमगमगमगमगमगमगमगमगमगमगमगमगमगमगमगमगमगमगमगमगमगमगमगमगमगमगमगमगमगमगमगमगमगमगमगमगमगमगमगमगमगमगमगमगमगमगम\n",
            "Ep 1 (Step 10200): Train loss 9.312, Val loss 9.688\n",
            "Ep 1 (Step 10500): Train loss 9.750, Val loss 9.688\n",
            "Ep 1 (Step 10800): Train loss 9.875, Val loss 9.688\n",
            "Ep 1 (Step 11100): Train loss 10.188, Val loss 9.688\n",
            "Ep 1 (Step 11400): Train loss 9.750, Val loss 9.688\n",
            "Ep 1 (Step 11700): Train loss 9.375, Val loss 9.688\n",
            "Ep 1 (Step 12000): Train loss 9.188, Val loss 9.688\n",
            "Output text:\n",
            " <|start_header_id|>प्रयोगकर्ता <|end_header_id|>\n",
            "\n",
            "<|unk|><|unk|><|unk|><|unk|><|unk|><|unk|><|unk|>e<|unk|><|unk|>e<|unk|>e<|unk|>e<|unk|><|unk|>o<|unk|><|unk|><|unk|><|unk|>t<|unk|><|unk|><|unk|><|unk|>nt o<|unk|><|eot_id|>प्रक्रियामा गमगमगमगमगमगमगमगमगमगमगमगमगमगमगमगमगमगमगमगमगमगमगमगमगमगमगमगमगमगमगमगमगमगमगमगमगमगमगमगमगमगमगमगमगमगमगमगमगमगमगमगमगमगमगमगमगमगमगमगमगमगमगमगमगमगमगमगमगमगमगमगमगमगमगमगमगमगमगमगमगमगमगमगमगमगमगमगमगमगमगमगमगमगमगमगमगमगमगमगमगमगमगमगमगमगमगमगमगमगमगमगमगमगमगमगमगमगमगमगमगमगमगमगमगमगमगमगमगमगमगमगमगमगमगमगमगमगमगमगमगमगमगमगमगमगमगमगमगम\n",
            "Ep 1 (Step 12300): Train loss 9.312, Val loss 9.688\n",
            "Ep 1 (Step 12600): Train loss 9.688, Val loss 9.688\n",
            "Ep 1 (Step 12900): Train loss 9.875, Val loss 9.688\n",
            "Ep 1 (Step 13200): Train loss 10.188, Val loss 9.688\n",
            "Ep 1 (Step 13500): Train loss 9.688, Val loss 9.688\n",
            "Ep 1 (Step 13800): Train loss 9.312, Val loss 9.688\n",
            "Output text:\n",
            " <|start_header_id|>प्रयोगकर्ता <|end_header_id|>\n",
            "\n",
            "<|unk|><|unk|><|unk|><|unk|><|unk|><|unk|><|unk|>e<|unk|><|unk|>e<|unk|>e<|unk|>e<|unk|><|unk|>o<|unk|><|unk|><|unk|><|unk|>t<|unk|><|unk|><|unk|><|unk|>nt o<|unk|><|eot_id|>पराजय गमगमगमगमगमगमगमगमगमगमगमगमगमगमगमगमगमगमगमगमगमगमगमगमगमगमगमगमगमगमगमगमगमगमगमगमगमगमगमगमगमगमगमगमगमगमगमगमगमगमगमगमगमगमगमगमगमगमगमगमगमगमगमगमगमगमगमगमगमगमगमगमगमगमगमगमगमगमगमगमगमगमगमगमगमगमगमगमगमगमगमगमगमगमगमगमगमगमगमगमगमगमगमगमगमगमगमगमगमगमगमगमगमगमगमगमगमगमगमगमगमगमगमगमगमगमगमगमगमगमगमगमगमगमगमगमगमगमगमगमगमगमगमगमगमगमगमगमगम\n",
            "Ep 2 (Step 14100): Train loss 9.312, Val loss 9.688\n",
            "Ep 2 (Step 14400): Train loss 9.688, Val loss 9.688\n",
            "Ep 2 (Step 14700): Train loss 9.812, Val loss 9.688\n",
            "Ep 2 (Step 15000): Train loss 10.188, Val loss 9.688\n",
            "Ep 2 (Step 15300): Train loss 9.688, Val loss 9.688\n",
            "Ep 2 (Step 15600): Train loss 9.250, Val loss 9.750\n",
            "Ep 2 (Step 15900): Train loss 9.125, Val loss 9.750\n",
            "Output text:\n",
            " <|start_header_id|>प्रयोगकर्ता <|end_header_id|>\n",
            "\n",
            "<|unk|><|unk|><|unk|><|unk|><|unk|><|unk|><|unk|>e<|unk|><|unk|>e<|unk|>e<|unk|>e<|unk|><|unk|>o<|unk|><|unk|><|unk|><|unk|>t<|unk|><|unk|><|unk|><|unk|>nt o<|unk|><|eot_id|>पराजय पराजय पराजय पराजय पराजय पराजय पराजय पराजय पराजय गमपराजय गमगमपराजय पराजय पराजय पराजय पराजय पराजय पराजय पराजय पराजय पराजय गमपराजय गमगमपराजय पराजय पराजय पराजय पराजय पराजय पराजय पराजय पराजय पराजय गमपराजय गमगमपराजय पराजय पराजय पराजय पराजय पराजय पराजय पराजय पराजय पराजय गमपराजय गमगमपराजय पराजय पराजय पराजय पराजय पराजय पराजय पराजय पराजय पराजय गमपराजय गमगमपराजय पराजय पराजय पराजय पराजय पराजय पराजय पराजय पराजय पराजय गमपराजय गमगमपराजय पराजय पराजय पराजय पराजय पराजय पराजय पराजय पराजय पराजय गमपराजय गमगमपराजय पराजय पराजय पराजय पराजय पराजय पराजय पराजय पराजय पराजय गमपराजय गमगमपराजय पराजय पराजय पराजय पराजय पराजय पराजय पराजय पराजय पराजय गमपराजय गमगमपराजय पराजय पराजय पराजय पराजय पराजय पराजय पराजय पराजय पराजय गमपराजय गमगमपराजय पराजय पराजय पराजय पराजय पराजय पराजय पराजय पराजय पराजय गम\n",
            "Ep 2 (Step 16200): Train loss 9.312, Val loss 9.688\n",
            "Ep 2 (Step 16500): Train loss 9.688, Val loss 9.750\n",
            "Ep 2 (Step 16800): Train loss 9.812, Val loss 9.750\n",
            "Ep 2 (Step 17100): Train loss 10.188, Val loss 9.750\n",
            "Ep 2 (Step 17400): Train loss 9.688, Val loss 9.750\n",
            "Ep 2 (Step 17700): Train loss 9.250, Val loss 9.750\n",
            "Ep 2 (Step 18000): Train loss 9.125, Val loss 9.750\n",
            "Output text:\n",
            " <|start_header_id|>प्रयोगकर्ता <|end_header_id|>\n",
            "\n",
            "<|unk|><|unk|><|unk|><|unk|><|unk|><|unk|><|unk|>e<|unk|><|unk|>e<|unk|>e<|unk|>e<|unk|><|unk|>o<|unk|><|unk|><|unk|><|unk|>t<|unk|><|unk|><|unk|><|unk|>nt o<|unk|><|eot_id|>पराजय छ गमपराजय छ गमपराजय छ गमपराजय छ गमपराजय छ गमपराजय छ गमपराजय छ गमपराजय छ गमपराजय छ गमपराजय छ गमपराजय छ गमपराजय छ गमपराजय छ गमपराजय छ गमपराजय छ गमपराजय छ गमपराजय छ गमपराजय छ गमपराजय छ गमपराजय छ गमपराजय छ गमपराजय छ गमपराजय छ गमपराजय छ गमपराजय छ गमपराजय छ गमपराजय छ गमपराजय छ गमपराजय छ गमपराजय छ गमपराजय छ गमपराजय छ गमपराजय छ गमपराजय छ गमपराजय छ गमपराजय छ गमपराजय छ गमपराजय छ गमपराजय छ गमपराजय छ गमपराजय छ गमपराजय छ गमपराजय छ गमपराजय छ गमपराजय छ गमपराजय छ गमपराजय छ गमपराजय छ गमपराजय छ गमपराजय छ गम\n",
            "Ep 2 (Step 18300): Train loss 9.312, Val loss 9.750\n",
            "Ep 2 (Step 18600): Train loss 9.688, Val loss 9.750\n",
            "Ep 2 (Step 18900): Train loss 9.812, Val loss 9.750\n",
            "Ep 2 (Step 19200): Train loss 10.125, Val loss 9.750\n",
            "Ep 2 (Step 19500): Train loss 9.688, Val loss 9.750\n",
            "Ep 2 (Step 19800): Train loss 9.250, Val loss 9.750\n",
            "Output text:\n",
            " <|start_header_id|>प्रयोगकर्ता <|end_header_id|>\n",
            "\n",
            "<|unk|><|unk|><|unk|><|unk|><|unk|><|unk|><|unk|>e<|unk|><|unk|>e<|unk|>e<|unk|>e<|unk|><|unk|>o<|unk|><|unk|><|unk|><|unk|>t<|unk|><|unk|><|unk|><|unk|>nt o<|unk|><|eot_id|>पराजय पराजय पराजय छ गमपराजय छ गमपराजय पराजय पराजय छ गमपराजय छ गमपराजय छ गमपराजय छ गमपराजय छ गमपराजय छ गमपराजय छ गमपराजय छ गमपराजय छ गमपराजय छ गमपराजय छ गमपराजय छ गमपराजय छ गमपराजय छ गमपराजय छ गमपराजय छ गमपराजय छ गमपराजय छ गमपराजय छ गमपराजय छ गमपराजय छ गमपराजय छ गमपराजय छ गमपराजय छ गमपराजय छ गमपराजय छ गमपराजय छ गमपराजय छ गमपराजय छ गमपराजय छ गमपराजय छ गमपराजय छ गमपराजय छ गमपराजय छ गमपराजय छ गमपराजय छ गमपराजय छ गमपराजय छ गमपराजय छ गमपराजय छ गमपराजय छ गमपराजय छ गमपराजय छ गमपराजय छ गमपराजय छ गमपराजय छ गमपराजय छ\n",
            "Ep 2 (Step 20100): Train loss 9.312, Val loss 9.750\n",
            "Ep 2 (Step 20400): Train loss 9.688, Val loss 9.750\n",
            "Ep 2 (Step 20700): Train loss 9.812, Val loss 9.750\n",
            "Ep 2 (Step 21000): Train loss 10.125, Val loss 9.750\n",
            "Ep 2 (Step 21300): Train loss 9.688, Val loss 9.750\n",
            "Ep 2 (Step 21600): Train loss 9.250, Val loss 9.750\n",
            "Ep 2 (Step 21900): Train loss 9.125, Val loss 9.750\n",
            "Output text:\n",
            " <|start_header_id|>प्रयोगकर्ता <|end_header_id|>\n",
            "\n",
            "<|unk|><|unk|><|unk|><|unk|><|unk|><|unk|><|unk|>e<|unk|><|unk|>e<|unk|>e<|unk|>e<|unk|><|unk|>o<|unk|><|unk|><|unk|><|unk|>t<|unk|><|unk|><|unk|><|unk|>nt o<|unk|><|eot_id|>पराजय । पराजय पराजय पराजय पराजय पराजय पराजय पराजय पराजय प्रक्रियामा गमपराजय पराजय प्रक्रियामा गमपराजय पराजय पराजय पराजय पराजय पराजय पराजय पराजय पराजय पराजय पराजय पराजय पराजय पराजय पराजय पराजय पराजय पराजय पराजय पराजय पराजय पराजय पराजय पराजय पराजय पराजय पराजय पराजय पराजय पराजय पराजय पराजय पराजय पराजय पराजय पराजय पराजय पराजय पराजय पराजय पराजय पराजय पराजय पराजय पराजय पराजय पराजय पराजय पराजय पराजय पराजय पराजय पराजय पराजय पराजय पराजय पराजय पराजय पराजय पराजय पराजय पराजय पराजय पराजय पराजय पराजय पराजय पराजय पराजय पराजय पराजय पराजय पराजय पराजय पराजय पराजय पराजय पराजय पराजय पराजय पराजय पराजय पराजय पराजय पराजय पराजय पराजय पराजय पराजय पराजय पराजय पराजय पराजय पराजय पराजय पराजय पराजय पराजय पराजय पराजय पराजय पराजय पराजय पराजय पराजय पराजय पराजय पराजय पराजय पराजय पराजय पराजय पराजय पराजय पराजय पराजय पराजय पराजय पराजय पराजय पराजय पराजय पराजय पराजय पराजय पराजय पराजय पराजय पराजय पराजय पराजय पराजय पराजय पराजय\n",
            "Ep 2 (Step 22200): Train loss 9.312, Val loss 9.750\n",
            "Ep 2 (Step 22500): Train loss 9.688, Val loss 9.688\n",
            "Ep 2 (Step 22800): Train loss 9.875, Val loss 9.750\n",
            "Ep 2 (Step 23100): Train loss 10.125, Val loss 9.750\n",
            "Ep 2 (Step 23400): Train loss 9.688, Val loss 9.750\n",
            "Ep 2 (Step 23700): Train loss 9.250, Val loss 9.750\n",
            "Ep 2 (Step 24000): Train loss 9.125, Val loss 9.750\n",
            "Output text:\n",
            " <|start_header_id|>प्रयोगकर्ता <|end_header_id|>\n",
            "\n",
            "<|unk|><|unk|><|unk|><|unk|><|unk|><|unk|><|unk|>e<|unk|><|unk|>e<|unk|>e<|unk|>e<|unk|><|unk|>o<|unk|><|unk|><|unk|><|unk|>t<|unk|><|unk|><|unk|><|unk|>nt o<|unk|><|eot_id|>पराजय पराजय पराजय पराजय पराजय पराजय पराजय पराजय प्रक्रियामा गमपराजय प्रक्रियामा गमपराजय प्रक्रियामा गमपराजय पराजय पराजय पराजय प्रक्रियामा गमपराजय प्रक्रियामा गमपराजय प्रक्रियामा गमपराजय पराजय पराजय पराजय प्रक्रियामा गमपराजय प्रक्रियामा गमपराजय प्रक्रियामा गमपराजय पराजय पराजय पराजय प्रक्रियामा गमपराजय प्रक्रियामा गमपराजय प्रक्रियामा गमपराजय पराजय पराजय पराजय प्रक्रियामा गमपराजय प्रक्रियामा गमपराजय प्रक्रियामा गमपराजय पराजय पराजय पराजय प्रक्रियामा गमपराजय प्रक्रियामा गमपराजय प्रक्रियामा गमपराजय पराजय पराजय पराजय प्रक्रियामा गमपराजय प्रक्रियामा गमपराजय प्रक्रियामा गमपराजय पराजय पराजय पराजय प्रक्रियामा गमपराजय प्रक्रियामा गमपराजय प्रक्रियामा गमपराजय पराजय पराजय पराजय प्रक्रियामा गमपराजय प्रक्रियामा गमपराजय प्रक्रियामा गमपराजय पराजय पराजय पराजय प्रक्रियामा गमपराजय प्रक्रियामा गमपराजय प्रक्रियामा गमपराजय पराजय पराजय पराजय प्रक्रियामा गमपराजय प्रक्रियामा गमपराजय प्रक्रियामा गमपराजय पराजय पराजय पराजय प्रक्रियामा गमपराजय प्रक्रियामा गमपराजय प्रक्रियामा गमपराजय पराजय\n",
            "Ep 2 (Step 24300): Train loss 9.312, Val loss 9.750\n",
            "Ep 2 (Step 24600): Train loss 9.750, Val loss 9.750\n",
            "Ep 2 (Step 24900): Train loss 9.875, Val loss 9.750\n",
            "Ep 2 (Step 25200): Train loss 10.125, Val loss 9.750\n",
            "Ep 2 (Step 25500): Train loss 9.688, Val loss 9.750\n",
            "Ep 2 (Step 25800): Train loss 9.250, Val loss 9.750\n",
            "Output text:\n",
            " <|start_header_id|>प्रयोगकर्ता <|end_header_id|>\n",
            "\n",
            "<|unk|><|unk|><|unk|><|unk|><|unk|><|unk|><|unk|>e<|unk|><|unk|>e<|unk|>e<|unk|>e<|unk|><|unk|>o<|unk|><|unk|><|unk|><|unk|>t<|unk|><|unk|><|unk|><|unk|>nt o<|unk|><|eot_id|>प्रक्रियामा गमपराजय छ गमपराजय छ गमपराजय छ गमपराजय छ गमपराजय छ गमपराजय छ गमपराजय छ गमपराजय छ गमपराजय छ गमपराजय छ गमपराजय छ गमपराजय छ गमपराजय छ गमपराजय छ गमपराजय छ गमपराजय छ गमपराजय छ गमपराजय छ गमपराजय छ गमपराजय छ गमपराजय छ गमपराजय छ गमपराजय छ गमपराजय छ गमपराजय छ गमपराजय छ गमपराजय छ गमपराजय छ गमपराजय छ गमपराजय छ गमपराजय छ गमपराजय छ गमपराजय छ गमपराजय छ गमपराजय छ गमपराजय छ गमपराजय छ गमपराजय छ गमपराजय छ गमपराजय छ गमपराजय छ गमपराजय छ गमपराजय छ गमपराजय छ गमपराजय छ गमपराजय छ गमपराजय छ गमपराजय छ गमपराजय छ गमपराजय\n",
            "Ep 2 (Step 26100): Train loss 9.312, Val loss 9.750\n",
            "Ep 2 (Step 26400): Train loss 9.750, Val loss 9.750\n",
            "Ep 2 (Step 26700): Train loss 9.875, Val loss 9.750\n",
            "Ep 2 (Step 27000): Train loss 10.125, Val loss 9.750\n",
            "Ep 2 (Step 27300): Train loss 9.688, Val loss 9.750\n",
            "Ep 2 (Step 27600): Train loss 9.250, Val loss 9.750\n",
            "Ep 3 (Step 27900): Train loss 9.438, Val loss 9.750\n",
            "Output text:\n",
            " <|start_header_id|>प्रयोगकर्ता <|end_header_id|>\n",
            "\n",
            "<|unk|><|unk|><|unk|><|unk|><|unk|><|unk|><|unk|>e<|unk|><|unk|>e<|unk|>e<|unk|>e<|unk|><|unk|>o<|unk|><|unk|><|unk|><|unk|>t<|unk|><|unk|><|unk|><|unk|>nt o<|unk|><|eot_id|>पराजय पराजय पराजय पराजय पराजय पराजय पराजय प्रक्रियामा गमपराजय प्रक्रियामा गमपराजय प्रक्रियामा गमपराजय प्रक्रियामा गमपराजय प्रक्रियामा गमपराजय प्रक्रियामा गमपराजय प्रक्रियामा गमपराजय प्रक्रियामा गमपराजय प्रक्रियामा गमपराजय प्रक्रियामा गमपराजय प्रक्रियामा गमपराजय प्रक्रियामा गमपराजय प्रक्रियामा गमपराजय प्रक्रियामा गमपराजय प्रक्रियामा गमपराजय प्रक्रियामा गमपराजय प्रक्रियामा गमपराजय प्रक्रियामा गमपराजय प्रक्रियामा गमपराजय प्रक्रियामा गमपराजय प्रक्रियामा गमपराजय प्रक्रियामा गमपराजय प्रक्रियामा गमपराजय प्रक्रियामा गमपराजय प्रक्रियामा गमपराजय प्रक्रियामा गमपराजय प्रक्रियामा गमपराजय प्रक्रियामा गमपराजय प्रक्रियामा गमपराजय प्रक्रियामा गमपराजय प्रक्रियामा गमपराजय प्रक्रियामा गमपराजय प्रक्रियामा गमपराजय प्रक्रियामा गमपराजय प्रक्रियामा गमपराजय प्रक्रियामा गमपराजय प्रक्रियामा गमपराजय प्रक्रियामा गमपराजय प्रक्रियामा गमपराजय प्रक्रियामा गमपराजय प्रक्रियामा गमपराजय प्रक्रियामा गमपराजय प्रक्रियामा गमपराजय प्रक्रियामा गमपराजय प्रक्रियामा गमपराजय प्रक्रियामा गमपराजय प्रक्रियामा गमपराजय प्रक्रियामा गम\n",
            "Ep 3 (Step 28200): Train loss 9.312, Val loss 9.750\n",
            "Ep 3 (Step 28500): Train loss 9.750, Val loss 9.750\n",
            "Ep 3 (Step 28800): Train loss 9.875, Val loss 9.750\n",
            "Ep 3 (Step 29100): Train loss 10.125, Val loss 9.750\n",
            "Ep 3 (Step 29400): Train loss 9.688, Val loss 9.750\n",
            "Ep 3 (Step 29700): Train loss 9.250, Val loss 9.750\n",
            "Ep 3 (Step 30000): Train loss 9.188, Val loss 9.750\n",
            "Output text:\n",
            " <|start_header_id|>प्रयोगकर्ता <|end_header_id|>\n",
            "\n",
            "<|unk|><|unk|><|unk|><|unk|><|unk|><|unk|><|unk|>e<|unk|><|unk|>e<|unk|>e<|unk|>e<|unk|><|unk|>o<|unk|><|unk|><|unk|><|unk|>t<|unk|><|unk|><|unk|><|unk|>nt o<|unk|><|eot_id|>प्रक्रियामा गमपराजय छ गमपराजय छ गमपराजय छ गमपराजय छ गमपराजय छ गमपराजय छ गमपराजय छ गमपराजय छ गमपराजय छ गमपराजय छ गमपराजय छ गमपराजय छ गमपराजय छ गमपराजय छ गमपराजय छ गमपराजय छ गमपराजय छ गमपराजय छ गमपराजय छ गमपराजय छ गमपराजय छ गमपराजय छ गमपराजय छ गमपराजय छ गमपराजय छ गमपराजय छ गमपराजय छ गमपराजय छ गमपराजय छ गमपराजय छ गमपराजय छ गमपराजय छ गमपराजय छ गमपराजय छ गमपराजय छ गमपराजय छ गमपराजय छ गमपराजय छ गमपराजय छ गमपराजय छ गमपराजय छ गमपराजय छ गमपराजय छ गमपराजय छ गमपराजय छ गमपराजय छ गमपराजय छ गमपराजय छ गमपराजय छ गमपराजय\n",
            "Ep 3 (Step 30300): Train loss 9.312, Val loss 9.750\n",
            "Ep 3 (Step 30600): Train loss 9.750, Val loss 9.750\n",
            "Ep 3 (Step 30900): Train loss 9.875, Val loss 9.750\n",
            "Ep 3 (Step 31200): Train loss 10.125, Val loss 9.750\n",
            "Ep 3 (Step 31500): Train loss 9.688, Val loss 9.750\n",
            "Ep 3 (Step 31800): Train loss 9.250, Val loss 9.750\n",
            "Output text:\n",
            " <|start_header_id|>प्रयोगकर्ता <|end_header_id|>\n",
            "\n",
            "<|unk|><|unk|><|unk|><|unk|><|unk|><|unk|><|unk|>e<|unk|><|unk|>e<|unk|>e<|unk|>e<|unk|><|unk|>o<|unk|><|unk|><|unk|><|unk|>t<|unk|><|unk|><|unk|><|unk|>nt o<|unk|><|eot_id|>प्रक्रियामा गमपराजय छ गमपराजय छ गमपराजय छ गमपराजय छ गमपराजय छ गमपराजय छ गमपराजय छ गमपराजय छ गमपराजय छ गमपराजय छ गमपराजय छ गमपराजय छ गमपराजय छ गमपराजय छ गमपराजय छ गमपराजय छ गमपराजय छ गमपराजय छ गमपराजय छ गमपराजय छ गमपराजय छ गमपराजय छ गमपराजय छ गमपराजय छ गमपराजय छ गमपराजय छ गमपराजय छ गमपराजय छ गमपराजय छ गमपराजय छ गमपराजय छ गमपराजय छ गमपराजय छ गमपराजय छ गमपराजय छ गमपराजय छ गमपराजय छ गमपराजय छ गमपराजय छ गमपराजय छ गमपराजय छ गमपराजय छ गमपराजय छ गमपराजय छ गमपराजय छ गमपराजय छ गमपराजय छ गमपराजय छ गमपराजय छ गमपराजय\n",
            "Ep 3 (Step 32100): Train loss 9.312, Val loss 9.750\n",
            "Ep 3 (Step 32400): Train loss 9.750, Val loss 9.750\n",
            "Ep 3 (Step 32700): Train loss 9.875, Val loss 9.750\n",
            "Ep 3 (Step 33000): Train loss 10.125, Val loss 9.750\n",
            "Ep 3 (Step 33300): Train loss 9.688, Val loss 9.750\n",
            "Ep 3 (Step 33600): Train loss 9.250, Val loss 9.750\n",
            "Ep 3 (Step 33900): Train loss 9.188, Val loss 9.750\n",
            "Output text:\n",
            " <|start_header_id|>प्रयोगकर्ता <|end_header_id|>\n",
            "\n",
            "<|unk|><|unk|><|unk|><|unk|><|unk|><|unk|><|unk|>e<|unk|><|unk|>e<|unk|>e<|unk|>e<|unk|><|unk|>o<|unk|><|unk|><|unk|><|unk|>t<|unk|><|unk|><|unk|><|unk|>nt o<|unk|><|eot_id|>प्रक्रियामा गमगमगमगमगमगमगमगमगमगमगमगमगमगमगमगमगमगमगमगमगमगमगमगमगमगमगमगमगमगमगमगमगमगमगमगमगमगमगमगमगमगमगमगमगमगमगमगमगमगमगमगमगमगमगमगमगमगमगमगमगमगमगमगमगमगमगमगमगमगमगमगमगमगमगमगमगमगमगमगमगमगमगमगमगमगमगमगमगमगमगमगमगमगमगमगमगमगमगमगमगमगमगमगमगमगमगमगमगमगमगमगमगमगमगमगमगमगमगमगमगमगमगमगमगमगमगमगमगमगमगमगमगमगमगमगमगमगमगमगमगमगमगमगमगमगमगमगमगम\n",
            "Ep 3 (Step 34200): Train loss 9.312, Val loss 9.750\n",
            "Ep 3 (Step 34500): Train loss 9.750, Val loss 9.750\n",
            "Ep 3 (Step 34800): Train loss 9.875, Val loss 9.750\n",
            "Ep 3 (Step 35100): Train loss 10.125, Val loss 9.750\n",
            "Ep 3 (Step 35400): Train loss 9.688, Val loss 9.750\n",
            "Ep 3 (Step 35700): Train loss 9.312, Val loss 9.750\n",
            "Ep 3 (Step 36000): Train loss 9.188, Val loss 9.750\n",
            "Output text:\n",
            " <|start_header_id|>प्रयोगकर्ता <|end_header_id|>\n",
            "\n",
            "<|unk|><|unk|><|unk|><|unk|><|unk|><|unk|><|unk|>e<|unk|><|unk|>e<|unk|>e<|unk|>e<|unk|><|unk|>o<|unk|><|unk|><|unk|><|unk|>t<|unk|><|unk|><|unk|><|unk|>nt o<|unk|><|eot_id|>प्रक्रियामा गमपराजय पराजय प्रक्रियामा गमगमगमपराजय प्रक्रियामा गमगमगमपराजय छ गमगमगमपराजय प्रक्रियामा गमगमपराजय छ गमगमगमगमगमपराजय छ गमगमगमगमपराजय पराजय पराजय प्रक्रियामा गमगमगमगमगमगमगमपराजय छ गमगमगमगमपराजय पराजय पराजय प्रक्रियामा गमगमगमगमगमगमगमपराजय छ गमगमगमगमपराजय पराजय पराजय प्रक्रियामा गमगमगमगमगमगमगमपराजय छ गमगमगमगमपराजय पराजय पराजय प्रक्रियामा गमगमगमगमगमगमगमपराजय छ गमगमगमगमपराजय पराजय पराजय प्रक्रियामा गमगमगमगमगमगमगमपराजय छ गमगमगमगमपराजय पराजय पराजय प्रक्रियामा गमगमगमगमगमगमगमपराजय छ गमगमगमगमपराजय पराजय पराजय प्रक्रियामा गमगमगमगमगमगमगमपराजय छ\n",
            "Ep 3 (Step 36300): Train loss 9.312, Val loss 9.750\n",
            "Ep 3 (Step 36600): Train loss 9.750, Val loss 9.750\n",
            "Ep 3 (Step 36900): Train loss 9.875, Val loss 9.750\n",
            "Ep 3 (Step 37200): Train loss 10.125, Val loss 9.750\n",
            "Ep 3 (Step 37500): Train loss 9.688, Val loss 9.750\n",
            "Ep 3 (Step 37800): Train loss 9.312, Val loss 9.750\n",
            "Output text:\n",
            " <|start_header_id|>प्रयोगकर्ता <|end_header_id|>\n",
            "\n",
            "<|unk|><|unk|><|unk|><|unk|><|unk|><|unk|><|unk|>e<|unk|><|unk|>e<|unk|>e<|unk|>e<|unk|><|unk|>o<|unk|><|unk|><|unk|><|unk|>t<|unk|><|unk|><|unk|><|unk|>nt o<|unk|><|eot_id|>प्रक्रियामा गमगमगमगमपराजय पराजय प्रक्रियामा गमगमगमगमगमपराजय प्रक्रियामा गमगमपराजय छ गमपराजय छ गमगमगमगमगमगमपराजय छ गमगमपराजय छ गमपराजय छ गमगमगमगमगमगमपराजय छ गमगमपराजय छ गमपराजय छ गमगमगमगमगमगमपराजय छ गमगमपराजय छ गमपराजय छ गमगमगमगमगमगमपराजय छ गमगमपराजय छ गमपराजय छ गमगमगमगमगमगमपराजय छ गमगमपराजय छ गमपराजय छ गमगमगमगमगमगमपराजय छ गमगमपराजय छ गमपराजय छ गमगमगमगमगमगमपराजय छ गमगमपराजय छ गमपराजय छ गमगमगमगमगमगमपराजय छ गमगमपराजय छ गमपराजय छ गमगमगमगमगमगमपराजय छ\n",
            "Ep 3 (Step 38100): Train loss 9.312, Val loss 9.750\n",
            "Ep 3 (Step 38400): Train loss 9.750, Val loss 9.750\n",
            "Ep 3 (Step 38700): Train loss 9.875, Val loss 9.750\n",
            "Ep 3 (Step 39000): Train loss 10.125, Val loss 9.750\n",
            "Ep 3 (Step 39300): Train loss 9.688, Val loss 9.750\n",
            "Ep 3 (Step 39600): Train loss 9.312, Val loss 9.750\n",
            "Ep 3 (Step 39900): Train loss 9.188, Val loss 9.750\n",
            "Output text:\n",
            " <|start_header_id|>प्रयोगकर्ता <|end_header_id|>\n",
            "\n",
            "<|unk|><|unk|><|unk|><|unk|><|unk|><|unk|><|unk|>e<|unk|><|unk|>e<|unk|>e<|unk|>e<|unk|><|unk|>o<|unk|><|unk|><|unk|><|unk|>t<|unk|><|unk|><|unk|><|unk|>nt o<|unk|><|eot_id|>प्रक्रियामा गमगमगमगमगमगमगमगमगमगमगमगमगमगमगमगमगमगमगमगमगमगमगमगमगमगमगमगमगमगमगमगमगमगमगमगमगमगमगमगमगमगमगमगमगमगमगमगमगमगमगमगमगमगमगमगमगमगमगमगमगमगमगमगमगमगमगमगमगमगमगमगमगमगमगमगमगमगमगमगमगमगमगमगमगमगमगमगमगमगमगमगमगमगमगमगमगमगमगमगमगमगमगमगमगमगमगमगमगमगमगमगमगमगमगमगमगमगमगमगमगमगमगमगमगमगमगमगमगमगमगमगमगमगमगमगमगमगमगमगमगमगमगमगमगमगमगमगमगम\n",
            "Ep 3 (Step 40200): Train loss 9.312, Val loss 9.750\n",
            "Ep 3 (Step 40500): Train loss 9.750, Val loss 9.750\n",
            "Ep 3 (Step 40800): Train loss 9.875, Val loss 9.750\n",
            "Ep 3 (Step 41100): Train loss 10.125, Val loss 9.750\n",
            "Ep 3 (Step 41400): Train loss 9.688, Val loss 9.750\n",
            "time_taken:13.11 minutes device:cuda\n"
          ]
        }
      ],
      "source": [
        "import time\n",
        "\n",
        "\n",
        "n_epochs = 3\n",
        "eval_freq = 300\n",
        "print_sample_iter = 2_000\n",
        "save_ckpt_freq = 2_000\n",
        "eval_iter=1\n",
        "\n",
        "start_context = \"She raised her eyebrows with a hint of\"\n",
        "\n",
        "\n",
        "output_dir  = 'llama_debug_model'\n",
        "os.makedirs(output_dir, exist_ok=True)\n",
        "optimizer = torch.optim.AdamW(model.parameters(), lr=5e-4, weight_decay=0.1)\n",
        "\n",
        "\n",
        "train_losses, val_losses, track_tokens_seen = [], [], []\n",
        "tokens_seen = 0\n",
        "global_step = -1\n",
        "start_time = time.time()\n",
        "\n",
        "\n",
        "\n",
        "\n",
        "# ----------------\n",
        "# Functions:\n",
        "# ----------------\n",
        "def calc_loss_loader(data_loader, model, device, num_batches=None):\n",
        "    total_loss = 0.\n",
        "    if len(data_loader) == 0:\n",
        "        return float(\"nan\")\n",
        "    elif num_batches is None:\n",
        "        num_batches = len(data_loader)\n",
        "    else:\n",
        "        num_batches = min(num_batches, len(data_loader))\n",
        "    for i, (input_batch, target_batch) in enumerate(data_loader):\n",
        "        if i < num_batches:\n",
        "            loss = calc_loss_batch(input_batch, target_batch, model, device)\n",
        "            total_loss += loss.item()\n",
        "        else:\n",
        "            break\n",
        "    return total_loss / num_batches\n",
        "\n",
        "def evaluate_model(model, train_loader, val_loader, device, eval_iter):\n",
        "    model.eval()\n",
        "    with torch.no_grad():\n",
        "        train_loss = calc_loss_loader(train_loader, model, device, num_batches=eval_iter)\n",
        "        val_loss = calc_loss_loader(val_loader, model, device, num_batches=eval_iter)\n",
        "    model.train()\n",
        "    return train_loss, val_loss\n",
        "\n",
        "def calc_loss_batch(input_batch, target_batch, model, device):\n",
        "    input_batch, target_batch = input_batch.to(device), target_batch.to(device)\n",
        "    logits = model(input_batch)\n",
        "    loss = torch.nn.functional.cross_entropy(logits.flatten(0, 1), target_batch.flatten())\n",
        "    return loss\n",
        "\n",
        "\n",
        "def generate_and_print_sample(PROMPT):\n",
        "    # PROMPT = \"What do llamas eat?\"\n",
        "\n",
        "    torch.manual_seed(123)\n",
        "\n",
        "    token_ids = generate(\n",
        "        model=model,\n",
        "        idx=text_to_token_ids(PROMPT, chat_tokenizer).to(device),\n",
        "        max_new_tokens=150,\n",
        "        context_size=LLAMA32_CONFIG[\"context_length\"],\n",
        "        top_k=1,\n",
        "        temperature=0.\n",
        "    )\n",
        "\n",
        "    output_text = token_ids_to_text(token_ids, tokenizer)\n",
        "\n",
        "\n",
        "    def clean_text(text, header_end=\"assistant<|end_header_id|>\\n\\n\"):\n",
        "        # Find the index of the first occurrence of \"<|end_header_id|>\"\n",
        "        index = text.find(header_end)\n",
        "\n",
        "        if index != -1:\n",
        "            # Return the substring starting after \"<|end_header_id|>\"\n",
        "            return text[index + len(header_end):].strip()  # Strip removes leading/trailing whitespace\n",
        "        else:\n",
        "            # If the token is not found, return the original text\n",
        "            return text\n",
        "\n",
        "    print(\"Output text:\\n\", clean_text(output_text))\n",
        "\n",
        "# -------------------------\n",
        "# Actual training\n",
        "# -------------------------\n",
        "# try:\n",
        "print(\"Training ...\")\n",
        "for epoch in range(n_epochs):\n",
        "        model.train()\n",
        "        for input_batch, target_batch in train_loader:\n",
        "            optimizer.zero_grad()\n",
        "            loss = calc_loss_batch(input_batch, target_batch, model, device)\n",
        "            loss.backward()\n",
        "            optimizer.step()\n",
        "            tokens_seen += input_batch.numel()\n",
        "            global_step += 1\n",
        "\n",
        "            # Optional evaluation step\n",
        "            if global_step % eval_freq == 0:\n",
        "                train_loss, val_loss = evaluate_model(\n",
        "                    model, train_loader, val_loader, device, eval_iter)\n",
        "                train_losses.append(train_loss)\n",
        "                val_losses.append(val_loss)\n",
        "                track_tokens_seen.append(tokens_seen)\n",
        "                print(f\"Ep {epoch+1} (Step {global_step}): \"\n",
        "                        f\"Train loss {train_loss:.3f}, Val loss {val_loss:.3f}\")\n",
        "\n",
        "            # Generate text passage\n",
        "            if global_step % print_sample_iter == 0 and global_step > 0:\n",
        "                generate_and_print_sample(start_context)\n",
        "                # generate_and_print_sample(\n",
        "                #     model, tokenizer, device, start_context\n",
        "                # )\n",
        "\n",
        "        if global_step % save_ckpt_freq == 0:\n",
        "            file_name = output_dir + '/' + f\"model_pg_{global_step}.pth\"\n",
        "            torch.save(model.state_dict(), file_name)\n",
        "            print(f\"Saved {file_name}\")\n",
        "\n",
        "        # print_eta(start_time, book_start_time, index, total_files)\n",
        "print(f\"time_taken:{(time.time() - start_time) / 60:.2f} minutes device:{device}\")\n",
        "# except KeyboardInterrupt:\n",
        "#     file_name = output_dir / f\"model_pg_{global_step}_interrupted.pth\"\n",
        "#     torch.save(model.state_dict(), file_name)\n",
        "#     print(f\"Saved {file_name}\")"
      ]
    },
    {
      "cell_type": "markdown",
      "id": "549324d6-5c71-4147-ae21-2e67675faa3d",
      "metadata": {
        "id": "549324d6-5c71-4147-ae21-2e67675faa3d"
      },
      "source": [
        "&nbsp;\n",
        "# What's next?"
      ]
    },
    {
      "cell_type": "markdown",
      "id": "e6edaaae-2de1-406c-8ffa-897cdfa3808c",
      "metadata": {
        "id": "e6edaaae-2de1-406c-8ffa-897cdfa3808c"
      },
      "source": [
        "- The notebook was kept purposefully minimal; if you are interested in additional explanation about the individual components, check out the following two companion notebooks:\n",
        "\n",
        "<img src=\"https://sebastianraschka.com/images/LLMs-from-scratch-images/bonus/gpt-to-llama/gpt-and-all-llamas.webp\">\n",
        "\n",
        "  1. [Converting a From-Scratch GPT Architecture to Llama 2](converting-gpt-to-llama2.ipynb)\n",
        "  2. [Converting Llama 2 to Llama 3.2 From Scratch](converting-llama2-to-llama3.ipynb)\n",
        "  \n",
        "- For those interested in a comprehensive guide on building a large language model from scratch and gaining a deeper understanding of its mechanics, you might like my [Build a Large Language Model (From Scratch)](http://mng.bz/orYv)\n",
        "\n",
        "<a href=\"http://mng.bz/orYv\"><img src=\"https://sebastianraschka.com/images/LLMs-from-scratch-images/cover-small.webp\" width=\"100px\"></a>"
      ]
    }
  ],
  "metadata": {
    "accelerator": "GPU",
    "colab": {
      "collapsed_sections": [
        "WUvlacd-LeP2",
        "GHOz7hmOLhc7",
        "7q1cERivLp3w",
        "uqIUhf3_JRKx"
      ],
      "gpuType": "T4",
      "provenance": []
    },
    "kernelspec": {
      "display_name": "Python 3",
      "name": "python3"
    },
    "language_info": {
      "codemirror_mode": {
        "name": "ipython",
        "version": 3
      },
      "file_extension": ".py",
      "mimetype": "text/x-python",
      "name": "python",
      "nbconvert_exporter": "python",
      "pygments_lexer": "ipython3",
      "version": "3.11.4"
    }
  },
  "nbformat": 4,
  "nbformat_minor": 5
}